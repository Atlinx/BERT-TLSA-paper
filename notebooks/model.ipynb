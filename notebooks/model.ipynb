{
 "cells": [
  {
   "cell_type": "markdown",
   "metadata": {
    "id": "CwdIxdbsvqd8"
   },
   "source": [
    "# Models"
   ]
  },
  {
   "cell_type": "markdown",
   "metadata": {},
   "source": [
    "## Common Code\n",
    "\n",
    "Common functions for training and fine-tuning the BERT models."
   ]
  },
  {
   "cell_type": "code",
   "execution_count": 1,
   "metadata": {},
   "outputs": [
    {
     "name": "stdout",
     "output_type": "stream",
     "text": [
      "INIT module_path:  c:\\Users\\Alan\\Desktop\\Open_Source\\BERT-TLSA-paper\n"
     ]
    }
   ],
   "source": [
    "import os\n",
    "import sys\n",
    "module_path = os.path.abspath(os.path.join('..'))\n",
    "print(\"INIT module_path: \", module_path)\n",
    "if module_path not in sys.path:\n",
    "    sys.path.append(module_path)\n",
    "\n",
    "DATA_DIR = module_path + \"/data\"\n",
    "MODEL_DIR = module_path + \"/model\"\n",
    "\n",
    "for data_dir in [DATA_DIR, MODEL_DIR]:\n",
    "    os.makedirs(data_dir, exist_ok=True)"
   ]
  },
  {
   "cell_type": "code",
   "execution_count": 2,
   "metadata": {},
   "outputs": [
    {
     "name": "stdout",
     "output_type": "stream",
     "text": [
      "Training on device: cuda\n"
     ]
    }
   ],
   "source": [
    "from transformers import AutoModelForMaskedLM, AutoModel, DistilBertConfig, PreTrainedModel, AutoTokenizer\n",
    "import torch.utils.data as tdata\n",
    "import torch\n",
    "import random\n",
    "import torch.nn as nn\n",
    "import numpy as np\n",
    "from typing import cast\n",
    "import enum\n",
    "\n",
    "SEED = 42\n",
    "\n",
    "random.seed(SEED)\n",
    "torch.manual_seed(SEED)\n",
    "np.random.seed(SEED)\n",
    "\n",
    "device = torch.device(\"cuda\") if torch.cuda.is_available() else torch.device(\"cpu\")\n",
    "\n",
    "\n",
    "class BERTSentimentClassifier(nn.Module):\n",
    "    def __init__(self, bert: AutoModel, n_classes: int, dropout_prob: float = 0.3):\n",
    "        super().__init__()\n",
    "        self.bert = bert\n",
    "        self.pre_classifier = nn.Linear(bert.config.hidden_size, bert.config.hidden_size)\n",
    "        self.relu = nn.ReLU()\n",
    "        self.dropout = nn.Dropout(p=dropout_prob)\n",
    "        self.classifier = nn.Linear(bert.config.hidden_size, n_classes)\n",
    "    \n",
    "    def forward(self, input_ids: torch.IntTensor, attention_mask: torch.IntTensor) -> torch.FloatTensor:\n",
    "        hidden_state = self.bert(\n",
    "            input_ids=input_ids, \n",
    "            attention_mask=attention_mask, \n",
    "            return_dict=False\n",
    "        )[0]\n",
    "        # https://huggingface.co/transformers/v3.2.0/model_doc/bert.html\n",
    "        # Pooler output is last layer of hidden state for [CLS] token, whose\n",
    "        # output is fed through a linear layer and a tanh function\n",
    "        #\n",
    "        # Shape of (batch_size, hidden_size) \n",
    "        pooled_output: torch.FloatTensor = hidden_state[:, 0, :] # (batch_size, hidden_size)\n",
    "        pooled_output = self.pre_classifier(pooled_output) # (batch_size, hidden_size)\n",
    "        pooled_output = self.relu(pooled_output) # (batch_size, hidden_size)\n",
    "        pooled_output = self.dropout(pooled_output) # (batch_size, hidden_size)\n",
    "        logits = self.classifier(pooled_output) # (batch_size, n_classes)\n",
    "        return logits\n",
    "\n",
    "\n",
    "class SampleMode(enum.IntEnum):\n",
    "    NONE = 0,\n",
    "    UNDER_SAMPLE = 1,\n",
    "    OVER_SAMPLE = 2\n",
    "\n",
    "\n",
    "class TrainingConfig:\n",
    "    def __init__(self, tokenizer: AutoTokenizer = None, pretrained_tokenizer_name: str = \"bert-base-uncased\", pretrained_model_name: str = \"\", stop_delta: float = 0.01, stop_patience: int = 5, name: str = \"model\", train_bert_in_finetune: bool = True, max_token_length: int = 512, class_names: list[str] = [\"negative\", \"neutral\", \"positive\"], sample_mode: SampleMode = SampleMode.NONE):\n",
    "        if tokenizer != None:\n",
    "            self.tokenizer = tokenizer\n",
    "        else:\n",
    "            self.tokenizer = AutoTokenizer.from_pretrained(pretrained_tokenizer_name)\n",
    "        \n",
    "        # ---------- Config data ---------- #\n",
    "        self.pretrained_model_name = pretrained_model_name\n",
    "        self.name = name\n",
    "        # Number of output classes\n",
    "        self.class_names = class_names\n",
    "        # How much of a delta counts as an improvement. See TrainEarlyStopping.\n",
    "        self.stop_delta = stop_delta\n",
    "        # Number of epochs to wait for an improvement before stopping training. See TrainEarlyStopping.\n",
    "        self.stop_patience = stop_patience\n",
    "        # Whether to include the base bert parameters in finetuning\n",
    "        # This increases training time, but could potentially lead to better performance\n",
    "        self.train_bert_in_finetune = train_bert_in_finetune\n",
    "        self.max_token_length = max_token_length\n",
    "        \n",
    "        # ---------- Runtime data ---------- #\n",
    "        # The final pretrained model, after pretraining\n",
    "        self.pretrained_model = cast(AutoModel, None)\n",
    "        self.pretrained_dataloaders = cast(tuple[tdata.DataLoader, tdata.DataLoader, tdata.DataLoader], None)\n",
    "        # The final classifier model, after finetuning\n",
    "        self.finetuned_classifier_model = cast(BERTSentimentClassifier, None)\n",
    "        self.finetuned_dataloaders = cast(tuple[tdata.DataLoader, tdata.DataLoader, tdata.DataLoader], None)\n",
    "        self.sample_mode = sample_mode\n",
    "\n",
    "    def __str__(self):\n",
    "        return str(self.__dict__)\n",
    "    \n",
    "    def __repr__(self):\n",
    "        return str(self)\n",
    "\n",
    "\n",
    "print(f\"Training on device: {device}\")"
   ]
  },
  {
   "cell_type": "code",
   "execution_count": 3,
   "metadata": {},
   "outputs": [],
   "source": [
    "from transformers import AutoTokenizer\n",
    "import pandas as pd\n",
    "import torch\n",
    "from typing import TypedDict, cast, Protocol\n",
    "import numpy as np\n",
    "import seaborn as sns\n",
    "import os\n",
    "import torch\n",
    "import tempfile\n",
    "\n",
    "\n",
    "def atomic_torch_save(obj, path: str):\n",
    "    \"\"\"\n",
    "    Saves obj to a temp file during the writing process,\n",
    "    and then replaces the original file with the new file if\n",
    "    the save is successful.\n",
    "\n",
    "    If the save is interrupted mid-way (such as by a KeyboardInterrupt),\n",
    "    the original file remains unharmed.\n",
    "    \"\"\"\n",
    "    dir_name = os.path.dirname(path)\n",
    "    with tempfile.NamedTemporaryFile(dir=dir_name, delete=False) as tmp_file:\n",
    "        temp_path = tmp_file.name\n",
    "    try:\n",
    "        torch.save(obj, temp_path)\n",
    "        os.replace(temp_path, path)  # atomic on most OSes\n",
    "    except Exception as e:\n",
    "        if os.path.exists(temp_path):\n",
    "            os.remove(temp_path)\n",
    "        raise e\n",
    "\n",
    "\n",
    "def move_dict_to(res: dict, device: torch.device):\n",
    "    for key in res:\n",
    "        if isinstance(res[key], torch.Tensor):\n",
    "            res[key] = cast(torch.Tensor, res[key]).to(device=device)\n",
    "\n",
    "\n",
    "class TokenizedInputs(TypedDict):\n",
    "    input_ids: torch.IntTensor\n",
    "    attention_mask: torch.IntTensor\n",
    "    labels: torch.IntTensor\n",
    "\n",
    "\n",
    "class MaskedTextDatasetItem(TokenizedInputs):\n",
    "    original_text: str\n",
    "\n",
    "\n",
    "class MaskedTextDataset(torch.utils.data.Dataset[MaskedTextDatasetItem]):\n",
    "    \"\"\"\n",
    "    Dataset of masked text\n",
    "    \"\"\"\n",
    "    def __init__(self, encodings: TokenizedInputs = None, original_text: list[str] = None, batch_device: torch.device = None):\n",
    "        self.encodings = encodings\n",
    "        self.original_text = original_text\n",
    "        self.batch_device = batch_device\n",
    "\n",
    "    def __getitem__(self, index: int) -> MaskedTextDatasetItem:\n",
    "        # Return the dictionary just like encodings, except it only\n",
    "        # contains the entries for a specific row (sentence)\n",
    "        res = {key: val[index] for key, val in self.encodings.items() }\n",
    "        if self.original_text:\n",
    "            res[\"original_text\"] = self.original_text[index]\n",
    "        # If output_device is set, we move individual batches to the device\n",
    "        if self.batch_device:\n",
    "            move_dict_to(res, self.batch_device)\n",
    "        return res\n",
    "    \n",
    "    def __len__(self):\n",
    "        return len(self.encodings[\"input_ids\"])\n",
    "    \n",
    "    def save_dict(self) -> dict:\n",
    "        save = {}\n",
    "        for key in [\"encodings\", \"original_text\"]:\n",
    "            save[key] = getattr(self, key)\n",
    "        return save\n",
    "    \n",
    "    def load_dict(self, save: dict):\n",
    "        for key in save:\n",
    "            setattr(self, key, save[key])\n",
    "\n",
    "\n",
    "class ReviewsDatasetItem(TokenizedInputs):\n",
    "    original_text: str\n",
    "    score: int\n",
    "\n",
    "\n",
    "class ReviewsDataset(torch.utils.data.Dataset[ReviewsDatasetItem]):\n",
    "    \"\"\"\n",
    "    Dataset of reviews and their normaliezd scores (decimal number from 0 to 1)\n",
    "    \"\"\"\n",
    "    def __init__(self, encodings: TokenizedInputs = None, scores: list[int] = None, max_score: int = 0, original_text: list[str] = None, batch_device: torch.device = None):\n",
    "        self.encodings = encodings\n",
    "        self.scores = scores\n",
    "        self.max_score = max_score\n",
    "        self.original_text = original_text\n",
    "        self.batch_device = batch_device\n",
    "    \n",
    "    def __getitem__(self, index: int) -> ReviewsDatasetItem:\n",
    "        # Return the dictionary just like encodings, except it only\n",
    "        # contains the entries for a specific row (sentence)\n",
    "        res = {key: val[index] for key, val in self.encodings.items() }\n",
    "        if self.original_text:\n",
    "            res[\"original_text\"] = self.original_text[index]\n",
    "        if self.scores[index] < 0 or self.scores[index] >= 3:\n",
    "            display(self.scores)\n",
    "            return\n",
    "        res[\"score\"] = self.scores[index]\n",
    "        # If output_device is set, we move individual batches to the device\n",
    "        if self.batch_device:\n",
    "            move_dict_to(res, self.batch_device)\n",
    "        return res\n",
    "\n",
    "    def __len__(self):\n",
    "        return len(self.encodings[\"input_ids\"])\n",
    "    \n",
    "    def save_dict(self) -> dict:\n",
    "        save = {}\n",
    "        for key in [\"encodings\", \"scores\", \"max_score\", \"original_text\"]:\n",
    "            save[key] = getattr(self, key)\n",
    "        return save\n",
    "    \n",
    "    def load_dict(self, save: dict):\n",
    "        for key in save:\n",
    "            setattr(self, key, save[key])\n",
    "\n",
    "\n",
    "def get_masked_dataset(tokenizer: AutoTokenizer, review_texts: list[str], percent_masked: float = 0.15, max_token_length: int = 512, dataset_file: str = \"\", batch_device: torch.device = None) -> MaskedTextDataset:\n",
    "    print(\"Loading masked dataset:\")\n",
    "    if dataset_file:\n",
    "        print(f\"    Loading existing dataset file @ {dataset_file}...\")\n",
    "        # Check if dataset file exists — if so, then load from file\n",
    "        try:\n",
    "            # Disable weights_only since we are loading aribitrary python classes\n",
    "            masked_text_dataset = MaskedTextDataset()\n",
    "            masked_text_dataset.load_dict(torch.load(f\"{DATA_DIR}/{dataset_file}\", weights_only=False))\n",
    "            return masked_text_dataset\n",
    "        except Exception as e:\n",
    "            print(f\"    Error loading dataset file: {e}\")\n",
    "    print(f\"    Creating new dataset file @ {dataset_file}...\")\n",
    "    encodings: TokenizedInputs = tokenizer(review_texts, \n",
    "      add_special_tokens=True,\n",
    "      max_length=max_token_length,\n",
    "      truncation=True,\n",
    "      return_token_type_ids=False,\n",
    "      padding='max_length',\n",
    "      return_attention_mask=True,\n",
    "      return_tensors='pt',\n",
    "    )\n",
    "    # Create a new field labels that is the same shape and type as input_ids, except\n",
    "    # initialized to -100. The label tokens must be -100 everywhere except where\n",
    "    # the masked tokens are. \n",
    "    # \n",
    "    # https://huggingface.co/docs/transformers/v4.51.3/en/model_doc/bert#transformers.BertForMaskedLM.forward.labels \n",
    "    encodings[\"labels\"] = torch.full_like(encodings[\"input_ids\"].detach(), fill_value=-100)\n",
    "    # In BERT paper, each token has 15% chance of being masked\n",
    "    # First, create random vector that spans all of the input_ids (spans all the tokens)\n",
    "    rand = torch.rand(encodings[\"input_ids\"].shape)\n",
    "    # (rand < 0.15) -> Any token that has a corresponding random value of < 0.15, we mask\n",
    "    # We also don't want to mask special tokens (101, 102), and padding tokens (0)\n",
    "    # * operator is elementwise multiplication, which is same as AND for boolean tensors\n",
    "    mask_arr = (rand < percent_masked) * (encodings[\"input_ids\"] != 101) * (encodings[\"input_ids\"] != 0) * (encodings[\"input_ids\"] != 102)\n",
    "    # Stores all the indices that we want to mask\n",
    "    masked_cols = []\n",
    "    # Iterate over each row in the mask_arr (basically each sentence in our text data)\n",
    "    for i in range(mask_arr.shape[0]):\n",
    "        # .nonzero() -> finds the indicies where we have \"true\" values (since true = 1 and false = 0 in pytorch)\n",
    "        masked_cols.append(mask_arr[i].nonzero().flatten().tolist())\n",
    "    # Apply our mask_arr in each row (each sentence)\n",
    "    for i in range(mask_arr.shape[0]):\n",
    "        # Special Tensor syntax -> we can pass in a list of indicies for any of the axes\n",
    "        #   In this case, we pass in a list of indices in the column axis, to effectively\n",
    "        #   select the columns (tokens) we want to mask out\n",
    "        encodings[\"labels\"][i, masked_cols[i]] = encodings[\"input_ids\"][i, masked_cols[i]]\n",
    "        encodings[\"input_ids\"][i, masked_cols[i]] = 103\n",
    "    masked_text_dataset = MaskedTextDataset(encodings, review_texts, batch_device=batch_device)\n",
    "    if dataset_file:\n",
    "        atomic_torch_save(masked_text_dataset.save_dict(), f\"{DATA_DIR}/{dataset_file}\")\n",
    "    return masked_text_dataset\n",
    "\n",
    "\n",
    "def get_reviews_dataset(tokenizer: AutoTokenizer, review_scores: list[float], max_score: int, review_texts: list[str], max_token_length: int = 512, dataset_file: str = \"\", batch_device: torch.device = None) -> ReviewsDataset:\n",
    "    print(\"Loading reviews dataset:\")\n",
    "    if dataset_file:\n",
    "        print(f\"    Loading existing dataset file @ {dataset_file}...\")\n",
    "        # Check if dataset file exists — if so, then load from file\n",
    "        try:\n",
    "            # Disable weights_only since we are loading aribitrary python classes\n",
    "            reviews_dataset = ReviewsDataset()\n",
    "            reviews_dataset.load_dict(torch.load(f\"{DATA_DIR}/{dataset_file}\", weights_only=False))\n",
    "            return reviews_dataset\n",
    "        except Exception as e:\n",
    "            print(f\"    Error loading dataset file: {e}\")\n",
    "    encodings: TokenizedInputs = tokenizer(review_texts, \n",
    "      add_special_tokens=True,\n",
    "      max_length=max_token_length,\n",
    "      truncation=True,\n",
    "      return_token_type_ids=False,\n",
    "      padding='max_length',\n",
    "      return_attention_mask=True,\n",
    "      return_tensors='pt',\n",
    "    )\n",
    "    reviews_dataset = ReviewsDataset(encodings, review_scores, max_score, review_texts, batch_device=batch_device)\n",
    "    print(f\"    Creating new dataset file @ {dataset_file}...\")\n",
    "    if dataset_file:\n",
    "        atomic_torch_save(reviews_dataset.save_dict(), f\"{DATA_DIR}/{dataset_file}\")\n",
    "    return reviews_dataset"
   ]
  },
  {
   "cell_type": "code",
   "execution_count": 4,
   "metadata": {},
   "outputs": [],
   "source": [
    "from IPython.display import clear_output\n",
    "from tqdm import tqdm\n",
    "from transformers.modeling_outputs import MaskedLMOutput\n",
    "from typing import cast, Iterator\n",
    "import matplotlib.pyplot as plt\n",
    "import itertools\n",
    "from typing import TypeVar, Generic, Protocol\n",
    "import torch.utils.data as tdata\n",
    "import sklearn.model_selection as skms\n",
    "import sklearn.metrics as skmets\n",
    "import math\n",
    "import torch\n",
    "from typing import Callable, Union, Iterable\n",
    "import torch.nn as nn\n",
    "import torch.nn.functional as F\n",
    "from transformers import get_linear_schedule_with_warmup\n",
    "\n",
    "\n",
    "TDataset = TypeVar('TDataset', bound=tdata.Dataset)\n",
    "class TrainDatasetSplit(Generic[TDataset]):\n",
    "    def __init__(self, train: tdata.Subset[TDataset], test: tdata.Subset[TDataset], valid: tdata.Subset[TDataset]):\n",
    "        self.train = train\n",
    "        self.test = test\n",
    "        self.valid = valid\n",
    "    \n",
    "    def get_dataloaders(self, batch_size: int = None, shuffle: bool = None, drop_last: bool = False) -> tuple[tdata.DataLoader, tdata.DataLoader, tdata.DataLoader]:\n",
    "        return (tdata.DataLoader(self.train, shuffle=shuffle, batch_size=batch_size, drop_last=drop_last), \\\n",
    "                tdata.DataLoader(self.test, shuffle=shuffle, batch_size=batch_size, drop_last=drop_last), \\\n",
    "                tdata.DataLoader(self.valid, shuffle=shuffle, batch_size=batch_size, drop_last=drop_last))\n",
    "\n",
    "\n",
    "def train_split_dataset(dataset: TDataset, train_percent: float = 0.7, test_percent: float = 0.2, validate_percent: float = 0.1, random_state: int = None) -> TrainDatasetSplit[TDataset]:\n",
    "    assert math.isclose(train_percent + test_percent + validate_percent, 1.0), \"Expected train_percent + test_percent + validate_percent = 1.0!\"\n",
    "    dataset_indices = list(range(len(dataset)))\n",
    "    test_train_indices, valid_indicies = skms.train_test_split(dataset_indices, test_size=validate_percent, random_state=random_state)\n",
    "    train_indicies, test_indicies = skms.train_test_split(test_train_indices, test_size=test_percent/(train_percent + test_percent), random_state=random_state)\n",
    "    valid = tdata.Subset(dataset, valid_indicies)\n",
    "    train = tdata.Subset(dataset, train_indicies)\n",
    "    test = tdata.Subset(dataset, test_indicies)\n",
    "    split = TrainDatasetSplit(train=train, test=test, valid=valid)\n",
    "    return split\n",
    "\n",
    "\n",
    "class RunLoopIterData:\n",
    "    is_valid: bool\n",
    "\n",
    "    output_loss: torch.FloatTensor\n",
    "    output_num_correct: int\n",
    "    output_y_preds: torch.IntTensor\n",
    "    output_y_tests: torch.IntTensor\n",
    "\n",
    "    def reset(self, is_valid: bool = False):\n",
    "        self.output_loss = None\n",
    "        self.output_num_correct = None\n",
    "        self.output_y_preds = None\n",
    "        self.output_y_tests = None\n",
    "        self.is_valid = is_valid\n",
    "    \n",
    "    def postfix(self) -> dict:\n",
    "        return {\n",
    "            \"loss\": self.output_loss.item(),\n",
    "            \"num_correct\": self.output_num_correct\n",
    "        }\n",
    "\n",
    "\n",
    "class RunLoopStats:\n",
    "    total_loss: float\n",
    "    total_correct: int\n",
    "    average_loss: float\n",
    "    accuracy: float\n",
    "    \n",
    "    y_preds_arr: list[torch.FloatTensor]\n",
    "    y_tests_arr: list[torch.FloatTensor]\n",
    "    y_preds_stack: torch.FloatTensor\n",
    "    y_tests_stack: torch.FloatTensor\n",
    "\n",
    "    def __init__(self):\n",
    "        self.reset()\n",
    "\n",
    "    def reset(self):\n",
    "        self.total_loss = cast(float, None)\n",
    "        self.total_correct = cast(int, None)\n",
    "        self.average_loss = cast(float, 0)\n",
    "        self.accuracy = cast(float, 0)\n",
    "        self.y_preds_arr = []\n",
    "        self.y_tests_arr = []\n",
    "        self.y_preds_stack = None\n",
    "        self.y_tests_stack = None\n",
    "    \n",
    "    def add_iter_data(self, output: RunLoopIterData):\n",
    "        def get_raw_value(val: Union[float, torch.FloatTensor]):\n",
    "            if torch.is_tensor(val):\n",
    "                return val.item()\n",
    "            return val\n",
    "        if output.output_loss:\n",
    "            if self.total_loss == None:\n",
    "                self.total_loss = 0\n",
    "            self.total_loss += get_raw_value(output.output_loss)\n",
    "        if output.output_num_correct:\n",
    "            if self.total_correct == None:\n",
    "                self.total_correct = 0\n",
    "            self.total_correct += get_raw_value(output.output_num_correct)\n",
    "        if output.output_y_preds != None:\n",
    "            self.y_preds_arr.append(output.output_y_preds)\n",
    "        if output.output_y_tests != None:\n",
    "            self.y_tests_arr.append(output.output_y_tests)\n",
    "\n",
    "    def calculate(self, batch_count: int, items_count: int):\n",
    "        self.average_loss = self.total_loss / batch_count if self.total_loss else None\n",
    "        self.accuracy = self.total_correct / items_count if self.total_correct else None\n",
    "        if len(self.y_preds_arr) > 0:\n",
    "            self.y_preds_stack = torch.cat(self.y_preds_arr).cpu()\n",
    "        if len(self.y_tests_arr) > 0:\n",
    "            self.y_tests_stack = torch.cat(self.y_tests_arr).cpu()\n",
    "    \n",
    "    def show(self, class_names: list[str] = None):\n",
    "        def show_confusion_matrix(confusion_matrix):\n",
    "            hmap = sns.heatmap(confusion_matrix, annot=True, fmt=\"d\", cmap=\"Blues\")\n",
    "            hmap.yaxis.set_ticklabels(hmap.yaxis.get_ticklabels(), rotation=0, ha='right')\n",
    "            hmap.xaxis.set_ticklabels(hmap.xaxis.get_ticklabels(), rotation=30, ha='right')\n",
    "            plt.ylabel('True sentiment')\n",
    "            plt.xlabel('Predicted sentiment');\n",
    "        \n",
    "        used_class_indices = torch.unique(self.y_preds_stack)\n",
    "        class_names = [class_name for index, class_name in enumerate(class_names) if index in used_class_indices]\n",
    "        \n",
    "        if self.y_preds_stack != None and self.y_tests_stack != None and class_names != None:\n",
    "            report = skmets.classification_report(self.y_tests_stack, self.y_preds_stack, target_names=class_names)\n",
    "            print(report)\n",
    "            cm = skmets.confusion_matrix(self.y_tests_stack, self.y_preds_stack)\n",
    "            df_cm = pd.DataFrame(cm, index=class_names, columns=class_names)\n",
    "            show_confusion_matrix(df_cm)\n",
    "            \n",
    "\n",
    "\n",
    "class TrainEarlyStopping:\n",
    "    def __init__(self, patience: int = 5, delta: float = 0.05):\n",
    "        \"\"\"\n",
    "        patience = # epochs we wait for improvement\n",
    "        delta = minimmum decrease in loss in order to count as an improvement\n",
    "        \"\"\"\n",
    "        self.patience = patience\n",
    "        self.delta = delta\n",
    "        self.best_loss = None\n",
    "        self.no_improvement_count = 0\n",
    "        self.stop_training = False\n",
    "\n",
    "    def check_early_stop(self, val_loss: Union[float, Iterable[float]]) -> bool:\n",
    "        try:\n",
    "            # Assume val_loss = iterable, and bail if it doesn't work\n",
    "            for elem in val_loss:\n",
    "                if self.check_early_stop(elem):\n",
    "                    return True\n",
    "            return False\n",
    "        except TypeError:\n",
    "            pass\n",
    "        \n",
    "        # Handle val_loss = float\n",
    "        if self.stop_training:\n",
    "            # Once we stopped training, we halt any further checks\n",
    "            return True\n",
    "        if self.best_loss is None or val_loss < self.best_loss - self.delta:\n",
    "            # If we don't have a best loss yet, OR\n",
    "            # we got a new loss that is better than our delta\n",
    "            #\n",
    "            # then we reset the no improvement counter\n",
    "            self.best_loss = val_loss\n",
    "            self.no_improvement_count = 0\n",
    "        else:\n",
    "            # Otherwise, we didn't improve\n",
    "            self.no_improvement_count += 1\n",
    "            if self.no_improvement_count >= self.patience:\n",
    "                # If we didn't improve over patience (num of epochs we wait for improvements)\n",
    "                # then we stop\n",
    "                self.stop_training = True\n",
    "        return self.stop_training\n",
    "\n",
    "\n",
    "def get_log_data_fig(log_data: list[dict]):\n",
    "    fig = plt.figure()\n",
    "    if len(log_data) > 0:\n",
    "        epochs = [x[\"epoch\"] for x in log_data]\n",
    "        for key in log_data[0]:\n",
    "            if key.startswith(\"_\") or key == \"epoch\" or log_data[0][key] == None:\n",
    "                continue\n",
    "            plt.plot(epochs, [item[key] for item in log_data], label=key)\n",
    "        plt.legend()\n",
    "    else:\n",
    "        plt.plot([0], [0], label=\"empty\")\n",
    "    plt.close()\n",
    "    return fig\n",
    "\n",
    "\n",
    "TDatasetItem = TypeVar('TItem')\n",
    "TModel = TypeVar('TModel', bound=nn.Module)\n",
    "RunModelFn = Callable[[TModel, TDatasetItem, RunLoopIterData], None]\n",
    "def train_from_dataloader(model: nn.Module, optim: torch.optim.Optimizer, dataloader: tdata.DataLoader[TDatasetItem], run_fn: RunModelFn, epoch: int = None, scheduler: torch.optim.lr_scheduler.LRScheduler = None) -> RunLoopStats:\n",
    "    \"\"\"\n",
    "    Trains a model on the batches from a dataloader, and returns stats about the run.\n",
    "    \"\"\"\n",
    "    loop = tqdm(cast(Iterator[MaskedTextDatasetItem], dataloader), leave=True)\n",
    "    if epoch != None:\n",
    "        loop.set_description(f\"Epoch: {epoch: <4}\")\n",
    "    train_stats = RunLoopStats()\n",
    "    model.train()\n",
    "    loop_iter_data = RunLoopIterData()\n",
    "    for data in loop:\n",
    "        loop_iter_data.reset(is_valid=False)\n",
    "\n",
    "        run_fn(model, data, loop_iter_data)\n",
    "        loss = loop_iter_data.output_loss\n",
    "        \n",
    "        # Apply backward propagation\n",
    "        loss.backward()\n",
    "        # Clip gradients to limit oscillations\n",
    "        nn.utils.clip_grad_norm_(model.parameters(), max_norm=1.0)\n",
    "        optim.step()\n",
    "        if scheduler:\n",
    "            scheduler.step()\n",
    "        # Reset gradient\n",
    "        optim.zero_grad()\n",
    "\n",
    "        # Set info in tqdm progress bar\n",
    "        loop.set_postfix(loop_iter_data.postfix())\n",
    "        train_stats.add_iter_data(loop_iter_data)\n",
    "    train_stats.calculate(batch_count=len(dataloader), items_count=len(dataloader.dataset))\n",
    "    return train_stats\n",
    "\n",
    "\n",
    "def eval_from_dataloader(model: nn.Module, dataloader: tdata.DataLoader[TDatasetItem], run_fn: RunModelFn) -> RunLoopStats:\n",
    "    \"\"\"\n",
    "    Runs a model on the batches from a dataloader, and returns stats about the run.\n",
    "    \"\"\"\n",
    "    loop = tqdm(cast(Iterator[MaskedTextDatasetItem], dataloader), leave=True)\n",
    "    loop.set_description(\" \" * 11)\n",
    "    valid_stats = RunLoopStats()\n",
    "    model.eval()\n",
    "    loop_iter_data = RunLoopIterData()\n",
    "    with torch.no_grad():\n",
    "        for data in loop:\n",
    "            loop_iter_data.reset(is_valid=True)\n",
    "\n",
    "            run_fn(model, data, loop_iter_data)\n",
    "\n",
    "            # Set info in tqdm progress bar\n",
    "            loop.set_postfix(loop_iter_data.postfix())\n",
    "            valid_stats.add_iter_data(loop_iter_data)\n",
    "    valid_stats.calculate(batch_count=len(dataloader), items_count=len(dataloader.dataset))\n",
    "    return valid_stats\n",
    "\n",
    "\n",
    "def train_loop(name: str, desc: str, model_filename: str, train_dataloader: tdata.DataLoader[TDatasetItem], valid_dataloader: tdata.DataLoader[TDatasetItem], model: TModel, optim: torch.optim.Optimizer, stop_patience: int, stop_delta: float, run_fn: RunModelFn, scheduler: torch.optim.lr_scheduler.LRScheduler = None):\n",
    "    \"\"\"\n",
    "    Trains a model in a loop until it no longer improves, based on stop_patience and stop_delta.\n",
    "    See TrainEarlyStopping for more information.\n",
    "    \"\"\"\n",
    "    log_data: list[dict] = []\n",
    "    init_epoch = 0\n",
    "    prev_valid_loss = None\n",
    "    early_stop = TrainEarlyStopping(patience=stop_patience, delta=stop_delta)\n",
    "\n",
    "    model_dir = f\"{MODEL_DIR}/{name}/\"\n",
    "    os.makedirs(model_dir, exist_ok=True)\n",
    "\n",
    "    model_file_path = model_dir + model_filename + \".pt\"\n",
    "    if os.path.exists(model_file_path):\n",
    "        # If model file exist, then try to continue off of where it left off\n",
    "        data = torch.load(model_file_path, weights_only=False, map_location=device)\n",
    "        model.load_state_dict(data[\"model\"])\n",
    "        optim.load_state_dict(data[\"optim\"])\n",
    "        init_epoch = data[\"log_data\"][-1][\"epoch\"] + 1\n",
    "        log_data = data[\"log_data\"]\n",
    "        prev_valid_loss = log_data[-1][\"valid_loss\"]\n",
    "        print(\"\")\n",
    "        print(f\"Resuming existing model at epoch: {init_epoch}, data: {log_data[-1]}\")\n",
    "        # Resimulate the early stop checker using all of the log data\n",
    "        # and bail if we have stopped\n",
    "        if early_stop.check_early_stop([x[\"valid_loss\"] for x in log_data]):\n",
    "            log_data_display_handle = display(display_id=True)\n",
    "            log_data_display_handle.update(get_log_data_fig(log_data))\n",
    "            return\n",
    "        # Otherwise, continue training\n",
    "\n",
    "    print(f\"Training start for '{name}' {desc}...\")\n",
    "    log_data_display_handle = display(display_id=True)\n",
    "    log_data_display_handle.update(get_log_data_fig(log_data))\n",
    "    epoch_loop = itertools.count(start=init_epoch, step=1)\n",
    "    for epoch in epoch_loop:\n",
    "        # Training loop\n",
    "        train_stats = train_from_dataloader(model=model, optim=optim, dataloader=train_dataloader, run_fn=run_fn, epoch=epoch, scheduler=scheduler)\n",
    "        \n",
    "        # Validation loop\n",
    "        valid_stats = eval_from_dataloader(model=model, dataloader=valid_dataloader, run_fn=run_fn)\n",
    "        \n",
    "        # Log data\n",
    "        log_data.append({\n",
    "            \"epoch\": epoch,\n",
    "            \"train_loss\": train_stats.average_loss,\n",
    "            \"valid_loss\": valid_stats.average_loss,\n",
    "            \"valid_accuracy\": valid_stats.accuracy\n",
    "        })\n",
    "        print(f\"{' ' * 11}{str(log_data[-1])}\")\n",
    "\n",
    "        # Make plot\n",
    "        fig = get_log_data_fig(log_data)\n",
    "        log_data_display_handle.update(fig)\n",
    "\n",
    "\n",
    "        # Overwrite the model if there's an improvement\n",
    "        if prev_valid_loss != None and valid_stats.average_loss < prev_valid_loss:\n",
    "            atomic_torch_save({\n",
    "                \"model\": model.state_dict(),\n",
    "                \"optim\": optim.state_dict(),\n",
    "                \"log_data\": log_data,\n",
    "            }, model_file_path)\n",
    "        prev_valid_loss = valid_stats.average_loss\n",
    "\n",
    "        # Break if our moving validation delta loss average is smaller than our stop_delta_loss\n",
    "        if early_stop.check_early_stop(valid_stats.average_loss):\n",
    "            print(\"Stopping early...\")\n",
    "            break\n",
    "\n",
    "\n",
    "def pretraining_loop(train_dataloader: tdata.DataLoader[MaskedTextDatasetItem], valid_dataloader: tdata.DataLoader[MaskedTextDatasetItem], config: TrainingConfig):\n",
    "    \"\"\"\n",
    "    Trains the base BERT model using MLM\n",
    "    \"\"\"\n",
    "    def train_fn(model: AutoModelForMaskedLM, data: MaskedTextDatasetItem, iter_data: RunLoopIterData):\n",
    "        input_ids = data[\"input_ids\"].to(device)\n",
    "        attention_mask = data[\"attention_mask\"].to(device)\n",
    "        labels = data[\"labels\"].to(device)\n",
    "\n",
    "        outputs: MaskedLMOutput = model(input_ids=input_ids, attention_mask=attention_mask, labels=labels)\n",
    "        iter_data.output_loss = outputs.loss\n",
    "\n",
    "        predictions = torch.argmax(outputs.logits, dim=-1)\n",
    "\n",
    "        # Only compare where labels are not -100\n",
    "        # -100 indicates not a mask token\n",
    "        mask = labels != -100\n",
    "        correct_predictions = (predictions == labels) & mask\n",
    "        iter_data.output_num_correct = correct_predictions.sum().item()\n",
    "    \n",
    "    if config.pretrained_model_name:\n",
    "        # Create tokenizer + already trained model\n",
    "        model: AutoModelForMaskedLM = AutoModelForMaskedLM.from_pretrained(config.pretrained_model_name)\n",
    "    else:\n",
    "        bert_config = DistilBertConfig(\n",
    "            vocab_size=config.tokenizer.vocab_size,\n",
    "            max_position_embeddings=config.max_token_length,\n",
    "            hidden_size=256,\n",
    "            num_hidden_layers=4,\n",
    "            num_attention_heads=4,\n",
    "            type_vocab_size=2\n",
    "        )\n",
    "        model: AutoModelForMaskedLM = AutoModelForMaskedLM.from_config(bert_config)\n",
    "        optim = torch.optim.AdamW(model.parameters(), lr=2e-5)\n",
    "\n",
    "        train_loop(name=config.name, \n",
    "            desc=\"pretraining\",\n",
    "            model_filename=\"model_pretrain\",\n",
    "            train_dataloader=train_dataloader,\n",
    "            valid_dataloader=valid_dataloader,\n",
    "            model=model,\n",
    "            optim=optim,\n",
    "            stop_patience=config.stop_patience,\n",
    "            stop_delta=config.stop_delta,\n",
    "            run_fn=train_fn)\n",
    "    \n",
    "    # Move the model to the device we speicified\n",
    "    #   Ideally use CUDA (GPU) if available\n",
    "    model.to(device)\n",
    "    config.pretrained_model = model\n",
    "\n",
    "\n",
    "def pretraining_test(test_dataloader: tdata.DataLoader[MaskedTextDatasetItem], model: AutoModelForMaskedLM):\n",
    "    \"\"\"\n",
    "    Tests a pretrained BERT model using MLM\n",
    "    \"\"\"\n",
    "    print(\"\\nPretraining test...\")\n",
    "    def run_fn(model: AutoModelForMaskedLM, data: MaskedTextDatasetItem, iter_data: RunLoopIterData):\n",
    "        input_ids = data[\"input_ids\"].to(device)\n",
    "        attention_mask = data[\"attention_mask\"].to(device)\n",
    "        labels = data[\"labels\"].to(device)\n",
    "\n",
    "        outputs: MaskedLMOutput = model(input_ids=input_ids, attention_mask=attention_mask, labels=labels)\n",
    "        iter_data.output_loss = outputs.loss\n",
    "\n",
    "        predictions = torch.argmax(outputs.logits, dim=-1)\n",
    "\n",
    "        # Only compare where labels are not -100\n",
    "        # -100 indicates not a mask token\n",
    "        mask = labels != -100\n",
    "        correct_predictions = (predictions == labels) & mask\n",
    "        iter_data.output_num_correct = correct_predictions.sum().item()\n",
    "    \n",
    "    stats = eval_from_dataloader(model=model, \n",
    "        dataloader=test_dataloader, \n",
    "        run_fn=run_fn)\n",
    "    stats.show()\n",
    "\n",
    "\n",
    "def finetuning_loop(train_dataloader: tdata.DataLoader[ReviewsDatasetItem], valid_dataloader: tdata.DataLoader[ReviewsDatasetItem], config: TrainingConfig, use_lr_schedule: bool = False):\n",
    "    \"\"\"\n",
    "    Finetunes the base BERT model + classifier head using review data\n",
    "    \"\"\"\n",
    "    loss_fn = nn.CrossEntropyLoss().to(device)\n",
    "\n",
    "    def train_fn(model: BERTSentimentClassifier, data: ReviewsDatasetItem, iter_data: RunLoopIterData):\n",
    "        nonlocal loss_fn\n",
    "        input_ids = data[\"input_ids\"].to(device)\n",
    "        attention_mask = data[\"attention_mask\"].to(device)\n",
    "        target = data[\"score\"].to(device)\n",
    "        \n",
    "        raw_pred: torch.FloatTensor = model(input_ids=input_ids, attention_mask=attention_mask)\n",
    "        iter_data.output_loss = loss_fn(raw_pred, target)\n",
    "\n",
    "        # Track accuracy for validation set\n",
    "        if iter_data.is_valid:\n",
    "            preds = torch.argmax(raw_pred, dim=1)\n",
    "            iter_data.output_num_correct = torch.sum(preds == target)\n",
    "\n",
    "    # Load data into a raw BERT model\n",
    "    # We set strict=False, since the pooler bias and weights are not set\n",
    "    def get_underlying_model(mlm_model) -> PreTrainedModel:\n",
    "        if hasattr(mlm_model, \"bert\"):\n",
    "            return mlm_model.bert\n",
    "        elif hasattr(mlm_model, \"distilbert\"):\n",
    "            return mlm_model.distilbert\n",
    "        else:\n",
    "            raise Exception(f\"Unknown model: {mlm_model}\")\n",
    "    base_bert = get_underlying_model(config.pretrained_model)\n",
    "\n",
    "    bert_copy = AutoModel.from_config(base_bert.config)\n",
    "    bert_copy.load_state_dict(base_bert.state_dict(), strict=False)\n",
    "    \n",
    "    # If we don't want to finetune the base mode,\n",
    "    # then freeze all parameters (except for pooler)\n",
    "    if not config.train_bert_in_finetune:\n",
    "        for name, param in bert_copy.named_parameters():\n",
    "            param.requires_grad = \"pooler\" in name\n",
    "\n",
    "    model = BERTSentimentClassifier(bert=bert_copy, n_classes=len(config.class_names))\n",
    "    model.to(device)\n",
    "    optim = torch.optim.AdamW(model.parameters(), lr=2e-5)\n",
    "\n",
    "    scheduler = None\n",
    "    if use_lr_schedule:\n",
    "        scheduler =  get_linear_schedule_with_warmup(\n",
    "            optim,\n",
    "            num_warmup_steps=0,\n",
    "            num_training_steps=len(train_dataloader) * 10\n",
    "        )\n",
    "\n",
    "    train_loop(name=config.name, \n",
    "        desc=\"finetuning\",\n",
    "        model_filename=\"model_finetune\",\n",
    "        train_dataloader=train_dataloader,\n",
    "        valid_dataloader=valid_dataloader,\n",
    "        model=model,\n",
    "        optim=optim,\n",
    "        stop_patience=config.stop_patience,\n",
    "        stop_delta=config.stop_delta,\n",
    "        run_fn=train_fn,\n",
    "        scheduler=scheduler)\n",
    "    \n",
    "    config.finetuned_classifier_model = model\n",
    "\n",
    "\n",
    "def finetuning_test(test_dataloader: tdata.DataLoader[ReviewsDatasetItem], model: AutoModel, class_names: list[str]):\n",
    "    \"\"\"\n",
    "    Tests a finetuned BERT model using review data\n",
    "    \"\"\"\n",
    "    loss_fn = nn.CrossEntropyLoss().to(device)\n",
    "    \n",
    "    print(\"\\nFinetuning test...\")\n",
    "    def run_fn(model: AutoModel, data: MaskedTextDatasetItem, iter_data: RunLoopIterData):\n",
    "        nonlocal loss_fn\n",
    "        input_ids = data[\"input_ids\"].to(device)\n",
    "        attention_mask = data[\"attention_mask\"].to(device)\n",
    "        target = data[\"score\"].to(device)\n",
    "        \n",
    "        raw_pred: torch.FloatTensor = model(input_ids=input_ids, attention_mask=attention_mask)\n",
    "        iter_data.output_loss = loss_fn(raw_pred, target)\n",
    "\n",
    "        # Track accuracy for validation set\n",
    "        preds = torch.argmax(raw_pred, dim=1)\n",
    "        iter_data.output_num_correct = torch.sum(preds == target)\n",
    "        iter_data.output_y_preds = preds\n",
    "        iter_data.output_y_tests = target\n",
    "    \n",
    "    stats = eval_from_dataloader(model=model, \n",
    "        dataloader=test_dataloader, \n",
    "        run_fn=run_fn)\n",
    "    stats.show(class_names=class_names)\n",
    "\n",
    "\n",
    "class ResetTrainFn(Protocol):\n",
    "    def __call__(self, train_bert_in_finetune: bool = False, sample_mode: SampleMode = SampleMode.NONE):\n",
    "        ...\n",
    "\n",
    "\n",
    "class PretrainTrainFn(Protocol):\n",
    "    def __call__(self, stop_delta_loss: float = 0.05, pretrained_model_name: str = \"bert-base-uncased\"):\n",
    "        ...\n",
    "\n",
    "\n",
    "class FinetuneTrainFn(Protocol):\n",
    "    def __call__(self, stop_delta_loss: float = 0.05, use_lr_schedule: bool = False):\n",
    "        ...\n",
    "\n",
    "\n",
    "def dataset_train_loop(dataset_name: Union[str, list[str]] = \"myanimelist\", train_percent: float = 0.7, validate_percent: float = 0.1, test_percent: float = 0.2, batch_size: int = 32) -> tuple[ResetTrainFn, PretrainTrainFn, FinetuneTrainFn]:\n",
    "    \"\"\"\n",
    "    Pretrain a BERT base model, and then finetune with a classifier head on review data.\n",
    "    \"\"\"\n",
    "\n",
    "    dataset_names: list[str] = []\n",
    "    if isinstance(dataset_name, str):\n",
    "        dataset_names.append(dataset_name)\n",
    "    else:\n",
    "        dataset_names.extend(dataset_name)\n",
    "    assert len(dataset_names) > 0, \"Datasets len = 0, datasets list must contain atleast at least one dataset!\"\n",
    "\n",
    "    joint_name = \"-\".join(dataset_names)\n",
    "\n",
    "    # ---------- Load TrainingConfig ---------- #\n",
    "    config: TrainingConfig = None\n",
    "\n",
    "    def reset(train_bert_in_finetune: bool = False, sample_mode: SampleMode = SampleMode.NONE):\n",
    "        nonlocal config\n",
    "        config = TrainingConfig(name=joint_name, \n",
    "            pretrained_tokenizer_name=\"bert-base-uncased\", \n",
    "            stop_delta=0.05, \n",
    "            stop_patience=5, \n",
    "            max_token_length=512, \n",
    "            class_names=[\"negative\", \"neutral\", \"positive\"],\n",
    "            train_bert_in_finetune=train_bert_in_finetune,\n",
    "            sample_mode=sample_mode)\n",
    "    \n",
    "    reset()\n",
    "    print(f\"Loaded training config:\")\n",
    "    display(config)\n",
    "    \n",
    "    # ---------- Load data ---------- #\n",
    "    data_dfs = []\n",
    "    for dataset in dataset_names:\n",
    "        data_dfs.append(pd.read_csv(f\"{DATA_DIR}/{dataset}_reviews.csv\"))\n",
    "    data_df = pd.concat(data_dfs, ignore_index=True)\n",
    "    # Shuffle items once we join them together\n",
    "    data_df = data_df.sample(frac=1).reset_index(drop=True)\n",
    "\n",
    "    print(f\"Loaded {joint_name}:\")\n",
    "    display(data_df)\n",
    "\n",
    "    # Create new column sentiment_score, that converts the original score range to a \n",
    "    # new score range based on the number of classes our model outputs\n",
    "    n_classes = len(config.class_names)    \n",
    "    data_df[\"norm_score\"] = data_df[\"score\"] / data_df[\"max_score\"]\n",
    "    data_df[\"sentiment_score\"] = pd.cut(\n",
    "        data_df[\"norm_score\"],\n",
    "        bins=n_classes,\n",
    "        labels=range(0, n_classes),\n",
    "        include_lowest=True\n",
    "    ).astype(int)\n",
    "\n",
    "    # Balance out the dataset, by ensuring each class has the same number of elements\n",
    "    # We are effectively limited by the size of the smallest class\n",
    "    g = data_df.groupby(\"sentiment_score\")\n",
    "    group_sizes = g.size()\n",
    "    if config.sample_mode == SampleMode.NONE:\n",
    "        # Dataset remains unchanged\n",
    "        sampled_df = data_df\n",
    "    elif config.sample_mode == SampleMode.OVER_SAMPLE:\n",
    "        # We want the smaller categories to fill in the space\n",
    "        # until categories have equal sizes\n",
    "        #\n",
    "        # We don't want to include categories that are completely zero\n",
    "        #\n",
    "        # This situation can happen when the reviews are binary, being either 0 (negative) or 1 (positive), \n",
    "        # such as in steam reviews. If we had used 3 classes (negative, neutral, positive),\n",
    "        # then the neutral class would have 0 reviews, and would force us to sample 0 reviews\n",
    "        # from each category, leading to an empty dataset.\n",
    "        max_group_size = group_sizes[group_sizes > 0].max()\n",
    "        sampled_df = g.apply(lambda x: x.sample(max_group_size)).reset_index(drop=True)\n",
    "    elif config.sample_mode == SampleMode.UNDER_SAMPLE:\n",
    "        # We want the larger categories to shirnk\n",
    "        # until categories have equal sizes\n",
    "        min_group_size = group_sizes[group_sizes > 0].min()\n",
    "        sampled_df = g.apply(lambda x: x.sample(min_group_size)).reset_index(drop=True)\n",
    "\n",
    "    order = [str(i) for i in range(n_classes)]\n",
    "\n",
    "    # Plot original\n",
    "    ax = sns.countplot(data_df[\"sentiment_score\"].astype(str), order=order)\n",
    "    ax.set_xlabel(\"review sentiment\")\n",
    "    ax.set_title(\"Original Review Sentiments\")\n",
    "    plt.show()\n",
    "\n",
    "    # Plot sampled\n",
    "    ax = sns.countplot(sampled_df[\"sentiment_score\"].astype(str), order=order)\n",
    "    ax.set_xlabel(\"review sentiment\")\n",
    "    ax.set_title(\"Sampled Review Sentiments\")\n",
    "    plt.show()\n",
    "\n",
    "    print(f\"Original dataset size: {len(data_df)}\")\n",
    "    print(f\"Sampled dataset size: {len(sampled_df)}\")\n",
    "    \n",
    "    display(sampled_df)\n",
    "\n",
    "    # ---------- Create masked and reviews datasets ---------- #\n",
    "    # We can train masked MLM on the entire dataset -- even if the review scores are unbalanced\n",
    "    masked_dataset = get_masked_dataset(\n",
    "        tokenizer=config.tokenizer, \n",
    "        review_texts=data_df[\"review\"].astype(str).to_list(), \n",
    "        max_token_length=config.max_token_length, \n",
    "        dataset_file=f\"{joint_name}_masked_data.dt\")\n",
    "    # We must train the classifier on the balanced dataset, to prevent the model from learning distribution patterns \n",
    "    reviews_dataset = get_reviews_dataset(\n",
    "        tokenizer=config.tokenizer, \n",
    "        review_scores=sampled_df[\"sentiment_score\"].to_list(), \n",
    "        max_score=n_classes,\n",
    "        review_texts=sampled_df[\"review\"].astype(str).to_list(), \n",
    "        max_token_length=config.max_token_length, \n",
    "        dataset_file=f\"{joint_name}_reviews_data.dt\")\n",
    "    \n",
    "    # ---------- Create final training function ---------- #\n",
    "    def pretraining(stop_delta_loss: float = 0.05, pretrained_model_name: str = \"bert-base-uncased\"):\n",
    "        nonlocal config\n",
    "        config.pretrained_model_name = pretrained_model_name\n",
    "        config.stop_delta = stop_delta_loss\n",
    "        reviews_split = train_split_dataset(masked_dataset, train_percent=train_percent, test_percent=test_percent, validate_percent=validate_percent)\n",
    "        train_dl, test_dl, valid_dl = reviews_split.get_dataloaders(batch_size=batch_size, shuffle=True)\n",
    "        print(f\"Masked pretraining:\")\n",
    "        print(f\"    train_dataloader: ({len(train_dl)} batches)\\n    test_dataloader: ({len(test_dl)} batches)\\n    valid_dataloader: ({len(valid_dl)} batches)\")\n",
    "        pretraining_loop(train_dl, valid_dl, config)\n",
    "        if not config.pretrained_model_name:\n",
    "            # Only test if we trained the model ourselves\n",
    "            pretraining_test(test_dl, config.pretrained_model)\n",
    "\n",
    "    def finetuning(stop_delta_loss: float = 0.05, use_lr_schedule: bool = False):\n",
    "        nonlocal config\n",
    "        config.stop_delta = stop_delta_loss\n",
    "        reviews_split = train_split_dataset(reviews_dataset, train_percent=train_percent, test_percent=test_percent, validate_percent=validate_percent)\n",
    "        train_dl, test_dl, valid_dl = reviews_split.get_dataloaders(batch_size=batch_size, shuffle=True)\n",
    "        print(f\"Reviews training:\")\n",
    "        print(f\"    train_dataloader: ({len(train_dl)} batches)\\n    test_dataloader: ({len(test_dl)} batches)\\n    valid_dataloader: ({len(valid_dl)} batches)\")\n",
    "        finetuning_loop(train_dl, valid_dl, config, use_lr_schedule)\n",
    "        finetuning_test(test_dl, config.finetuned_classifier_model, [\"negative\", \"neutral\", \"positive\"])\n",
    "\n",
    "    return [reset, pretraining, finetuning]"
   ]
  },
  {
   "cell_type": "code",
   "execution_count": 7,
   "metadata": {},
   "outputs": [],
   "source": [
    "def global_dataset_train_loop(dataset: Union[str, list[str]]):\n",
    "    TRAIN_PERCENT = 0.7\n",
    "    VALIDATE_PERCENT = 0.1\n",
    "    TEST_PERCENT = 0.2 \n",
    "    BATCH_SIZE = 32\n",
    "    STOP_DELTA_LOSS = 0.005\n",
    "    PRETRAINED_MODEL_NAME = \"distilbert/distilbert-base-uncased\"\n",
    "    TRAIN_BERT_IN_FINETUNE = False\n",
    "    SAMPLE_MODE = SampleMode.NONE\n",
    "\n",
    "    reset, pretraining, finetuning = dataset_train_loop(dataset, \n",
    "        TRAIN_PERCENT, \n",
    "        VALIDATE_PERCENT, \n",
    "        TEST_PERCENT, \n",
    "        BATCH_SIZE)\n",
    "\n",
    "    reset(train_bert_in_finetune=TRAIN_BERT_IN_FINETUNE, sample_mode=SAMPLE_MODE)\n",
    "    pretraining(pretrained_model_name=PRETRAINED_MODEL_NAME)\n",
    "    finetuning(stop_delta_loss=STOP_DELTA_LOSS)"
   ]
  },
  {
   "cell_type": "markdown",
   "metadata": {},
   "source": [
    "## MyAnimeList\n",
    "\n",
    "Training BERT on MyAnimeList only."
   ]
  },
  {
   "cell_type": "code",
   "execution_count": 8,
   "metadata": {},
   "outputs": [
    {
     "name": "stdout",
     "output_type": "stream",
     "text": [
      "Loaded training config:\n"
     ]
    },
    {
     "data": {
      "text/plain": [
       "{'tokenizer': BertTokenizerFast(name_or_path='bert-base-uncased', vocab_size=30522, model_max_length=512, is_fast=True, padding_side='right', truncation_side='right', special_tokens={'unk_token': '[UNK]', 'sep_token': '[SEP]', 'pad_token': '[PAD]', 'cls_token': '[CLS]', 'mask_token': '[MASK]'}, clean_up_tokenization_spaces=False, added_tokens_decoder={\n",
       "\t0: AddedToken(\"[PAD]\", rstrip=False, lstrip=False, single_word=False, normalized=False, special=True),\n",
       "\t100: AddedToken(\"[UNK]\", rstrip=False, lstrip=False, single_word=False, normalized=False, special=True),\n",
       "\t101: AddedToken(\"[CLS]\", rstrip=False, lstrip=False, single_word=False, normalized=False, special=True),\n",
       "\t102: AddedToken(\"[SEP]\", rstrip=False, lstrip=False, single_word=False, normalized=False, special=True),\n",
       "\t103: AddedToken(\"[MASK]\", rstrip=False, lstrip=False, single_word=False, normalized=False, special=True),\n",
       "}\n",
       "), 'pretrained_model_name': '', 'name': 'myanimelist', 'class_names': ['negative', 'neutral', 'positive'], 'stop_delta': 0.05, 'stop_patience': 5, 'train_bert_in_finetune': False, 'max_token_length': 512, 'pretrained_model': None, 'pretrained_dataloaders': None, 'finetuned_classifier_model': None, 'finetuned_dataloaders': None, 'sample_mode': <SampleMode.NONE: 0>}"
      ]
     },
     "metadata": {},
     "output_type": "display_data"
    },
    {
     "name": "stdout",
     "output_type": "stream",
     "text": [
      "Loaded myanimelist:\n"
     ]
    },
    {
     "data": {
      "text/html": [
       "<div>\n",
       "<style scoped>\n",
       "    .dataframe tbody tr th:only-of-type {\n",
       "        vertical-align: middle;\n",
       "    }\n",
       "\n",
       "    .dataframe tbody tr th {\n",
       "        vertical-align: top;\n",
       "    }\n",
       "\n",
       "    .dataframe thead th {\n",
       "        text-align: right;\n",
       "    }\n",
       "</style>\n",
       "<table border=\"1\" class=\"dataframe\">\n",
       "  <thead>\n",
       "    <tr style=\"text-align: right;\">\n",
       "      <th></th>\n",
       "      <th>site</th>\n",
       "      <th>user</th>\n",
       "      <th>review_target</th>\n",
       "      <th>review</th>\n",
       "      <th>score</th>\n",
       "      <th>max_score</th>\n",
       "    </tr>\n",
       "  </thead>\n",
       "  <tbody>\n",
       "    <tr>\n",
       "      <th>0</th>\n",
       "      <td>MyAnimeList</td>\n",
       "      <td>ManiacalMind</td>\n",
       "      <td>Dragon Ball Z</td>\n",
       "      <td>Let me start off by saying, for everyone that ...</td>\n",
       "      <td>7</td>\n",
       "      <td>10</td>\n",
       "    </tr>\n",
       "    <tr>\n",
       "      <th>1</th>\n",
       "      <td>MyAnimeList</td>\n",
       "      <td>Gabranth</td>\n",
       "      <td>A Place Further than the Universe</td>\n",
       "      <td>This is a beautiful show that just made each e...</td>\n",
       "      <td>10</td>\n",
       "      <td>10</td>\n",
       "    </tr>\n",
       "    <tr>\n",
       "      <th>2</th>\n",
       "      <td>MyAnimeList</td>\n",
       "      <td>Tatsuya-kun</td>\n",
       "      <td>Tokyo Ghoul</td>\n",
       "      <td>Tokyo Ghoul was easily one of the most hyped t...</td>\n",
       "      <td>4</td>\n",
       "      <td>10</td>\n",
       "    </tr>\n",
       "    <tr>\n",
       "      <th>3</th>\n",
       "      <td>MyAnimeList</td>\n",
       "      <td>Caleb_Marvell</td>\n",
       "      <td>Anohana: The Flower We Saw That Day</td>\n",
       "      <td>\"I wonder... What were the names of the flower...</td>\n",
       "      <td>10</td>\n",
       "      <td>10</td>\n",
       "    </tr>\n",
       "    <tr>\n",
       "      <th>4</th>\n",
       "      <td>MyAnimeList</td>\n",
       "      <td>Radzeer</td>\n",
       "      <td>Anohana: The Flower We Saw That Day</td>\n",
       "      <td>What do you do, when you suddenly see a ghost ...</td>\n",
       "      <td>5</td>\n",
       "      <td>10</td>\n",
       "    </tr>\n",
       "    <tr>\n",
       "      <th>...</th>\n",
       "      <td>...</td>\n",
       "      <td>...</td>\n",
       "      <td>...</td>\n",
       "      <td>...</td>\n",
       "      <td>...</td>\n",
       "      <td>...</td>\n",
       "    </tr>\n",
       "    <tr>\n",
       "      <th>13408</th>\n",
       "      <td>MyAnimeList</td>\n",
       "      <td>Agent_Redacted</td>\n",
       "      <td>Serial Experiments Lain</td>\n",
       "      <td>If there was ever any anime that could give me...</td>\n",
       "      <td>10</td>\n",
       "      <td>10</td>\n",
       "    </tr>\n",
       "    <tr>\n",
       "      <th>13409</th>\n",
       "      <td>MyAnimeList</td>\n",
       "      <td>MaskettaSenpai</td>\n",
       "      <td>Howl's Moving Castle</td>\n",
       "      <td>Howls' Moving Castle starts off on a strong fo...</td>\n",
       "      <td>5</td>\n",
       "      <td>10</td>\n",
       "    </tr>\n",
       "    <tr>\n",
       "      <th>13410</th>\n",
       "      <td>MyAnimeList</td>\n",
       "      <td>Zerity</td>\n",
       "      <td>The Quintessential Quintuplets</td>\n",
       "      <td>What do you feel as you look at this anime. Do...</td>\n",
       "      <td>1</td>\n",
       "      <td>10</td>\n",
       "    </tr>\n",
       "    <tr>\n",
       "      <th>13411</th>\n",
       "      <td>MyAnimeList</td>\n",
       "      <td>nurBeL_xelA</td>\n",
       "      <td>Monster</td>\n",
       "      <td>HOT TAKE INCOMING: I think Monster is a little...</td>\n",
       "      <td>7</td>\n",
       "      <td>10</td>\n",
       "    </tr>\n",
       "    <tr>\n",
       "      <th>13412</th>\n",
       "      <td>MyAnimeList</td>\n",
       "      <td>aldero</td>\n",
       "      <td>Terror in Resonance</td>\n",
       "      <td>TL;DR Not for those who are affected by terror...</td>\n",
       "      <td>7</td>\n",
       "      <td>10</td>\n",
       "    </tr>\n",
       "  </tbody>\n",
       "</table>\n",
       "<p>13413 rows × 6 columns</p>\n",
       "</div>"
      ],
      "text/plain": [
       "              site            user                        review_target  \\\n",
       "0      MyAnimeList    ManiacalMind                        Dragon Ball Z   \n",
       "1      MyAnimeList        Gabranth    A Place Further than the Universe   \n",
       "2      MyAnimeList     Tatsuya-kun                          Tokyo Ghoul   \n",
       "3      MyAnimeList   Caleb_Marvell  Anohana: The Flower We Saw That Day   \n",
       "4      MyAnimeList         Radzeer  Anohana: The Flower We Saw That Day   \n",
       "...            ...             ...                                  ...   \n",
       "13408  MyAnimeList  Agent_Redacted              Serial Experiments Lain   \n",
       "13409  MyAnimeList  MaskettaSenpai                 Howl's Moving Castle   \n",
       "13410  MyAnimeList          Zerity       The Quintessential Quintuplets   \n",
       "13411  MyAnimeList     nurBeL_xelA                              Monster   \n",
       "13412  MyAnimeList          aldero                  Terror in Resonance   \n",
       "\n",
       "                                                  review  score  max_score  \n",
       "0      Let me start off by saying, for everyone that ...      7         10  \n",
       "1      This is a beautiful show that just made each e...     10         10  \n",
       "2      Tokyo Ghoul was easily one of the most hyped t...      4         10  \n",
       "3      \"I wonder... What were the names of the flower...     10         10  \n",
       "4      What do you do, when you suddenly see a ghost ...      5         10  \n",
       "...                                                  ...    ...        ...  \n",
       "13408  If there was ever any anime that could give me...     10         10  \n",
       "13409  Howls' Moving Castle starts off on a strong fo...      5         10  \n",
       "13410  What do you feel as you look at this anime. Do...      1         10  \n",
       "13411  HOT TAKE INCOMING: I think Monster is a little...      7         10  \n",
       "13412  TL;DR Not for those who are affected by terror...      7         10  \n",
       "\n",
       "[13413 rows x 6 columns]"
      ]
     },
     "metadata": {},
     "output_type": "display_data"
    },
    {
     "data": {
      "image/png": "[encoded data removed]",
      "text/plain": [
       "<Figure size 640x480 with 1 Axes>"
      ]
     },
     "metadata": {},
     "output_type": "display_data"
    },
    {
     "data": {
      "image/png": "[encoded data removed]",
      "text/plain": [
       "<Figure size 640x480 with 1 Axes>"
      ]
     },
     "metadata": {},
     "output_type": "display_data"
    },
    {
     "name": "stdout",
     "output_type": "stream",
     "text": [
      "Original dataset size: 13413\n",
      "Sampled dataset size: 13413\n"
     ]
    },
    {
     "data": {
      "text/html": [
       "<div>\n",
       "<style scoped>\n",
       "    .dataframe tbody tr th:only-of-type {\n",
       "        vertical-align: middle;\n",
       "    }\n",
       "\n",
       "    .dataframe tbody tr th {\n",
       "        vertical-align: top;\n",
       "    }\n",
       "\n",
       "    .dataframe thead th {\n",
       "        text-align: right;\n",
       "    }\n",
       "</style>\n",
       "<table border=\"1\" class=\"dataframe\">\n",
       "  <thead>\n",
       "    <tr style=\"text-align: right;\">\n",
       "      <th></th>\n",
       "      <th>site</th>\n",
       "      <th>user</th>\n",
       "      <th>review_target</th>\n",
       "      <th>review</th>\n",
       "      <th>score</th>\n",
       "      <th>max_score</th>\n",
       "      <th>norm_score</th>\n",
       "      <th>sentiment_score</th>\n",
       "    </tr>\n",
       "  </thead>\n",
       "  <tbody>\n",
       "    <tr>\n",
       "      <th>0</th>\n",
       "      <td>MyAnimeList</td>\n",
       "      <td>ManiacalMind</td>\n",
       "      <td>Dragon Ball Z</td>\n",
       "      <td>Let me start off by saying, for everyone that ...</td>\n",
       "      <td>7</td>\n",
       "      <td>10</td>\n",
       "      <td>0.7</td>\n",
       "      <td>1</td>\n",
       "    </tr>\n",
       "    <tr>\n",
       "      <th>1</th>\n",
       "      <td>MyAnimeList</td>\n",
       "      <td>Gabranth</td>\n",
       "      <td>A Place Further than the Universe</td>\n",
       "      <td>This is a beautiful show that just made each e...</td>\n",
       "      <td>10</td>\n",
       "      <td>10</td>\n",
       "      <td>1.0</td>\n",
       "      <td>2</td>\n",
       "    </tr>\n",
       "    <tr>\n",
       "      <th>2</th>\n",
       "      <td>MyAnimeList</td>\n",
       "      <td>Tatsuya-kun</td>\n",
       "      <td>Tokyo Ghoul</td>\n",
       "      <td>Tokyo Ghoul was easily one of the most hyped t...</td>\n",
       "      <td>4</td>\n",
       "      <td>10</td>\n",
       "      <td>0.4</td>\n",
       "      <td>0</td>\n",
       "    </tr>\n",
       "    <tr>\n",
       "      <th>3</th>\n",
       "      <td>MyAnimeList</td>\n",
       "      <td>Caleb_Marvell</td>\n",
       "      <td>Anohana: The Flower We Saw That Day</td>\n",
       "      <td>\"I wonder... What were the names of the flower...</td>\n",
       "      <td>10</td>\n",
       "      <td>10</td>\n",
       "      <td>1.0</td>\n",
       "      <td>2</td>\n",
       "    </tr>\n",
       "    <tr>\n",
       "      <th>4</th>\n",
       "      <td>MyAnimeList</td>\n",
       "      <td>Radzeer</td>\n",
       "      <td>Anohana: The Flower We Saw That Day</td>\n",
       "      <td>What do you do, when you suddenly see a ghost ...</td>\n",
       "      <td>5</td>\n",
       "      <td>10</td>\n",
       "      <td>0.5</td>\n",
       "      <td>1</td>\n",
       "    </tr>\n",
       "    <tr>\n",
       "      <th>...</th>\n",
       "      <td>...</td>\n",
       "      <td>...</td>\n",
       "      <td>...</td>\n",
       "      <td>...</td>\n",
       "      <td>...</td>\n",
       "      <td>...</td>\n",
       "      <td>...</td>\n",
       "      <td>...</td>\n",
       "    </tr>\n",
       "    <tr>\n",
       "      <th>13408</th>\n",
       "      <td>MyAnimeList</td>\n",
       "      <td>Agent_Redacted</td>\n",
       "      <td>Serial Experiments Lain</td>\n",
       "      <td>If there was ever any anime that could give me...</td>\n",
       "      <td>10</td>\n",
       "      <td>10</td>\n",
       "      <td>1.0</td>\n",
       "      <td>2</td>\n",
       "    </tr>\n",
       "    <tr>\n",
       "      <th>13409</th>\n",
       "      <td>MyAnimeList</td>\n",
       "      <td>MaskettaSenpai</td>\n",
       "      <td>Howl's Moving Castle</td>\n",
       "      <td>Howls' Moving Castle starts off on a strong fo...</td>\n",
       "      <td>5</td>\n",
       "      <td>10</td>\n",
       "      <td>0.5</td>\n",
       "      <td>1</td>\n",
       "    </tr>\n",
       "    <tr>\n",
       "      <th>13410</th>\n",
       "      <td>MyAnimeList</td>\n",
       "      <td>Zerity</td>\n",
       "      <td>The Quintessential Quintuplets</td>\n",
       "      <td>What do you feel as you look at this anime. Do...</td>\n",
       "      <td>1</td>\n",
       "      <td>10</td>\n",
       "      <td>0.1</td>\n",
       "      <td>0</td>\n",
       "    </tr>\n",
       "    <tr>\n",
       "      <th>13411</th>\n",
       "      <td>MyAnimeList</td>\n",
       "      <td>nurBeL_xelA</td>\n",
       "      <td>Monster</td>\n",
       "      <td>HOT TAKE INCOMING: I think Monster is a little...</td>\n",
       "      <td>7</td>\n",
       "      <td>10</td>\n",
       "      <td>0.7</td>\n",
       "      <td>1</td>\n",
       "    </tr>\n",
       "    <tr>\n",
       "      <th>13412</th>\n",
       "      <td>MyAnimeList</td>\n",
       "      <td>aldero</td>\n",
       "      <td>Terror in Resonance</td>\n",
       "      <td>TL;DR Not for those who are affected by terror...</td>\n",
       "      <td>7</td>\n",
       "      <td>10</td>\n",
       "      <td>0.7</td>\n",
       "      <td>1</td>\n",
       "    </tr>\n",
       "  </tbody>\n",
       "</table>\n",
       "<p>13413 rows × 8 columns</p>\n",
       "</div>"
      ],
      "text/plain": [
       "              site            user                        review_target  \\\n",
       "0      MyAnimeList    ManiacalMind                        Dragon Ball Z   \n",
       "1      MyAnimeList        Gabranth    A Place Further than the Universe   \n",
       "2      MyAnimeList     Tatsuya-kun                          Tokyo Ghoul   \n",
       "3      MyAnimeList   Caleb_Marvell  Anohana: The Flower We Saw That Day   \n",
       "4      MyAnimeList         Radzeer  Anohana: The Flower We Saw That Day   \n",
       "...            ...             ...                                  ...   \n",
       "13408  MyAnimeList  Agent_Redacted              Serial Experiments Lain   \n",
       "13409  MyAnimeList  MaskettaSenpai                 Howl's Moving Castle   \n",
       "13410  MyAnimeList          Zerity       The Quintessential Quintuplets   \n",
       "13411  MyAnimeList     nurBeL_xelA                              Monster   \n",
       "13412  MyAnimeList          aldero                  Terror in Resonance   \n",
       "\n",
       "                                                  review  score  max_score  \\\n",
       "0      Let me start off by saying, for everyone that ...      7         10   \n",
       "1      This is a beautiful show that just made each e...     10         10   \n",
       "2      Tokyo Ghoul was easily one of the most hyped t...      4         10   \n",
       "3      \"I wonder... What were the names of the flower...     10         10   \n",
       "4      What do you do, when you suddenly see a ghost ...      5         10   \n",
       "...                                                  ...    ...        ...   \n",
       "13408  If there was ever any anime that could give me...     10         10   \n",
       "13409  Howls' Moving Castle starts off on a strong fo...      5         10   \n",
       "13410  What do you feel as you look at this anime. Do...      1         10   \n",
       "13411  HOT TAKE INCOMING: I think Monster is a little...      7         10   \n",
       "13412  TL;DR Not for those who are affected by terror...      7         10   \n",
       "\n",
       "       norm_score  sentiment_score  \n",
       "0             0.7                1  \n",
       "1             1.0                2  \n",
       "2             0.4                0  \n",
       "3             1.0                2  \n",
       "4             0.5                1  \n",
       "...           ...              ...  \n",
       "13408         1.0                2  \n",
       "13409         0.5                1  \n",
       "13410         0.1                0  \n",
       "13411         0.7                1  \n",
       "13412         0.7                1  \n",
       "\n",
       "[13413 rows x 8 columns]"
      ]
     },
     "metadata": {},
     "output_type": "display_data"
    },
    {
     "name": "stdout",
     "output_type": "stream",
     "text": [
      "Loading masked dataset:\n",
      "    Loading existing dataset file @ myanimelist_masked_data.dt...\n",
      "Loading reviews dataset:\n",
      "    Loading existing dataset file @ myanimelist_reviews_data.dt...\n",
      "Masked pretraining:\n",
      "    train_dataloader: (294 batches)\n",
      "    test_dataloader: (84 batches)\n",
      "    valid_dataloader: (42 batches)\n",
      "Reviews training:\n",
      "    train_dataloader: (105 batches)\n",
      "    test_dataloader: (30 batches)\n",
      "    valid_dataloader: (15 batches)\n",
      "\n",
      "Resuming existing model at epoch: 34, data: {'epoch': 33, 'train_loss': 0.7866051128932408, 'valid_loss': 0.7932078798611959, 'valid_accuracy': 0.6121593291404612}\n",
      "Training start for 'myanimelist' finetuning...\n"
     ]
    },
    {
     "data": {
      "image/png": "[encoded data removed]",
      "text/plain": [
       "<Figure size 640x480 with 1 Axes>"
      ]
     },
     "metadata": {},
     "output_type": "display_data"
    },
    {
     "name": "stderr",
     "output_type": "stream",
     "text": [
      "Epoch: 34  : 100%|██████████| 105/105 [00:08<00:00, 11.77it/s, loss=0.799, num_correct=None]\n",
      "           : 100%|██████████| 15/15 [00:01<00:00, 12.56it/s, loss=0.935, num_correct=tensor(17, device='cuda:0')]\n"
     ]
    },
    {
     "name": "stderr",
     "output_type": "stream",
     "text": [
      "Epoch: 35  : 100%|██████████| 105/105 [00:08<00:00, 11.82it/s, loss=0.687, num_correct=None]\n",
      "           : 100%|██████████| 15/15 [00:01<00:00, 12.54it/s, loss=0.72, num_correct=tensor(21, device='cuda:0')] \n"
     ]
    },
    {
     "name": "stdout",
     "output_type": "stream",
     "text": [
      "           {'epoch': 35, 'train_loss': 0.7864969440868923, 'valid_loss': 0.7669408877690633, 'valid_accuracy': 0.6415094339622641}\n"
     ]
    },
    {
     "name": "stderr",
     "output_type": "stream",
     "text": [
      "Epoch: 36  : 100%|██████████| 105/105 [00:08<00:00, 12.06it/s, loss=0.803, num_correct=None]\n",
      "           : 100%|██████████| 15/15 [00:01<00:00, 12.97it/s, loss=0.738, num_correct=tensor(17, device='cuda:0')]\n"
     ]
    },
    {
     "name": "stdout",
     "output_type": "stream",
     "text": [
      "           {'epoch': 36, 'train_loss': 0.7861953797794524, 'valid_loss': 0.7666131496429444, 'valid_accuracy': 0.6352201257861635}\n"
     ]
    },
    {
     "name": "stderr",
     "output_type": "stream",
     "text": [
      "Epoch: 37  : 100%|██████████| 105/105 [00:08<00:00, 12.22it/s, loss=0.834, num_correct=None]\n",
      "           : 100%|██████████| 15/15 [00:01<00:00, 12.94it/s, loss=0.752, num_correct=tensor(19, device='cuda:0')]\n"
     ]
    },
    {
     "name": "stdout",
     "output_type": "stream",
     "text": [
      "           {'epoch': 37, 'train_loss': 0.7827054710615249, 'valid_loss': 0.7609674175580342, 'valid_accuracy': 0.6268343815513627}\n"
     ]
    },
    {
     "name": "stderr",
     "output_type": "stream",
     "text": [
      "Epoch: 38  : 100%|██████████| 105/105 [00:08<00:00, 12.30it/s, loss=0.866, num_correct=None]\n",
      "           : 100%|██████████| 15/15 [00:01<00:00, 12.94it/s, loss=0.86, num_correct=tensor(17, device='cuda:0')] \n"
     ]
    },
    {
     "name": "stdout",
     "output_type": "stream",
     "text": [
      "           {'epoch': 38, 'train_loss': 0.779749147664933, 'valid_loss': 0.7631169160207113, 'valid_accuracy': 0.6310272536687631}\n"
     ]
    },
    {
     "name": "stderr",
     "output_type": "stream",
     "text": [
      "Epoch: 39  : 100%|██████████| 105/105 [00:08<00:00, 12.41it/s, loss=0.499, num_correct=None]\n",
      "           : 100%|██████████| 15/15 [00:01<00:00, 12.87it/s, loss=0.733, num_correct=tensor(20, device='cuda:0')]\n"
     ]
    },
    {
     "name": "stdout",
     "output_type": "stream",
     "text": [
      "           {'epoch': 39, 'train_loss': 0.775005840403693, 'valid_loss': 0.7632330973943074, 'valid_accuracy': 0.639412997903564}\n"
     ]
    },
    {
     "name": "stderr",
     "output_type": "stream",
     "text": [
      "Epoch: 40  : 100%|██████████| 105/105 [00:08<00:00, 12.42it/s, loss=0.635, num_correct=None]\n",
      "           : 100%|██████████| 15/15 [00:01<00:00, 12.86it/s, loss=0.687, num_correct=tensor(21, device='cuda:0')]\n"
     ]
    },
    {
     "name": "stdout",
     "output_type": "stream",
     "text": [
      "           {'epoch': 40, 'train_loss': 0.7742392176673526, 'valid_loss': 0.7635225176811218, 'valid_accuracy': 0.6373165618448637}\n"
     ]
    },
    {
     "name": "stderr",
     "output_type": "stream",
     "text": [
      "Epoch: 41  : 100%|██████████| 105/105 [00:08<00:00, 12.41it/s, loss=0.591, num_correct=None]\n",
      "           : 100%|██████████| 15/15 [00:01<00:00, 12.89it/s, loss=0.653, num_correct=tensor(20, device='cuda:0')]\n"
     ]
    },
    {
     "name": "stdout",
     "output_type": "stream",
     "text": [
      "           {'epoch': 41, 'train_loss': 0.776169703120277, 'valid_loss': 0.7598635435104371, 'valid_accuracy': 0.6373165618448637}\n"
     ]
    },
    {
     "name": "stderr",
     "output_type": "stream",
     "text": [
      "Epoch: 42  : 100%|██████████| 105/105 [00:08<00:00, 11.98it/s, loss=0.335, num_correct=None]\n",
      "           : 100%|██████████| 15/15 [00:01<00:00, 12.81it/s, loss=0.709, num_correct=tensor(18, device='cuda:0')]\n"
     ]
    },
    {
     "name": "stdout",
     "output_type": "stream",
     "text": [
      "           {'epoch': 42, 'train_loss': 0.7669031324840727, 'valid_loss': 0.7601349870363872, 'valid_accuracy': 0.6373165618448637}\n",
      "Stopping early...\n",
      "\n",
      "Finetuning test...\n"
     ]
    },
    {
     "name": "stderr",
     "output_type": "stream",
     "text": [
      "           : 100%|██████████| 30/30 [00:02<00:00, 12.71it/s, loss=0.979, num_correct=tensor(13, device='cuda:0')]\n"
     ]
    },
    {
     "name": "stdout",
     "output_type": "stream",
     "text": [
      "              precision    recall  f1-score   support\n",
      "\n",
      "    negative       0.71      0.71      0.71       334\n",
      "     neutral       0.54      0.46      0.50       314\n",
      "    positive       0.70      0.80      0.75       305\n",
      "\n",
      "    accuracy                           0.66       953\n",
      "   macro avg       0.65      0.66      0.65       953\n",
      "weighted avg       0.65      0.66      0.65       953\n",
      "\n"
     ]
    },
    {
     "data": {
      "image/png": "[encoded data removed]",
      "text/plain": [
       "<Figure size 640x480 with 2 Axes>"
      ]
     },
     "metadata": {},
     "output_type": "display_data"
    }
   ],
   "source": [
    "global_dataset_train_loop(\"myanimelist\")"
   ]
  },
  {
   "cell_type": "markdown",
   "metadata": {},
   "source": [
    "## Steam\n",
    "\n",
    "Training BERT on Steam only."
   ]
  },
  {
   "cell_type": "code",
   "execution_count": null,
   "metadata": {},
   "outputs": [
    {
     "name": "stdout",
     "output_type": "stream",
     "text": [
      "Loaded training config:\n"
     ]
    },
    {
     "data": {
      "text/plain": [
       "{'tokenizer': BertTokenizerFast(name_or_path='bert-base-uncased', vocab_size=30522, model_max_length=512, is_fast=True, padding_side='right', truncation_side='right', special_tokens={'unk_token': '[UNK]', 'sep_token': '[SEP]', 'pad_token': '[PAD]', 'cls_token': '[CLS]', 'mask_token': '[MASK]'}, clean_up_tokenization_spaces=False, added_tokens_decoder={\n",
       "\t0: AddedToken(\"[PAD]\", rstrip=False, lstrip=False, single_word=False, normalized=False, special=True),\n",
       "\t100: AddedToken(\"[UNK]\", rstrip=False, lstrip=False, single_word=False, normalized=False, special=True),\n",
       "\t101: AddedToken(\"[CLS]\", rstrip=False, lstrip=False, single_word=False, normalized=False, special=True),\n",
       "\t102: AddedToken(\"[SEP]\", rstrip=False, lstrip=False, single_word=False, normalized=False, special=True),\n",
       "\t103: AddedToken(\"[MASK]\", rstrip=False, lstrip=False, single_word=False, normalized=False, special=True),\n",
       "}\n",
       "), 'pretrained_model_name': '', 'name': 'steam', 'class_names': ['negative', 'neutral', 'positive'], 'stop_delta': 0.05, 'stop_patience': 5, 'train_bert_in_finetune': False, 'max_token_length': 512, 'pretrained_model': None, 'pretrained_dataloaders': None, 'finetuned_classifier_model': None, 'finetuned_dataloaders': None, 'sample_mode': <SampleMode.NONE: 0>}"
      ]
     },
     "metadata": {},
     "output_type": "display_data"
    },
    {
     "name": "stdout",
     "output_type": "stream",
     "text": [
      "Loaded steam:\n"
     ]
    },
    {
     "data": {
      "text/html": [
       "<div>\n",
       "<style scoped>\n",
       "    .dataframe tbody tr th:only-of-type {\n",
       "        vertical-align: middle;\n",
       "    }\n",
       "\n",
       "    .dataframe tbody tr th {\n",
       "        vertical-align: top;\n",
       "    }\n",
       "\n",
       "    .dataframe thead th {\n",
       "        text-align: right;\n",
       "    }\n",
       "</style>\n",
       "<table border=\"1\" class=\"dataframe\">\n",
       "  <thead>\n",
       "    <tr style=\"text-align: right;\">\n",
       "      <th></th>\n",
       "      <th>site</th>\n",
       "      <th>user</th>\n",
       "      <th>review_target</th>\n",
       "      <th>review</th>\n",
       "      <th>score</th>\n",
       "      <th>max_score</th>\n",
       "    </tr>\n",
       "  </thead>\n",
       "  <tbody>\n",
       "    <tr>\n",
       "      <th>0</th>\n",
       "      <td>steam</td>\n",
       "      <td>Sc0ttst1rl1ng</td>\n",
       "      <td>Tom Clancy's Rainbow Six® Siege</td>\n",
       "      <td>This game is by far the best game I have ever ...</td>\n",
       "      <td>1</td>\n",
       "      <td>1</td>\n",
       "    </tr>\n",
       "    <tr>\n",
       "      <th>1</th>\n",
       "      <td>steam</td>\n",
       "      <td>KenoKereStyle</td>\n",
       "      <td>Factorio</td>\n",
       "      <td>Me 6-7 hours ago:\"Hmm, this game Factorio has ...</td>\n",
       "      <td>1</td>\n",
       "      <td>1</td>\n",
       "    </tr>\n",
       "    <tr>\n",
       "      <th>2</th>\n",
       "      <td>steam</td>\n",
       "      <td>Snakebreath</td>\n",
       "      <td>RuneScape: Dragonwilds</td>\n",
       "      <td>Shockingly well done and polished. I have been...</td>\n",
       "      <td>1</td>\n",
       "      <td>1</td>\n",
       "    </tr>\n",
       "    <tr>\n",
       "      <th>3</th>\n",
       "      <td>steam</td>\n",
       "      <td>Jodrick the Shafted</td>\n",
       "      <td>Factorio</td>\n",
       "      <td>DO NOT PLAY UNLESS:-you are a masochist-you ar...</td>\n",
       "      <td>1</td>\n",
       "      <td>1</td>\n",
       "    </tr>\n",
       "    <tr>\n",
       "      <th>4</th>\n",
       "      <td>steam</td>\n",
       "      <td>✟Valiant Puffin✟</td>\n",
       "      <td>Destiny 2</td>\n",
       "      <td>They fired Michael Salvatori who worked with M...</td>\n",
       "      <td>0</td>\n",
       "      <td>1</td>\n",
       "    </tr>\n",
       "    <tr>\n",
       "      <th>...</th>\n",
       "      <td>...</td>\n",
       "      <td>...</td>\n",
       "      <td>...</td>\n",
       "      <td>...</td>\n",
       "      <td>...</td>\n",
       "      <td>...</td>\n",
       "    </tr>\n",
       "    <tr>\n",
       "      <th>21360</th>\n",
       "      <td>steam</td>\n",
       "      <td>Nothing to a laptop</td>\n",
       "      <td>Apex Legends™</td>\n",
       "      <td>I'm sexually attracted to Pathfinder.</td>\n",
       "      <td>1</td>\n",
       "      <td>1</td>\n",
       "    </tr>\n",
       "    <tr>\n",
       "      <th>21361</th>\n",
       "      <td>steam</td>\n",
       "      <td>Gäry the Störmtrööper</td>\n",
       "      <td>Split Fiction</td>\n",
       "      <td>Split Fiction kept impressing me with every le...</td>\n",
       "      <td>1</td>\n",
       "      <td>1</td>\n",
       "    </tr>\n",
       "    <tr>\n",
       "      <th>21362</th>\n",
       "      <td>steam</td>\n",
       "      <td>Beansta</td>\n",
       "      <td>Grand Theft Auto V Enhanced</td>\n",
       "      <td>What can I say? it's GTA 5However it is not wi...</td>\n",
       "      <td>1</td>\n",
       "      <td>1</td>\n",
       "    </tr>\n",
       "    <tr>\n",
       "      <th>21363</th>\n",
       "      <td>steam</td>\n",
       "      <td>Meidusha (⚞ ᴥ ⚟)</td>\n",
       "      <td>Crusader Kings III</td>\n",
       "      <td>In the year 935, my sister and lover was murde...</td>\n",
       "      <td>1</td>\n",
       "      <td>1</td>\n",
       "    </tr>\n",
       "    <tr>\n",
       "      <th>21364</th>\n",
       "      <td>steam</td>\n",
       "      <td>Xris</td>\n",
       "      <td>Abiotic Factor</td>\n",
       "      <td>This is one of the best games I've played in t...</td>\n",
       "      <td>1</td>\n",
       "      <td>1</td>\n",
       "    </tr>\n",
       "  </tbody>\n",
       "</table>\n",
       "<p>21365 rows × 6 columns</p>\n",
       "</div>"
      ],
      "text/plain": [
       "        site                   user                    review_target  \\\n",
       "0      steam          Sc0ttst1rl1ng  Tom Clancy's Rainbow Six® Siege   \n",
       "1      steam          KenoKereStyle                         Factorio   \n",
       "2      steam            Snakebreath           RuneScape: Dragonwilds   \n",
       "3      steam    Jodrick the Shafted                         Factorio   \n",
       "4      steam       ✟Valiant Puffin✟                        Destiny 2   \n",
       "...      ...                    ...                              ...   \n",
       "21360  steam    Nothing to a laptop                    Apex Legends™   \n",
       "21361  steam  Gäry the Störmtrööper                    Split Fiction   \n",
       "21362  steam                Beansta      Grand Theft Auto V Enhanced   \n",
       "21363  steam       Meidusha (⚞ ᴥ ⚟)               Crusader Kings III   \n",
       "21364  steam                   Xris                   Abiotic Factor   \n",
       "\n",
       "                                                  review  score  max_score  \n",
       "0      This game is by far the best game I have ever ...      1          1  \n",
       "1      Me 6-7 hours ago:\"Hmm, this game Factorio has ...      1          1  \n",
       "2      Shockingly well done and polished. I have been...      1          1  \n",
       "3      DO NOT PLAY UNLESS:-you are a masochist-you ar...      1          1  \n",
       "4      They fired Michael Salvatori who worked with M...      0          1  \n",
       "...                                                  ...    ...        ...  \n",
       "21360              I'm sexually attracted to Pathfinder.      1          1  \n",
       "21361  Split Fiction kept impressing me with every le...      1          1  \n",
       "21362  What can I say? it's GTA 5However it is not wi...      1          1  \n",
       "21363  In the year 935, my sister and lover was murde...      1          1  \n",
       "21364  This is one of the best games I've played in t...      1          1  \n",
       "\n",
       "[21365 rows x 6 columns]"
      ]
     },
     "metadata": {},
     "output_type": "display_data"
    },
    {
     "data": {
      "image/png": "[encoded data removed]",
      "text/plain": [
       "<Figure size 640x480 with 1 Axes>"
      ]
     },
     "metadata": {},
     "output_type": "display_data"
    },
    {
     "data": {
      "image/png": "[encoded data removed]",
      "text/plain": [
       "<Figure size 640x480 with 1 Axes>"
      ]
     },
     "metadata": {},
     "output_type": "display_data"
    },
    {
     "name": "stdout",
     "output_type": "stream",
     "text": [
      "Original dataset size: 21365\n",
      "Sampled dataset size: 21365\n"
     ]
    },
    {
     "data": {
      "text/html": [
       "<div>\n",
       "<style scoped>\n",
       "    .dataframe tbody tr th:only-of-type {\n",
       "        vertical-align: middle;\n",
       "    }\n",
       "\n",
       "    .dataframe tbody tr th {\n",
       "        vertical-align: top;\n",
       "    }\n",
       "\n",
       "    .dataframe thead th {\n",
       "        text-align: right;\n",
       "    }\n",
       "</style>\n",
       "<table border=\"1\" class=\"dataframe\">\n",
       "  <thead>\n",
       "    <tr style=\"text-align: right;\">\n",
       "      <th></th>\n",
       "      <th>site</th>\n",
       "      <th>user</th>\n",
       "      <th>review_target</th>\n",
       "      <th>review</th>\n",
       "      <th>score</th>\n",
       "      <th>max_score</th>\n",
       "      <th>norm_score</th>\n",
       "      <th>sentiment_score</th>\n",
       "    </tr>\n",
       "  </thead>\n",
       "  <tbody>\n",
       "    <tr>\n",
       "      <th>0</th>\n",
       "      <td>steam</td>\n",
       "      <td>Sc0ttst1rl1ng</td>\n",
       "      <td>Tom Clancy's Rainbow Six® Siege</td>\n",
       "      <td>This game is by far the best game I have ever ...</td>\n",
       "      <td>1</td>\n",
       "      <td>1</td>\n",
       "      <td>1.0</td>\n",
       "      <td>2</td>\n",
       "    </tr>\n",
       "    <tr>\n",
       "      <th>1</th>\n",
       "      <td>steam</td>\n",
       "      <td>KenoKereStyle</td>\n",
       "      <td>Factorio</td>\n",
       "      <td>Me 6-7 hours ago:\"Hmm, this game Factorio has ...</td>\n",
       "      <td>1</td>\n",
       "      <td>1</td>\n",
       "      <td>1.0</td>\n",
       "      <td>2</td>\n",
       "    </tr>\n",
       "    <tr>\n",
       "      <th>2</th>\n",
       "      <td>steam</td>\n",
       "      <td>Snakebreath</td>\n",
       "      <td>RuneScape: Dragonwilds</td>\n",
       "      <td>Shockingly well done and polished. I have been...</td>\n",
       "      <td>1</td>\n",
       "      <td>1</td>\n",
       "      <td>1.0</td>\n",
       "      <td>2</td>\n",
       "    </tr>\n",
       "    <tr>\n",
       "      <th>3</th>\n",
       "      <td>steam</td>\n",
       "      <td>Jodrick the Shafted</td>\n",
       "      <td>Factorio</td>\n",
       "      <td>DO NOT PLAY UNLESS:-you are a masochist-you ar...</td>\n",
       "      <td>1</td>\n",
       "      <td>1</td>\n",
       "      <td>1.0</td>\n",
       "      <td>2</td>\n",
       "    </tr>\n",
       "    <tr>\n",
       "      <th>4</th>\n",
       "      <td>steam</td>\n",
       "      <td>✟Valiant Puffin✟</td>\n",
       "      <td>Destiny 2</td>\n",
       "      <td>They fired Michael Salvatori who worked with M...</td>\n",
       "      <td>0</td>\n",
       "      <td>1</td>\n",
       "      <td>0.0</td>\n",
       "      <td>0</td>\n",
       "    </tr>\n",
       "    <tr>\n",
       "      <th>...</th>\n",
       "      <td>...</td>\n",
       "      <td>...</td>\n",
       "      <td>...</td>\n",
       "      <td>...</td>\n",
       "      <td>...</td>\n",
       "      <td>...</td>\n",
       "      <td>...</td>\n",
       "      <td>...</td>\n",
       "    </tr>\n",
       "    <tr>\n",
       "      <th>21360</th>\n",
       "      <td>steam</td>\n",
       "      <td>Nothing to a laptop</td>\n",
       "      <td>Apex Legends™</td>\n",
       "      <td>I'm sexually attracted to Pathfinder.</td>\n",
       "      <td>1</td>\n",
       "      <td>1</td>\n",
       "      <td>1.0</td>\n",
       "      <td>2</td>\n",
       "    </tr>\n",
       "    <tr>\n",
       "      <th>21361</th>\n",
       "      <td>steam</td>\n",
       "      <td>Gäry the Störmtrööper</td>\n",
       "      <td>Split Fiction</td>\n",
       "      <td>Split Fiction kept impressing me with every le...</td>\n",
       "      <td>1</td>\n",
       "      <td>1</td>\n",
       "      <td>1.0</td>\n",
       "      <td>2</td>\n",
       "    </tr>\n",
       "    <tr>\n",
       "      <th>21362</th>\n",
       "      <td>steam</td>\n",
       "      <td>Beansta</td>\n",
       "      <td>Grand Theft Auto V Enhanced</td>\n",
       "      <td>What can I say? it's GTA 5However it is not wi...</td>\n",
       "      <td>1</td>\n",
       "      <td>1</td>\n",
       "      <td>1.0</td>\n",
       "      <td>2</td>\n",
       "    </tr>\n",
       "    <tr>\n",
       "      <th>21363</th>\n",
       "      <td>steam</td>\n",
       "      <td>Meidusha (⚞ ᴥ ⚟)</td>\n",
       "      <td>Crusader Kings III</td>\n",
       "      <td>In the year 935, my sister and lover was murde...</td>\n",
       "      <td>1</td>\n",
       "      <td>1</td>\n",
       "      <td>1.0</td>\n",
       "      <td>2</td>\n",
       "    </tr>\n",
       "    <tr>\n",
       "      <th>21364</th>\n",
       "      <td>steam</td>\n",
       "      <td>Xris</td>\n",
       "      <td>Abiotic Factor</td>\n",
       "      <td>This is one of the best games I've played in t...</td>\n",
       "      <td>1</td>\n",
       "      <td>1</td>\n",
       "      <td>1.0</td>\n",
       "      <td>2</td>\n",
       "    </tr>\n",
       "  </tbody>\n",
       "</table>\n",
       "<p>21365 rows × 8 columns</p>\n",
       "</div>"
      ],
      "text/plain": [
       "        site                   user                    review_target  \\\n",
       "0      steam          Sc0ttst1rl1ng  Tom Clancy's Rainbow Six® Siege   \n",
       "1      steam          KenoKereStyle                         Factorio   \n",
       "2      steam            Snakebreath           RuneScape: Dragonwilds   \n",
       "3      steam    Jodrick the Shafted                         Factorio   \n",
       "4      steam       ✟Valiant Puffin✟                        Destiny 2   \n",
       "...      ...                    ...                              ...   \n",
       "21360  steam    Nothing to a laptop                    Apex Legends™   \n",
       "21361  steam  Gäry the Störmtrööper                    Split Fiction   \n",
       "21362  steam                Beansta      Grand Theft Auto V Enhanced   \n",
       "21363  steam       Meidusha (⚞ ᴥ ⚟)               Crusader Kings III   \n",
       "21364  steam                   Xris                   Abiotic Factor   \n",
       "\n",
       "                                                  review  score  max_score  \\\n",
       "0      This game is by far the best game I have ever ...      1          1   \n",
       "1      Me 6-7 hours ago:\"Hmm, this game Factorio has ...      1          1   \n",
       "2      Shockingly well done and polished. I have been...      1          1   \n",
       "3      DO NOT PLAY UNLESS:-you are a masochist-you ar...      1          1   \n",
       "4      They fired Michael Salvatori who worked with M...      0          1   \n",
       "...                                                  ...    ...        ...   \n",
       "21360              I'm sexually attracted to Pathfinder.      1          1   \n",
       "21361  Split Fiction kept impressing me with every le...      1          1   \n",
       "21362  What can I say? it's GTA 5However it is not wi...      1          1   \n",
       "21363  In the year 935, my sister and lover was murde...      1          1   \n",
       "21364  This is one of the best games I've played in t...      1          1   \n",
       "\n",
       "       norm_score  sentiment_score  \n",
       "0             1.0                2  \n",
       "1             1.0                2  \n",
       "2             1.0                2  \n",
       "3             1.0                2  \n",
       "4             0.0                0  \n",
       "...           ...              ...  \n",
       "21360         1.0                2  \n",
       "21361         1.0                2  \n",
       "21362         1.0                2  \n",
       "21363         1.0                2  \n",
       "21364         1.0                2  \n",
       "\n",
       "[21365 rows x 8 columns]"
      ]
     },
     "metadata": {},
     "output_type": "display_data"
    },
    {
     "name": "stdout",
     "output_type": "stream",
     "text": [
      "Loading masked dataset:\n",
      "    Loading existing dataset file @ steam_masked_data.dt...\n",
      "Loading reviews dataset:\n",
      "    Loading existing dataset file @ steam_reviews_data.dt...\n",
      "Masked pretraining:\n",
      "    train_dataloader: (468 batches)\n",
      "    test_dataloader: (134 batches)\n",
      "    valid_dataloader: (67 batches)\n",
      "Reviews training:\n",
      "    train_dataloader: (256 batches)\n",
      "    test_dataloader: (74 batches)\n",
      "    valid_dataloader: (37 batches)\n",
      "\n",
      "Resuming existing model at epoch: 35, data: {'epoch': 34, 'train_loss': 0.4032567215617746, 'valid_loss': 0.38916175913166356, 'valid_accuracy': 0.8306244653550042}\n",
      "Training start for 'steam' finetuning...\n"
     ]
    },
    {
     "data": {
      "image/png": "[encoded data removed]",
      "text/plain": [
       "<Figure size 640x480 with 1 Axes>"
      ]
     },
     "metadata": {},
     "output_type": "display_data"
    },
    {
     "name": "stderr",
     "output_type": "stream",
     "text": [
      "Epoch: 35  : 100%|██████████| 256/256 [00:20<00:00, 12.35it/s, loss=0.252, num_correct=None]\n",
      "           : 100%|██████████| 37/37 [00:02<00:00, 12.94it/s, loss=0.264, num_correct=tensor(16, device='cuda:0')]\n"
     ]
    },
    {
     "name": "stderr",
     "output_type": "stream",
     "text": [
      "           : 100%|██████████| 74/74 [00:05<00:00, 12.74it/s, loss=0.0523, num_correct=tensor(2, device='cuda:0')]\n"
     ]
    },
    {
     "name": "stdout",
     "output_type": "stream",
     "text": [
      "              precision    recall  f1-score   support\n",
      "\n",
      "    negative       0.82      0.83      0.82      1170\n",
      "    positive       0.83      0.81      0.82      1168\n",
      "\n",
      "    accuracy                           0.82      2338\n",
      "   macro avg       0.82      0.82      0.82      2338\n",
      "weighted avg       0.82      0.82      0.82      2338\n",
      "\n"
     ]
    },
    {
     "data": {
      "image/png": "[encoded data removed]",
      "text/plain": [
       "<Figure size 640x480 with 2 Axes>"
      ]
     },
     "metadata": {},
     "output_type": "display_data"
    }
   ],
   "source": [
    "global_dataset_train_loop(\"steam\")"
   ]
  },
  {
   "cell_type": "markdown",
   "metadata": {},
   "source": [
    "## Metacritic\n",
    "\n",
    "Training BERT on Metacritic only."
   ]
  },
  {
   "cell_type": "code",
   "execution_count": null,
   "metadata": {},
   "outputs": [
    {
     "name": "stdout",
     "output_type": "stream",
     "text": [
      "Loaded training config:\n"
     ]
    },
    {
     "data": {
      "text/plain": [
       "{'tokenizer': BertTokenizerFast(name_or_path='bert-base-uncased', vocab_size=30522, model_max_length=512, is_fast=True, padding_side='right', truncation_side='right', special_tokens={'unk_token': '[UNK]', 'sep_token': '[SEP]', 'pad_token': '[PAD]', 'cls_token': '[CLS]', 'mask_token': '[MASK]'}, clean_up_tokenization_spaces=False, added_tokens_decoder={\n",
       "\t0: AddedToken(\"[PAD]\", rstrip=False, lstrip=False, single_word=False, normalized=False, special=True),\n",
       "\t100: AddedToken(\"[UNK]\", rstrip=False, lstrip=False, single_word=False, normalized=False, special=True),\n",
       "\t101: AddedToken(\"[CLS]\", rstrip=False, lstrip=False, single_word=False, normalized=False, special=True),\n",
       "\t102: AddedToken(\"[SEP]\", rstrip=False, lstrip=False, single_word=False, normalized=False, special=True),\n",
       "\t103: AddedToken(\"[MASK]\", rstrip=False, lstrip=False, single_word=False, normalized=False, special=True),\n",
       "}\n",
       "), 'pretrained_model_name': '', 'name': 'metacritic', 'class_names': ['negative', 'neutral', 'positive'], 'stop_delta': 0.05, 'stop_patience': 5, 'train_bert_in_finetune': False, 'max_token_length': 512, 'pretrained_model': None, 'pretrained_dataloaders': None, 'finetuned_classifier_model': None, 'finetuned_dataloaders': None, 'sample_mode': <SampleMode.NONE: 0>}"
      ]
     },
     "metadata": {},
     "output_type": "display_data"
    },
    {
     "name": "stdout",
     "output_type": "stream",
     "text": [
      "Loaded metacritic:\n"
     ]
    },
    {
     "data": {
      "text/html": [
       "<div>\n",
       "<style scoped>\n",
       "    .dataframe tbody tr th:only-of-type {\n",
       "        vertical-align: middle;\n",
       "    }\n",
       "\n",
       "    .dataframe tbody tr th {\n",
       "        vertical-align: top;\n",
       "    }\n",
       "\n",
       "    .dataframe thead th {\n",
       "        text-align: right;\n",
       "    }\n",
       "</style>\n",
       "<table border=\"1\" class=\"dataframe\">\n",
       "  <thead>\n",
       "    <tr style=\"text-align: right;\">\n",
       "      <th></th>\n",
       "      <th>site</th>\n",
       "      <th>user</th>\n",
       "      <th>review_target</th>\n",
       "      <th>review</th>\n",
       "      <th>score</th>\n",
       "      <th>max_score</th>\n",
       "    </tr>\n",
       "  </thead>\n",
       "  <tbody>\n",
       "    <tr>\n",
       "      <th>0</th>\n",
       "      <td>metacritic</td>\n",
       "      <td>nomoreorless</td>\n",
       "      <td>spelunky-2</td>\n",
       "      <td>I'm an not a hardcore gamer, that's true but i...</td>\n",
       "      <td>6</td>\n",
       "      <td>10</td>\n",
       "    </tr>\n",
       "    <tr>\n",
       "      <th>1</th>\n",
       "      <td>metacritic</td>\n",
       "      <td>Agrisis</td>\n",
       "      <td>pokemon-legends-arceus</td>\n",
       "      <td>Best pokemon franchise entry on switch and one...</td>\n",
       "      <td>9</td>\n",
       "      <td>10</td>\n",
       "    </tr>\n",
       "    <tr>\n",
       "      <th>2</th>\n",
       "      <td>metacritic</td>\n",
       "      <td>96bellamy</td>\n",
       "      <td>a-short-hike</td>\n",
       "      <td>Estamos ante un juego cortito y poco pretencio...</td>\n",
       "      <td>10</td>\n",
       "      <td>10</td>\n",
       "    </tr>\n",
       "    <tr>\n",
       "      <th>3</th>\n",
       "      <td>metacritic</td>\n",
       "      <td>Issam39</td>\n",
       "      <td>undertale</td>\n",
       "      <td>Undertale has it's own playstale. And You can ...</td>\n",
       "      <td>9</td>\n",
       "      <td>10</td>\n",
       "    </tr>\n",
       "    <tr>\n",
       "      <th>4</th>\n",
       "      <td>metacritic</td>\n",
       "      <td>Dapix</td>\n",
       "      <td>outer-wilds</td>\n",
       "      <td>\"It's the kind of thing that makes you glad yo...</td>\n",
       "      <td>10</td>\n",
       "      <td>10</td>\n",
       "    </tr>\n",
       "    <tr>\n",
       "      <th>...</th>\n",
       "      <td>...</td>\n",
       "      <td>...</td>\n",
       "      <td>...</td>\n",
       "      <td>...</td>\n",
       "      <td>...</td>\n",
       "      <td>...</td>\n",
       "    </tr>\n",
       "    <tr>\n",
       "      <th>8576</th>\n",
       "      <td>metacritic</td>\n",
       "      <td>SillyFiepsi_</td>\n",
       "      <td>oneshot</td>\n",
       "      <td>[SPOILER ALERT: This review contains spoilers.]</td>\n",
       "      <td>10</td>\n",
       "      <td>10</td>\n",
       "    </tr>\n",
       "    <tr>\n",
       "      <th>8577</th>\n",
       "      <td>metacritic</td>\n",
       "      <td>Agliareth</td>\n",
       "      <td>genshin-impact</td>\n",
       "      <td>Es mas caro que invitar a Naruto, Lufy y Goku ...</td>\n",
       "      <td>1</td>\n",
       "      <td>10</td>\n",
       "    </tr>\n",
       "    <tr>\n",
       "      <th>8578</th>\n",
       "      <td>metacritic</td>\n",
       "      <td>destinyfan1</td>\n",
       "      <td>rocket-league</td>\n",
       "      <td>For anyone reading this, the game is very flaw...</td>\n",
       "      <td>5</td>\n",
       "      <td>10</td>\n",
       "    </tr>\n",
       "    <tr>\n",
       "      <th>8579</th>\n",
       "      <td>metacritic</td>\n",
       "      <td>SKK-Sceptic</td>\n",
       "      <td>tom-clancys-rainbow-six-siege</td>\n",
       "      <td>It is an amazing game do not get me wrong but ...</td>\n",
       "      <td>8</td>\n",
       "      <td>10</td>\n",
       "    </tr>\n",
       "    <tr>\n",
       "      <th>8580</th>\n",
       "      <td>metacritic</td>\n",
       "      <td>G_Switch</td>\n",
       "      <td>nintendo-switch-sports</td>\n",
       "      <td>This game is amazing and fun to play with fami...</td>\n",
       "      <td>10</td>\n",
       "      <td>10</td>\n",
       "    </tr>\n",
       "  </tbody>\n",
       "</table>\n",
       "<p>8581 rows × 6 columns</p>\n",
       "</div>"
      ],
      "text/plain": [
       "            site          user                  review_target  \\\n",
       "0     metacritic  nomoreorless                     spelunky-2   \n",
       "1     metacritic       Agrisis         pokemon-legends-arceus   \n",
       "2     metacritic     96bellamy                   a-short-hike   \n",
       "3     metacritic       Issam39                      undertale   \n",
       "4     metacritic         Dapix                    outer-wilds   \n",
       "...          ...           ...                            ...   \n",
       "8576  metacritic  SillyFiepsi_                        oneshot   \n",
       "8577  metacritic     Agliareth                 genshin-impact   \n",
       "8578  metacritic   destinyfan1                  rocket-league   \n",
       "8579  metacritic   SKK-Sceptic  tom-clancys-rainbow-six-siege   \n",
       "8580  metacritic      G_Switch         nintendo-switch-sports   \n",
       "\n",
       "                                                 review  score  max_score  \n",
       "0     I'm an not a hardcore gamer, that's true but i...      6         10  \n",
       "1     Best pokemon franchise entry on switch and one...      9         10  \n",
       "2     Estamos ante un juego cortito y poco pretencio...     10         10  \n",
       "3     Undertale has it's own playstale. And You can ...      9         10  \n",
       "4     \"It's the kind of thing that makes you glad yo...     10         10  \n",
       "...                                                 ...    ...        ...  \n",
       "8576    [SPOILER ALERT: This review contains spoilers.]     10         10  \n",
       "8577  Es mas caro que invitar a Naruto, Lufy y Goku ...      1         10  \n",
       "8578  For anyone reading this, the game is very flaw...      5         10  \n",
       "8579  It is an amazing game do not get me wrong but ...      8         10  \n",
       "8580  This game is amazing and fun to play with fami...     10         10  \n",
       "\n",
       "[8581 rows x 6 columns]"
      ]
     },
     "metadata": {},
     "output_type": "display_data"
    },
    {
     "data": {
      "image/png": "[encoded data removed]",
      "text/plain": [
       "<Figure size 640x480 with 1 Axes>"
      ]
     },
     "metadata": {},
     "output_type": "display_data"
    },
    {
     "data": {
      "image/png": "[encoded data removed]",
      "text/plain": [
       "<Figure size 640x480 with 1 Axes>"
      ]
     },
     "metadata": {},
     "output_type": "display_data"
    },
    {
     "name": "stdout",
     "output_type": "stream",
     "text": [
      "Original dataset size: 8581\n",
      "Sampled dataset size: 8581\n"
     ]
    },
    {
     "data": {
      "text/html": [
       "<div>\n",
       "<style scoped>\n",
       "    .dataframe tbody tr th:only-of-type {\n",
       "        vertical-align: middle;\n",
       "    }\n",
       "\n",
       "    .dataframe tbody tr th {\n",
       "        vertical-align: top;\n",
       "    }\n",
       "\n",
       "    .dataframe thead th {\n",
       "        text-align: right;\n",
       "    }\n",
       "</style>\n",
       "<table border=\"1\" class=\"dataframe\">\n",
       "  <thead>\n",
       "    <tr style=\"text-align: right;\">\n",
       "      <th></th>\n",
       "      <th>site</th>\n",
       "      <th>user</th>\n",
       "      <th>review_target</th>\n",
       "      <th>review</th>\n",
       "      <th>score</th>\n",
       "      <th>max_score</th>\n",
       "      <th>norm_score</th>\n",
       "      <th>sentiment_score</th>\n",
       "    </tr>\n",
       "  </thead>\n",
       "  <tbody>\n",
       "    <tr>\n",
       "      <th>0</th>\n",
       "      <td>metacritic</td>\n",
       "      <td>nomoreorless</td>\n",
       "      <td>spelunky-2</td>\n",
       "      <td>I'm an not a hardcore gamer, that's true but i...</td>\n",
       "      <td>6</td>\n",
       "      <td>10</td>\n",
       "      <td>0.6</td>\n",
       "      <td>1</td>\n",
       "    </tr>\n",
       "    <tr>\n",
       "      <th>1</th>\n",
       "      <td>metacritic</td>\n",
       "      <td>Agrisis</td>\n",
       "      <td>pokemon-legends-arceus</td>\n",
       "      <td>Best pokemon franchise entry on switch and one...</td>\n",
       "      <td>9</td>\n",
       "      <td>10</td>\n",
       "      <td>0.9</td>\n",
       "      <td>2</td>\n",
       "    </tr>\n",
       "    <tr>\n",
       "      <th>2</th>\n",
       "      <td>metacritic</td>\n",
       "      <td>96bellamy</td>\n",
       "      <td>a-short-hike</td>\n",
       "      <td>Estamos ante un juego cortito y poco pretencio...</td>\n",
       "      <td>10</td>\n",
       "      <td>10</td>\n",
       "      <td>1.0</td>\n",
       "      <td>2</td>\n",
       "    </tr>\n",
       "    <tr>\n",
       "      <th>3</th>\n",
       "      <td>metacritic</td>\n",
       "      <td>Issam39</td>\n",
       "      <td>undertale</td>\n",
       "      <td>Undertale has it's own playstale. And You can ...</td>\n",
       "      <td>9</td>\n",
       "      <td>10</td>\n",
       "      <td>0.9</td>\n",
       "      <td>2</td>\n",
       "    </tr>\n",
       "    <tr>\n",
       "      <th>4</th>\n",
       "      <td>metacritic</td>\n",
       "      <td>Dapix</td>\n",
       "      <td>outer-wilds</td>\n",
       "      <td>\"It's the kind of thing that makes you glad yo...</td>\n",
       "      <td>10</td>\n",
       "      <td>10</td>\n",
       "      <td>1.0</td>\n",
       "      <td>2</td>\n",
       "    </tr>\n",
       "    <tr>\n",
       "      <th>...</th>\n",
       "      <td>...</td>\n",
       "      <td>...</td>\n",
       "      <td>...</td>\n",
       "      <td>...</td>\n",
       "      <td>...</td>\n",
       "      <td>...</td>\n",
       "      <td>...</td>\n",
       "      <td>...</td>\n",
       "    </tr>\n",
       "    <tr>\n",
       "      <th>8576</th>\n",
       "      <td>metacritic</td>\n",
       "      <td>SillyFiepsi_</td>\n",
       "      <td>oneshot</td>\n",
       "      <td>[SPOILER ALERT: This review contains spoilers.]</td>\n",
       "      <td>10</td>\n",
       "      <td>10</td>\n",
       "      <td>1.0</td>\n",
       "      <td>2</td>\n",
       "    </tr>\n",
       "    <tr>\n",
       "      <th>8577</th>\n",
       "      <td>metacritic</td>\n",
       "      <td>Agliareth</td>\n",
       "      <td>genshin-impact</td>\n",
       "      <td>Es mas caro que invitar a Naruto, Lufy y Goku ...</td>\n",
       "      <td>1</td>\n",
       "      <td>10</td>\n",
       "      <td>0.1</td>\n",
       "      <td>0</td>\n",
       "    </tr>\n",
       "    <tr>\n",
       "      <th>8578</th>\n",
       "      <td>metacritic</td>\n",
       "      <td>destinyfan1</td>\n",
       "      <td>rocket-league</td>\n",
       "      <td>For anyone reading this, the game is very flaw...</td>\n",
       "      <td>5</td>\n",
       "      <td>10</td>\n",
       "      <td>0.5</td>\n",
       "      <td>1</td>\n",
       "    </tr>\n",
       "    <tr>\n",
       "      <th>8579</th>\n",
       "      <td>metacritic</td>\n",
       "      <td>SKK-Sceptic</td>\n",
       "      <td>tom-clancys-rainbow-six-siege</td>\n",
       "      <td>It is an amazing game do not get me wrong but ...</td>\n",
       "      <td>8</td>\n",
       "      <td>10</td>\n",
       "      <td>0.8</td>\n",
       "      <td>2</td>\n",
       "    </tr>\n",
       "    <tr>\n",
       "      <th>8580</th>\n",
       "      <td>metacritic</td>\n",
       "      <td>G_Switch</td>\n",
       "      <td>nintendo-switch-sports</td>\n",
       "      <td>This game is amazing and fun to play with fami...</td>\n",
       "      <td>10</td>\n",
       "      <td>10</td>\n",
       "      <td>1.0</td>\n",
       "      <td>2</td>\n",
       "    </tr>\n",
       "  </tbody>\n",
       "</table>\n",
       "<p>8581 rows × 8 columns</p>\n",
       "</div>"
      ],
      "text/plain": [
       "            site          user                  review_target  \\\n",
       "0     metacritic  nomoreorless                     spelunky-2   \n",
       "1     metacritic       Agrisis         pokemon-legends-arceus   \n",
       "2     metacritic     96bellamy                   a-short-hike   \n",
       "3     metacritic       Issam39                      undertale   \n",
       "4     metacritic         Dapix                    outer-wilds   \n",
       "...          ...           ...                            ...   \n",
       "8576  metacritic  SillyFiepsi_                        oneshot   \n",
       "8577  metacritic     Agliareth                 genshin-impact   \n",
       "8578  metacritic   destinyfan1                  rocket-league   \n",
       "8579  metacritic   SKK-Sceptic  tom-clancys-rainbow-six-siege   \n",
       "8580  metacritic      G_Switch         nintendo-switch-sports   \n",
       "\n",
       "                                                 review  score  max_score  \\\n",
       "0     I'm an not a hardcore gamer, that's true but i...      6         10   \n",
       "1     Best pokemon franchise entry on switch and one...      9         10   \n",
       "2     Estamos ante un juego cortito y poco pretencio...     10         10   \n",
       "3     Undertale has it's own playstale. And You can ...      9         10   \n",
       "4     \"It's the kind of thing that makes you glad yo...     10         10   \n",
       "...                                                 ...    ...        ...   \n",
       "8576    [SPOILER ALERT: This review contains spoilers.]     10         10   \n",
       "8577  Es mas caro que invitar a Naruto, Lufy y Goku ...      1         10   \n",
       "8578  For anyone reading this, the game is very flaw...      5         10   \n",
       "8579  It is an amazing game do not get me wrong but ...      8         10   \n",
       "8580  This game is amazing and fun to play with fami...     10         10   \n",
       "\n",
       "      norm_score  sentiment_score  \n",
       "0            0.6                1  \n",
       "1            0.9                2  \n",
       "2            1.0                2  \n",
       "3            0.9                2  \n",
       "4            1.0                2  \n",
       "...          ...              ...  \n",
       "8576         1.0                2  \n",
       "8577         0.1                0  \n",
       "8578         0.5                1  \n",
       "8579         0.8                2  \n",
       "8580         1.0                2  \n",
       "\n",
       "[8581 rows x 8 columns]"
      ]
     },
     "metadata": {},
     "output_type": "display_data"
    },
    {
     "name": "stdout",
     "output_type": "stream",
     "text": [
      "Loading masked dataset:\n",
      "    Loading existing dataset file @ metacritic_masked_data.dt...\n",
      "Loading reviews dataset:\n",
      "    Loading existing dataset file @ metacritic_reviews_data.dt...\n",
      "Masked pretraining:\n",
      "    train_dataloader: (188 batches)\n",
      "    test_dataloader: (54 batches)\n",
      "    valid_dataloader: (27 batches)\n",
      "Reviews training:\n",
      "    train_dataloader: (60 batches)\n",
      "    test_dataloader: (17 batches)\n",
      "    valid_dataloader: (9 batches)\n",
      "Training start for 'metacritic' finetuning...\n"
     ]
    },
    {
     "data": {
      "image/png": "[encoded data removed]",
      "text/plain": [
       "<Figure size 640x480 with 1 Axes>"
      ]
     },
     "metadata": {},
     "output_type": "display_data"
    },
    {
     "name": "stderr",
     "output_type": "stream",
     "text": [
      "Epoch: 0   : 100%|██████████| 60/60 [00:05<00:00, 11.97it/s, loss=1.06, num_correct=None]\n",
      "           : 100%|██████████| 9/9 [00:00<00:00, 13.33it/s, loss=1.08, num_correct=tensor(7, device='cuda:0')] \n"
     ]
    },
    {
     "name": "stderr",
     "output_type": "stream",
     "text": [
      "Epoch: 1   : 100%|██████████| 60/60 [00:04<00:00, 12.33it/s, loss=1.05, num_correct=None]\n",
      "           : 100%|██████████| 9/9 [00:00<00:00, 13.33it/s, loss=1.06, num_correct=tensor(11, device='cuda:0')]\n"
     ]
    },
    {
     "name": "stdout",
     "output_type": "stream",
     "text": [
      "           {'epoch': 1, 'train_loss': 1.0757644494374594, 'valid_loss': 1.063381208313836, 'valid_accuracy': 0.5571955719557196}\n"
     ]
    },
    {
     "name": "stderr",
     "output_type": "stream",
     "text": [
      "Epoch: 2   : 100%|██████████| 60/60 [00:05<00:00, 11.96it/s, loss=1.15, num_correct=None]\n",
      "           : 100%|██████████| 9/9 [00:00<00:00, 13.20it/s, loss=1.05, num_correct=tensor(9, device='cuda:0')] \n"
     ]
    },
    {
     "name": "stdout",
     "output_type": "stream",
     "text": [
      "           {'epoch': 2, 'train_loss': 1.0625551442305248, 'valid_loss': 1.049122412999471, 'valid_accuracy': 0.5313653136531366}\n"
     ]
    },
    {
     "name": "stderr",
     "output_type": "stream",
     "text": [
      "Epoch: 3   : 100%|██████████| 60/60 [00:05<00:00, 11.70it/s, loss=0.971, num_correct=None]\n",
      "           : 100%|██████████| 9/9 [00:00<00:00, 13.03it/s, loss=0.96, num_correct=tensor(13, device='cuda:0')]\n"
     ]
    },
    {
     "name": "stdout",
     "output_type": "stream",
     "text": [
      "           {'epoch': 3, 'train_loss': 1.0436226675907772, 'valid_loss': 1.0277256435818143, 'valid_accuracy': 0.5719557195571956}\n"
     ]
    },
    {
     "name": "stderr",
     "output_type": "stream",
     "text": [
      "Epoch: 4   : 100%|██████████| 60/60 [00:04<00:00, 12.01it/s, loss=0.962, num_correct=None]\n",
      "           : 100%|██████████| 9/9 [00:00<00:00, 13.72it/s, loss=1.04, num_correct=tensor(8, device='cuda:0')]  \n"
     ]
    },
    {
     "name": "stdout",
     "output_type": "stream",
     "text": [
      "           {'epoch': 4, 'train_loss': 1.0274297336737315, 'valid_loss': 1.0153575075997248, 'valid_accuracy': 0.5793357933579336}\n"
     ]
    },
    {
     "name": "stderr",
     "output_type": "stream",
     "text": [
      "Epoch: 5   : 100%|██████████| 60/60 [00:05<00:00, 11.90it/s, loss=0.929, num_correct=None]\n",
      "           : 100%|██████████| 9/9 [00:00<00:00, 13.18it/s, loss=1.07, num_correct=tensor(5, device='cuda:0')]  \n"
     ]
    },
    {
     "name": "stdout",
     "output_type": "stream",
     "text": [
      "           {'epoch': 5, 'train_loss': 1.0088402499755225, 'valid_loss': 1.0044470893012152, 'valid_accuracy': 0.5645756457564576}\n"
     ]
    },
    {
     "name": "stderr",
     "output_type": "stream",
     "text": [
      "Epoch: 6   : 100%|██████████| 60/60 [00:04<00:00, 12.25it/s, loss=0.937, num_correct=None]\n",
      "           : 100%|██████████| 9/9 [00:00<00:00, 13.46it/s, loss=0.936, num_correct=tensor(12, device='cuda:0')]\n"
     ]
    },
    {
     "name": "stdout",
     "output_type": "stream",
     "text": [
      "           {'epoch': 6, 'train_loss': 0.9965678483247757, 'valid_loss': 0.980057073964013, 'valid_accuracy': 0.5793357933579336}\n"
     ]
    },
    {
     "name": "stderr",
     "output_type": "stream",
     "text": [
      "Epoch: 7   : 100%|██████████| 60/60 [00:05<00:00, 11.90it/s, loss=0.805, num_correct=None]\n",
      "           : 100%|██████████| 9/9 [00:00<00:00, 13.14it/s, loss=1.08, num_correct=tensor(7, device='cuda:0')]  \n"
     ]
    },
    {
     "name": "stdout",
     "output_type": "stream",
     "text": [
      "           {'epoch': 7, 'train_loss': 0.9788585056861242, 'valid_loss': 0.9788933727476332, 'valid_accuracy': 0.5608856088560885}\n"
     ]
    },
    {
     "name": "stderr",
     "output_type": "stream",
     "text": [
      "Epoch: 8   : 100%|██████████| 60/60 [00:04<00:00, 12.36it/s, loss=1.27, num_correct=None] \n",
      "           : 100%|██████████| 9/9 [00:00<00:00, 13.43it/s, loss=0.888, num_correct=tensor(10, device='cuda:0')]\n"
     ]
    },
    {
     "name": "stdout",
     "output_type": "stream",
     "text": [
      "           {'epoch': 8, 'train_loss': 0.9700205604235331, 'valid_loss': 0.950390530957116, 'valid_accuracy': 0.5719557195571956}\n"
     ]
    },
    {
     "name": "stderr",
     "output_type": "stream",
     "text": [
      "Epoch: 9   : 100%|██████████| 60/60 [00:04<00:00, 12.05it/s, loss=1.13, num_correct=None] \n",
      "           : 100%|██████████| 9/9 [00:00<00:00, 13.27it/s, loss=0.994, num_correct=tensor(7, device='cuda:0')] \n"
     ]
    },
    {
     "name": "stdout",
     "output_type": "stream",
     "text": [
      "           {'epoch': 9, 'train_loss': 0.9528210500876109, 'valid_loss': 0.9455861383014255, 'valid_accuracy': 0.5719557195571956}\n"
     ]
    },
    {
     "name": "stderr",
     "output_type": "stream",
     "text": [
      "Epoch: 10  : 100%|██████████| 60/60 [00:05<00:00, 11.95it/s, loss=0.863, num_correct=None]\n",
      "           : 100%|██████████| 9/9 [00:00<00:00, 13.17it/s, loss=0.925, num_correct=tensor(8, device='cuda:0')] \n"
     ]
    },
    {
     "name": "stdout",
     "output_type": "stream",
     "text": [
      "           {'epoch': 10, 'train_loss': 0.9342136770486832, 'valid_loss': 0.9295303357972039, 'valid_accuracy': 0.5756457564575646}\n"
     ]
    },
    {
     "name": "stderr",
     "output_type": "stream",
     "text": [
      "Epoch: 11  : 100%|██████████| 60/60 [00:05<00:00, 11.70it/s, loss=0.988, num_correct=None]\n",
      "           : 100%|██████████| 9/9 [00:00<00:00, 13.12it/s, loss=0.946, num_correct=tensor(7, device='cuda:0')] \n"
     ]
    },
    {
     "name": "stdout",
     "output_type": "stream",
     "text": [
      "           {'epoch': 11, 'train_loss': 0.926736201842626, 'valid_loss': 0.9196269710858663, 'valid_accuracy': 0.5867158671586716}\n"
     ]
    },
    {
     "name": "stderr",
     "output_type": "stream",
     "text": [
      "Epoch: 12  : 100%|██████████| 60/60 [00:04<00:00, 12.63it/s, loss=0.887, num_correct=None]\n",
      "           : 100%|██████████| 9/9 [00:00<00:00, 13.42it/s, loss=0.954, num_correct=tensor(7, device='cuda:0')] \n"
     ]
    },
    {
     "name": "stdout",
     "output_type": "stream",
     "text": [
      "           {'epoch': 12, 'train_loss': 0.9114553769429524, 'valid_loss': 0.9126576847500272, 'valid_accuracy': 0.5830258302583026}\n"
     ]
    },
    {
     "name": "stderr",
     "output_type": "stream",
     "text": [
      "Epoch: 13  : 100%|██████████| 60/60 [00:04<00:00, 12.22it/s, loss=1.5, num_correct=None]  \n",
      "           : 100%|██████████| 9/9 [00:00<00:00, 13.72it/s, loss=0.866, num_correct=tensor(8, device='cuda:0')] \n"
     ]
    },
    {
     "name": "stdout",
     "output_type": "stream",
     "text": [
      "           {'epoch': 13, 'train_loss': 0.9124404797951381, 'valid_loss': 0.90023449394438, 'valid_accuracy': 0.5793357933579336}\n"
     ]
    },
    {
     "name": "stderr",
     "output_type": "stream",
     "text": [
      "Epoch: 14  : 100%|██████████| 60/60 [00:04<00:00, 12.36it/s, loss=0.803, num_correct=None]\n",
      "           : 100%|██████████| 9/9 [00:00<00:00, 13.24it/s, loss=0.894, num_correct=tensor(9, device='cuda:0')] \n"
     ]
    },
    {
     "name": "stdout",
     "output_type": "stream",
     "text": [
      "           {'epoch': 14, 'train_loss': 0.8868558784325917, 'valid_loss': 0.8905685544013977, 'valid_accuracy': 0.6014760147601476}\n"
     ]
    },
    {
     "name": "stderr",
     "output_type": "stream",
     "text": [
      "Epoch: 15  : 100%|██████████| 60/60 [00:04<00:00, 12.30it/s, loss=0.874, num_correct=None]\n",
      "           : 100%|██████████| 9/9 [00:00<00:00, 13.68it/s, loss=0.925, num_correct=tensor(5, device='cuda:0')] \n"
     ]
    },
    {
     "name": "stdout",
     "output_type": "stream",
     "text": [
      "           {'epoch': 15, 'train_loss': 0.883301709095637, 'valid_loss': 0.8864733378092448, 'valid_accuracy': 0.5904059040590406}\n"
     ]
    },
    {
     "name": "stderr",
     "output_type": "stream",
     "text": [
      "Epoch: 16  : 100%|██████████| 60/60 [00:04<00:00, 12.18it/s, loss=0.47, num_correct=None] \n",
      "           : 100%|██████████| 9/9 [00:00<00:00, 12.83it/s, loss=0.94, num_correct=tensor(9, device='cuda:0')]  \n"
     ]
    },
    {
     "name": "stdout",
     "output_type": "stream",
     "text": [
      "           {'epoch': 16, 'train_loss': 0.860949520766735, 'valid_loss': 0.8804017636511061, 'valid_accuracy': 0.5977859778597786}\n"
     ]
    },
    {
     "name": "stderr",
     "output_type": "stream",
     "text": [
      "Epoch: 17  : 100%|██████████| 60/60 [00:04<00:00, 12.40it/s, loss=0.929, num_correct=None]\n",
      "           : 100%|██████████| 9/9 [00:00<00:00, 13.02it/s, loss=0.83, num_correct=tensor(12, device='cuda:0')] \n"
     ]
    },
    {
     "name": "stdout",
     "output_type": "stream",
     "text": [
      "           {'epoch': 17, 'train_loss': 0.8650565127531687, 'valid_loss': 0.8683209419250488, 'valid_accuracy': 0.6088560885608856}\n"
     ]
    },
    {
     "name": "stderr",
     "output_type": "stream",
     "text": [
      "Epoch: 18  : 100%|██████████| 60/60 [00:04<00:00, 12.30it/s, loss=0.737, num_correct=None]\n",
      "           : 100%|██████████| 9/9 [00:00<00:00, 13.19it/s, loss=0.69, num_correct=tensor(10, device='cuda:0')] \n"
     ]
    },
    {
     "name": "stdout",
     "output_type": "stream",
     "text": [
      "           {'epoch': 18, 'train_loss': 0.8592016021410624, 'valid_loss': 0.854622032907274, 'valid_accuracy': 0.5977859778597786}\n"
     ]
    },
    {
     "name": "stderr",
     "output_type": "stream",
     "text": [
      "Epoch: 19  : 100%|██████████| 60/60 [00:04<00:00, 12.12it/s, loss=0.778, num_correct=None]\n",
      "           : 100%|██████████| 9/9 [00:00<00:00, 13.74it/s, loss=0.875, num_correct=tensor(11, device='cuda:0')]\n"
     ]
    },
    {
     "name": "stdout",
     "output_type": "stream",
     "text": [
      "           {'epoch': 19, 'train_loss': 0.8522943278153737, 'valid_loss': 0.8614933159616258, 'valid_accuracy': 0.6014760147601476}\n"
     ]
    },
    {
     "name": "stderr",
     "output_type": "stream",
     "text": [
      "Epoch: 20  : 100%|██████████| 60/60 [00:04<00:00, 12.53it/s, loss=0.499, num_correct=None]\n",
      "           : 100%|██████████| 9/9 [00:00<00:00, 13.49it/s, loss=0.748, num_correct=tensor(10, device='cuda:0')]\n"
     ]
    },
    {
     "name": "stdout",
     "output_type": "stream",
     "text": [
      "           {'epoch': 20, 'train_loss': 0.8381388301650683, 'valid_loss': 0.8495951559808519, 'valid_accuracy': 0.6014760147601476}\n"
     ]
    },
    {
     "name": "stderr",
     "output_type": "stream",
     "text": [
      "Epoch: 21  : 100%|██████████| 60/60 [00:04<00:00, 12.21it/s, loss=0.523, num_correct=None]\n",
      "           : 100%|██████████| 9/9 [00:00<00:00, 13.68it/s, loss=0.856, num_correct=tensor(8, device='cuda:0')] \n"
     ]
    },
    {
     "name": "stdout",
     "output_type": "stream",
     "text": [
      "           {'epoch': 21, 'train_loss': 0.8329459627469381, 'valid_loss': 0.8500828279389275, 'valid_accuracy': 0.6162361623616236}\n"
     ]
    },
    {
     "name": "stderr",
     "output_type": "stream",
     "text": [
      "Epoch: 22  : 100%|██████████| 60/60 [00:04<00:00, 12.29it/s, loss=0.931, num_correct=None]\n",
      "           : 100%|██████████| 9/9 [00:00<00:00, 13.61it/s, loss=0.915, num_correct=tensor(9, device='cuda:0')] \n"
     ]
    },
    {
     "name": "stdout",
     "output_type": "stream",
     "text": [
      "           {'epoch': 22, 'train_loss': 0.8341364214817683, 'valid_loss': 0.8540035486221313, 'valid_accuracy': 0.5977859778597786}\n"
     ]
    },
    {
     "name": "stderr",
     "output_type": "stream",
     "text": [
      "Epoch: 23  : 100%|██████████| 60/60 [00:04<00:00, 12.48it/s, loss=0.934, num_correct=None]\n",
      "           : 100%|██████████| 9/9 [00:00<00:00, 13.51it/s, loss=0.854, num_correct=tensor(8, device='cuda:0')] \n"
     ]
    },
    {
     "name": "stdout",
     "output_type": "stream",
     "text": [
      "           {'epoch': 23, 'train_loss': 0.8292477091153463, 'valid_loss': 0.8539380563629998, 'valid_accuracy': 0.5830258302583026}\n"
     ]
    },
    {
     "name": "stderr",
     "output_type": "stream",
     "text": [
      "Epoch: 24  : 100%|██████████| 60/60 [00:04<00:00, 12.10it/s, loss=1.1, num_correct=None]  \n",
      "           : 100%|██████████| 9/9 [00:00<00:00, 13.66it/s, loss=0.843, num_correct=tensor(9, device='cuda:0')] \n"
     ]
    },
    {
     "name": "stdout",
     "output_type": "stream",
     "text": [
      "           {'epoch': 24, 'train_loss': 0.8311560134092967, 'valid_loss': 0.8437804513507419, 'valid_accuracy': 0.6014760147601476}\n"
     ]
    },
    {
     "name": "stderr",
     "output_type": "stream",
     "text": [
      "Epoch: 25  : 100%|██████████| 60/60 [00:04<00:00, 12.71it/s, loss=1.02, num_correct=None] \n",
      "           : 100%|██████████| 9/9 [00:00<00:00, 13.49it/s, loss=1.01, num_correct=tensor(8, device='cuda:0')]  \n"
     ]
    },
    {
     "name": "stdout",
     "output_type": "stream",
     "text": [
      "           {'epoch': 25, 'train_loss': 0.8138722439606985, 'valid_loss': 0.8451588153839111, 'valid_accuracy': 0.6162361623616236}\n"
     ]
    },
    {
     "name": "stderr",
     "output_type": "stream",
     "text": [
      "Epoch: 26  : 100%|██████████| 60/60 [00:04<00:00, 12.69it/s, loss=0.619, num_correct=None]\n",
      "           : 100%|██████████| 9/9 [00:00<00:00, 13.76it/s, loss=0.878, num_correct=tensor(7, device='cuda:0')] \n"
     ]
    },
    {
     "name": "stdout",
     "output_type": "stream",
     "text": [
      "           {'epoch': 26, 'train_loss': 0.8099261512358983, 'valid_loss': 0.837345282236735, 'valid_accuracy': 0.6273062730627307}\n"
     ]
    },
    {
     "name": "stderr",
     "output_type": "stream",
     "text": [
      "Epoch: 27  : 100%|██████████| 60/60 [00:04<00:00, 12.26it/s, loss=0.503, num_correct=None]\n",
      "           : 100%|██████████| 9/9 [00:00<00:00, 13.43it/s, loss=0.744, num_correct=tensor(12, device='cuda:0')]\n"
     ]
    },
    {
     "name": "stdout",
     "output_type": "stream",
     "text": [
      "           {'epoch': 27, 'train_loss': 0.8063920766115189, 'valid_loss': 0.8274244864781698, 'valid_accuracy': 0.6162361623616236}\n"
     ]
    },
    {
     "name": "stderr",
     "output_type": "stream",
     "text": [
      "Epoch: 28  : 100%|██████████| 60/60 [00:04<00:00, 12.27it/s, loss=0.655, num_correct=None]\n",
      "           : 100%|██████████| 9/9 [00:00<00:00, 13.75it/s, loss=0.907, num_correct=tensor(9, device='cuda:0')] \n"
     ]
    },
    {
     "name": "stdout",
     "output_type": "stream",
     "text": [
      "           {'epoch': 28, 'train_loss': 0.8010864883661271, 'valid_loss': 0.8365911973847283, 'valid_accuracy': 0.6125461254612546}\n"
     ]
    },
    {
     "name": "stderr",
     "output_type": "stream",
     "text": [
      "Epoch: 29  : 100%|██████████| 60/60 [00:04<00:00, 12.63it/s, loss=0.464, num_correct=None]\n",
      "           : 100%|██████████| 9/9 [00:00<00:00, 13.37it/s, loss=0.789, num_correct=tensor(8, device='cuda:0')] \n"
     ]
    },
    {
     "name": "stdout",
     "output_type": "stream",
     "text": [
      "           {'epoch': 29, 'train_loss': 0.7974397147695224, 'valid_loss': 0.8249137931399875, 'valid_accuracy': 0.6162361623616236}\n"
     ]
    },
    {
     "name": "stderr",
     "output_type": "stream",
     "text": [
      "Epoch: 30  : 100%|██████████| 60/60 [00:04<00:00, 12.17it/s, loss=0.973, num_correct=None]\n",
      "           : 100%|██████████| 9/9 [00:00<00:00, 13.80it/s, loss=0.762, num_correct=tensor(9, device='cuda:0')] \n"
     ]
    },
    {
     "name": "stdout",
     "output_type": "stream",
     "text": [
      "           {'epoch': 30, 'train_loss': 0.8008622258901597, 'valid_loss': 0.8283744851748148, 'valid_accuracy': 0.6014760147601476}\n"
     ]
    },
    {
     "name": "stderr",
     "output_type": "stream",
     "text": [
      "Epoch: 31  : 100%|██████████| 60/60 [00:04<00:00, 12.51it/s, loss=0.459, num_correct=None]\n",
      "           : 100%|██████████| 9/9 [00:00<00:00, 13.64it/s, loss=1.03, num_correct=tensor(8, device='cuda:0')]  \n"
     ]
    },
    {
     "name": "stdout",
     "output_type": "stream",
     "text": [
      "           {'epoch': 31, 'train_loss': 0.7850710521141688, 'valid_loss': 0.8380441533194648, 'valid_accuracy': 0.6014760147601476}\n"
     ]
    },
    {
     "name": "stderr",
     "output_type": "stream",
     "text": [
      "Epoch: 32  : 100%|██████████| 60/60 [00:04<00:00, 12.47it/s, loss=0.739, num_correct=None]\n",
      "           : 100%|██████████| 9/9 [00:00<00:00, 13.45it/s, loss=0.821, num_correct=tensor(11, device='cuda:0')]\n"
     ]
    },
    {
     "name": "stdout",
     "output_type": "stream",
     "text": [
      "           {'epoch': 32, 'train_loss': 0.7882270057996114, 'valid_loss': 0.8253019717004564, 'valid_accuracy': 0.6088560885608856}\n",
      "Stopping early...\n",
      "\n",
      "Finetuning test...\n"
     ]
    },
    {
     "name": "stderr",
     "output_type": "stream",
     "text": [
      "           : 100%|██████████| 17/17 [00:01<00:00, 11.47it/s, loss=0.824, num_correct=tensor(17, device='cuda:0')]\n"
     ]
    },
    {
     "name": "stdout",
     "output_type": "stream",
     "text": [
      "              precision    recall  f1-score   support\n",
      "\n",
      "    negative       0.66      0.63      0.64       198\n",
      "     neutral       0.51      0.53      0.52       167\n",
      "    positive       0.67      0.68      0.67       176\n",
      "\n",
      "    accuracy                           0.62       541\n",
      "   macro avg       0.61      0.61      0.61       541\n",
      "weighted avg       0.62      0.62      0.62       541\n",
      "\n"
     ]
    },
    {
     "data": {
      "image/png": "[encoded data removed]",
      "text/plain": [
       "<Figure size 640x480 with 2 Axes>"
      ]
     },
     "metadata": {},
     "output_type": "display_data"
    }
   ],
   "source": [
    "global_dataset_train_loop(\"metacritic\")"
   ]
  },
  {
   "cell_type": "markdown",
   "metadata": {},
   "source": [
    "## Rotten Tomatoes\n",
    "\n",
    "Training BERT on Rotten Tomatoes only."
   ]
  },
  {
   "cell_type": "code",
   "execution_count": null,
   "metadata": {},
   "outputs": [
    {
     "name": "stdout",
     "output_type": "stream",
     "text": [
      "Loaded training config:\n"
     ]
    },
    {
     "data": {
      "text/plain": [
       "{'tokenizer': BertTokenizerFast(name_or_path='bert-base-uncased', vocab_size=30522, model_max_length=512, is_fast=True, padding_side='right', truncation_side='right', special_tokens={'unk_token': '[UNK]', 'sep_token': '[SEP]', 'pad_token': '[PAD]', 'cls_token': '[CLS]', 'mask_token': '[MASK]'}, clean_up_tokenization_spaces=False, added_tokens_decoder={\n",
       "\t0: AddedToken(\"[PAD]\", rstrip=False, lstrip=False, single_word=False, normalized=False, special=True),\n",
       "\t100: AddedToken(\"[UNK]\", rstrip=False, lstrip=False, single_word=False, normalized=False, special=True),\n",
       "\t101: AddedToken(\"[CLS]\", rstrip=False, lstrip=False, single_word=False, normalized=False, special=True),\n",
       "\t102: AddedToken(\"[SEP]\", rstrip=False, lstrip=False, single_word=False, normalized=False, special=True),\n",
       "\t103: AddedToken(\"[MASK]\", rstrip=False, lstrip=False, single_word=False, normalized=False, special=True),\n",
       "}\n",
       "), 'pretrained_model_name': '', 'name': 'rotten_tomatoes', 'class_names': ['negative', 'neutral', 'positive'], 'stop_delta': 0.05, 'stop_patience': 5, 'train_bert_in_finetune': False, 'max_token_length': 512, 'pretrained_model': None, 'pretrained_dataloaders': None, 'finetuned_classifier_model': None, 'finetuned_dataloaders': None, 'sample_mode': <SampleMode.NONE: 0>}"
      ]
     },
     "metadata": {},
     "output_type": "display_data"
    },
    {
     "name": "stdout",
     "output_type": "stream",
     "text": [
      "Loaded rotten_tomatoes:\n"
     ]
    },
    {
     "data": {
      "text/html": [
       "<div>\n",
       "<style scoped>\n",
       "    .dataframe tbody tr th:only-of-type {\n",
       "        vertical-align: middle;\n",
       "    }\n",
       "\n",
       "    .dataframe tbody tr th {\n",
       "        vertical-align: top;\n",
       "    }\n",
       "\n",
       "    .dataframe thead th {\n",
       "        text-align: right;\n",
       "    }\n",
       "</style>\n",
       "<table border=\"1\" class=\"dataframe\">\n",
       "  <thead>\n",
       "    <tr style=\"text-align: right;\">\n",
       "      <th></th>\n",
       "      <th>site</th>\n",
       "      <th>user</th>\n",
       "      <th>review_target</th>\n",
       "      <th>review</th>\n",
       "      <th>score</th>\n",
       "      <th>max_score</th>\n",
       "    </tr>\n",
       "  </thead>\n",
       "  <tbody>\n",
       "    <tr>\n",
       "      <th>0</th>\n",
       "      <td>Rotten Tomatoes</td>\n",
       "      <td>Rob A</td>\n",
       "      <td>1032176-Goodfellas</td>\n",
       "      <td>One of the best films of all time.</td>\n",
       "      <td>5.0</td>\n",
       "      <td>5</td>\n",
       "    </tr>\n",
       "    <tr>\n",
       "      <th>1</th>\n",
       "      <td>Rotten Tomatoes</td>\n",
       "      <td>Chase S</td>\n",
       "      <td>Godfather Part Ii</td>\n",
       "      <td>Super boring and long</td>\n",
       "      <td>2.0</td>\n",
       "      <td>5</td>\n",
       "    </tr>\n",
       "    <tr>\n",
       "      <th>2</th>\n",
       "      <td>Rotten Tomatoes</td>\n",
       "      <td>grey g</td>\n",
       "      <td>Eat Pray Love</td>\n",
       "      <td>Phony. This is a fantasy film - learn perfect ...</td>\n",
       "      <td>0.5</td>\n",
       "      <td>5</td>\n",
       "    </tr>\n",
       "    <tr>\n",
       "      <th>3</th>\n",
       "      <td>Rotten Tomatoes</td>\n",
       "      <td></td>\n",
       "      <td>Waste-Land</td>\n",
       "      <td>In my top 3 favorite Docs of all time.</td>\n",
       "      <td>5.0</td>\n",
       "      <td>5</td>\n",
       "    </tr>\n",
       "    <tr>\n",
       "      <th>4</th>\n",
       "      <td>Rotten Tomatoes</td>\n",
       "      <td>Bulgantamir B</td>\n",
       "      <td>Snatch</td>\n",
       "      <td>It was the best movie of that time</td>\n",
       "      <td>5.0</td>\n",
       "      <td>5</td>\n",
       "    </tr>\n",
       "    <tr>\n",
       "      <th>...</th>\n",
       "      <td>...</td>\n",
       "      <td>...</td>\n",
       "      <td>...</td>\n",
       "      <td>...</td>\n",
       "      <td>...</td>\n",
       "      <td>...</td>\n",
       "    </tr>\n",
       "    <tr>\n",
       "      <th>4177</th>\n",
       "      <td>Rotten Tomatoes</td>\n",
       "      <td></td>\n",
       "      <td>Quel Maledetto Treno Blindato</td>\n",
       "      <td>A bad war film. Poor acting and dialogue with ...</td>\n",
       "      <td>1.5</td>\n",
       "      <td>5</td>\n",
       "    </tr>\n",
       "    <tr>\n",
       "      <th>4178</th>\n",
       "      <td>Rotten Tomatoes</td>\n",
       "      <td>Fer S</td>\n",
       "      <td>1084398-Life Is Beautiful</td>\n",
       "      <td>Fantastic! However, I did not find the first h...</td>\n",
       "      <td>4.5</td>\n",
       "      <td>5</td>\n",
       "    </tr>\n",
       "    <tr>\n",
       "      <th>4179</th>\n",
       "      <td>Rotten Tomatoes</td>\n",
       "      <td></td>\n",
       "      <td>Whiplash 2014</td>\n",
       "      <td>Great movie... (are you rushing or dragging?l</td>\n",
       "      <td>4.5</td>\n",
       "      <td>5</td>\n",
       "    </tr>\n",
       "    <tr>\n",
       "      <th>4180</th>\n",
       "      <td>Rotten Tomatoes</td>\n",
       "      <td>Sheree B</td>\n",
       "      <td>Kingdom Of The Planet Of The Apes</td>\n",
       "      <td>It's amazing how realistic these animals look....</td>\n",
       "      <td>4.0</td>\n",
       "      <td>5</td>\n",
       "    </tr>\n",
       "    <tr>\n",
       "      <th>4181</th>\n",
       "      <td>Rotten Tomatoes</td>\n",
       "      <td>jelisije j</td>\n",
       "      <td>Good Shepherd</td>\n",
       "      <td>An overly long movie that being a spy is a lon...</td>\n",
       "      <td>3.0</td>\n",
       "      <td>5</td>\n",
       "    </tr>\n",
       "  </tbody>\n",
       "</table>\n",
       "<p>4182 rows × 6 columns</p>\n",
       "</div>"
      ],
      "text/plain": [
       "                 site           user                      review_target  \\\n",
       "0     Rotten Tomatoes          Rob A                 1032176-Goodfellas   \n",
       "1     Rotten Tomatoes        Chase S                  Godfather Part Ii   \n",
       "2     Rotten Tomatoes         grey g                      Eat Pray Love   \n",
       "3     Rotten Tomatoes                                        Waste-Land   \n",
       "4     Rotten Tomatoes  Bulgantamir B                             Snatch   \n",
       "...               ...            ...                                ...   \n",
       "4177  Rotten Tomatoes                     Quel Maledetto Treno Blindato   \n",
       "4178  Rotten Tomatoes          Fer S          1084398-Life Is Beautiful   \n",
       "4179  Rotten Tomatoes                                     Whiplash 2014   \n",
       "4180  Rotten Tomatoes       Sheree B  Kingdom Of The Planet Of The Apes   \n",
       "4181  Rotten Tomatoes     jelisije j                      Good Shepherd   \n",
       "\n",
       "                                                 review  score  max_score  \n",
       "0                    One of the best films of all time.    5.0          5  \n",
       "1                                 Super boring and long    2.0          5  \n",
       "2     Phony. This is a fantasy film - learn perfect ...    0.5          5  \n",
       "3                In my top 3 favorite Docs of all time.    5.0          5  \n",
       "4                    It was the best movie of that time    5.0          5  \n",
       "...                                                 ...    ...        ...  \n",
       "4177  A bad war film. Poor acting and dialogue with ...    1.5          5  \n",
       "4178  Fantastic! However, I did not find the first h...    4.5          5  \n",
       "4179      Great movie... (are you rushing or dragging?l    4.5          5  \n",
       "4180  It's amazing how realistic these animals look....    4.0          5  \n",
       "4181  An overly long movie that being a spy is a lon...    3.0          5  \n",
       "\n",
       "[4182 rows x 6 columns]"
      ]
     },
     "metadata": {},
     "output_type": "display_data"
    },
    {
     "data": {
      "image/png": "[encoded data removed]",
      "text/plain": [
       "<Figure size 640x480 with 1 Axes>"
      ]
     },
     "metadata": {},
     "output_type": "display_data"
    },
    {
     "data": {
      "image/png": "[encoded data removed]",
      "text/plain": [
       "<Figure size 640x480 with 1 Axes>"
      ]
     },
     "metadata": {},
     "output_type": "display_data"
    },
    {
     "name": "stdout",
     "output_type": "stream",
     "text": [
      "Original dataset size: 4182\n",
      "Sampled dataset size: 4182\n"
     ]
    },
    {
     "data": {
      "text/html": [
       "<div>\n",
       "<style scoped>\n",
       "    .dataframe tbody tr th:only-of-type {\n",
       "        vertical-align: middle;\n",
       "    }\n",
       "\n",
       "    .dataframe tbody tr th {\n",
       "        vertical-align: top;\n",
       "    }\n",
       "\n",
       "    .dataframe thead th {\n",
       "        text-align: right;\n",
       "    }\n",
       "</style>\n",
       "<table border=\"1\" class=\"dataframe\">\n",
       "  <thead>\n",
       "    <tr style=\"text-align: right;\">\n",
       "      <th></th>\n",
       "      <th>site</th>\n",
       "      <th>user</th>\n",
       "      <th>review_target</th>\n",
       "      <th>review</th>\n",
       "      <th>score</th>\n",
       "      <th>max_score</th>\n",
       "      <th>norm_score</th>\n",
       "      <th>sentiment_score</th>\n",
       "    </tr>\n",
       "  </thead>\n",
       "  <tbody>\n",
       "    <tr>\n",
       "      <th>0</th>\n",
       "      <td>Rotten Tomatoes</td>\n",
       "      <td>Rob A</td>\n",
       "      <td>1032176-Goodfellas</td>\n",
       "      <td>One of the best films of all time.</td>\n",
       "      <td>5.0</td>\n",
       "      <td>5</td>\n",
       "      <td>1.0</td>\n",
       "      <td>2</td>\n",
       "    </tr>\n",
       "    <tr>\n",
       "      <th>1</th>\n",
       "      <td>Rotten Tomatoes</td>\n",
       "      <td>Chase S</td>\n",
       "      <td>Godfather Part Ii</td>\n",
       "      <td>Super boring and long</td>\n",
       "      <td>2.0</td>\n",
       "      <td>5</td>\n",
       "      <td>0.4</td>\n",
       "      <td>0</td>\n",
       "    </tr>\n",
       "    <tr>\n",
       "      <th>2</th>\n",
       "      <td>Rotten Tomatoes</td>\n",
       "      <td>grey g</td>\n",
       "      <td>Eat Pray Love</td>\n",
       "      <td>Phony. This is a fantasy film - learn perfect ...</td>\n",
       "      <td>0.5</td>\n",
       "      <td>5</td>\n",
       "      <td>0.1</td>\n",
       "      <td>0</td>\n",
       "    </tr>\n",
       "    <tr>\n",
       "      <th>3</th>\n",
       "      <td>Rotten Tomatoes</td>\n",
       "      <td></td>\n",
       "      <td>Waste-Land</td>\n",
       "      <td>In my top 3 favorite Docs of all time.</td>\n",
       "      <td>5.0</td>\n",
       "      <td>5</td>\n",
       "      <td>1.0</td>\n",
       "      <td>2</td>\n",
       "    </tr>\n",
       "    <tr>\n",
       "      <th>4</th>\n",
       "      <td>Rotten Tomatoes</td>\n",
       "      <td>Bulgantamir B</td>\n",
       "      <td>Snatch</td>\n",
       "      <td>It was the best movie of that time</td>\n",
       "      <td>5.0</td>\n",
       "      <td>5</td>\n",
       "      <td>1.0</td>\n",
       "      <td>2</td>\n",
       "    </tr>\n",
       "    <tr>\n",
       "      <th>...</th>\n",
       "      <td>...</td>\n",
       "      <td>...</td>\n",
       "      <td>...</td>\n",
       "      <td>...</td>\n",
       "      <td>...</td>\n",
       "      <td>...</td>\n",
       "      <td>...</td>\n",
       "      <td>...</td>\n",
       "    </tr>\n",
       "    <tr>\n",
       "      <th>4177</th>\n",
       "      <td>Rotten Tomatoes</td>\n",
       "      <td></td>\n",
       "      <td>Quel Maledetto Treno Blindato</td>\n",
       "      <td>A bad war film. Poor acting and dialogue with ...</td>\n",
       "      <td>1.5</td>\n",
       "      <td>5</td>\n",
       "      <td>0.3</td>\n",
       "      <td>0</td>\n",
       "    </tr>\n",
       "    <tr>\n",
       "      <th>4178</th>\n",
       "      <td>Rotten Tomatoes</td>\n",
       "      <td>Fer S</td>\n",
       "      <td>1084398-Life Is Beautiful</td>\n",
       "      <td>Fantastic! However, I did not find the first h...</td>\n",
       "      <td>4.5</td>\n",
       "      <td>5</td>\n",
       "      <td>0.9</td>\n",
       "      <td>2</td>\n",
       "    </tr>\n",
       "    <tr>\n",
       "      <th>4179</th>\n",
       "      <td>Rotten Tomatoes</td>\n",
       "      <td></td>\n",
       "      <td>Whiplash 2014</td>\n",
       "      <td>Great movie... (are you rushing or dragging?l</td>\n",
       "      <td>4.5</td>\n",
       "      <td>5</td>\n",
       "      <td>0.9</td>\n",
       "      <td>2</td>\n",
       "    </tr>\n",
       "    <tr>\n",
       "      <th>4180</th>\n",
       "      <td>Rotten Tomatoes</td>\n",
       "      <td>Sheree B</td>\n",
       "      <td>Kingdom Of The Planet Of The Apes</td>\n",
       "      <td>It's amazing how realistic these animals look....</td>\n",
       "      <td>4.0</td>\n",
       "      <td>5</td>\n",
       "      <td>0.8</td>\n",
       "      <td>2</td>\n",
       "    </tr>\n",
       "    <tr>\n",
       "      <th>4181</th>\n",
       "      <td>Rotten Tomatoes</td>\n",
       "      <td>jelisije j</td>\n",
       "      <td>Good Shepherd</td>\n",
       "      <td>An overly long movie that being a spy is a lon...</td>\n",
       "      <td>3.0</td>\n",
       "      <td>5</td>\n",
       "      <td>0.6</td>\n",
       "      <td>1</td>\n",
       "    </tr>\n",
       "  </tbody>\n",
       "</table>\n",
       "<p>4182 rows × 8 columns</p>\n",
       "</div>"
      ],
      "text/plain": [
       "                 site           user                      review_target  \\\n",
       "0     Rotten Tomatoes          Rob A                 1032176-Goodfellas   \n",
       "1     Rotten Tomatoes        Chase S                  Godfather Part Ii   \n",
       "2     Rotten Tomatoes         grey g                      Eat Pray Love   \n",
       "3     Rotten Tomatoes                                        Waste-Land   \n",
       "4     Rotten Tomatoes  Bulgantamir B                             Snatch   \n",
       "...               ...            ...                                ...   \n",
       "4177  Rotten Tomatoes                     Quel Maledetto Treno Blindato   \n",
       "4178  Rotten Tomatoes          Fer S          1084398-Life Is Beautiful   \n",
       "4179  Rotten Tomatoes                                     Whiplash 2014   \n",
       "4180  Rotten Tomatoes       Sheree B  Kingdom Of The Planet Of The Apes   \n",
       "4181  Rotten Tomatoes     jelisije j                      Good Shepherd   \n",
       "\n",
       "                                                 review  score  max_score  \\\n",
       "0                    One of the best films of all time.    5.0          5   \n",
       "1                                 Super boring and long    2.0          5   \n",
       "2     Phony. This is a fantasy film - learn perfect ...    0.5          5   \n",
       "3                In my top 3 favorite Docs of all time.    5.0          5   \n",
       "4                    It was the best movie of that time    5.0          5   \n",
       "...                                                 ...    ...        ...   \n",
       "4177  A bad war film. Poor acting and dialogue with ...    1.5          5   \n",
       "4178  Fantastic! However, I did not find the first h...    4.5          5   \n",
       "4179      Great movie... (are you rushing or dragging?l    4.5          5   \n",
       "4180  It's amazing how realistic these animals look....    4.0          5   \n",
       "4181  An overly long movie that being a spy is a lon...    3.0          5   \n",
       "\n",
       "      norm_score  sentiment_score  \n",
       "0            1.0                2  \n",
       "1            0.4                0  \n",
       "2            0.1                0  \n",
       "3            1.0                2  \n",
       "4            1.0                2  \n",
       "...          ...              ...  \n",
       "4177         0.3                0  \n",
       "4178         0.9                2  \n",
       "4179         0.9                2  \n",
       "4180         0.8                2  \n",
       "4181         0.6                1  \n",
       "\n",
       "[4182 rows x 8 columns]"
      ]
     },
     "metadata": {},
     "output_type": "display_data"
    },
    {
     "name": "stdout",
     "output_type": "stream",
     "text": [
      "Loading masked dataset:\n",
      "    Loading existing dataset file @ rotten_tomatoes_masked_data.dt...\n",
      "Loading reviews dataset:\n",
      "    Loading existing dataset file @ rotten_tomatoes_reviews_data.dt...\n",
      "Masked pretraining:\n",
      "    train_dataloader: (92 batches)\n",
      "    test_dataloader: (27 batches)\n",
      "    valid_dataloader: (14 batches)\n",
      "Reviews training:\n",
      "    train_dataloader: (26 batches)\n",
      "    test_dataloader: (8 batches)\n",
      "    valid_dataloader: (4 batches)\n",
      "Training start for 'rotten_tomatoes' finetuning...\n"
     ]
    },
    {
     "data": {
      "image/png": "[encoded data removed]",
      "text/plain": [
       "<Figure size 640x480 with 1 Axes>"
      ]
     },
     "metadata": {},
     "output_type": "display_data"
    },
    {
     "name": "stderr",
     "output_type": "stream",
     "text": [
      "Epoch: 0   : 100%|██████████| 26/26 [00:02<00:00, 11.64it/s, loss=1.07, num_correct=None]\n",
      "           : 100%|██████████| 4/4 [00:00<00:00, 13.52it/s, loss=1.07, num_correct=tensor(13, device='cuda:0')]\n"
     ]
    },
    {
     "name": "stderr",
     "output_type": "stream",
     "text": [
      "Epoch: 1   : 100%|██████████| 26/26 [00:02<00:00, 12.47it/s, loss=1.09, num_correct=None]\n",
      "           : 100%|██████████| 4/4 [00:00<00:00, 13.44it/s, loss=1.1, num_correct=tensor(7, device='cuda:0')]  \n"
     ]
    },
    {
     "name": "stdout",
     "output_type": "stream",
     "text": [
      "           {'epoch': 1, 'train_loss': 1.0873426749156072, 'valid_loss': 1.0820511281490326, 'valid_accuracy': 0.4789915966386555}\n"
     ]
    },
    {
     "name": "stderr",
     "output_type": "stream",
     "text": [
      "Epoch: 2   : 100%|██████████| 26/26 [00:02<00:00, 11.37it/s, loss=1.05, num_correct=None]\n",
      "           : 100%|██████████| 4/4 [00:00<00:00, 13.99it/s, loss=1.08, num_correct=tensor(12, device='cuda:0')]\n"
     ]
    },
    {
     "name": "stdout",
     "output_type": "stream",
     "text": [
      "           {'epoch': 2, 'train_loss': 1.0779528526159434, 'valid_loss': 1.07076096534729, 'valid_accuracy': 0.5630252100840336}\n"
     ]
    },
    {
     "name": "stderr",
     "output_type": "stream",
     "text": [
      "Epoch: 3   : 100%|██████████| 26/26 [00:02<00:00, 12.64it/s, loss=1.05, num_correct=None]\n",
      "           : 100%|██████████| 4/4 [00:00<00:00, 13.61it/s, loss=1.07, num_correct=tensor(13, device='cuda:0')]\n"
     ]
    },
    {
     "name": "stdout",
     "output_type": "stream",
     "text": [
      "           {'epoch': 3, 'train_loss': 1.06449477489178, 'valid_loss': 1.0647391974925995, 'valid_accuracy': 0.5798319327731093}\n"
     ]
    },
    {
     "name": "stderr",
     "output_type": "stream",
     "text": [
      "Epoch: 4   : 100%|██████████| 26/26 [00:02<00:00, 11.39it/s, loss=1.04, num_correct=None]\n",
      "           : 100%|██████████| 4/4 [00:00<00:00, 14.02it/s, loss=1.06, num_correct=tensor(13, device='cuda:0')]\n"
     ]
    },
    {
     "name": "stdout",
     "output_type": "stream",
     "text": [
      "           {'epoch': 4, 'train_loss': 1.0596653727384715, 'valid_loss': 1.055853545665741, 'valid_accuracy': 0.5714285714285714}\n"
     ]
    },
    {
     "name": "stderr",
     "output_type": "stream",
     "text": [
      "Epoch: 5   : 100%|██████████| 26/26 [00:02<00:00, 11.36it/s, loss=1.05, num_correct=None]\n",
      "           : 100%|██████████| 4/4 [00:00<00:00, 13.65it/s, loss=1.04, num_correct=tensor(13, device='cuda:0')]\n"
     ]
    },
    {
     "name": "stdout",
     "output_type": "stream",
     "text": [
      "           {'epoch': 5, 'train_loss': 1.0485703440812917, 'valid_loss': 1.0442622005939484, 'valid_accuracy': 0.5882352941176471}\n"
     ]
    },
    {
     "name": "stderr",
     "output_type": "stream",
     "text": [
      "Epoch: 6   : 100%|██████████| 26/26 [00:02<00:00, 11.44it/s, loss=1.04, num_correct=None]\n",
      "           : 100%|██████████| 4/4 [00:00<00:00, 13.78it/s, loss=1.06, num_correct=tensor(10, device='cuda:0')]\n"
     ]
    },
    {
     "name": "stdout",
     "output_type": "stream",
     "text": [
      "           {'epoch': 6, 'train_loss': 1.0398107996353736, 'valid_loss': 1.0390345454216003, 'valid_accuracy': 0.5798319327731093}\n"
     ]
    },
    {
     "name": "stderr",
     "output_type": "stream",
     "text": [
      "Epoch: 7   : 100%|██████████| 26/26 [00:02<00:00, 12.26it/s, loss=1.04, num_correct=None] \n",
      "           : 100%|██████████| 4/4 [00:00<00:00, 13.84it/s, loss=1.01, num_correct=tensor(15, device='cuda:0')]\n"
     ]
    },
    {
     "name": "stdout",
     "output_type": "stream",
     "text": [
      "           {'epoch': 7, 'train_loss': 1.0303452817293315, 'valid_loss': 1.0279494524002075, 'valid_accuracy': 0.5462184873949579}\n"
     ]
    },
    {
     "name": "stderr",
     "output_type": "stream",
     "text": [
      "Epoch: 8   : 100%|██████████| 26/26 [00:02<00:00, 11.96it/s, loss=1, num_correct=None]    \n",
      "           : 100%|██████████| 4/4 [00:00<00:00, 13.99it/s, loss=1.02, num_correct=tensor(14, device='cuda:0')]\n"
     ]
    },
    {
     "name": "stdout",
     "output_type": "stream",
     "text": [
      "           {'epoch': 8, 'train_loss': 1.0171802250238566, 'valid_loss': 1.0226290822029114, 'valid_accuracy': 0.5546218487394958}\n"
     ]
    },
    {
     "name": "stderr",
     "output_type": "stream",
     "text": [
      "Epoch: 9   : 100%|██████████| 26/26 [00:02<00:00, 11.39it/s, loss=1.03, num_correct=None] \n",
      "           : 100%|██████████| 4/4 [00:00<00:00, 12.95it/s, loss=1.01, num_correct=tensor(13, device='cuda:0')] \n"
     ]
    },
    {
     "name": "stdout",
     "output_type": "stream",
     "text": [
      "           {'epoch': 9, 'train_loss': 1.012467398093297, 'valid_loss': 1.0145953446626663, 'valid_accuracy': 0.5546218487394958}\n"
     ]
    },
    {
     "name": "stderr",
     "output_type": "stream",
     "text": [
      "Epoch: 10  : 100%|██████████| 26/26 [00:02<00:00, 12.62it/s, loss=1.03, num_correct=None] \n",
      "           : 100%|██████████| 4/4 [00:00<00:00, 14.13it/s, loss=0.949, num_correct=tensor(17, device='cuda:0')]\n"
     ]
    },
    {
     "name": "stdout",
     "output_type": "stream",
     "text": [
      "           {'epoch': 10, 'train_loss': 0.9985649769122784, 'valid_loss': 0.9993739873170853, 'valid_accuracy': 0.5462184873949579}\n"
     ]
    },
    {
     "name": "stderr",
     "output_type": "stream",
     "text": [
      "Epoch: 11  : 100%|██████████| 26/26 [00:02<00:00, 11.37it/s, loss=1.02, num_correct=None] \n",
      "           : 100%|██████████| 4/4 [00:00<00:00, 13.89it/s, loss=0.994, num_correct=tensor(14, device='cuda:0')]\n"
     ]
    },
    {
     "name": "stdout",
     "output_type": "stream",
     "text": [
      "           {'epoch': 11, 'train_loss': 0.9913168411988479, 'valid_loss': 0.9984567612409592, 'valid_accuracy': 0.5462184873949579}\n"
     ]
    },
    {
     "name": "stderr",
     "output_type": "stream",
     "text": [
      "Epoch: 12  : 100%|██████████| 26/26 [00:02<00:00, 11.68it/s, loss=1, num_correct=None]    \n",
      "           : 100%|██████████| 4/4 [00:00<00:00, 13.79it/s, loss=0.973, num_correct=tensor(12, device='cuda:0')]\n"
     ]
    },
    {
     "name": "stdout",
     "output_type": "stream",
     "text": [
      "           {'epoch': 12, 'train_loss': 0.9819341072669396, 'valid_loss': 0.9893007874488831, 'valid_accuracy': 0.5378151260504201}\n"
     ]
    },
    {
     "name": "stderr",
     "output_type": "stream",
     "text": [
      "Epoch: 13  : 100%|██████████| 26/26 [00:02<00:00, 11.68it/s, loss=0.986, num_correct=None]\n",
      "           : 100%|██████████| 4/4 [00:00<00:00, 13.89it/s, loss=0.962, num_correct=tensor(14, device='cuda:0')]\n"
     ]
    },
    {
     "name": "stdout",
     "output_type": "stream",
     "text": [
      "           {'epoch': 13, 'train_loss': 0.9784892247273371, 'valid_loss': 0.9818515330553055, 'valid_accuracy': 0.5462184873949579}\n"
     ]
    },
    {
     "name": "stderr",
     "output_type": "stream",
     "text": [
      "Epoch: 14  : 100%|██████████| 26/26 [00:02<00:00, 11.66it/s, loss=0.966, num_correct=None]\n",
      "           : 100%|██████████| 4/4 [00:00<00:00, 13.89it/s, loss=0.951, num_correct=tensor(13, device='cuda:0')]\n"
     ]
    },
    {
     "name": "stdout",
     "output_type": "stream",
     "text": [
      "           {'epoch': 14, 'train_loss': 0.9662552086206583, 'valid_loss': 0.9750218093395233, 'valid_accuracy': 0.5294117647058824}\n"
     ]
    },
    {
     "name": "stderr",
     "output_type": "stream",
     "text": [
      "Epoch: 15  : 100%|██████████| 26/26 [00:02<00:00, 11.47it/s, loss=1.03, num_correct=None] \n",
      "           : 100%|██████████| 4/4 [00:00<00:00, 13.93it/s, loss=1, num_correct=tensor(12, device='cuda:0')]    \n"
     ]
    },
    {
     "name": "stdout",
     "output_type": "stream",
     "text": [
      "           {'epoch': 15, 'train_loss': 0.9555507783706372, 'valid_loss': 0.9743592441082001, 'valid_accuracy': 0.5378151260504201}\n"
     ]
    },
    {
     "name": "stderr",
     "output_type": "stream",
     "text": [
      "Epoch: 16  : 100%|██████████| 26/26 [00:02<00:00, 11.39it/s, loss=0.906, num_correct=None]\n",
      "           : 100%|██████████| 4/4 [00:00<00:00, 13.94it/s, loss=0.961, num_correct=tensor(12, device='cuda:0')]\n"
     ]
    },
    {
     "name": "stdout",
     "output_type": "stream",
     "text": [
      "           {'epoch': 16, 'train_loss': 0.9494541516670814, 'valid_loss': 0.9634892642498016, 'valid_accuracy': 0.5462184873949579}\n"
     ]
    },
    {
     "name": "stderr",
     "output_type": "stream",
     "text": [
      "Epoch: 17  : 100%|██████████| 26/26 [00:02<00:00, 12.63it/s, loss=0.957, num_correct=None]\n",
      "           : 100%|██████████| 4/4 [00:00<00:00, 14.07it/s, loss=0.983, num_correct=tensor(10, device='cuda:0')]\n"
     ]
    },
    {
     "name": "stdout",
     "output_type": "stream",
     "text": [
      "           {'epoch': 17, 'train_loss': 0.9446244171032538, 'valid_loss': 0.9585812389850616, 'valid_accuracy': 0.5378151260504201}\n"
     ]
    },
    {
     "name": "stderr",
     "output_type": "stream",
     "text": [
      "Epoch: 18  : 100%|██████████| 26/26 [00:02<00:00, 11.35it/s, loss=0.893, num_correct=None]\n",
      "           : 100%|██████████| 4/4 [00:00<00:00, 13.38it/s, loss=0.944, num_correct=tensor(11, device='cuda:0')]\n"
     ]
    },
    {
     "name": "stdout",
     "output_type": "stream",
     "text": [
      "           {'epoch': 18, 'train_loss': 0.932915809062811, 'valid_loss': 0.9500099718570709, 'valid_accuracy': 0.5378151260504201}\n"
     ]
    },
    {
     "name": "stderr",
     "output_type": "stream",
     "text": [
      "Epoch: 19  : 100%|██████████| 26/26 [00:02<00:00, 11.62it/s, loss=0.932, num_correct=None]\n",
      "           : 100%|██████████| 4/4 [00:00<00:00, 13.84it/s, loss=0.976, num_correct=tensor(10, device='cuda:0')]\n"
     ]
    },
    {
     "name": "stdout",
     "output_type": "stream",
     "text": [
      "           {'epoch': 19, 'train_loss': 0.9219238551763388, 'valid_loss': 0.9483603984117508, 'valid_accuracy': 0.5294117647058824}\n"
     ]
    },
    {
     "name": "stderr",
     "output_type": "stream",
     "text": [
      "Epoch: 20  : 100%|██████████| 26/26 [00:02<00:00, 11.53it/s, loss=0.878, num_correct=None]\n",
      "           : 100%|██████████| 4/4 [00:00<00:00, 13.84it/s, loss=0.879, num_correct=tensor(12, device='cuda:0')]\n"
     ]
    },
    {
     "name": "stdout",
     "output_type": "stream",
     "text": [
      "           {'epoch': 20, 'train_loss': 0.9158962506514329, 'valid_loss': 0.9335803836584091, 'valid_accuracy': 0.5378151260504201}\n"
     ]
    },
    {
     "name": "stderr",
     "output_type": "stream",
     "text": [
      "Epoch: 21  : 100%|██████████| 26/26 [00:02<00:00, 11.63it/s, loss=0.931, num_correct=None]\n",
      "           : 100%|██████████| 4/4 [00:00<00:00, 12.82it/s, loss=0.912, num_correct=tensor(14, device='cuda:0')]\n"
     ]
    },
    {
     "name": "stdout",
     "output_type": "stream",
     "text": [
      "           {'epoch': 21, 'train_loss': 0.909243487394773, 'valid_loss': 0.9322325885295868, 'valid_accuracy': 0.5462184873949579}\n"
     ]
    },
    {
     "name": "stderr",
     "output_type": "stream",
     "text": [
      "Epoch: 22  : 100%|██████████| 26/26 [00:02<00:00, 11.13it/s, loss=0.81, num_correct=None] \n",
      "           : 100%|██████████| 4/4 [00:00<00:00, 14.13it/s, loss=0.937, num_correct=tensor(10, device='cuda:0')]\n"
     ]
    },
    {
     "name": "stdout",
     "output_type": "stream",
     "text": [
      "           {'epoch': 22, 'train_loss': 0.8985543617835412, 'valid_loss': 0.927893728017807, 'valid_accuracy': 0.5378151260504201}\n"
     ]
    },
    {
     "name": "stderr",
     "output_type": "stream",
     "text": [
      "Epoch: 23  : 100%|██████████| 26/26 [00:02<00:00, 11.55it/s, loss=0.916, num_correct=None]\n",
      "           : 100%|██████████| 4/4 [00:00<00:00, 13.51it/s, loss=0.91, num_correct=tensor(15, device='cuda:0')] \n"
     ]
    },
    {
     "name": "stdout",
     "output_type": "stream",
     "text": [
      "           {'epoch': 23, 'train_loss': 0.8992575177779565, 'valid_loss': 0.9216497093439102, 'valid_accuracy': 0.5462184873949579}\n"
     ]
    },
    {
     "name": "stderr",
     "output_type": "stream",
     "text": [
      "Epoch: 24  : 100%|██████████| 26/26 [00:02<00:00, 10.88it/s, loss=0.91, num_correct=None] \n",
      "           : 100%|██████████| 4/4 [00:00<00:00, 12.98it/s, loss=0.927, num_correct=tensor(12, device='cuda:0')]\n"
     ]
    },
    {
     "name": "stdout",
     "output_type": "stream",
     "text": [
      "           {'epoch': 24, 'train_loss': 0.8856791785130134, 'valid_loss': 0.917489230632782, 'valid_accuracy': 0.5378151260504201}\n"
     ]
    },
    {
     "name": "stderr",
     "output_type": "stream",
     "text": [
      "Epoch: 25  : 100%|██████████| 26/26 [00:02<00:00, 12.08it/s, loss=0.96, num_correct=None] \n",
      "           : 100%|██████████| 4/4 [00:00<00:00, 14.18it/s, loss=0.864, num_correct=tensor(13, device='cuda:0')]\n"
     ]
    },
    {
     "name": "stdout",
     "output_type": "stream",
     "text": [
      "           {'epoch': 25, 'train_loss': 0.885550991846965, 'valid_loss': 0.9095965474843979, 'valid_accuracy': 0.5462184873949579}\n"
     ]
    },
    {
     "name": "stderr",
     "output_type": "stream",
     "text": [
      "Epoch: 26  : 100%|██████████| 26/26 [00:02<00:00, 12.80it/s, loss=0.918, num_correct=None]\n",
      "           : 100%|██████████| 4/4 [00:00<00:00, 14.18it/s, loss=0.958, num_correct=tensor(9, device='cuda:0')] \n"
     ]
    },
    {
     "name": "stdout",
     "output_type": "stream",
     "text": [
      "           {'epoch': 26, 'train_loss': 0.8793413432744833, 'valid_loss': 0.9126743823289871, 'valid_accuracy': 0.5546218487394958}\n"
     ]
    },
    {
     "name": "stderr",
     "output_type": "stream",
     "text": [
      "Epoch: 27  : 100%|██████████| 26/26 [00:02<00:00, 12.73it/s, loss=0.974, num_correct=None]\n",
      "           : 100%|██████████| 4/4 [00:00<00:00, 13.38it/s, loss=1.02, num_correct=tensor(11, device='cuda:0')] \n"
     ]
    },
    {
     "name": "stdout",
     "output_type": "stream",
     "text": [
      "           {'epoch': 27, 'train_loss': 0.8748565316200256, 'valid_loss': 0.9125172793865204, 'valid_accuracy': 0.5546218487394958}\n"
     ]
    },
    {
     "name": "stderr",
     "output_type": "stream",
     "text": [
      "Epoch: 28  : 100%|██████████| 26/26 [00:02<00:00, 11.44it/s, loss=0.852, num_correct=None]\n",
      "           : 100%|██████████| 4/4 [00:00<00:00, 13.87it/s, loss=0.901, num_correct=tensor(11, device='cuda:0')]\n"
     ]
    },
    {
     "name": "stdout",
     "output_type": "stream",
     "text": [
      "           {'epoch': 28, 'train_loss': 0.8678293480322912, 'valid_loss': 0.8983232378959656, 'valid_accuracy': 0.5378151260504201}\n"
     ]
    },
    {
     "name": "stderr",
     "output_type": "stream",
     "text": [
      "Epoch: 29  : 100%|██████████| 26/26 [00:02<00:00, 11.24it/s, loss=0.837, num_correct=None]\n",
      "           : 100%|██████████| 4/4 [00:00<00:00, 12.95it/s, loss=0.831, num_correct=tensor(14, device='cuda:0')]\n"
     ]
    },
    {
     "name": "stdout",
     "output_type": "stream",
     "text": [
      "           {'epoch': 29, 'train_loss': 0.8577227798792032, 'valid_loss': 0.8909929394721985, 'valid_accuracy': 0.5462184873949579}\n"
     ]
    },
    {
     "name": "stderr",
     "output_type": "stream",
     "text": [
      "Epoch: 30  : 100%|██████████| 26/26 [00:02<00:00, 11.93it/s, loss=0.879, num_correct=None]\n",
      "           : 100%|██████████| 4/4 [00:00<00:00, 14.04it/s, loss=0.851, num_correct=tensor(14, device='cuda:0')]\n"
     ]
    },
    {
     "name": "stdout",
     "output_type": "stream",
     "text": [
      "           {'epoch': 30, 'train_loss': 0.8513618982755221, 'valid_loss': 0.8884184956550598, 'valid_accuracy': 0.5462184873949579}\n"
     ]
    },
    {
     "name": "stderr",
     "output_type": "stream",
     "text": [
      "Epoch: 31  : 100%|██████████| 26/26 [00:02<00:00, 11.48it/s, loss=0.85, num_correct=None] \n",
      "           : 100%|██████████| 4/4 [00:00<00:00, 13.47it/s, loss=0.904, num_correct=tensor(12, device='cuda:0')]\n"
     ]
    },
    {
     "name": "stdout",
     "output_type": "stream",
     "text": [
      "           {'epoch': 31, 'train_loss': 0.8509245537794553, 'valid_loss': 0.888023167848587, 'valid_accuracy': 0.5630252100840336}\n"
     ]
    },
    {
     "name": "stderr",
     "output_type": "stream",
     "text": [
      "Epoch: 32  : 100%|██████████| 26/26 [00:02<00:00, 11.16it/s, loss=0.811, num_correct=None]\n",
      "           : 100%|██████████| 4/4 [00:00<00:00, 13.38it/s, loss=0.88, num_correct=tensor(13, device='cuda:0')] \n"
     ]
    },
    {
     "name": "stdout",
     "output_type": "stream",
     "text": [
      "           {'epoch': 32, 'train_loss': 0.8415865026987516, 'valid_loss': 0.8841690272092819, 'valid_accuracy': 0.5462184873949579}\n"
     ]
    },
    {
     "name": "stderr",
     "output_type": "stream",
     "text": [
      "Epoch: 33  : 100%|██████████| 26/26 [00:02<00:00, 12.24it/s, loss=0.851, num_correct=None]\n",
      "           : 100%|██████████| 4/4 [00:00<00:00, 13.42it/s, loss=0.843, num_correct=tensor(16, device='cuda:0')]\n"
     ]
    },
    {
     "name": "stdout",
     "output_type": "stream",
     "text": [
      "           {'epoch': 33, 'train_loss': 0.8403823169378134, 'valid_loss': 0.8803027719259262, 'valid_accuracy': 0.5630252100840336}\n"
     ]
    },
    {
     "name": "stderr",
     "output_type": "stream",
     "text": [
      "Epoch: 34  : 100%|██████████| 26/26 [00:02<00:00, 11.62it/s, loss=0.894, num_correct=None]\n",
      "           : 100%|██████████| 4/4 [00:00<00:00, 13.89it/s, loss=0.901, num_correct=tensor(12, device='cuda:0')]\n"
     ]
    },
    {
     "name": "stdout",
     "output_type": "stream",
     "text": [
      "           {'epoch': 34, 'train_loss': 0.8377523766114161, 'valid_loss': 0.8801218867301941, 'valid_accuracy': 0.5546218487394958}\n"
     ]
    },
    {
     "name": "stderr",
     "output_type": "stream",
     "text": [
      "Epoch: 35  : 100%|██████████| 26/26 [00:02<00:00, 11.51it/s, loss=0.807, num_correct=None]\n",
      "           : 100%|██████████| 4/4 [00:00<00:00, 13.56it/s, loss=0.886, num_correct=tensor(14, device='cuda:0')]\n"
     ]
    },
    {
     "name": "stdout",
     "output_type": "stream",
     "text": [
      "           {'epoch': 35, 'train_loss': 0.8289252794705905, 'valid_loss': 0.8731392174959183, 'valid_accuracy': 0.5798319327731093}\n"
     ]
    },
    {
     "name": "stderr",
     "output_type": "stream",
     "text": [
      "Epoch: 36  : 100%|██████████| 26/26 [00:02<00:00, 11.07it/s, loss=0.853, num_correct=None]\n",
      "           : 100%|██████████| 4/4 [00:00<00:00, 13.39it/s, loss=0.86, num_correct=tensor(15, device='cuda:0')] \n"
     ]
    },
    {
     "name": "stdout",
     "output_type": "stream",
     "text": [
      "           {'epoch': 36, 'train_loss': 0.8262938788303962, 'valid_loss': 0.8721033036708832, 'valid_accuracy': 0.5798319327731093}\n"
     ]
    },
    {
     "name": "stderr",
     "output_type": "stream",
     "text": [
      "Epoch: 37  : 100%|██████████| 26/26 [00:02<00:00, 11.34it/s, loss=0.858, num_correct=None]\n",
      "           : 100%|██████████| 4/4 [00:00<00:00, 13.56it/s, loss=0.817, num_correct=tensor(16, device='cuda:0')]\n"
     ]
    },
    {
     "name": "stdout",
     "output_type": "stream",
     "text": [
      "           {'epoch': 37, 'train_loss': 0.8292987850996164, 'valid_loss': 0.8643061965703964, 'valid_accuracy': 0.5546218487394958}\n"
     ]
    },
    {
     "name": "stderr",
     "output_type": "stream",
     "text": [
      "Epoch: 38  : 100%|██████████| 26/26 [00:02<00:00, 11.24it/s, loss=0.843, num_correct=None]\n",
      "           : 100%|██████████| 4/4 [00:00<00:00, 12.70it/s, loss=0.929, num_correct=tensor(14, device='cuda:0')]\n"
     ]
    },
    {
     "name": "stdout",
     "output_type": "stream",
     "text": [
      "           {'epoch': 38, 'train_loss': 0.8203173715334672, 'valid_loss': 0.870806097984314, 'valid_accuracy': 0.5966386554621849}\n"
     ]
    },
    {
     "name": "stderr",
     "output_type": "stream",
     "text": [
      "Epoch: 39  : 100%|██████████| 26/26 [00:02<00:00, 12.16it/s, loss=0.841, num_correct=None]\n",
      "           : 100%|██████████| 4/4 [00:00<00:00, 13.47it/s, loss=0.759, num_correct=tensor(13, device='cuda:0')]\n"
     ]
    },
    {
     "name": "stdout",
     "output_type": "stream",
     "text": [
      "           {'epoch': 39, 'train_loss': 0.8173755430258237, 'valid_loss': 0.8582363426685333, 'valid_accuracy': 0.5714285714285714}\n"
     ]
    },
    {
     "name": "stderr",
     "output_type": "stream",
     "text": [
      "Epoch: 40  : 100%|██████████| 26/26 [00:02<00:00, 11.29it/s, loss=0.864, num_correct=None]\n",
      "           : 100%|██████████| 4/4 [00:00<00:00, 13.47it/s, loss=0.681, num_correct=tensor(18, device='cuda:0')]\n"
     ]
    },
    {
     "name": "stdout",
     "output_type": "stream",
     "text": [
      "           {'epoch': 40, 'train_loss': 0.8153433272471795, 'valid_loss': 0.8487684279680252, 'valid_accuracy': 0.6050420168067226}\n"
     ]
    },
    {
     "name": "stderr",
     "output_type": "stream",
     "text": [
      "Epoch: 41  : 100%|██████████| 26/26 [00:02<00:00, 11.55it/s, loss=0.94, num_correct=None] \n",
      "           : 100%|██████████| 4/4 [00:00<00:00, 13.75it/s, loss=0.896, num_correct=tensor(13, device='cuda:0')]\n"
     ]
    },
    {
     "name": "stdout",
     "output_type": "stream",
     "text": [
      "           {'epoch': 41, 'train_loss': 0.8077055811882019, 'valid_loss': 0.8637499660253525, 'valid_accuracy': 0.6050420168067226}\n"
     ]
    },
    {
     "name": "stderr",
     "output_type": "stream",
     "text": [
      "Epoch: 42  : 100%|██████████| 26/26 [00:02<00:00, 12.52it/s, loss=0.694, num_correct=None]\n",
      "           : 100%|██████████| 4/4 [00:00<00:00, 13.65it/s, loss=0.843, num_correct=tensor(16, device='cuda:0')]\n"
     ]
    },
    {
     "name": "stdout",
     "output_type": "stream",
     "text": [
      "           {'epoch': 42, 'train_loss': 0.8017637156523191, 'valid_loss': 0.8568491786718369, 'valid_accuracy': 0.5882352941176471}\n"
     ]
    },
    {
     "name": "stderr",
     "output_type": "stream",
     "text": [
      "Epoch: 43  : 100%|██████████| 26/26 [00:02<00:00, 11.55it/s, loss=0.879, num_correct=None]\n",
      "           : 100%|██████████| 4/4 [00:00<00:00, 12.55it/s, loss=0.872, num_correct=tensor(15, device='cuda:0')]\n"
     ]
    },
    {
     "name": "stdout",
     "output_type": "stream",
     "text": [
      "           {'epoch': 43, 'train_loss': 0.8048063631241138, 'valid_loss': 0.854590967297554, 'valid_accuracy': 0.6050420168067226}\n"
     ]
    },
    {
     "name": "stderr",
     "output_type": "stream",
     "text": [
      "Epoch: 44  : 100%|██████████| 26/26 [00:02<00:00, 11.35it/s, loss=0.807, num_correct=None]\n",
      "           : 100%|██████████| 4/4 [00:00<00:00, 13.33it/s, loss=0.832, num_correct=tensor(16, device='cuda:0')]\n"
     ]
    },
    {
     "name": "stdout",
     "output_type": "stream",
     "text": [
      "           {'epoch': 44, 'train_loss': 0.8022158283453721, 'valid_loss': 0.8517597168684006, 'valid_accuracy': 0.5966386554621849}\n"
     ]
    },
    {
     "name": "stderr",
     "output_type": "stream",
     "text": [
      "Epoch: 45  : 100%|██████████| 26/26 [00:02<00:00, 11.56it/s, loss=0.718, num_correct=None]\n",
      "           : 100%|██████████| 4/4 [00:00<00:00, 12.50it/s, loss=1, num_correct=tensor(13, device='cuda:0')]    \n"
     ]
    },
    {
     "name": "stdout",
     "output_type": "stream",
     "text": [
      "           {'epoch': 45, 'train_loss': 0.78904455441695, 'valid_loss': 0.8624334037303925, 'valid_accuracy': 0.6050420168067226}\n",
      "Stopping early...\n",
      "\n",
      "Finetuning test...\n"
     ]
    },
    {
     "name": "stderr",
     "output_type": "stream",
     "text": [
      "           : 100%|██████████| 8/8 [00:00<00:00, 13.82it/s, loss=0.524, num_correct=tensor(11, device='cuda:0')]\n"
     ]
    },
    {
     "name": "stdout",
     "output_type": "stream",
     "text": [
      "              precision    recall  f1-score   support\n",
      "\n",
      "    negative       0.70      0.72      0.71        79\n",
      "     neutral       0.58      0.52      0.55        77\n",
      "    positive       0.66      0.70      0.68        81\n",
      "\n",
      "    accuracy                           0.65       237\n",
      "   macro avg       0.65      0.65      0.65       237\n",
      "weighted avg       0.65      0.65      0.65       237\n",
      "\n"
     ]
    },
    {
     "data": {
      "image/png": "[encoded data removed]",
      "text/plain": [
       "<Figure size 640x480 with 2 Axes>"
      ]
     },
     "metadata": {},
     "output_type": "display_data"
    }
   ],
   "source": [
    "global_dataset_train_loop(\"rotten_tomatoes\")"
   ]
  },
  {
   "cell_type": "markdown",
   "metadata": {},
   "source": [
    "## Combined (MyAnimeList, Steam, Metacritic, Rotten Tomatoes)\n",
    "\n",
    "Training BERT on all 4 platforms."
   ]
  },
  {
   "cell_type": "code",
   "execution_count": null,
   "metadata": {},
   "outputs": [
    {
     "name": "stdout",
     "output_type": "stream",
     "text": [
      "Loaded training config:\n"
     ]
    },
    {
     "data": {
      "text/plain": [
       "{'tokenizer': BertTokenizerFast(name_or_path='bert-base-uncased', vocab_size=30522, model_max_length=512, is_fast=True, padding_side='right', truncation_side='right', special_tokens={'unk_token': '[UNK]', 'sep_token': '[SEP]', 'pad_token': '[PAD]', 'cls_token': '[CLS]', 'mask_token': '[MASK]'}, clean_up_tokenization_spaces=False, added_tokens_decoder={\n",
       "\t0: AddedToken(\"[PAD]\", rstrip=False, lstrip=False, single_word=False, normalized=False, special=True),\n",
       "\t100: AddedToken(\"[UNK]\", rstrip=False, lstrip=False, single_word=False, normalized=False, special=True),\n",
       "\t101: AddedToken(\"[CLS]\", rstrip=False, lstrip=False, single_word=False, normalized=False, special=True),\n",
       "\t102: AddedToken(\"[SEP]\", rstrip=False, lstrip=False, single_word=False, normalized=False, special=True),\n",
       "\t103: AddedToken(\"[MASK]\", rstrip=False, lstrip=False, single_word=False, normalized=False, special=True),\n",
       "}\n",
       "), 'pretrained_model_name': '', 'name': 'myanimelist-steam-metacritic-rotten_tomatoes', 'class_names': ['negative', 'neutral', 'positive'], 'stop_delta': 0.05, 'stop_patience': 5, 'train_bert_in_finetune': False, 'max_token_length': 512, 'pretrained_model': None, 'pretrained_dataloaders': None, 'finetuned_classifier_model': None, 'finetuned_dataloaders': None, 'sample_mode': <SampleMode.NONE: 0>}"
      ]
     },
     "metadata": {},
     "output_type": "display_data"
    },
    {
     "name": "stdout",
     "output_type": "stream",
     "text": [
      "Loaded myanimelist-steam-metacritic-rotten_tomatoes:\n"
     ]
    },
    {
     "data": {
      "text/html": [
       "<div>\n",
       "<style scoped>\n",
       "    .dataframe tbody tr th:only-of-type {\n",
       "        vertical-align: middle;\n",
       "    }\n",
       "\n",
       "    .dataframe tbody tr th {\n",
       "        vertical-align: top;\n",
       "    }\n",
       "\n",
       "    .dataframe thead th {\n",
       "        text-align: right;\n",
       "    }\n",
       "</style>\n",
       "<table border=\"1\" class=\"dataframe\">\n",
       "  <thead>\n",
       "    <tr style=\"text-align: right;\">\n",
       "      <th></th>\n",
       "      <th>site</th>\n",
       "      <th>user</th>\n",
       "      <th>review_target</th>\n",
       "      <th>review</th>\n",
       "      <th>score</th>\n",
       "      <th>max_score</th>\n",
       "    </tr>\n",
       "  </thead>\n",
       "  <tbody>\n",
       "    <tr>\n",
       "      <th>0</th>\n",
       "      <td>steam</td>\n",
       "      <td>OldGeezerGamer</td>\n",
       "      <td>theHunter: Call of the Wild™</td>\n",
       "      <td>It is a game so it has its faults and glitches...</td>\n",
       "      <td>1.0</td>\n",
       "      <td>1</td>\n",
       "    </tr>\n",
       "    <tr>\n",
       "      <th>1</th>\n",
       "      <td>steam</td>\n",
       "      <td>DevTwoThousand</td>\n",
       "      <td>Balatro</td>\n",
       "      <td>This game is simple but deceptively nuanced.Th...</td>\n",
       "      <td>1.0</td>\n",
       "      <td>1</td>\n",
       "    </tr>\n",
       "    <tr>\n",
       "      <th>2</th>\n",
       "      <td>MyAnimeList</td>\n",
       "      <td>SQRyoku</td>\n",
       "      <td>Rent-A-Girlfriend</td>\n",
       "      <td>this anime is so guy wrenchingly bad. seeing t...</td>\n",
       "      <td>3.0</td>\n",
       "      <td>10</td>\n",
       "    </tr>\n",
       "    <tr>\n",
       "      <th>3</th>\n",
       "      <td>MyAnimeList</td>\n",
       "      <td>KatrinLouiseo24</td>\n",
       "      <td>Blue Exorcist</td>\n",
       "      <td>If your father is satan and he left you in the...</td>\n",
       "      <td>8.0</td>\n",
       "      <td>10</td>\n",
       "    </tr>\n",
       "    <tr>\n",
       "      <th>4</th>\n",
       "      <td>MyAnimeList</td>\n",
       "      <td>IIGearZeroII</td>\n",
       "      <td>Angel Beats!</td>\n",
       "      <td>Angel Beats...laughter...tears...really Clanna...</td>\n",
       "      <td>9.0</td>\n",
       "      <td>10</td>\n",
       "    </tr>\n",
       "    <tr>\n",
       "      <th>...</th>\n",
       "      <td>...</td>\n",
       "      <td>...</td>\n",
       "      <td>...</td>\n",
       "      <td>...</td>\n",
       "      <td>...</td>\n",
       "      <td>...</td>\n",
       "    </tr>\n",
       "    <tr>\n",
       "      <th>47536</th>\n",
       "      <td>metacritic</td>\n",
       "      <td>Dekkerdson</td>\n",
       "      <td>valorant</td>\n",
       "      <td>Intriguing tactical shooter with satisfying gu...</td>\n",
       "      <td>7.0</td>\n",
       "      <td>10</td>\n",
       "    </tr>\n",
       "    <tr>\n",
       "      <th>47537</th>\n",
       "      <td>steam</td>\n",
       "      <td>Schokomilch</td>\n",
       "      <td>The Outlast Trials</td>\n",
       "      <td>died two times right before the exit with my f...</td>\n",
       "      <td>1.0</td>\n",
       "      <td>1</td>\n",
       "    </tr>\n",
       "    <tr>\n",
       "      <th>47538</th>\n",
       "      <td>MyAnimeList</td>\n",
       "      <td>SummerMambo</td>\n",
       "      <td>Silver Spoon</td>\n",
       "      <td>Note: This is a SPOILER FREE review! Feel free...</td>\n",
       "      <td>10.0</td>\n",
       "      <td>10</td>\n",
       "    </tr>\n",
       "    <tr>\n",
       "      <th>47539</th>\n",
       "      <td>MyAnimeList</td>\n",
       "      <td>LordAura</td>\n",
       "      <td>Psycho-Pass</td>\n",
       "      <td>\"In the future, the men and women of the Publi...</td>\n",
       "      <td>9.0</td>\n",
       "      <td>10</td>\n",
       "    </tr>\n",
       "    <tr>\n",
       "      <th>47540</th>\n",
       "      <td>MyAnimeList</td>\n",
       "      <td>ktulu007</td>\n",
       "      <td>JoJo's Bizarre Adventure</td>\n",
       "      <td>Jojo's Bizarre Adventure is one of those anime...</td>\n",
       "      <td>7.0</td>\n",
       "      <td>10</td>\n",
       "    </tr>\n",
       "  </tbody>\n",
       "</table>\n",
       "<p>47541 rows × 6 columns</p>\n",
       "</div>"
      ],
      "text/plain": [
       "              site             user                 review_target  \\\n",
       "0            steam   OldGeezerGamer  theHunter: Call of the Wild™   \n",
       "1            steam   DevTwoThousand                       Balatro   \n",
       "2      MyAnimeList          SQRyoku             Rent-A-Girlfriend   \n",
       "3      MyAnimeList  KatrinLouiseo24                 Blue Exorcist   \n",
       "4      MyAnimeList     IIGearZeroII                  Angel Beats!   \n",
       "...            ...              ...                           ...   \n",
       "47536   metacritic       Dekkerdson                      valorant   \n",
       "47537        steam      Schokomilch            The Outlast Trials   \n",
       "47538  MyAnimeList      SummerMambo                  Silver Spoon   \n",
       "47539  MyAnimeList         LordAura                   Psycho-Pass   \n",
       "47540  MyAnimeList         ktulu007      JoJo's Bizarre Adventure   \n",
       "\n",
       "                                                  review  score  max_score  \n",
       "0      It is a game so it has its faults and glitches...    1.0          1  \n",
       "1      This game is simple but deceptively nuanced.Th...    1.0          1  \n",
       "2      this anime is so guy wrenchingly bad. seeing t...    3.0         10  \n",
       "3      If your father is satan and he left you in the...    8.0         10  \n",
       "4      Angel Beats...laughter...tears...really Clanna...    9.0         10  \n",
       "...                                                  ...    ...        ...  \n",
       "47536  Intriguing tactical shooter with satisfying gu...    7.0         10  \n",
       "47537  died two times right before the exit with my f...    1.0          1  \n",
       "47538  Note: This is a SPOILER FREE review! Feel free...   10.0         10  \n",
       "47539  \"In the future, the men and women of the Publi...    9.0         10  \n",
       "47540  Jojo's Bizarre Adventure is one of those anime...    7.0         10  \n",
       "\n",
       "[47541 rows x 6 columns]"
      ]
     },
     "metadata": {},
     "output_type": "display_data"
    },
    {
     "data": {
      "image/png": "[encoded data removed]",
      "text/plain": [
       "<Figure size 640x480 with 1 Axes>"
      ]
     },
     "metadata": {},
     "output_type": "display_data"
    },
    {
     "data": {
      "image/png": "[encoded data removed]",
      "text/plain": [
       "<Figure size 640x480 with 1 Axes>"
      ]
     },
     "metadata": {},
     "output_type": "display_data"
    },
    {
     "name": "stdout",
     "output_type": "stream",
     "text": [
      "Original dataset size: 47541\n",
      "Sampled dataset size: 47541\n"
     ]
    },
    {
     "data": {
      "text/html": [
       "<div>\n",
       "<style scoped>\n",
       "    .dataframe tbody tr th:only-of-type {\n",
       "        vertical-align: middle;\n",
       "    }\n",
       "\n",
       "    .dataframe tbody tr th {\n",
       "        vertical-align: top;\n",
       "    }\n",
       "\n",
       "    .dataframe thead th {\n",
       "        text-align: right;\n",
       "    }\n",
       "</style>\n",
       "<table border=\"1\" class=\"dataframe\">\n",
       "  <thead>\n",
       "    <tr style=\"text-align: right;\">\n",
       "      <th></th>\n",
       "      <th>site</th>\n",
       "      <th>user</th>\n",
       "      <th>review_target</th>\n",
       "      <th>review</th>\n",
       "      <th>score</th>\n",
       "      <th>max_score</th>\n",
       "      <th>norm_score</th>\n",
       "      <th>sentiment_score</th>\n",
       "    </tr>\n",
       "  </thead>\n",
       "  <tbody>\n",
       "    <tr>\n",
       "      <th>0</th>\n",
       "      <td>steam</td>\n",
       "      <td>OldGeezerGamer</td>\n",
       "      <td>theHunter: Call of the Wild™</td>\n",
       "      <td>It is a game so it has its faults and glitches...</td>\n",
       "      <td>1.0</td>\n",
       "      <td>1</td>\n",
       "      <td>1.0</td>\n",
       "      <td>2</td>\n",
       "    </tr>\n",
       "    <tr>\n",
       "      <th>1</th>\n",
       "      <td>steam</td>\n",
       "      <td>DevTwoThousand</td>\n",
       "      <td>Balatro</td>\n",
       "      <td>This game is simple but deceptively nuanced.Th...</td>\n",
       "      <td>1.0</td>\n",
       "      <td>1</td>\n",
       "      <td>1.0</td>\n",
       "      <td>2</td>\n",
       "    </tr>\n",
       "    <tr>\n",
       "      <th>2</th>\n",
       "      <td>MyAnimeList</td>\n",
       "      <td>SQRyoku</td>\n",
       "      <td>Rent-A-Girlfriend</td>\n",
       "      <td>this anime is so guy wrenchingly bad. seeing t...</td>\n",
       "      <td>3.0</td>\n",
       "      <td>10</td>\n",
       "      <td>0.3</td>\n",
       "      <td>0</td>\n",
       "    </tr>\n",
       "    <tr>\n",
       "      <th>3</th>\n",
       "      <td>MyAnimeList</td>\n",
       "      <td>KatrinLouiseo24</td>\n",
       "      <td>Blue Exorcist</td>\n",
       "      <td>If your father is satan and he left you in the...</td>\n",
       "      <td>8.0</td>\n",
       "      <td>10</td>\n",
       "      <td>0.8</td>\n",
       "      <td>2</td>\n",
       "    </tr>\n",
       "    <tr>\n",
       "      <th>4</th>\n",
       "      <td>MyAnimeList</td>\n",
       "      <td>IIGearZeroII</td>\n",
       "      <td>Angel Beats!</td>\n",
       "      <td>Angel Beats...laughter...tears...really Clanna...</td>\n",
       "      <td>9.0</td>\n",
       "      <td>10</td>\n",
       "      <td>0.9</td>\n",
       "      <td>2</td>\n",
       "    </tr>\n",
       "    <tr>\n",
       "      <th>...</th>\n",
       "      <td>...</td>\n",
       "      <td>...</td>\n",
       "      <td>...</td>\n",
       "      <td>...</td>\n",
       "      <td>...</td>\n",
       "      <td>...</td>\n",
       "      <td>...</td>\n",
       "      <td>...</td>\n",
       "    </tr>\n",
       "    <tr>\n",
       "      <th>47536</th>\n",
       "      <td>metacritic</td>\n",
       "      <td>Dekkerdson</td>\n",
       "      <td>valorant</td>\n",
       "      <td>Intriguing tactical shooter with satisfying gu...</td>\n",
       "      <td>7.0</td>\n",
       "      <td>10</td>\n",
       "      <td>0.7</td>\n",
       "      <td>2</td>\n",
       "    </tr>\n",
       "    <tr>\n",
       "      <th>47537</th>\n",
       "      <td>steam</td>\n",
       "      <td>Schokomilch</td>\n",
       "      <td>The Outlast Trials</td>\n",
       "      <td>died two times right before the exit with my f...</td>\n",
       "      <td>1.0</td>\n",
       "      <td>1</td>\n",
       "      <td>1.0</td>\n",
       "      <td>2</td>\n",
       "    </tr>\n",
       "    <tr>\n",
       "      <th>47538</th>\n",
       "      <td>MyAnimeList</td>\n",
       "      <td>SummerMambo</td>\n",
       "      <td>Silver Spoon</td>\n",
       "      <td>Note: This is a SPOILER FREE review! Feel free...</td>\n",
       "      <td>10.0</td>\n",
       "      <td>10</td>\n",
       "      <td>1.0</td>\n",
       "      <td>2</td>\n",
       "    </tr>\n",
       "    <tr>\n",
       "      <th>47539</th>\n",
       "      <td>MyAnimeList</td>\n",
       "      <td>LordAura</td>\n",
       "      <td>Psycho-Pass</td>\n",
       "      <td>\"In the future, the men and women of the Publi...</td>\n",
       "      <td>9.0</td>\n",
       "      <td>10</td>\n",
       "      <td>0.9</td>\n",
       "      <td>2</td>\n",
       "    </tr>\n",
       "    <tr>\n",
       "      <th>47540</th>\n",
       "      <td>MyAnimeList</td>\n",
       "      <td>ktulu007</td>\n",
       "      <td>JoJo's Bizarre Adventure</td>\n",
       "      <td>Jojo's Bizarre Adventure is one of those anime...</td>\n",
       "      <td>7.0</td>\n",
       "      <td>10</td>\n",
       "      <td>0.7</td>\n",
       "      <td>2</td>\n",
       "    </tr>\n",
       "  </tbody>\n",
       "</table>\n",
       "<p>47541 rows × 8 columns</p>\n",
       "</div>"
      ],
      "text/plain": [
       "              site             user                 review_target  \\\n",
       "0            steam   OldGeezerGamer  theHunter: Call of the Wild™   \n",
       "1            steam   DevTwoThousand                       Balatro   \n",
       "2      MyAnimeList          SQRyoku             Rent-A-Girlfriend   \n",
       "3      MyAnimeList  KatrinLouiseo24                 Blue Exorcist   \n",
       "4      MyAnimeList     IIGearZeroII                  Angel Beats!   \n",
       "...            ...              ...                           ...   \n",
       "47536   metacritic       Dekkerdson                      valorant   \n",
       "47537        steam      Schokomilch            The Outlast Trials   \n",
       "47538  MyAnimeList      SummerMambo                  Silver Spoon   \n",
       "47539  MyAnimeList         LordAura                   Psycho-Pass   \n",
       "47540  MyAnimeList         ktulu007      JoJo's Bizarre Adventure   \n",
       "\n",
       "                                                  review  score  max_score  \\\n",
       "0      It is a game so it has its faults and glitches...    1.0          1   \n",
       "1      This game is simple but deceptively nuanced.Th...    1.0          1   \n",
       "2      this anime is so guy wrenchingly bad. seeing t...    3.0         10   \n",
       "3      If your father is satan and he left you in the...    8.0         10   \n",
       "4      Angel Beats...laughter...tears...really Clanna...    9.0         10   \n",
       "...                                                  ...    ...        ...   \n",
       "47536  Intriguing tactical shooter with satisfying gu...    7.0         10   \n",
       "47537  died two times right before the exit with my f...    1.0          1   \n",
       "47538  Note: This is a SPOILER FREE review! Feel free...   10.0         10   \n",
       "47539  \"In the future, the men and women of the Publi...    9.0         10   \n",
       "47540  Jojo's Bizarre Adventure is one of those anime...    7.0         10   \n",
       "\n",
       "       norm_score  sentiment_score  \n",
       "0             1.0                2  \n",
       "1             1.0                2  \n",
       "2             0.3                0  \n",
       "3             0.8                2  \n",
       "4             0.9                2  \n",
       "...           ...              ...  \n",
       "47536         0.7                2  \n",
       "47537         1.0                2  \n",
       "47538         1.0                2  \n",
       "47539         0.9                2  \n",
       "47540         0.7                2  \n",
       "\n",
       "[47541 rows x 8 columns]"
      ]
     },
     "metadata": {},
     "output_type": "display_data"
    },
    {
     "name": "stdout",
     "output_type": "stream",
     "text": [
      "Loading masked dataset:\n",
      "    Loading existing dataset file @ myanimelist-steam-metacritic-rotten_tomatoes_masked_data.dt...\n",
      "Loading reviews dataset:\n",
      "    Loading existing dataset file @ myanimelist-steam-metacritic-rotten_tomatoes_reviews_data.dt...\n",
      "Masked pretraining:\n",
      "    train_dataloader: (1040 batches)\n",
      "    test_dataloader: (298 batches)\n",
      "    valid_dataloader: (149 batches)\n",
      "Reviews training:\n",
      "    train_dataloader: (237 batches)\n",
      "    test_dataloader: (68 batches)\n",
      "    valid_dataloader: (34 batches)\n",
      "Training start for 'myanimelist-steam-metacritic-rotten_tomatoes' finetuning...\n"
     ]
    },
    {
     "data": {
      "image/png": "[encoded data removed]",
      "text/plain": [
       "<Figure size 640x480 with 1 Axes>"
      ]
     },
     "metadata": {},
     "output_type": "display_data"
    },
    {
     "name": "stderr",
     "output_type": "stream",
     "text": [
      "Epoch: 0   : 100%|██████████| 237/237 [00:19<00:00, 12.44it/s, loss=0.986, num_correct=None]\n",
      "           : 100%|██████████| 34/34 [00:02<00:00, 12.79it/s, loss=1.02, num_correct=tensor(16, device='cuda:0')] \n"
     ]
    },
    {
     "name": "stderr",
     "output_type": "stream",
     "text": [
      "Epoch: 1   : 100%|██████████| 237/237 [00:19<00:00, 12.34it/s, loss=0.828, num_correct=None]\n",
      "           : 100%|██████████| 34/34 [00:02<00:00, 12.50it/s, loss=0.772, num_correct=tensor(18, device='cuda:0')]\n"
     ]
    },
    {
     "name": "stdout",
     "output_type": "stream",
     "text": [
      "           {'epoch': 1, 'train_loss': 0.9158625768709786, 'valid_loss': 0.8773109509664423, 'valid_accuracy': 0.6149584487534626}\n"
     ]
    },
    {
     "name": "stderr",
     "output_type": "stream",
     "text": [
      "Epoch: 2   : 100%|██████████| 237/237 [00:19<00:00, 11.99it/s, loss=0.962, num_correct=None]\n",
      "           : 100%|██████████| 34/34 [00:02<00:00, 12.54it/s, loss=0.736, num_correct=tensor(20, device='cuda:0')]\n"
     ]
    },
    {
     "name": "stdout",
     "output_type": "stream",
     "text": [
      "           {'epoch': 2, 'train_loss': 0.8630476679480026, 'valid_loss': 0.8354508578777313, 'valid_accuracy': 0.6389658356417359}\n"
     ]
    },
    {
     "name": "stderr",
     "output_type": "stream",
     "text": [
      "Epoch: 3   : 100%|██████████| 237/237 [00:19<00:00, 11.96it/s, loss=0.828, num_correct=None]\n",
      "           : 100%|██████████| 34/34 [00:02<00:00, 12.57it/s, loss=0.743, num_correct=tensor(20, device='cuda:0')]\n"
     ]
    },
    {
     "name": "stdout",
     "output_type": "stream",
     "text": [
      "           {'epoch': 3, 'train_loss': 0.825420759398223, 'valid_loss': 0.8040713580215678, 'valid_accuracy': 0.6703601108033241}\n"
     ]
    },
    {
     "name": "stderr",
     "output_type": "stream",
     "text": [
      "Epoch: 4   : 100%|██████████| 237/237 [00:19<00:00, 11.98it/s, loss=0.786, num_correct=None]\n",
      "           : 100%|██████████| 34/34 [00:02<00:00, 12.56it/s, loss=0.836, num_correct=tensor(16, device='cuda:0')]\n"
     ]
    },
    {
     "name": "stdout",
     "output_type": "stream",
     "text": [
      "           {'epoch': 4, 'train_loss': 0.7998366343321176, 'valid_loss': 0.7797345869681415, 'valid_accuracy': 0.6795937211449676}\n"
     ]
    },
    {
     "name": "stderr",
     "output_type": "stream",
     "text": [
      "Epoch: 5   : 100%|██████████| 237/237 [00:19<00:00, 12.05it/s, loss=0.688, num_correct=None]\n",
      "           : 100%|██████████| 34/34 [00:02<00:00, 12.54it/s, loss=0.648, num_correct=tensor(21, device='cuda:0')]\n"
     ]
    },
    {
     "name": "stdout",
     "output_type": "stream",
     "text": [
      "           {'epoch': 5, 'train_loss': 0.78177721062793, 'valid_loss': 0.7605160755269668, 'valid_accuracy': 0.6915974145891043}\n"
     ]
    },
    {
     "name": "stderr",
     "output_type": "stream",
     "text": [
      "Epoch: 6   : 100%|██████████| 237/237 [00:19<00:00, 12.24it/s, loss=0.606, num_correct=None]\n",
      "           : 100%|██████████| 34/34 [00:02<00:00, 12.81it/s, loss=0.626, num_correct=tensor(22, device='cuda:0')]\n"
     ]
    },
    {
     "name": "stdout",
     "output_type": "stream",
     "text": [
      "           {'epoch': 6, 'train_loss': 0.7645452286623702, 'valid_loss': 0.7496696657994214, 'valid_accuracy': 0.6906740535549399}\n"
     ]
    },
    {
     "name": "stderr",
     "output_type": "stream",
     "text": [
      "Epoch: 7   : 100%|██████████| 237/237 [00:19<00:00, 12.26it/s, loss=0.78, num_correct=None] \n",
      "           : 100%|██████████| 34/34 [00:02<00:00, 12.82it/s, loss=0.589, num_correct=tensor(21, device='cuda:0')]\n"
     ]
    },
    {
     "name": "stdout",
     "output_type": "stream",
     "text": [
      "           {'epoch': 7, 'train_loss': 0.7550596753253213, 'valid_loss': 0.7342143234084634, 'valid_accuracy': 0.6952908587257618}\n"
     ]
    },
    {
     "name": "stderr",
     "output_type": "stream",
     "text": [
      "Epoch: 8   : 100%|██████████| 237/237 [00:19<00:00, 12.02it/s, loss=0.702, num_correct=None]\n",
      "           : 100%|██████████| 34/34 [00:02<00:00, 12.36it/s, loss=0.667, num_correct=tensor(20, device='cuda:0')]\n"
     ]
    },
    {
     "name": "stdout",
     "output_type": "stream",
     "text": [
      "           {'epoch': 8, 'train_loss': 0.742288749429244, 'valid_loss': 0.7259809199501487, 'valid_accuracy': 0.6999076638965835}\n"
     ]
    },
    {
     "name": "stderr",
     "output_type": "stream",
     "text": [
      "Epoch: 9   : 100%|██████████| 237/237 [00:19<00:00, 12.07it/s, loss=0.726, num_correct=None]\n",
      "           : 100%|██████████| 34/34 [00:02<00:00, 12.63it/s, loss=0.804, num_correct=tensor(17, device='cuda:0')]\n"
     ]
    },
    {
     "name": "stdout",
     "output_type": "stream",
     "text": [
      "           {'epoch': 9, 'train_loss': 0.733168133577717, 'valid_loss': 0.7237282693386078, 'valid_accuracy': 0.6971375807940905}\n"
     ]
    },
    {
     "name": "stderr",
     "output_type": "stream",
     "text": [
      "Epoch: 10  : 100%|██████████| 237/237 [00:19<00:00, 12.39it/s, loss=0.859, num_correct=None]\n",
      "           : 100%|██████████| 34/34 [00:02<00:00, 12.91it/s, loss=0.755, num_correct=tensor(18, device='cuda:0')]\n"
     ]
    },
    {
     "name": "stdout",
     "output_type": "stream",
     "text": [
      "           {'epoch': 10, 'train_loss': 0.7275416677511191, 'valid_loss': 0.7155209963812548, 'valid_accuracy': 0.7017543859649122}\n"
     ]
    },
    {
     "name": "stderr",
     "output_type": "stream",
     "text": [
      "Epoch: 11  : 100%|██████████| 237/237 [00:19<00:00, 12.31it/s, loss=0.574, num_correct=None]\n",
      "           : 100%|██████████| 34/34 [00:02<00:00, 12.91it/s, loss=0.761, num_correct=tensor(17, device='cuda:0')]\n"
     ]
    },
    {
     "name": "stdout",
     "output_type": "stream",
     "text": [
      "           {'epoch': 11, 'train_loss': 0.722415737336195, 'valid_loss': 0.710055947303772, 'valid_accuracy': 0.7045244690674054}\n"
     ]
    },
    {
     "name": "stderr",
     "output_type": "stream",
     "text": [
      "Epoch: 12  : 100%|██████████| 237/237 [00:19<00:00, 12.32it/s, loss=0.805, num_correct=None]\n",
      "           : 100%|██████████| 34/34 [00:02<00:00, 12.94it/s, loss=0.613, num_correct=tensor(21, device='cuda:0')]\n"
     ]
    },
    {
     "name": "stdout",
     "output_type": "stream",
     "text": [
      "           {'epoch': 12, 'train_loss': 0.7152074336502623, 'valid_loss': 0.7078552552882362, 'valid_accuracy': 0.7045244690674054}\n"
     ]
    },
    {
     "name": "stderr",
     "output_type": "stream",
     "text": [
      "Epoch: 13  : 100%|██████████| 237/237 [00:19<00:00, 12.31it/s, loss=0.63, num_correct=None] \n",
      "           : 100%|██████████| 34/34 [00:02<00:00, 12.90it/s, loss=0.857, num_correct=tensor(15, device='cuda:0')]\n"
     ]
    },
    {
     "name": "stdout",
     "output_type": "stream",
     "text": [
      "           {'epoch': 13, 'train_loss': 0.7122529775281495, 'valid_loss': 0.70303135146113, 'valid_accuracy': 0.7091412742382271}\n"
     ]
    },
    {
     "name": "stderr",
     "output_type": "stream",
     "text": [
      "Epoch: 14  : 100%|██████████| 237/237 [00:19<00:00, 12.34it/s, loss=0.75, num_correct=None] \n",
      "           : 100%|██████████| 34/34 [00:02<00:00, 12.93it/s, loss=0.515, num_correct=tensor(23, device='cuda:0')]\n"
     ]
    },
    {
     "name": "stdout",
     "output_type": "stream",
     "text": [
      "           {'epoch': 14, 'train_loss': 0.7083786103544356, 'valid_loss': 0.6994525106514201, 'valid_accuracy': 0.7082179132040628}\n"
     ]
    },
    {
     "name": "stderr",
     "output_type": "stream",
     "text": [
      "Epoch: 15  : 100%|██████████| 237/237 [00:19<00:00, 12.31it/s, loss=0.842, num_correct=None]\n",
      "           : 100%|██████████| 34/34 [00:02<00:00, 12.87it/s, loss=0.557, num_correct=tensor(22, device='cuda:0')]\n"
     ]
    },
    {
     "name": "stdout",
     "output_type": "stream",
     "text": [
      "           {'epoch': 15, 'train_loss': 0.7039099577107008, 'valid_loss': 0.6962710654034334, 'valid_accuracy': 0.7109879963065558}\n"
     ]
    },
    {
     "name": "stderr",
     "output_type": "stream",
     "text": [
      "Epoch: 16  : 100%|██████████| 237/237 [00:19<00:00, 12.29it/s, loss=0.824, num_correct=None]\n",
      "           : 100%|██████████| 34/34 [00:02<00:00, 12.83it/s, loss=0.58, num_correct=tensor(22, device='cuda:0')] \n"
     ]
    },
    {
     "name": "stdout",
     "output_type": "stream",
     "text": [
      "           {'epoch': 16, 'train_loss': 0.7005054718079949, 'valid_loss': 0.694661804858376, 'valid_accuracy': 0.716528162511542}\n"
     ]
    },
    {
     "name": "stderr",
     "output_type": "stream",
     "text": [
      "Epoch: 17  : 100%|██████████| 237/237 [00:19<00:00, 12.39it/s, loss=0.751, num_correct=None]\n",
      "           : 100%|██████████| 34/34 [00:02<00:00, 12.93it/s, loss=0.638, num_correct=tensor(21, device='cuda:0')]\n"
     ]
    },
    {
     "name": "stdout",
     "output_type": "stream",
     "text": [
      "           {'epoch': 17, 'train_loss': 0.7007298928524371, 'valid_loss': 0.6921336598256055, 'valid_accuracy': 0.7091412742382271}\n"
     ]
    },
    {
     "name": "stderr",
     "output_type": "stream",
     "text": [
      "Epoch: 18  : 100%|██████████| 237/237 [00:19<00:00, 12.35it/s, loss=0.85, num_correct=None] \n",
      "           : 100%|██████████| 34/34 [00:02<00:00, 12.91it/s, loss=0.91, num_correct=tensor(18, device='cuda:0')] \n"
     ]
    },
    {
     "name": "stdout",
     "output_type": "stream",
     "text": [
      "           {'epoch': 18, 'train_loss': 0.6958990466745594, 'valid_loss': 0.691307453548207, 'valid_accuracy': 0.7119113573407202}\n"
     ]
    },
    {
     "name": "stderr",
     "output_type": "stream",
     "text": [
      "Epoch: 19  : 100%|██████████| 237/237 [00:19<00:00, 12.33it/s, loss=1.11, num_correct=None] \n",
      "           : 100%|██████████| 34/34 [00:02<00:00, 12.91it/s, loss=0.589, num_correct=tensor(21, device='cuda:0')]\n"
     ]
    },
    {
     "name": "stdout",
     "output_type": "stream",
     "text": [
      "           {'epoch': 19, 'train_loss': 0.6917628366735917, 'valid_loss': 0.689355202457484, 'valid_accuracy': 0.7119113573407202}\n"
     ]
    },
    {
     "name": "stderr",
     "output_type": "stream",
     "text": [
      "Epoch: 20  : 100%|██████████| 237/237 [00:19<00:00, 12.35it/s, loss=0.531, num_correct=None]\n",
      "           : 100%|██████████| 34/34 [00:02<00:00, 12.89it/s, loss=0.545, num_correct=tensor(20, device='cuda:0')]\n"
     ]
    },
    {
     "name": "stdout",
     "output_type": "stream",
     "text": [
      "           {'epoch': 20, 'train_loss': 0.6925001499019091, 'valid_loss': 0.6867656918133006, 'valid_accuracy': 0.7137580794090489}\n"
     ]
    },
    {
     "name": "stderr",
     "output_type": "stream",
     "text": [
      "Epoch: 21  : 100%|██████████| 237/237 [00:19<00:00, 12.35it/s, loss=0.63, num_correct=None] \n",
      "           : 100%|██████████| 34/34 [00:02<00:00, 12.87it/s, loss=0.803, num_correct=tensor(18, device='cuda:0')]\n"
     ]
    },
    {
     "name": "stdout",
     "output_type": "stream",
     "text": [
      "           {'epoch': 21, 'train_loss': 0.6880607821267365, 'valid_loss': 0.6882183507961386, 'valid_accuracy': 0.7156048014773777}\n"
     ]
    },
    {
     "name": "stderr",
     "output_type": "stream",
     "text": [
      "Epoch: 22  : 100%|██████████| 237/237 [00:19<00:00, 12.34it/s, loss=0.778, num_correct=None]\n",
      "           : 100%|██████████| 34/34 [00:02<00:00, 12.88it/s, loss=0.617, num_correct=tensor(20, device='cuda:0')]\n"
     ]
    },
    {
     "name": "stdout",
     "output_type": "stream",
     "text": [
      "           {'epoch': 22, 'train_loss': 0.6911970281399755, 'valid_loss': 0.6903795731418273, 'valid_accuracy': 0.7082179132040628}\n"
     ]
    },
    {
     "name": "stderr",
     "output_type": "stream",
     "text": [
      "Epoch: 23  : 100%|██████████| 237/237 [00:19<00:00, 12.44it/s, loss=0.697, num_correct=None]\n",
      "           : 100%|██████████| 34/34 [00:02<00:00, 12.89it/s, loss=0.615, num_correct=tensor(21, device='cuda:0')]\n"
     ]
    },
    {
     "name": "stdout",
     "output_type": "stream",
     "text": [
      "           {'epoch': 23, 'train_loss': 0.6872214798182877, 'valid_loss': 0.6865144968032837, 'valid_accuracy': 0.7091412742382271}\n"
     ]
    },
    {
     "name": "stderr",
     "output_type": "stream",
     "text": [
      "Epoch: 24  : 100%|██████████| 237/237 [00:19<00:00, 12.34it/s, loss=0.828, num_correct=None]\n",
      "           : 100%|██████████| 34/34 [00:02<00:00, 12.90it/s, loss=0.864, num_correct=tensor(18, device='cuda:0')]\n"
     ]
    },
    {
     "name": "stdout",
     "output_type": "stream",
     "text": [
      "           {'epoch': 24, 'train_loss': 0.6850658020138237, 'valid_loss': 0.6838269242469002, 'valid_accuracy': 0.7146814404432132}\n"
     ]
    },
    {
     "name": "stderr",
     "output_type": "stream",
     "text": [
      "Epoch: 25  : 100%|██████████| 237/237 [00:19<00:00, 12.36it/s, loss=0.502, num_correct=None]\n",
      "           : 100%|██████████| 34/34 [00:02<00:00, 12.91it/s, loss=0.92, num_correct=tensor(16, device='cuda:0')] \n"
     ]
    },
    {
     "name": "stdout",
     "output_type": "stream",
     "text": [
      "           {'epoch': 25, 'train_loss': 0.6839650533621824, 'valid_loss': 0.6819929480552673, 'valid_accuracy': 0.716528162511542}\n"
     ]
    },
    {
     "name": "stderr",
     "output_type": "stream",
     "text": [
      "Epoch: 26  : 100%|██████████| 237/237 [00:19<00:00, 12.33it/s, loss=0.467, num_correct=None]\n",
      "           : 100%|██████████| 34/34 [00:02<00:00, 12.90it/s, loss=0.603, num_correct=tensor(21, device='cuda:0')]\n"
     ]
    },
    {
     "name": "stdout",
     "output_type": "stream",
     "text": [
      "           {'epoch': 26, 'train_loss': 0.6827116432572216, 'valid_loss': 0.6787183013032464, 'valid_accuracy': 0.7128347183748845}\n"
     ]
    },
    {
     "name": "stderr",
     "output_type": "stream",
     "text": [
      "Epoch: 27  : 100%|██████████| 237/237 [00:19<00:00, 12.19it/s, loss=0.54, num_correct=None] \n",
      "           : 100%|██████████| 34/34 [00:02<00:00, 12.64it/s, loss=0.773, num_correct=tensor(19, device='cuda:0')]\n"
     ]
    },
    {
     "name": "stdout",
     "output_type": "stream",
     "text": [
      "           {'epoch': 27, 'train_loss': 0.6805510564946927, 'valid_loss': 0.6783505941138548, 'valid_accuracy': 0.7128347183748845}\n"
     ]
    },
    {
     "name": "stderr",
     "output_type": "stream",
     "text": [
      "Epoch: 28  : 100%|██████████| 237/237 [00:19<00:00, 12.09it/s, loss=0.827, num_correct=None]\n",
      "           : 100%|██████████| 34/34 [00:02<00:00, 12.89it/s, loss=0.61, num_correct=tensor(21, device='cuda:0')] \n"
     ]
    },
    {
     "name": "stdout",
     "output_type": "stream",
     "text": [
      "           {'epoch': 28, 'train_loss': 0.6756129106388816, 'valid_loss': 0.676350490135305, 'valid_accuracy': 0.7128347183748845}\n"
     ]
    },
    {
     "name": "stderr",
     "output_type": "stream",
     "text": [
      "Epoch: 29  : 100%|██████████| 237/237 [00:19<00:00, 11.96it/s, loss=0.504, num_correct=None]\n",
      "           : 100%|██████████| 34/34 [00:02<00:00, 12.49it/s, loss=0.705, num_correct=tensor(18, device='cuda:0')]\n"
     ]
    },
    {
     "name": "stdout",
     "output_type": "stream",
     "text": [
      "           {'epoch': 29, 'train_loss': 0.6753895062686018, 'valid_loss': 0.6744519945453195, 'valid_accuracy': 0.7137580794090489}\n"
     ]
    },
    {
     "name": "stderr",
     "output_type": "stream",
     "text": [
      "Epoch: 30  : 100%|██████████| 237/237 [00:19<00:00, 12.09it/s, loss=0.71, num_correct=None] \n",
      "           : 100%|██████████| 34/34 [00:02<00:00, 13.02it/s, loss=0.738, num_correct=tensor(20, device='cuda:0')]\n"
     ]
    },
    {
     "name": "stdout",
     "output_type": "stream",
     "text": [
      "           {'epoch': 30, 'train_loss': 0.6735315969221702, 'valid_loss': 0.6744306736132678, 'valid_accuracy': 0.7137580794090489}\n"
     ]
    },
    {
     "name": "stderr",
     "output_type": "stream",
     "text": [
      "Epoch: 31  : 100%|██████████| 237/237 [00:19<00:00, 12.43it/s, loss=0.664, num_correct=None]\n",
      "           : 100%|██████████| 34/34 [00:02<00:00, 13.00it/s, loss=0.816, num_correct=tensor(15, device='cuda:0')]\n"
     ]
    },
    {
     "name": "stdout",
     "output_type": "stream",
     "text": [
      "           {'epoch': 31, 'train_loss': 0.6730235491875355, 'valid_loss': 0.6762373938279993, 'valid_accuracy': 0.7128347183748845}\n",
      "Stopping early...\n",
      "\n",
      "Finetuning test...\n"
     ]
    },
    {
     "name": "stderr",
     "output_type": "stream",
     "text": [
      "           : 100%|██████████| 68/68 [00:05<00:00, 12.62it/s, loss=0.662, num_correct=tensor(17, device='cuda:0')]\n"
     ]
    },
    {
     "name": "stdout",
     "output_type": "stream",
     "text": [
      "              precision    recall  f1-score   support\n",
      "\n",
      "    negative       0.72      0.68      0.70       707\n",
      "     neutral       0.68      0.74      0.71       718\n",
      "    positive       0.70      0.68      0.69       742\n",
      "\n",
      "    accuracy                           0.70      2167\n",
      "   macro avg       0.70      0.70      0.70      2167\n",
      "weighted avg       0.70      0.70      0.70      2167\n",
      "\n"
     ]
    },
    {
     "data": {
      "image/png": "[encoded data removed]",
      "text/plain": [
       "<Figure size 640x480 with 2 Axes>"
      ]
     },
     "metadata": {},
     "output_type": "display_data"
    }
   ],
   "source": [
    "global_dataset_train_loop([\"myanimelist\", \"steam\", \"metacritic\", \"rotten_tomatoes\"])"
   ]
  }
 ],
 "metadata": {
  "colab": {
   "provenance": []
  },
  "kernelspec": {
   "display_name": ".venv",
   "language": "python",
   "name": "python3"
  },
  "language_info": {
   "codemirror_mode": {
    "name": "ipython",
    "version": 3
   },
   "file_extension": ".py",
   "mimetype": "text/x-python",
   "name": "python",
   "nbconvert_exporter": "python",
   "pygments_lexer": "ipython3",
   "version": "3.12.9"
  }
 },
 "nbformat": 4,
 "nbformat_minor": 0
}
