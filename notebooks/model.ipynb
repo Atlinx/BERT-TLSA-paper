{
 "cells": [
  {
   "cell_type": "markdown",
   "metadata": {
    "id": "CwdIxdbsvqd8"
   },
   "source": [
    "# Models"
   ]
  },
  {
   "cell_type": "markdown",
   "metadata": {},
   "source": [
    "## Common Code\n",
    "\n",
    "Common functions for training and fine-tuning the BERT models."
   ]
  },
  {
   "cell_type": "code",
   "execution_count": 1,
   "metadata": {},
   "outputs": [
    {
     "name": "stdout",
     "output_type": "stream",
     "text": [
      "INIT module_path:  c:\\Users\\Alan\\Desktop\\Open_Source\\BERT-TLSA-paper\n"
     ]
    }
   ],
   "source": [
    "import os\n",
    "import sys\n",
    "module_path = os.path.abspath(os.path.join('..'))\n",
    "print(\"INIT module_path: \", module_path)\n",
    "if module_path not in sys.path:\n",
    "    sys.path.append(module_path)\n",
    "\n",
    "DATA_DIR = module_path + \"/data\"\n",
    "MODEL_DIR = module_path + \"/model\"\n",
    "\n",
    "for data_dir in [DATA_DIR, MODEL_DIR]:\n",
    "    os.makedirs(data_dir, exist_ok=True)"
   ]
  },
  {
   "cell_type": "code",
   "execution_count": 2,
   "metadata": {},
   "outputs": [
    {
     "name": "stdout",
     "output_type": "stream",
     "text": [
      "Training on device: cuda\n"
     ]
    }
   ],
   "source": [
    "from transformers import AutoModelForMaskedLM, AutoModel, DistilBertConfig, PreTrainedModel, AutoTokenizer\n",
    "import torch.utils.data as tdata\n",
    "import torch\n",
    "import random\n",
    "import torch.nn as nn\n",
    "import numpy as np\n",
    "from typing import cast, Union\n",
    "import enum\n",
    "\n",
    "SEED = 42\n",
    "\n",
    "random.seed(SEED)\n",
    "torch.manual_seed(SEED)\n",
    "np.random.seed(SEED)\n",
    "\n",
    "device = torch.device(\"cuda\") if torch.cuda.is_available() else torch.device(\"cpu\")\n",
    "\n",
    "\n",
    "class BERTSentimentClassifier(nn.Module):\n",
    "    def __init__(self, bert: AutoModel, n_classes: int, dropout_prob: float = 0.3):\n",
    "        super().__init__()\n",
    "        self.bert = bert\n",
    "        self.pre_classifier = nn.Linear(bert.config.hidden_size, bert.config.hidden_size)\n",
    "        self.relu = nn.ReLU()\n",
    "        self.dropout = nn.Dropout(p=dropout_prob)\n",
    "        self.classifier = nn.Linear(bert.config.hidden_size, n_classes)\n",
    "    \n",
    "    def forward(self, input_ids: torch.IntTensor, attention_mask: torch.IntTensor) -> torch.FloatTensor:\n",
    "        hidden_state = self.bert(\n",
    "            input_ids=input_ids, \n",
    "            attention_mask=attention_mask, \n",
    "            return_dict=False\n",
    "        )[0]\n",
    "        # https://huggingface.co/transformers/v3.2.0/model_doc/bert.html\n",
    "        # Pooler output is last layer of hidden state for [CLS] token, whose\n",
    "        # output is fed through a linear layer and a tanh function\n",
    "        #\n",
    "        # Shape of (batch_size, hidden_size) \n",
    "        pooled_output: torch.FloatTensor = hidden_state[:, 0, :] # (batch_size, hidden_size)\n",
    "        pooled_output = self.pre_classifier(pooled_output) # (batch_size, hidden_size)\n",
    "        pooled_output = self.relu(pooled_output) # (batch_size, hidden_size)\n",
    "        pooled_output = self.dropout(pooled_output) # (batch_size, hidden_size)\n",
    "        logits = self.classifier(pooled_output) # (batch_size, n_classes)\n",
    "        return logits\n",
    "\n",
    "\n",
    "class SampleMode(enum.IntEnum):\n",
    "    NONE = 0,\n",
    "    UNDER_SAMPLE = 1,\n",
    "    OVER_SAMPLE = 2\n",
    "\n",
    "\n",
    "class TrainingConfig:\n",
    "    def __init__(self, tokenizer: AutoTokenizer = None, pretrained_tokenizer_name: str = \"bert-base-uncased\", pretrained_model_name: str = \"\", stop_delta: float = 0.01, stop_patience: int = 5, name: str = \"model\", train_bert_in_finetune: bool = True, max_token_length: int = 512, class_names: list[str] = [\"negative\", \"neutral\", \"positive\"], sample_mode: SampleMode = SampleMode.NONE):\n",
    "        if tokenizer != None:\n",
    "            self.tokenizer = tokenizer\n",
    "        else:\n",
    "            self.tokenizer = AutoTokenizer.from_pretrained(pretrained_tokenizer_name)\n",
    "        \n",
    "        # ---------- Config data ---------- #\n",
    "        self.pretrained_model_name = pretrained_model_name\n",
    "        self.name = name\n",
    "        # Number of output classes\n",
    "        self.class_names = class_names\n",
    "        # How much of a delta counts as an improvement. See TrainEarlyStopping.\n",
    "        self.stop_delta = stop_delta\n",
    "        # Number of epochs to wait for an improvement before stopping training. See TrainEarlyStopping.\n",
    "        self.stop_patience = stop_patience\n",
    "        # Whether to include the base bert parameters in finetuning\n",
    "        # This increases training time, but could potentially lead to better performance\n",
    "        self.train_bert_in_finetune = train_bert_in_finetune\n",
    "        self.max_token_length = max_token_length\n",
    "        \n",
    "        # ---------- Runtime data ---------- #\n",
    "        # The final pretrained model, after pretraining\n",
    "        self.pretrained_model = cast(AutoModel, None)\n",
    "        self.pretrained_dataloaders = cast(tuple[tdata.DataLoader, tdata.DataLoader, tdata.DataLoader], None)\n",
    "        # The final classifier model, after finetuning\n",
    "        self.finetuned_classifier_model = cast(BERTSentimentClassifier, None)\n",
    "        self.finetuned_dataloaders = cast(tuple[tdata.DataLoader, tdata.DataLoader, tdata.DataLoader], None)\n",
    "        self.sample_mode = sample_mode\n",
    "\n",
    "    def __str__(self):\n",
    "        return str(self.__dict__)\n",
    "    \n",
    "    def __repr__(self):\n",
    "        return str(self)\n",
    "\n",
    "\n",
    "print(f\"Training on device: {device}\")"
   ]
  },
  {
   "cell_type": "code",
   "execution_count": 3,
   "metadata": {},
   "outputs": [],
   "source": [
    "from transformers import AutoTokenizer\n",
    "import pandas as pd\n",
    "import torch\n",
    "from typing import TypedDict, cast, Protocol\n",
    "import numpy as np\n",
    "import seaborn as sns\n",
    "import os\n",
    "import torch\n",
    "import tempfile\n",
    "\n",
    "\n",
    "def atomic_torch_save(obj, path: str):\n",
    "    \"\"\"\n",
    "    Saves obj to a temp file during the writing process,\n",
    "    and then replaces the original file with the new file if\n",
    "    the save is successful.\n",
    "\n",
    "    If the save is interrupted mid-way (such as by a KeyboardInterrupt),\n",
    "    the original file remains unharmed.\n",
    "    \"\"\"\n",
    "    dir_name = os.path.dirname(path)\n",
    "    with tempfile.NamedTemporaryFile(dir=dir_name, delete=False) as tmp_file:\n",
    "        temp_path = tmp_file.name\n",
    "    try:\n",
    "        torch.save(obj, temp_path)\n",
    "        os.replace(temp_path, path)  # atomic on most OSes\n",
    "    except Exception as e:\n",
    "        if os.path.exists(temp_path):\n",
    "            os.remove(temp_path)\n",
    "        raise e\n",
    "\n",
    "\n",
    "def move_dict_to(res: dict, device: torch.device):\n",
    "    for key in res:\n",
    "        if isinstance(res[key], torch.Tensor):\n",
    "            res[key] = cast(torch.Tensor, res[key]).to(device=device)\n",
    "\n",
    "\n",
    "class TokenizedInputs(TypedDict):\n",
    "    input_ids: torch.IntTensor\n",
    "    attention_mask: torch.IntTensor\n",
    "    labels: torch.IntTensor\n",
    "\n",
    "\n",
    "class MaskedTextDatasetItem(TokenizedInputs):\n",
    "    original_text: str\n",
    "\n",
    "\n",
    "class MaskedTextDataset(torch.utils.data.Dataset[MaskedTextDatasetItem]):\n",
    "    \"\"\"\n",
    "    Dataset of masked text\n",
    "    \"\"\"\n",
    "    def __init__(self, encodings: TokenizedInputs = None, original_text: list[str] = None, batch_device: torch.device = None):\n",
    "        self.encodings = encodings\n",
    "        self.original_text = original_text\n",
    "        self.batch_device = batch_device\n",
    "\n",
    "    def __getitem__(self, index: int) -> MaskedTextDatasetItem:\n",
    "        # Return the dictionary just like encodings, except it only\n",
    "        # contains the entries for a specific row (sentence)\n",
    "        res = {key: val[index] for key, val in self.encodings.items() }\n",
    "        if self.original_text:\n",
    "            res[\"original_text\"] = self.original_text[index]\n",
    "        # If output_device is set, we move individual batches to the device\n",
    "        if self.batch_device:\n",
    "            move_dict_to(res, self.batch_device)\n",
    "        return res\n",
    "    \n",
    "    def __len__(self):\n",
    "        return len(self.encodings[\"input_ids\"])\n",
    "    \n",
    "    def save_dict(self) -> dict:\n",
    "        save = {}\n",
    "        for key in [\"encodings\", \"original_text\"]:\n",
    "            save[key] = getattr(self, key)\n",
    "        return save\n",
    "    \n",
    "    def load_dict(self, save: dict):\n",
    "        for key in save:\n",
    "            setattr(self, key, save[key])\n",
    "\n",
    "\n",
    "class ReviewsDatasetItem(TokenizedInputs):\n",
    "    original_text: str\n",
    "    score: int\n",
    "\n",
    "\n",
    "class ReviewsDataset(torch.utils.data.Dataset[ReviewsDatasetItem]):\n",
    "    \"\"\"\n",
    "    Dataset of reviews and their normaliezd scores (decimal number from 0 to 1)\n",
    "    \"\"\"\n",
    "    def __init__(self, encodings: TokenizedInputs = None, scores: list[int] = None, max_score: int = 0, original_text: list[str] = None, batch_device: torch.device = None):\n",
    "        self.encodings = encodings\n",
    "        self.scores = scores\n",
    "        self.max_score = max_score\n",
    "        self.original_text = original_text\n",
    "        self.batch_device = batch_device\n",
    "    \n",
    "    def __getitem__(self, index: int) -> ReviewsDatasetItem:\n",
    "        # Return the dictionary just like encodings, except it only\n",
    "        # contains the entries for a specific row (sentence)\n",
    "        res = {key: val[index] for key, val in self.encodings.items() }\n",
    "        if self.original_text:\n",
    "            res[\"original_text\"] = self.original_text[index]\n",
    "        if self.scores[index] < 0 or self.scores[index] >= 3:\n",
    "            display(self.scores)\n",
    "            return\n",
    "        res[\"score\"] = self.scores[index]\n",
    "        # If output_device is set, we move individual batches to the device\n",
    "        if self.batch_device:\n",
    "            move_dict_to(res, self.batch_device)\n",
    "        return res\n",
    "\n",
    "    def __len__(self):\n",
    "        return len(self.encodings[\"input_ids\"])\n",
    "    \n",
    "    def save_dict(self) -> dict:\n",
    "        save = {}\n",
    "        for key in [\"encodings\", \"scores\", \"max_score\", \"original_text\"]:\n",
    "            save[key] = getattr(self, key)\n",
    "        return save\n",
    "    \n",
    "    def load_dict(self, save: dict):\n",
    "        for key in save:\n",
    "            setattr(self, key, save[key])\n",
    "\n",
    "\n",
    "def get_masked_dataset(tokenizer: AutoTokenizer, review_texts: list[str], percent_masked: float = 0.15, max_token_length: int = 512, dataset_file: str = \"\", batch_device: torch.device = None) -> MaskedTextDataset:\n",
    "    print(\"Loading masked dataset:\")\n",
    "    if dataset_file:\n",
    "        print(f\"    Loading existing dataset file @ {dataset_file}...\")\n",
    "        # Check if dataset file exists — if so, then load from file\n",
    "        try:\n",
    "            # Disable weights_only since we are loading aribitrary python classes\n",
    "            masked_text_dataset = MaskedTextDataset()\n",
    "            masked_text_dataset.load_dict(torch.load(f\"{DATA_DIR}/{dataset_file}\", weights_only=False))\n",
    "            return masked_text_dataset\n",
    "        except Exception as e:\n",
    "            print(f\"    Error loading dataset file: {e}\")\n",
    "    print(f\"    Creating new dataset file @ {dataset_file}...\")\n",
    "    encodings: TokenizedInputs = tokenizer(review_texts, \n",
    "      add_special_tokens=True,\n",
    "      max_length=max_token_length,\n",
    "      truncation=True,\n",
    "      return_token_type_ids=False,\n",
    "      padding='max_length',\n",
    "      return_attention_mask=True,\n",
    "      return_tensors='pt',\n",
    "    )\n",
    "    # Create a new field labels that is the same shape and type as input_ids, except\n",
    "    # initialized to -100. The label tokens must be -100 everywhere except where\n",
    "    # the masked tokens are. \n",
    "    # \n",
    "    # https://huggingface.co/docs/transformers/v4.51.3/en/model_doc/bert#transformers.BertForMaskedLM.forward.labels \n",
    "    encodings[\"labels\"] = torch.full_like(encodings[\"input_ids\"].detach(), fill_value=-100)\n",
    "    # In BERT paper, each token has 15% chance of being masked\n",
    "    # First, create random vector that spans all of the input_ids (spans all the tokens)\n",
    "    rand = torch.rand(encodings[\"input_ids\"].shape)\n",
    "    # (rand < 0.15) -> Any token that has a corresponding random value of < 0.15, we mask\n",
    "    # We also don't want to mask special tokens (101, 102), and padding tokens (0)\n",
    "    # * operator is elementwise multiplication, which is same as AND for boolean tensors\n",
    "    mask_arr = (rand < percent_masked) * (encodings[\"input_ids\"] != 101) * (encodings[\"input_ids\"] != 0) * (encodings[\"input_ids\"] != 102)\n",
    "    # Stores all the indices that we want to mask\n",
    "    masked_cols = []\n",
    "    # Iterate over each row in the mask_arr (basically each sentence in our text data)\n",
    "    for i in range(mask_arr.shape[0]):\n",
    "        # .nonzero() -> finds the indicies where we have \"true\" values (since true = 1 and false = 0 in pytorch)\n",
    "        masked_cols.append(mask_arr[i].nonzero().flatten().tolist())\n",
    "    # Apply our mask_arr in each row (each sentence)\n",
    "    for i in range(mask_arr.shape[0]):\n",
    "        # Special Tensor syntax -> we can pass in a list of indicies for any of the axes\n",
    "        #   In this case, we pass in a list of indices in the column axis, to effectively\n",
    "        #   select the columns (tokens) we want to mask out\n",
    "        encodings[\"labels\"][i, masked_cols[i]] = encodings[\"input_ids\"][i, masked_cols[i]]\n",
    "        encodings[\"input_ids\"][i, masked_cols[i]] = 103\n",
    "    masked_text_dataset = MaskedTextDataset(encodings, review_texts, batch_device=batch_device)\n",
    "    if dataset_file:\n",
    "        atomic_torch_save(masked_text_dataset.save_dict(), f\"{DATA_DIR}/{dataset_file}\")\n",
    "    return masked_text_dataset\n",
    "\n",
    "\n",
    "def get_reviews_dataset(tokenizer: AutoTokenizer, review_scores: list[float], max_score: int, review_texts: list[str], max_token_length: int = 512, dataset_file: str = \"\", batch_device: torch.device = None) -> ReviewsDataset:\n",
    "    print(\"Loading reviews dataset:\")\n",
    "    if dataset_file:\n",
    "        print(f\"    Loading existing dataset file @ {dataset_file}...\")\n",
    "        # Check if dataset file exists — if so, then load from file\n",
    "        try:\n",
    "            # Disable weights_only since we are loading aribitrary python classes\n",
    "            reviews_dataset = ReviewsDataset()\n",
    "            reviews_dataset.load_dict(torch.load(f\"{DATA_DIR}/{dataset_file}\", weights_only=False))\n",
    "            return reviews_dataset\n",
    "        except Exception as e:\n",
    "            print(f\"    Error loading dataset file: {e}\")\n",
    "    encodings: TokenizedInputs = tokenizer(review_texts, \n",
    "      add_special_tokens=True,\n",
    "      max_length=max_token_length,\n",
    "      truncation=True,\n",
    "      return_token_type_ids=False,\n",
    "      padding='max_length',\n",
    "      return_attention_mask=True,\n",
    "      return_tensors='pt',\n",
    "    )\n",
    "    reviews_dataset = ReviewsDataset(encodings, review_scores, max_score, review_texts, batch_device=batch_device)\n",
    "    print(f\"    Creating new dataset file @ {dataset_file}...\")\n",
    "    if dataset_file:\n",
    "        atomic_torch_save(reviews_dataset.save_dict(), f\"{DATA_DIR}/{dataset_file}\")\n",
    "    return reviews_dataset"
   ]
  },
  {
   "cell_type": "code",
   "execution_count": 11,
   "metadata": {},
   "outputs": [],
   "source": [
    "from IPython.display import clear_output\n",
    "from tqdm import tqdm\n",
    "from transformers.modeling_outputs import MaskedLMOutput\n",
    "from typing import cast, Iterator\n",
    "import matplotlib.pyplot as plt\n",
    "import itertools\n",
    "from typing import TypeVar, Generic, Protocol\n",
    "import torch.utils.data as tdata\n",
    "import sklearn.model_selection as skms\n",
    "import sklearn.metrics as skmets\n",
    "import math\n",
    "import torch\n",
    "from typing import Callable, Union, Iterable\n",
    "import torch.nn as nn\n",
    "import torch.nn.functional as F\n",
    "from transformers import get_linear_schedule_with_warmup\n",
    "\n",
    "\n",
    "TDataset = TypeVar('TDataset', bound=tdata.Dataset)\n",
    "class TrainDatasetSplit(Generic[TDataset]):\n",
    "    def __init__(self, train: tdata.Subset[TDataset], test: tdata.Subset[TDataset], valid: tdata.Subset[TDataset]):\n",
    "        self.train = train\n",
    "        self.test = test\n",
    "        self.valid = valid\n",
    "    \n",
    "    def get_dataloaders(self, batch_size: int = None, shuffle: bool = None, drop_last: bool = False) -> tuple[tdata.DataLoader, tdata.DataLoader, tdata.DataLoader]:\n",
    "        return (tdata.DataLoader(self.train, shuffle=shuffle, batch_size=batch_size, drop_last=drop_last), \\\n",
    "                tdata.DataLoader(self.test, shuffle=shuffle, batch_size=batch_size, drop_last=drop_last), \\\n",
    "                tdata.DataLoader(self.valid, shuffle=shuffle, batch_size=batch_size, drop_last=drop_last))\n",
    "\n",
    "\n",
    "def train_split_dataset(dataset: TDataset, train_percent: float = 0.7, test_percent: float = 0.2, validate_percent: float = 0.1, random_state: int = None) -> TrainDatasetSplit[TDataset]:\n",
    "    assert math.isclose(train_percent + test_percent + validate_percent, 1.0), \"Expected train_percent + test_percent + validate_percent = 1.0!\"\n",
    "    dataset_indices = list(range(len(dataset)))\n",
    "    test_train_indices, valid_indicies = skms.train_test_split(dataset_indices, test_size=validate_percent, random_state=random_state)\n",
    "    train_indicies, test_indicies = skms.train_test_split(test_train_indices, test_size=test_percent/(train_percent + test_percent), random_state=random_state)\n",
    "    valid = tdata.Subset(dataset, valid_indicies)\n",
    "    train = tdata.Subset(dataset, train_indicies)\n",
    "    test = tdata.Subset(dataset, test_indicies)\n",
    "    split = TrainDatasetSplit(train=train, test=test, valid=valid)\n",
    "    return split\n",
    "\n",
    "\n",
    "class RunLoopIterData:\n",
    "    is_valid: bool\n",
    "\n",
    "    output_loss: torch.FloatTensor\n",
    "    output_num_correct: int\n",
    "    output_y_preds: torch.IntTensor\n",
    "    output_y_tests: torch.IntTensor\n",
    "\n",
    "    def reset(self, is_valid: bool = False):\n",
    "        self.output_loss = None\n",
    "        self.output_num_correct = None\n",
    "        self.output_y_preds = None\n",
    "        self.output_y_tests = None\n",
    "        self.is_valid = is_valid\n",
    "    \n",
    "    def postfix(self) -> dict:\n",
    "        return {\n",
    "            \"loss\": self.output_loss.item(),\n",
    "            \"num_correct\": self.output_num_correct\n",
    "        }\n",
    "\n",
    "\n",
    "class RunLoopStats:\n",
    "    total_loss: float\n",
    "    total_correct: int\n",
    "    average_loss: float\n",
    "    accuracy: float\n",
    "    \n",
    "    y_preds_arr: list[torch.FloatTensor]\n",
    "    y_tests_arr: list[torch.FloatTensor]\n",
    "    y_preds_stack: torch.FloatTensor\n",
    "    y_tests_stack: torch.FloatTensor\n",
    "\n",
    "    def __init__(self):\n",
    "        self.reset()\n",
    "\n",
    "    def reset(self):\n",
    "        self.total_loss = cast(float, None)\n",
    "        self.total_correct = cast(int, None)\n",
    "        self.average_loss = cast(float, 0)\n",
    "        self.accuracy = cast(float, 0)\n",
    "        self.y_preds_arr = []\n",
    "        self.y_tests_arr = []\n",
    "        self.y_preds_stack = None\n",
    "        self.y_tests_stack = None\n",
    "    \n",
    "    def add_iter_data(self, output: RunLoopIterData):\n",
    "        def get_raw_value(val: Union[float, torch.FloatTensor]):\n",
    "            if torch.is_tensor(val):\n",
    "                return val.item()\n",
    "            return val\n",
    "        if output.output_loss:\n",
    "            if self.total_loss == None:\n",
    "                self.total_loss = 0\n",
    "            self.total_loss += get_raw_value(output.output_loss)\n",
    "        if output.output_num_correct:\n",
    "            if self.total_correct == None:\n",
    "                self.total_correct = 0\n",
    "            self.total_correct += get_raw_value(output.output_num_correct)\n",
    "        if output.output_y_preds != None:\n",
    "            self.y_preds_arr.append(output.output_y_preds)\n",
    "        if output.output_y_tests != None:\n",
    "            self.y_tests_arr.append(output.output_y_tests)\n",
    "\n",
    "    def calculate(self, batch_count: int, items_count: int):\n",
    "        self.average_loss = self.total_loss / batch_count if self.total_loss else None\n",
    "        self.accuracy = self.total_correct / items_count if self.total_correct else None\n",
    "        if len(self.y_preds_arr) > 0:\n",
    "            self.y_preds_stack = torch.cat(self.y_preds_arr).cpu()\n",
    "        if len(self.y_tests_arr) > 0:\n",
    "            self.y_tests_stack = torch.cat(self.y_tests_arr).cpu()\n",
    "    \n",
    "    def show(self, class_names: list[str] = None):\n",
    "        def show_confusion_matrix(confusion_matrix):\n",
    "            hmap = sns.heatmap(confusion_matrix, annot=True, fmt=\"d\", cmap=\"Blues\")\n",
    "            hmap.yaxis.set_ticklabels(hmap.yaxis.get_ticklabels(), rotation=0, ha='right')\n",
    "            hmap.xaxis.set_ticklabels(hmap.xaxis.get_ticklabels(), rotation=30, ha='right')\n",
    "            plt.ylabel('True sentiment')\n",
    "            plt.xlabel('Predicted sentiment');\n",
    "        \n",
    "        used_class_indices = torch.unique(self.y_preds_stack)\n",
    "        class_names = [class_name for index, class_name in enumerate(class_names) if index in used_class_indices]\n",
    "        \n",
    "        if self.y_preds_stack != None and self.y_tests_stack != None and class_names != None:\n",
    "            report = skmets.classification_report(self.y_tests_stack, self.y_preds_stack, target_names=class_names)\n",
    "            print(report)\n",
    "            cm = skmets.confusion_matrix(self.y_tests_stack, self.y_preds_stack)\n",
    "            df_cm = pd.DataFrame(cm, index=class_names, columns=class_names)\n",
    "            show_confusion_matrix(df_cm)\n",
    "            \n",
    "\n",
    "\n",
    "class TrainEarlyStopping:\n",
    "    def __init__(self, patience: int = 5, delta: float = 0.05):\n",
    "        \"\"\"\n",
    "        patience = # epochs we wait for improvement\n",
    "        delta = minimmum decrease in loss in order to count as an improvement\n",
    "        \"\"\"\n",
    "        self.patience = patience\n",
    "        self.delta = delta\n",
    "        self.best_loss = None\n",
    "        self.no_improvement_count = 0\n",
    "        self.stop_training = False\n",
    "\n",
    "    def check_early_stop(self, val_loss: Union[float, Iterable[float]]) -> bool:\n",
    "        try:\n",
    "            # Assume val_loss = iterable, and bail if it doesn't work\n",
    "            for elem in val_loss:\n",
    "                if self.check_early_stop(elem):\n",
    "                    return True\n",
    "            return False\n",
    "        except TypeError:\n",
    "            pass\n",
    "        \n",
    "        # Handle val_loss = float\n",
    "        if self.stop_training:\n",
    "            # Once we stopped training, we halt any further checks\n",
    "            return True\n",
    "        if self.best_loss is None or val_loss < self.best_loss - self.delta:\n",
    "            # If we don't have a best loss yet, OR\n",
    "            # we got a new loss that is better than our delta\n",
    "            #\n",
    "            # then we reset the no improvement counter\n",
    "            self.best_loss = val_loss\n",
    "            self.no_improvement_count = 0\n",
    "        else:\n",
    "            # Otherwise, we didn't improve\n",
    "            self.no_improvement_count += 1\n",
    "            if self.no_improvement_count >= self.patience:\n",
    "                # If we didn't improve over patience (num of epochs we wait for improvements)\n",
    "                # then we stop\n",
    "                self.stop_training = True\n",
    "        return self.stop_training\n",
    "\n",
    "\n",
    "def get_log_data_fig(log_data: list[dict]):\n",
    "    fig = plt.figure()\n",
    "    if len(log_data) > 0:\n",
    "        epochs = [x[\"epoch\"] for x in log_data]\n",
    "        for key in log_data[0]:\n",
    "            if key.startswith(\"_\") or key == \"epoch\" or log_data[0][key] == None:\n",
    "                continue\n",
    "            plt.plot(epochs, [item[key] for item in log_data], label=key)\n",
    "        plt.legend()\n",
    "    else:\n",
    "        plt.plot([0], [0], label=\"empty\")\n",
    "    plt.close()\n",
    "    return fig\n",
    "\n",
    "\n",
    "TDatasetItem = TypeVar('TItem')\n",
    "TModel = TypeVar('TModel', bound=nn.Module)\n",
    "RunModelFn = Callable[[TModel, TDatasetItem, RunLoopIterData], None]\n",
    "def train_from_dataloader(model: nn.Module, optim: torch.optim.Optimizer, dataloader: tdata.DataLoader[TDatasetItem], run_fn: RunModelFn, epoch: int = None, scheduler: torch.optim.lr_scheduler.LRScheduler = None) -> RunLoopStats:\n",
    "    \"\"\"\n",
    "    Trains a model on the batches from a dataloader, and returns stats about the run.\n",
    "    \"\"\"\n",
    "    loop = tqdm(cast(Iterator[MaskedTextDatasetItem], dataloader), leave=True)\n",
    "    if epoch != None:\n",
    "        loop.set_description(f\"Epoch: {epoch: <4}\")\n",
    "    train_stats = RunLoopStats()\n",
    "    model.train()\n",
    "    loop_iter_data = RunLoopIterData()\n",
    "    for data in loop:\n",
    "        loop_iter_data.reset(is_valid=False)\n",
    "\n",
    "        run_fn(model, data, loop_iter_data)\n",
    "        loss = loop_iter_data.output_loss\n",
    "        \n",
    "        # Apply backward propagation\n",
    "        loss.backward()\n",
    "        # Clip gradients to limit oscillations\n",
    "        nn.utils.clip_grad_norm_(model.parameters(), max_norm=1.0)\n",
    "        optim.step()\n",
    "        if scheduler:\n",
    "            scheduler.step()\n",
    "        # Reset gradient\n",
    "        optim.zero_grad()\n",
    "\n",
    "        # Set info in tqdm progress bar\n",
    "        loop.set_postfix(loop_iter_data.postfix())\n",
    "        train_stats.add_iter_data(loop_iter_data)\n",
    "    train_stats.calculate(batch_count=len(dataloader), items_count=len(dataloader.dataset))\n",
    "    return train_stats\n",
    "\n",
    "\n",
    "def eval_from_dataloader(model: nn.Module, dataloader: tdata.DataLoader[TDatasetItem], run_fn: RunModelFn) -> RunLoopStats:\n",
    "    \"\"\"\n",
    "    Runs a model on the batches from a dataloader, and returns stats about the run.\n",
    "    \"\"\"\n",
    "    loop = tqdm(cast(Iterator[MaskedTextDatasetItem], dataloader), leave=True)\n",
    "    loop.set_description(\" \" * 11)\n",
    "    valid_stats = RunLoopStats()\n",
    "    model.eval()\n",
    "    loop_iter_data = RunLoopIterData()\n",
    "    with torch.no_grad():\n",
    "        for data in loop:\n",
    "            loop_iter_data.reset(is_valid=True)\n",
    "\n",
    "            run_fn(model, data, loop_iter_data)\n",
    "\n",
    "            # Set info in tqdm progress bar\n",
    "            loop.set_postfix(loop_iter_data.postfix())\n",
    "            valid_stats.add_iter_data(loop_iter_data)\n",
    "    valid_stats.calculate(batch_count=len(dataloader), items_count=len(dataloader.dataset))\n",
    "    return valid_stats\n",
    "\n",
    "\n",
    "def train_loop(name: str, desc: str, model_filename: str, train_dataloader: tdata.DataLoader[TDatasetItem], valid_dataloader: tdata.DataLoader[TDatasetItem], model: TModel, optim: torch.optim.Optimizer, stop_patience: int, stop_delta: float, run_fn: RunModelFn, scheduler: torch.optim.lr_scheduler.LRScheduler = None):\n",
    "    \"\"\"\n",
    "    Trains a model in a loop until it no longer improves, based on stop_patience and stop_delta.\n",
    "    See TrainEarlyStopping for more information.\n",
    "    \"\"\"\n",
    "    log_data: list[dict] = []\n",
    "    init_epoch = 0\n",
    "    prev_valid_loss = None\n",
    "    early_stop = TrainEarlyStopping(patience=stop_patience, delta=stop_delta)\n",
    "\n",
    "    model_dir = f\"{MODEL_DIR}/{name}/\"\n",
    "    os.makedirs(model_dir, exist_ok=True)\n",
    "\n",
    "    model_file_path = model_dir + model_filename + \".pt\"\n",
    "    if os.path.exists(model_file_path):\n",
    "        # If model file exist, then try to continue off of where it left off\n",
    "        data = torch.load(model_file_path, weights_only=False, map_location=device)\n",
    "        model.load_state_dict(data[\"model\"])\n",
    "        optim.load_state_dict(data[\"optim\"])\n",
    "        init_epoch = data[\"log_data\"][-1][\"epoch\"] + 1\n",
    "        log_data = data[\"log_data\"]\n",
    "        prev_valid_loss = log_data[-1][\"valid_loss\"]\n",
    "        print(\"\")\n",
    "        print(f\"Resuming existing model at epoch: {init_epoch}, data: {log_data[-1]}\")\n",
    "        # Resimulate the early stop checker using all of the log data\n",
    "        # and bail if we have stopped\n",
    "        if early_stop.check_early_stop([x[\"valid_loss\"] for x in log_data]):\n",
    "            log_data_display_handle = display(display_id=True)\n",
    "            log_data_display_handle.update(get_log_data_fig(log_data))\n",
    "            return\n",
    "        # Otherwise, continue training\n",
    "\n",
    "    print(f\"Training start for '{name}' {desc}...\")\n",
    "    log_data_display_handle = display(display_id=True)\n",
    "    log_data_display_handle.update(get_log_data_fig(log_data))\n",
    "    epoch_loop = itertools.count(start=init_epoch, step=1)\n",
    "    for epoch in epoch_loop:\n",
    "        # Training loop\n",
    "        train_stats = train_from_dataloader(model=model, optim=optim, dataloader=train_dataloader, run_fn=run_fn, epoch=epoch, scheduler=scheduler)\n",
    "        \n",
    "        # Validation loop\n",
    "        valid_stats = eval_from_dataloader(model=model, dataloader=valid_dataloader, run_fn=run_fn)\n",
    "        \n",
    "        # Log data\n",
    "        log_data.append({\n",
    "            \"epoch\": epoch,\n",
    "            \"train_loss\": train_stats.average_loss,\n",
    "            \"valid_loss\": valid_stats.average_loss,\n",
    "            \"valid_accuracy\": valid_stats.accuracy\n",
    "        })\n",
    "        print(f\"{' ' * 11}{str(log_data[-1])}\")\n",
    "\n",
    "        # Make plot\n",
    "        fig = get_log_data_fig(log_data)\n",
    "        log_data_display_handle.update(fig)\n",
    "\n",
    "\n",
    "        # Overwrite the model if there's an improvement\n",
    "        if prev_valid_loss != None and valid_stats.average_loss < prev_valid_loss:\n",
    "            atomic_torch_save({\n",
    "                \"model\": model.state_dict(),\n",
    "                \"optim\": optim.state_dict(),\n",
    "                \"log_data\": log_data,\n",
    "            }, model_file_path)\n",
    "        prev_valid_loss = valid_stats.average_loss\n",
    "\n",
    "        # Break if our moving validation delta loss average is smaller than our stop_delta_loss\n",
    "        if early_stop.check_early_stop(valid_stats.average_loss):\n",
    "            print(\"Stopping early...\")\n",
    "            break\n",
    "\n",
    "\n",
    "def pretraining_loop(train_dataloader: tdata.DataLoader[MaskedTextDatasetItem], valid_dataloader: tdata.DataLoader[MaskedTextDatasetItem], config: TrainingConfig):\n",
    "    \"\"\"\n",
    "    Trains the base BERT model using MLM\n",
    "    \"\"\"\n",
    "    def train_fn(model: AutoModelForMaskedLM, data: MaskedTextDatasetItem, iter_data: RunLoopIterData):\n",
    "        input_ids = data[\"input_ids\"].to(device)\n",
    "        attention_mask = data[\"attention_mask\"].to(device)\n",
    "        labels = data[\"labels\"].to(device)\n",
    "\n",
    "        outputs: MaskedLMOutput = model(input_ids=input_ids, attention_mask=attention_mask, labels=labels)\n",
    "        iter_data.output_loss = outputs.loss\n",
    "\n",
    "        predictions = torch.argmax(outputs.logits, dim=-1)\n",
    "\n",
    "        # Only compare where labels are not -100\n",
    "        # -100 indicates not a mask token\n",
    "        mask = labels != -100\n",
    "        correct_predictions = (predictions == labels) & mask\n",
    "        iter_data.output_num_correct = correct_predictions.sum().item()\n",
    "    \n",
    "    if config.pretrained_model_name:\n",
    "        # Create tokenizer + already trained model\n",
    "        model: AutoModelForMaskedLM = AutoModelForMaskedLM.from_pretrained(config.pretrained_model_name)\n",
    "    else:\n",
    "        bert_config = DistilBertConfig(\n",
    "            vocab_size=config.tokenizer.vocab_size,\n",
    "            max_position_embeddings=config.max_token_length,\n",
    "            hidden_size=256,\n",
    "            num_hidden_layers=4,\n",
    "            num_attention_heads=4,\n",
    "            type_vocab_size=2\n",
    "        )\n",
    "        model: AutoModelForMaskedLM = AutoModelForMaskedLM.from_config(bert_config)\n",
    "        optim = torch.optim.AdamW(model.parameters(), lr=2e-5)\n",
    "\n",
    "        train_loop(name=config.name, \n",
    "            desc=\"pretraining\",\n",
    "            model_filename=\"model_pretrain\",\n",
    "            train_dataloader=train_dataloader,\n",
    "            valid_dataloader=valid_dataloader,\n",
    "            model=model,\n",
    "            optim=optim,\n",
    "            stop_patience=config.stop_patience,\n",
    "            stop_delta=config.stop_delta,\n",
    "            run_fn=train_fn)\n",
    "    \n",
    "    # Move the model to the device we speicified\n",
    "    #   Ideally use CUDA (GPU) if available\n",
    "    model.to(device)\n",
    "    config.pretrained_model = model\n",
    "\n",
    "\n",
    "def pretraining_test(test_dataloader: tdata.DataLoader[MaskedTextDatasetItem], model: AutoModelForMaskedLM):\n",
    "    \"\"\"\n",
    "    Tests a pretrained BERT model using MLM\n",
    "    \"\"\"\n",
    "    print(\"\\nPretraining test...\")\n",
    "    def run_fn(model: AutoModelForMaskedLM, data: MaskedTextDatasetItem, iter_data: RunLoopIterData):\n",
    "        input_ids = data[\"input_ids\"].to(device)\n",
    "        attention_mask = data[\"attention_mask\"].to(device)\n",
    "        labels = data[\"labels\"].to(device)\n",
    "\n",
    "        outputs: MaskedLMOutput = model(input_ids=input_ids, attention_mask=attention_mask, labels=labels)\n",
    "        iter_data.output_loss = outputs.loss\n",
    "\n",
    "        predictions = torch.argmax(outputs.logits, dim=-1)\n",
    "\n",
    "        # Only compare where labels are not -100\n",
    "        # -100 indicates not a mask token\n",
    "        mask = labels != -100\n",
    "        correct_predictions = (predictions == labels) & mask\n",
    "        iter_data.output_num_correct = correct_predictions.sum().item()\n",
    "    \n",
    "    stats = eval_from_dataloader(model=model, \n",
    "        dataloader=test_dataloader, \n",
    "        run_fn=run_fn)\n",
    "    stats.show()\n",
    "\n",
    "\n",
    "def finetuning_loop(train_dataloader: tdata.DataLoader[ReviewsDatasetItem], valid_dataloader: tdata.DataLoader[ReviewsDatasetItem], config: TrainingConfig, use_lr_schedule: bool = False):\n",
    "    \"\"\"\n",
    "    Finetunes the base BERT model + classifier head using review data\n",
    "    \"\"\"\n",
    "    loss_fn = nn.CrossEntropyLoss().to(device)\n",
    "\n",
    "    def train_fn(model: BERTSentimentClassifier, data: ReviewsDatasetItem, iter_data: RunLoopIterData):\n",
    "        nonlocal loss_fn\n",
    "        input_ids = data[\"input_ids\"].to(device)\n",
    "        attention_mask = data[\"attention_mask\"].to(device)\n",
    "        target = data[\"score\"].to(device)\n",
    "        \n",
    "        raw_pred: torch.FloatTensor = model(input_ids=input_ids, attention_mask=attention_mask)\n",
    "        iter_data.output_loss = loss_fn(raw_pred, target)\n",
    "\n",
    "        # Track accuracy for validation set\n",
    "        if iter_data.is_valid:\n",
    "            preds = torch.argmax(raw_pred, dim=1)\n",
    "            iter_data.output_num_correct = torch.sum(preds == target)\n",
    "\n",
    "    # Load data into a raw BERT model\n",
    "    # We set strict=False, since the pooler bias and weights are not set\n",
    "    def get_underlying_model(mlm_model) -> PreTrainedModel:\n",
    "        if hasattr(mlm_model, \"bert\"):\n",
    "            return mlm_model.bert\n",
    "        elif hasattr(mlm_model, \"distilbert\"):\n",
    "            return mlm_model.distilbert\n",
    "        else:\n",
    "            raise Exception(f\"Unknown model: {mlm_model}\")\n",
    "    base_bert = get_underlying_model(config.pretrained_model)\n",
    "\n",
    "    bert_copy = AutoModel.from_config(base_bert.config)\n",
    "    bert_copy.load_state_dict(base_bert.state_dict(), strict=False)\n",
    "    \n",
    "    # If we don't want to finetune the base mode,\n",
    "    # then freeze all parameters (except for pooler)\n",
    "    if not config.train_bert_in_finetune:\n",
    "        for name, param in bert_copy.named_parameters():\n",
    "            param.requires_grad = \"pooler\" in name\n",
    "\n",
    "    model = BERTSentimentClassifier(bert=bert_copy, n_classes=len(config.class_names))\n",
    "    model.to(device)\n",
    "    optim = torch.optim.AdamW(model.parameters(), lr=2e-5)\n",
    "\n",
    "    scheduler = None\n",
    "    if use_lr_schedule:\n",
    "        scheduler =  get_linear_schedule_with_warmup(\n",
    "            optim,\n",
    "            num_warmup_steps=0,\n",
    "            num_training_steps=len(train_dataloader) * 10\n",
    "        )\n",
    "\n",
    "    train_loop(name=config.name, \n",
    "        desc=\"finetuning\",\n",
    "        model_filename=\"model_finetune\",\n",
    "        train_dataloader=train_dataloader,\n",
    "        valid_dataloader=valid_dataloader,\n",
    "        model=model,\n",
    "        optim=optim,\n",
    "        stop_patience=config.stop_patience,\n",
    "        stop_delta=config.stop_delta,\n",
    "        run_fn=train_fn,\n",
    "        scheduler=scheduler)\n",
    "    \n",
    "    config.finetuned_classifier_model = model\n",
    "\n",
    "\n",
    "def finetuning_test(test_dataloader: tdata.DataLoader[ReviewsDatasetItem], model: AutoModel, class_names: list[str]):\n",
    "    \"\"\"\n",
    "    Tests a finetuned BERT model using review data\n",
    "    \"\"\"\n",
    "    loss_fn = nn.CrossEntropyLoss().to(device)\n",
    "    \n",
    "    print(\"\\nFinetuning test...\")\n",
    "    def run_fn(model: AutoModel, data: MaskedTextDatasetItem, iter_data: RunLoopIterData):\n",
    "        nonlocal loss_fn\n",
    "        input_ids = data[\"input_ids\"].to(device)\n",
    "        attention_mask = data[\"attention_mask\"].to(device)\n",
    "        target = data[\"score\"].to(device)\n",
    "        \n",
    "        raw_pred: torch.FloatTensor = model(input_ids=input_ids, attention_mask=attention_mask)\n",
    "        iter_data.output_loss = loss_fn(raw_pred, target)\n",
    "\n",
    "        # Track accuracy for validation set\n",
    "        preds = torch.argmax(raw_pred, dim=1)\n",
    "        iter_data.output_num_correct = torch.sum(preds == target)\n",
    "        iter_data.output_y_preds = preds\n",
    "        iter_data.output_y_tests = target\n",
    "    \n",
    "    stats = eval_from_dataloader(model=model, \n",
    "        dataloader=test_dataloader, \n",
    "        run_fn=run_fn)\n",
    "    stats.show(class_names=class_names)\n",
    "\n",
    "\n",
    "class ResetTrainFn(Protocol):\n",
    "    def __call__(self, train_bert_in_finetune: bool = False, sample_mode: SampleMode = SampleMode.NONE):\n",
    "        ...\n",
    "\n",
    "\n",
    "class PretrainTrainFn(Protocol):\n",
    "    def __call__(self, stop_delta_loss: float = 0.05, pretrained_model_name: str = \"bert-base-uncased\"):\n",
    "        ...\n",
    "\n",
    "\n",
    "class FinetuneTrainFn(Protocol):\n",
    "    def __call__(self, stop_delta_loss: float = 0.05, use_lr_schedule: bool = False):\n",
    "        ...\n",
    "\n",
    "\n",
    "def dataset_train_loop(dataset_name: Union[str, list[str]] = \"myanimelist\", train_percent: float = 0.7, validate_percent: float = 0.1, test_percent: float = 0.2, batch_size: int = 32, sample_mode: SampleMode = SampleMode.NONE) -> tuple[ResetTrainFn, PretrainTrainFn, FinetuneTrainFn]:\n",
    "    \"\"\"\n",
    "    Pretrain a BERT base model, and then finetune with a classifier head on review data.\n",
    "    \"\"\"\n",
    "\n",
    "    dataset_names: list[str] = []\n",
    "    if isinstance(dataset_name, str):\n",
    "        dataset_names.append(dataset_name)\n",
    "    else:\n",
    "        dataset_names.extend(dataset_name)\n",
    "    assert len(dataset_names) > 0, \"Datasets len = 0, datasets list must contain atleast at least one dataset!\"\n",
    "\n",
    "    joint_name = \"-\".join(dataset_names)\n",
    "\n",
    "    # ---------- Load TrainingConfig ---------- #\n",
    "    config: TrainingConfig = None\n",
    "\n",
    "    def reset(train_bert_in_finetune: bool = False):\n",
    "        nonlocal config\n",
    "        config = TrainingConfig(name=joint_name, \n",
    "            pretrained_tokenizer_name=\"bert-base-uncased\", \n",
    "            stop_delta=0.05, \n",
    "            stop_patience=5, \n",
    "            max_token_length=512, \n",
    "            class_names=[\"negative\", \"neutral\", \"positive\"],\n",
    "            train_bert_in_finetune=train_bert_in_finetune,\n",
    "            sample_mode=sample_mode)\n",
    "    \n",
    "    reset()\n",
    "    print(f\"Loaded training config:\")\n",
    "    display(config)\n",
    "    \n",
    "    # ---------- Load data ---------- #\n",
    "    data_dfs = []\n",
    "    for dataset in dataset_names:\n",
    "        data_dfs.append(pd.read_csv(f\"{DATA_DIR}/{dataset}_reviews.csv\"))\n",
    "    data_df = pd.concat(data_dfs, ignore_index=True)\n",
    "    # Shuffle items once we join them together\n",
    "    data_df = data_df.sample(frac=1).reset_index(drop=True)\n",
    "\n",
    "    print(f\"Loaded {joint_name}:\")\n",
    "    display(data_df)\n",
    "\n",
    "    # Create new column sentiment_score, that converts the original score range to a \n",
    "    # new score range based on the number of classes our model outputs\n",
    "    n_classes = len(config.class_names)    \n",
    "    data_df[\"norm_score\"] = data_df[\"score\"] / data_df[\"max_score\"]\n",
    "    data_df[\"sentiment_score\"] = pd.cut(\n",
    "        data_df[\"norm_score\"],\n",
    "        bins=n_classes,\n",
    "        labels=range(0, n_classes),\n",
    "        include_lowest=True\n",
    "    ).astype(int)\n",
    "\n",
    "    # Balance out the dataset, by ensuring each class has the same number of elements\n",
    "    # We are effectively limited by the size of the smallest class\n",
    "    g = data_df.groupby(\"sentiment_score\")\n",
    "    group_sizes = g.size()\n",
    "    if config.sample_mode == SampleMode.NONE:\n",
    "        # Dataset remains unchanged\n",
    "        sampled_df = data_df\n",
    "    elif config.sample_mode == SampleMode.OVER_SAMPLE:\n",
    "        # We want the smaller categories to fill in the space\n",
    "        # until categories have equal sizes\n",
    "        #\n",
    "        # We don't want to include categories that are completely zero\n",
    "        #\n",
    "        # This situation can happen when the reviews are binary, being either 0 (negative) or 1 (positive), \n",
    "        # such as in steam reviews. If we had used 3 classes (negative, neutral, positive),\n",
    "        # then the neutral class would have 0 reviews, and would force us to sample 0 reviews\n",
    "        # from each category, leading to an empty dataset.\n",
    "        max_group_size = group_sizes[group_sizes > 0].max()\n",
    "        sampled_df = g.apply(lambda x: x.sample(max_group_size, replace=True)).reset_index(drop=True)\n",
    "    elif config.sample_mode == SampleMode.UNDER_SAMPLE:\n",
    "        # We want the larger categories to shirnk\n",
    "        # until categories have equal sizes\n",
    "        min_group_size = group_sizes[group_sizes > 0].min()\n",
    "        sampled_df = g.apply(lambda x: x.sample(min_group_size)).reset_index(drop=True)\n",
    "\n",
    "    order = [str(i) for i in range(n_classes)]\n",
    "\n",
    "    # Plot original\n",
    "    ax = sns.countplot(data_df[\"sentiment_score\"].astype(str), order=order)\n",
    "    ax.set_xlabel(\"review sentiment\")\n",
    "    ax.set_title(\"Original Review Sentiments\")\n",
    "    plt.show()\n",
    "    display(data_df[\"sentiment_score\"].astype(str).value_counts())\n",
    "\n",
    "    # Plot sampled\n",
    "    ax = sns.countplot(sampled_df[\"sentiment_score\"].astype(str), order=order)\n",
    "    ax.set_xlabel(\"review sentiment\")\n",
    "    ax.set_title(\"Sampled Review Sentiments\")\n",
    "    plt.show()\n",
    "    display(sampled_df[\"sentiment_score\"].astype(str).value_counts())\n",
    "\n",
    "    print(f\"Original dataset size: {len(data_df)}\")\n",
    "    print(f\"Sampled dataset size: {len(sampled_df)}\")\n",
    "    \n",
    "    display(sampled_df)\n",
    "\n",
    "    # ---------- Create masked and reviews datasets ---------- #\n",
    "    # We can train masked MLM on the entire dataset -- even if the review scores are unbalanced\n",
    "    masked_dataset = get_masked_dataset(\n",
    "        tokenizer=config.tokenizer, \n",
    "        review_texts=data_df[\"review\"].astype(str).to_list(), \n",
    "        max_token_length=config.max_token_length, \n",
    "        dataset_file=f\"{joint_name}_masked_data.dt\")\n",
    "    # We must train the classifier on the balanced dataset, to prevent the model from learning distribution patterns \n",
    "    reviews_dataset = get_reviews_dataset(\n",
    "        tokenizer=config.tokenizer, \n",
    "        review_scores=sampled_df[\"sentiment_score\"].to_list(), \n",
    "        max_score=n_classes,\n",
    "        review_texts=sampled_df[\"review\"].astype(str).to_list(), \n",
    "        max_token_length=config.max_token_length, \n",
    "        dataset_file=f\"{joint_name}_reviews_data.dt\")\n",
    "    \n",
    "    # ---------- Create final training function ---------- #\n",
    "    def pretraining(stop_delta_loss: float = 0.05, pretrained_model_name: str = \"bert-base-uncased\"):\n",
    "        nonlocal config\n",
    "        config.pretrained_model_name = pretrained_model_name\n",
    "        config.stop_delta = stop_delta_loss\n",
    "        reviews_split = train_split_dataset(masked_dataset, train_percent=train_percent, test_percent=test_percent, validate_percent=validate_percent)\n",
    "        train_dl, test_dl, valid_dl = reviews_split.get_dataloaders(batch_size=batch_size, shuffle=True)\n",
    "        print(f\"Masked pretraining:\")\n",
    "        print(f\"    train_dataloader: ({len(train_dl)} batches)\\n    test_dataloader: ({len(test_dl)} batches)\\n    valid_dataloader: ({len(valid_dl)} batches)\")\n",
    "        pretraining_loop(train_dl, valid_dl, config)\n",
    "        if not config.pretrained_model_name:\n",
    "            # Only test if we trained the model ourselves\n",
    "            pretraining_test(test_dl, config.pretrained_model)\n",
    "\n",
    "    def finetuning(stop_delta_loss: float = 0.05, use_lr_schedule: bool = False):\n",
    "        nonlocal config\n",
    "        config.stop_delta = stop_delta_loss\n",
    "        reviews_split = train_split_dataset(reviews_dataset, train_percent=train_percent, test_percent=test_percent, validate_percent=validate_percent)\n",
    "        train_dl, test_dl, valid_dl = reviews_split.get_dataloaders(batch_size=batch_size, shuffle=True)\n",
    "        print(f\"Reviews training:\")\n",
    "        print(f\"    train_dataloader: ({len(train_dl)} batches)\\n    test_dataloader: ({len(test_dl)} batches)\\n    valid_dataloader: ({len(valid_dl)} batches)\")\n",
    "        finetuning_loop(train_dl, valid_dl, config, use_lr_schedule)\n",
    "        finetuning_test(test_dl, config.finetuned_classifier_model, [\"negative\", \"neutral\", \"positive\"])\n",
    "\n",
    "    return [reset, pretraining, finetuning]"
   ]
  },
  {
   "cell_type": "code",
   "execution_count": 5,
   "metadata": {},
   "outputs": [],
   "source": [
    "def global_dataset_train_loop(dataset: Union[str, list[str]]):\n",
    "    TRAIN_PERCENT = 0.7\n",
    "    VALIDATE_PERCENT = 0.1\n",
    "    TEST_PERCENT = 0.2 \n",
    "    BATCH_SIZE = 32\n",
    "    STOP_DELTA_LOSS = 0.005\n",
    "    PRETRAINED_MODEL_NAME = \"distilbert/distilbert-base-uncased\"\n",
    "    TRAIN_BERT_IN_FINETUNE = False\n",
    "    SAMPLE_MODE = SampleMode.OVER_SAMPLE\n",
    "\n",
    "    reset, pretraining, finetuning = dataset_train_loop(dataset, \n",
    "        TRAIN_PERCENT, \n",
    "        VALIDATE_PERCENT, \n",
    "        TEST_PERCENT, \n",
    "        BATCH_SIZE,\n",
    "        SAMPLE_MODE)\n",
    "\n",
    "    reset(train_bert_in_finetune=TRAIN_BERT_IN_FINETUNE)\n",
    "    pretraining(pretrained_model_name=PRETRAINED_MODEL_NAME)\n",
    "    finetuning(stop_delta_loss=STOP_DELTA_LOSS)"
   ]
  },
  {
   "cell_type": "markdown",
   "metadata": {},
   "source": [
    "## MyAnimeList\n",
    "\n",
    "Training BERT on MyAnimeList only."
   ]
  },
  {
   "cell_type": "code",
   "execution_count": 12,
   "metadata": {},
   "outputs": [
    {
     "name": "stdout",
     "output_type": "stream",
     "text": [
      "Loaded training config:\n"
     ]
    },
    {
     "data": {
      "text/plain": [
       "{'tokenizer': BertTokenizerFast(name_or_path='bert-base-uncased', vocab_size=30522, model_max_length=512, is_fast=True, padding_side='right', truncation_side='right', special_tokens={'unk_token': '[UNK]', 'sep_token': '[SEP]', 'pad_token': '[PAD]', 'cls_token': '[CLS]', 'mask_token': '[MASK]'}, clean_up_tokenization_spaces=False, added_tokens_decoder={\n",
       "\t0: AddedToken(\"[PAD]\", rstrip=False, lstrip=False, single_word=False, normalized=False, special=True),\n",
       "\t100: AddedToken(\"[UNK]\", rstrip=False, lstrip=False, single_word=False, normalized=False, special=True),\n",
       "\t101: AddedToken(\"[CLS]\", rstrip=False, lstrip=False, single_word=False, normalized=False, special=True),\n",
       "\t102: AddedToken(\"[SEP]\", rstrip=False, lstrip=False, single_word=False, normalized=False, special=True),\n",
       "\t103: AddedToken(\"[MASK]\", rstrip=False, lstrip=False, single_word=False, normalized=False, special=True),\n",
       "}\n",
       "), 'pretrained_model_name': '', 'name': 'myanimelist', 'class_names': ['negative', 'neutral', 'positive'], 'stop_delta': 0.05, 'stop_patience': 5, 'train_bert_in_finetune': False, 'max_token_length': 512, 'pretrained_model': None, 'pretrained_dataloaders': None, 'finetuned_classifier_model': None, 'finetuned_dataloaders': None, 'sample_mode': <SampleMode.OVER_SAMPLE: 2>}"
      ]
     },
     "metadata": {},
     "output_type": "display_data"
    },
    {
     "name": "stdout",
     "output_type": "stream",
     "text": [
      "Loaded myanimelist:\n"
     ]
    },
    {
     "data": {
      "text/html": [
       "<div>\n",
       "<style scoped>\n",
       "    .dataframe tbody tr th:only-of-type {\n",
       "        vertical-align: middle;\n",
       "    }\n",
       "\n",
       "    .dataframe tbody tr th {\n",
       "        vertical-align: top;\n",
       "    }\n",
       "\n",
       "    .dataframe thead th {\n",
       "        text-align: right;\n",
       "    }\n",
       "</style>\n",
       "<table border=\"1\" class=\"dataframe\">\n",
       "  <thead>\n",
       "    <tr style=\"text-align: right;\">\n",
       "      <th></th>\n",
       "      <th>site</th>\n",
       "      <th>user</th>\n",
       "      <th>review_target</th>\n",
       "      <th>review</th>\n",
       "      <th>score</th>\n",
       "      <th>max_score</th>\n",
       "    </tr>\n",
       "  </thead>\n",
       "  <tbody>\n",
       "    <tr>\n",
       "      <th>0</th>\n",
       "      <td>MyAnimeList</td>\n",
       "      <td>Devastator004</td>\n",
       "      <td>The World God Only Knows</td>\n",
       "      <td>OOOOOKKKKKaAAAAAYYYYYYYYYY How shall i put it ...</td>\n",
       "      <td>9</td>\n",
       "      <td>10</td>\n",
       "    </tr>\n",
       "    <tr>\n",
       "      <th>1</th>\n",
       "      <td>MyAnimeList</td>\n",
       "      <td>Lance20000</td>\n",
       "      <td>One Piece</td>\n",
       "      <td>Story: This OP movie is pretty basic, its a ju...</td>\n",
       "      <td>8</td>\n",
       "      <td>10</td>\n",
       "    </tr>\n",
       "    <tr>\n",
       "      <th>2</th>\n",
       "      <td>MyAnimeList</td>\n",
       "      <td>KatayokuTsuneki</td>\n",
       "      <td>Angel Beats!</td>\n",
       "      <td>Ah, Angel Beats! caused some serious flame war...</td>\n",
       "      <td>7</td>\n",
       "      <td>10</td>\n",
       "    </tr>\n",
       "    <tr>\n",
       "      <th>3</th>\n",
       "      <td>MyAnimeList</td>\n",
       "      <td>BanjoTheBear</td>\n",
       "      <td>Is It Wrong to Try to Pick Up Girls in a Dungeon?</td>\n",
       "      <td>(This has been adapted from my blog/reddit thr...</td>\n",
       "      <td>4</td>\n",
       "      <td>10</td>\n",
       "    </tr>\n",
       "    <tr>\n",
       "      <th>4</th>\n",
       "      <td>MyAnimeList</td>\n",
       "      <td>lt_wassile</td>\n",
       "      <td>Demon Slayer: Kimetsu no Yaiba</td>\n",
       "      <td>Once upon a time, the anime industry came up w...</td>\n",
       "      <td>7</td>\n",
       "      <td>10</td>\n",
       "    </tr>\n",
       "    <tr>\n",
       "      <th>...</th>\n",
       "      <td>...</td>\n",
       "      <td>...</td>\n",
       "      <td>...</td>\n",
       "      <td>...</td>\n",
       "      <td>...</td>\n",
       "      <td>...</td>\n",
       "    </tr>\n",
       "    <tr>\n",
       "      <th>13408</th>\n",
       "      <td>MyAnimeList</td>\n",
       "      <td>donquickoats</td>\n",
       "      <td>Porco Rosso</td>\n",
       "      <td>Easily the most underrated Miyazaki film. Simu...</td>\n",
       "      <td>10</td>\n",
       "      <td>10</td>\n",
       "    </tr>\n",
       "    <tr>\n",
       "      <th>13409</th>\n",
       "      <td>MyAnimeList</td>\n",
       "      <td>Pennisland</td>\n",
       "      <td>Oshi no Ko</td>\n",
       "      <td>I'll keep this review short. You can't make a ...</td>\n",
       "      <td>4</td>\n",
       "      <td>10</td>\n",
       "    </tr>\n",
       "    <tr>\n",
       "      <th>13410</th>\n",
       "      <td>MyAnimeList</td>\n",
       "      <td>Blaufisch</td>\n",
       "      <td>March Comes in Like a Lion</td>\n",
       "      <td>Strong first half with minor problems folowed ...</td>\n",
       "      <td>7</td>\n",
       "      <td>10</td>\n",
       "    </tr>\n",
       "    <tr>\n",
       "      <th>13411</th>\n",
       "      <td>MyAnimeList</td>\n",
       "      <td>TeaBear</td>\n",
       "      <td>Angel Beats!</td>\n",
       "      <td>Story: worst piece of shit I have ever seen. A...</td>\n",
       "      <td>1</td>\n",
       "      <td>10</td>\n",
       "    </tr>\n",
       "    <tr>\n",
       "      <th>13412</th>\n",
       "      <td>MyAnimeList</td>\n",
       "      <td>Dora_Angel</td>\n",
       "      <td>Fire Force</td>\n",
       "      <td>I have a funny story I accidentally bought the...</td>\n",
       "      <td>9</td>\n",
       "      <td>10</td>\n",
       "    </tr>\n",
       "  </tbody>\n",
       "</table>\n",
       "<p>13413 rows × 6 columns</p>\n",
       "</div>"
      ],
      "text/plain": [
       "              site             user  \\\n",
       "0      MyAnimeList    Devastator004   \n",
       "1      MyAnimeList       Lance20000   \n",
       "2      MyAnimeList  KatayokuTsuneki   \n",
       "3      MyAnimeList     BanjoTheBear   \n",
       "4      MyAnimeList       lt_wassile   \n",
       "...            ...              ...   \n",
       "13408  MyAnimeList     donquickoats   \n",
       "13409  MyAnimeList       Pennisland   \n",
       "13410  MyAnimeList        Blaufisch   \n",
       "13411  MyAnimeList          TeaBear   \n",
       "13412  MyAnimeList       Dora_Angel   \n",
       "\n",
       "                                           review_target  \\\n",
       "0                               The World God Only Knows   \n",
       "1                                              One Piece   \n",
       "2                                           Angel Beats!   \n",
       "3      Is It Wrong to Try to Pick Up Girls in a Dungeon?   \n",
       "4                         Demon Slayer: Kimetsu no Yaiba   \n",
       "...                                                  ...   \n",
       "13408                                        Porco Rosso   \n",
       "13409                                         Oshi no Ko   \n",
       "13410                         March Comes in Like a Lion   \n",
       "13411                                       Angel Beats!   \n",
       "13412                                         Fire Force   \n",
       "\n",
       "                                                  review  score  max_score  \n",
       "0      OOOOOKKKKKaAAAAAYYYYYYYYYY How shall i put it ...      9         10  \n",
       "1      Story: This OP movie is pretty basic, its a ju...      8         10  \n",
       "2      Ah, Angel Beats! caused some serious flame war...      7         10  \n",
       "3      (This has been adapted from my blog/reddit thr...      4         10  \n",
       "4      Once upon a time, the anime industry came up w...      7         10  \n",
       "...                                                  ...    ...        ...  \n",
       "13408  Easily the most underrated Miyazaki film. Simu...     10         10  \n",
       "13409  I'll keep this review short. You can't make a ...      4         10  \n",
       "13410  Strong first half with minor problems folowed ...      7         10  \n",
       "13411  Story: worst piece of shit I have ever seen. A...      1         10  \n",
       "13412  I have a funny story I accidentally bought the...      9         10  \n",
       "\n",
       "[13413 rows x 6 columns]"
      ]
     },
     "metadata": {},
     "output_type": "display_data"
    },
    {
     "name": "stderr",
     "output_type": "stream",
     "text": [
      "C:\\Users\\Alan\\AppData\\Local\\Temp\\ipykernel_3808\\3162132042.py:585: DeprecationWarning: DataFrameGroupBy.apply operated on the grouping columns. This behavior is deprecated, and in a future version of pandas the grouping columns will be excluded from the operation. Either pass `include_groups=False` to exclude the groupings or explicitly select the grouping columns after groupby to silence this warning.\n",
      "  sampled_df = g.apply(lambda x: x.sample(max_group_size, replace=True)).reset_index(drop=True)\n"
     ]
    },
    {
     "data": {
      "image/png": "[encoded data removed]",
      "text/plain": [
       "<Figure size 640x480 with 1 Axes>"
      ]
     },
     "metadata": {},
     "output_type": "display_data"
    },
    {
     "data": {
      "text/plain": [
       "sentiment_score\n",
       "2    8857\n",
       "1    2969\n",
       "0    1587\n",
       "Name: count, dtype: int64"
      ]
     },
     "metadata": {},
     "output_type": "display_data"
    },
    {
     "data": {
      "image/png": "[encoded data removed]",
      "text/plain": [
       "<Figure size 640x480 with 1 Axes>"
      ]
     },
     "metadata": {},
     "output_type": "display_data"
    },
    {
     "data": {
      "text/plain": [
       "sentiment_score\n",
       "0    8857\n",
       "1    8857\n",
       "2    8857\n",
       "Name: count, dtype: int64"
      ]
     },
     "metadata": {},
     "output_type": "display_data"
    },
    {
     "name": "stdout",
     "output_type": "stream",
     "text": [
      "Original dataset size: 13413\n",
      "Sampled dataset size: 26571\n"
     ]
    },
    {
     "data": {
      "text/html": [
       "<div>\n",
       "<style scoped>\n",
       "    .dataframe tbody tr th:only-of-type {\n",
       "        vertical-align: middle;\n",
       "    }\n",
       "\n",
       "    .dataframe tbody tr th {\n",
       "        vertical-align: top;\n",
       "    }\n",
       "\n",
       "    .dataframe thead th {\n",
       "        text-align: right;\n",
       "    }\n",
       "</style>\n",
       "<table border=\"1\" class=\"dataframe\">\n",
       "  <thead>\n",
       "    <tr style=\"text-align: right;\">\n",
       "      <th></th>\n",
       "      <th>site</th>\n",
       "      <th>user</th>\n",
       "      <th>review_target</th>\n",
       "      <th>review</th>\n",
       "      <th>score</th>\n",
       "      <th>max_score</th>\n",
       "      <th>norm_score</th>\n",
       "      <th>sentiment_score</th>\n",
       "    </tr>\n",
       "  </thead>\n",
       "  <tbody>\n",
       "    <tr>\n",
       "      <th>0</th>\n",
       "      <td>MyAnimeList</td>\n",
       "      <td>Injenss</td>\n",
       "      <td>The Wind Rises</td>\n",
       "      <td>This film is very underwhelming. It loosely fo...</td>\n",
       "      <td>4</td>\n",
       "      <td>10</td>\n",
       "      <td>0.4</td>\n",
       "      <td>0</td>\n",
       "    </tr>\n",
       "    <tr>\n",
       "      <th>1</th>\n",
       "      <td>MyAnimeList</td>\n",
       "      <td>menmari</td>\n",
       "      <td>Sword Art Online</td>\n",
       "      <td>First of all, I apologize for my poor writing ...</td>\n",
       "      <td>3</td>\n",
       "      <td>10</td>\n",
       "      <td>0.3</td>\n",
       "      <td>0</td>\n",
       "    </tr>\n",
       "    <tr>\n",
       "      <th>2</th>\n",
       "      <td>MyAnimeList</td>\n",
       "      <td>KKAJ</td>\n",
       "      <td>Black Butler</td>\n",
       "      <td>When I initially watched Black Butler my view ...</td>\n",
       "      <td>4</td>\n",
       "      <td>10</td>\n",
       "      <td>0.4</td>\n",
       "      <td>0</td>\n",
       "    </tr>\n",
       "    <tr>\n",
       "      <th>3</th>\n",
       "      <td>MyAnimeList</td>\n",
       "      <td>Luquillo</td>\n",
       "      <td>Hellsing Ultimate</td>\n",
       "      <td>Hellsing Ultimate is a title I remember lookin...</td>\n",
       "      <td>3</td>\n",
       "      <td>10</td>\n",
       "      <td>0.3</td>\n",
       "      <td>0</td>\n",
       "    </tr>\n",
       "    <tr>\n",
       "      <th>4</th>\n",
       "      <td>MyAnimeList</td>\n",
       "      <td>SCLFI</td>\n",
       "      <td>The Promised Neverland</td>\n",
       "      <td>Neverland was a bit bizarre, it certainly felt...</td>\n",
       "      <td>3</td>\n",
       "      <td>10</td>\n",
       "      <td>0.3</td>\n",
       "      <td>0</td>\n",
       "    </tr>\n",
       "    <tr>\n",
       "      <th>...</th>\n",
       "      <td>...</td>\n",
       "      <td>...</td>\n",
       "      <td>...</td>\n",
       "      <td>...</td>\n",
       "      <td>...</td>\n",
       "      <td>...</td>\n",
       "      <td>...</td>\n",
       "      <td>...</td>\n",
       "    </tr>\n",
       "    <tr>\n",
       "      <th>26566</th>\n",
       "      <td>MyAnimeList</td>\n",
       "      <td>angelsreview</td>\n",
       "      <td>The Melancholy of Haruhi Suzumiya</td>\n",
       "      <td>((The same as second Season without endless 8)...</td>\n",
       "      <td>8</td>\n",
       "      <td>10</td>\n",
       "      <td>0.8</td>\n",
       "      <td>2</td>\n",
       "    </tr>\n",
       "    <tr>\n",
       "      <th>26567</th>\n",
       "      <td>MyAnimeList</td>\n",
       "      <td>LeaderTGW</td>\n",
       "      <td>Toradora!</td>\n",
       "      <td>[Spoilers Mates] I have had my Toradora box se...</td>\n",
       "      <td>8</td>\n",
       "      <td>10</td>\n",
       "      <td>0.8</td>\n",
       "      <td>2</td>\n",
       "    </tr>\n",
       "    <tr>\n",
       "      <th>26568</th>\n",
       "      <td>MyAnimeList</td>\n",
       "      <td>GigaSPX</td>\n",
       "      <td>Hyouka</td>\n",
       "      <td>This is my first ever written review on MAL, a...</td>\n",
       "      <td>10</td>\n",
       "      <td>10</td>\n",
       "      <td>1.0</td>\n",
       "      <td>2</td>\n",
       "    </tr>\n",
       "    <tr>\n",
       "      <th>26569</th>\n",
       "      <td>MyAnimeList</td>\n",
       "      <td>Lord_Rutsah</td>\n",
       "      <td>Assassination Classroom</td>\n",
       "      <td>Quite literally my first reaction: Oh my god! ...</td>\n",
       "      <td>8</td>\n",
       "      <td>10</td>\n",
       "      <td>0.8</td>\n",
       "      <td>2</td>\n",
       "    </tr>\n",
       "    <tr>\n",
       "      <th>26570</th>\n",
       "      <td>MyAnimeList</td>\n",
       "      <td>TamaraZ</td>\n",
       "      <td>Dr. Stone</td>\n",
       "      <td>I'm in love with this anime. I never thought c...</td>\n",
       "      <td>10</td>\n",
       "      <td>10</td>\n",
       "      <td>1.0</td>\n",
       "      <td>2</td>\n",
       "    </tr>\n",
       "  </tbody>\n",
       "</table>\n",
       "<p>26571 rows × 8 columns</p>\n",
       "</div>"
      ],
      "text/plain": [
       "              site          user                      review_target  \\\n",
       "0      MyAnimeList       Injenss                     The Wind Rises   \n",
       "1      MyAnimeList       menmari                   Sword Art Online   \n",
       "2      MyAnimeList          KKAJ                       Black Butler   \n",
       "3      MyAnimeList      Luquillo                  Hellsing Ultimate   \n",
       "4      MyAnimeList         SCLFI             The Promised Neverland   \n",
       "...            ...           ...                                ...   \n",
       "26566  MyAnimeList  angelsreview  The Melancholy of Haruhi Suzumiya   \n",
       "26567  MyAnimeList     LeaderTGW                          Toradora!   \n",
       "26568  MyAnimeList       GigaSPX                             Hyouka   \n",
       "26569  MyAnimeList   Lord_Rutsah            Assassination Classroom   \n",
       "26570  MyAnimeList       TamaraZ                          Dr. Stone   \n",
       "\n",
       "                                                  review  score  max_score  \\\n",
       "0      This film is very underwhelming. It loosely fo...      4         10   \n",
       "1      First of all, I apologize for my poor writing ...      3         10   \n",
       "2      When I initially watched Black Butler my view ...      4         10   \n",
       "3      Hellsing Ultimate is a title I remember lookin...      3         10   \n",
       "4      Neverland was a bit bizarre, it certainly felt...      3         10   \n",
       "...                                                  ...    ...        ...   \n",
       "26566  ((The same as second Season without endless 8)...      8         10   \n",
       "26567  [Spoilers Mates] I have had my Toradora box se...      8         10   \n",
       "26568  This is my first ever written review on MAL, a...     10         10   \n",
       "26569  Quite literally my first reaction: Oh my god! ...      8         10   \n",
       "26570  I'm in love with this anime. I never thought c...     10         10   \n",
       "\n",
       "       norm_score  sentiment_score  \n",
       "0             0.4                0  \n",
       "1             0.3                0  \n",
       "2             0.4                0  \n",
       "3             0.3                0  \n",
       "4             0.3                0  \n",
       "...           ...              ...  \n",
       "26566         0.8                2  \n",
       "26567         0.8                2  \n",
       "26568         1.0                2  \n",
       "26569         0.8                2  \n",
       "26570         1.0                2  \n",
       "\n",
       "[26571 rows x 8 columns]"
      ]
     },
     "metadata": {},
     "output_type": "display_data"
    },
    {
     "name": "stdout",
     "output_type": "stream",
     "text": [
      "Loading masked dataset:\n",
      "    Loading existing dataset file @ myanimelist_masked_data.dt...\n",
      "Loading reviews dataset:\n",
      "    Loading existing dataset file @ myanimelist_reviews_data.dt...\n",
      "Masked pretraining:\n",
      "    train_dataloader: (294 batches)\n",
      "    test_dataloader: (84 batches)\n",
      "    valid_dataloader: (42 batches)\n",
      "Reviews training:\n",
      "    train_dataloader: (582 batches)\n",
      "    test_dataloader: (167 batches)\n",
      "    valid_dataloader: (84 batches)\n",
      "Training start for 'myanimelist' finetuning...\n"
     ]
    },
    {
     "data": {
      "image/png": "[encoded data removed]",
      "text/plain": [
       "<Figure size 640x480 with 1 Axes>"
      ]
     },
     "metadata": {},
     "output_type": "display_data"
    },
    {
     "name": "stderr",
     "output_type": "stream",
     "text": [
      "Epoch: 0   : 100%|██████████| 582/582 [00:47<00:00, 12.33it/s, loss=1.09, num_correct=None] \n",
      "           : 100%|██████████| 84/84 [00:06<00:00, 12.60it/s, loss=0.851, num_correct=tensor(2, device='cuda:0')] \n"
     ]
    },
    {
     "name": "stderr",
     "output_type": "stream",
     "text": [
      "Epoch: 1   :  51%|█████     | 297/582 [00:24<00:23, 12.27it/s, loss=0.915, num_correct=None]\n"
     ]
    },
    {
     "ename": "KeyboardInterrupt",
     "evalue": "",
     "output_type": "error",
     "traceback": [
      "\u001b[1;31m---------------------------------------------------------------------------\u001b[0m",
      "\u001b[1;31mKeyboardInterrupt\u001b[0m                         Traceback (most recent call last)",
      "Cell \u001b[1;32mIn[12], line 1\u001b[0m\n\u001b[1;32m----> 1\u001b[0m \u001b[43mglobal_dataset_train_loop\u001b[49m\u001b[43m(\u001b[49m\u001b[38;5;124;43m\"\u001b[39;49m\u001b[38;5;124;43mmyanimelist\u001b[39;49m\u001b[38;5;124;43m\"\u001b[39;49m\u001b[43m)\u001b[49m\n",
      "Cell \u001b[1;32mIn[5], line 20\u001b[0m, in \u001b[0;36mglobal_dataset_train_loop\u001b[1;34m(dataset)\u001b[0m\n\u001b[0;32m     18\u001b[0m reset(train_bert_in_finetune\u001b[38;5;241m=\u001b[39mTRAIN_BERT_IN_FINETUNE)\n\u001b[0;32m     19\u001b[0m pretraining(pretrained_model_name\u001b[38;5;241m=\u001b[39mPRETRAINED_MODEL_NAME)\n\u001b[1;32m---> 20\u001b[0m \u001b[43mfinetuning\u001b[49m\u001b[43m(\u001b[49m\u001b[43mstop_delta_loss\u001b[49m\u001b[38;5;241;43m=\u001b[39;49m\u001b[43mSTOP_DELTA_LOSS\u001b[49m\u001b[43m)\u001b[49m\n",
      "Cell \u001b[1;32mIn[11], line 650\u001b[0m, in \u001b[0;36mdataset_train_loop.<locals>.finetuning\u001b[1;34m(stop_delta_loss, use_lr_schedule)\u001b[0m\n\u001b[0;32m    648\u001b[0m \u001b[38;5;28mprint\u001b[39m(\u001b[38;5;124mf\u001b[39m\u001b[38;5;124m\"\u001b[39m\u001b[38;5;124mReviews training:\u001b[39m\u001b[38;5;124m\"\u001b[39m)\n\u001b[0;32m    649\u001b[0m \u001b[38;5;28mprint\u001b[39m(\u001b[38;5;124mf\u001b[39m\u001b[38;5;124m\"\u001b[39m\u001b[38;5;124m    train_dataloader: (\u001b[39m\u001b[38;5;132;01m{\u001b[39;00m\u001b[38;5;28mlen\u001b[39m(train_dl)\u001b[38;5;132;01m}\u001b[39;00m\u001b[38;5;124m batches)\u001b[39m\u001b[38;5;130;01m\\n\u001b[39;00m\u001b[38;5;124m    test_dataloader: (\u001b[39m\u001b[38;5;132;01m{\u001b[39;00m\u001b[38;5;28mlen\u001b[39m(test_dl)\u001b[38;5;132;01m}\u001b[39;00m\u001b[38;5;124m batches)\u001b[39m\u001b[38;5;130;01m\\n\u001b[39;00m\u001b[38;5;124m    valid_dataloader: (\u001b[39m\u001b[38;5;132;01m{\u001b[39;00m\u001b[38;5;28mlen\u001b[39m(valid_dl)\u001b[38;5;132;01m}\u001b[39;00m\u001b[38;5;124m batches)\u001b[39m\u001b[38;5;124m\"\u001b[39m)\n\u001b[1;32m--> 650\u001b[0m \u001b[43mfinetuning_loop\u001b[49m\u001b[43m(\u001b[49m\u001b[43mtrain_dl\u001b[49m\u001b[43m,\u001b[49m\u001b[43m \u001b[49m\u001b[43mvalid_dl\u001b[49m\u001b[43m,\u001b[49m\u001b[43m \u001b[49m\u001b[43mconfig\u001b[49m\u001b[43m,\u001b[49m\u001b[43m \u001b[49m\u001b[43muse_lr_schedule\u001b[49m\u001b[43m)\u001b[49m\n\u001b[0;32m    651\u001b[0m finetuning_test(test_dl, config\u001b[38;5;241m.\u001b[39mfinetuned_classifier_model, [\u001b[38;5;124m\"\u001b[39m\u001b[38;5;124mnegative\u001b[39m\u001b[38;5;124m\"\u001b[39m, \u001b[38;5;124m\"\u001b[39m\u001b[38;5;124mneutral\u001b[39m\u001b[38;5;124m\"\u001b[39m, \u001b[38;5;124m\"\u001b[39m\u001b[38;5;124mpositive\u001b[39m\u001b[38;5;124m\"\u001b[39m])\n",
      "Cell \u001b[1;32mIn[11], line 455\u001b[0m, in \u001b[0;36mfinetuning_loop\u001b[1;34m(train_dataloader, valid_dataloader, config, use_lr_schedule)\u001b[0m\n\u001b[0;32m    448\u001b[0m \u001b[38;5;28;01mif\u001b[39;00m use_lr_schedule:\n\u001b[0;32m    449\u001b[0m     scheduler \u001b[38;5;241m=\u001b[39m  get_linear_schedule_with_warmup(\n\u001b[0;32m    450\u001b[0m         optim,\n\u001b[0;32m    451\u001b[0m         num_warmup_steps\u001b[38;5;241m=\u001b[39m\u001b[38;5;241m0\u001b[39m,\n\u001b[0;32m    452\u001b[0m         num_training_steps\u001b[38;5;241m=\u001b[39m\u001b[38;5;28mlen\u001b[39m(train_dataloader) \u001b[38;5;241m*\u001b[39m \u001b[38;5;241m10\u001b[39m\n\u001b[0;32m    453\u001b[0m     )\n\u001b[1;32m--> 455\u001b[0m \u001b[43mtrain_loop\u001b[49m\u001b[43m(\u001b[49m\u001b[43mname\u001b[49m\u001b[38;5;241;43m=\u001b[39;49m\u001b[43mconfig\u001b[49m\u001b[38;5;241;43m.\u001b[39;49m\u001b[43mname\u001b[49m\u001b[43m,\u001b[49m\u001b[43m \u001b[49m\n\u001b[0;32m    456\u001b[0m \u001b[43m    \u001b[49m\u001b[43mdesc\u001b[49m\u001b[38;5;241;43m=\u001b[39;49m\u001b[38;5;124;43m\"\u001b[39;49m\u001b[38;5;124;43mfinetuning\u001b[39;49m\u001b[38;5;124;43m\"\u001b[39;49m\u001b[43m,\u001b[49m\n\u001b[0;32m    457\u001b[0m \u001b[43m    \u001b[49m\u001b[43mmodel_filename\u001b[49m\u001b[38;5;241;43m=\u001b[39;49m\u001b[38;5;124;43m\"\u001b[39;49m\u001b[38;5;124;43mmodel_finetune\u001b[39;49m\u001b[38;5;124;43m\"\u001b[39;49m\u001b[43m,\u001b[49m\n\u001b[0;32m    458\u001b[0m \u001b[43m    \u001b[49m\u001b[43mtrain_dataloader\u001b[49m\u001b[38;5;241;43m=\u001b[39;49m\u001b[43mtrain_dataloader\u001b[49m\u001b[43m,\u001b[49m\n\u001b[0;32m    459\u001b[0m \u001b[43m    \u001b[49m\u001b[43mvalid_dataloader\u001b[49m\u001b[38;5;241;43m=\u001b[39;49m\u001b[43mvalid_dataloader\u001b[49m\u001b[43m,\u001b[49m\n\u001b[0;32m    460\u001b[0m \u001b[43m    \u001b[49m\u001b[43mmodel\u001b[49m\u001b[38;5;241;43m=\u001b[39;49m\u001b[43mmodel\u001b[49m\u001b[43m,\u001b[49m\n\u001b[0;32m    461\u001b[0m \u001b[43m    \u001b[49m\u001b[43moptim\u001b[49m\u001b[38;5;241;43m=\u001b[39;49m\u001b[43moptim\u001b[49m\u001b[43m,\u001b[49m\n\u001b[0;32m    462\u001b[0m \u001b[43m    \u001b[49m\u001b[43mstop_patience\u001b[49m\u001b[38;5;241;43m=\u001b[39;49m\u001b[43mconfig\u001b[49m\u001b[38;5;241;43m.\u001b[39;49m\u001b[43mstop_patience\u001b[49m\u001b[43m,\u001b[49m\n\u001b[0;32m    463\u001b[0m \u001b[43m    \u001b[49m\u001b[43mstop_delta\u001b[49m\u001b[38;5;241;43m=\u001b[39;49m\u001b[43mconfig\u001b[49m\u001b[38;5;241;43m.\u001b[39;49m\u001b[43mstop_delta\u001b[49m\u001b[43m,\u001b[49m\n\u001b[0;32m    464\u001b[0m \u001b[43m    \u001b[49m\u001b[43mrun_fn\u001b[49m\u001b[38;5;241;43m=\u001b[39;49m\u001b[43mtrain_fn\u001b[49m\u001b[43m,\u001b[49m\n\u001b[0;32m    465\u001b[0m \u001b[43m    \u001b[49m\u001b[43mscheduler\u001b[49m\u001b[38;5;241;43m=\u001b[39;49m\u001b[43mscheduler\u001b[49m\u001b[43m)\u001b[49m\n\u001b[0;32m    467\u001b[0m config\u001b[38;5;241m.\u001b[39mfinetuned_classifier_model \u001b[38;5;241m=\u001b[39m model\n",
      "Cell \u001b[1;32mIn[11], line 290\u001b[0m, in \u001b[0;36mtrain_loop\u001b[1;34m(name, desc, model_filename, train_dataloader, valid_dataloader, model, optim, stop_patience, stop_delta, run_fn, scheduler)\u001b[0m\n\u001b[0;32m    287\u001b[0m epoch_loop \u001b[38;5;241m=\u001b[39m itertools\u001b[38;5;241m.\u001b[39mcount(start\u001b[38;5;241m=\u001b[39minit_epoch, step\u001b[38;5;241m=\u001b[39m\u001b[38;5;241m1\u001b[39m)\n\u001b[0;32m    288\u001b[0m \u001b[38;5;28;01mfor\u001b[39;00m epoch \u001b[38;5;129;01min\u001b[39;00m epoch_loop:\n\u001b[0;32m    289\u001b[0m     \u001b[38;5;66;03m# Training loop\u001b[39;00m\n\u001b[1;32m--> 290\u001b[0m     train_stats \u001b[38;5;241m=\u001b[39m \u001b[43mtrain_from_dataloader\u001b[49m\u001b[43m(\u001b[49m\u001b[43mmodel\u001b[49m\u001b[38;5;241;43m=\u001b[39;49m\u001b[43mmodel\u001b[49m\u001b[43m,\u001b[49m\u001b[43m \u001b[49m\u001b[43moptim\u001b[49m\u001b[38;5;241;43m=\u001b[39;49m\u001b[43moptim\u001b[49m\u001b[43m,\u001b[49m\u001b[43m \u001b[49m\u001b[43mdataloader\u001b[49m\u001b[38;5;241;43m=\u001b[39;49m\u001b[43mtrain_dataloader\u001b[49m\u001b[43m,\u001b[49m\u001b[43m \u001b[49m\u001b[43mrun_fn\u001b[49m\u001b[38;5;241;43m=\u001b[39;49m\u001b[43mrun_fn\u001b[49m\u001b[43m,\u001b[49m\u001b[43m \u001b[49m\u001b[43mepoch\u001b[49m\u001b[38;5;241;43m=\u001b[39;49m\u001b[43mepoch\u001b[49m\u001b[43m,\u001b[49m\u001b[43m \u001b[49m\u001b[43mscheduler\u001b[49m\u001b[38;5;241;43m=\u001b[39;49m\u001b[43mscheduler\u001b[49m\u001b[43m)\u001b[49m\n\u001b[0;32m    292\u001b[0m     \u001b[38;5;66;03m# Validation loop\u001b[39;00m\n\u001b[0;32m    293\u001b[0m     valid_stats \u001b[38;5;241m=\u001b[39m eval_from_dataloader(model\u001b[38;5;241m=\u001b[39mmodel, dataloader\u001b[38;5;241m=\u001b[39mvalid_dataloader, run_fn\u001b[38;5;241m=\u001b[39mrun_fn)\n",
      "Cell \u001b[1;32mIn[11], line 210\u001b[0m, in \u001b[0;36mtrain_from_dataloader\u001b[1;34m(model, optim, dataloader, run_fn, epoch, scheduler)\u001b[0m\n\u001b[0;32m    207\u001b[0m \u001b[38;5;28;01mfor\u001b[39;00m data \u001b[38;5;129;01min\u001b[39;00m loop:\n\u001b[0;32m    208\u001b[0m     loop_iter_data\u001b[38;5;241m.\u001b[39mreset(is_valid\u001b[38;5;241m=\u001b[39m\u001b[38;5;28;01mFalse\u001b[39;00m)\n\u001b[1;32m--> 210\u001b[0m     \u001b[43mrun_fn\u001b[49m\u001b[43m(\u001b[49m\u001b[43mmodel\u001b[49m\u001b[43m,\u001b[49m\u001b[43m \u001b[49m\u001b[43mdata\u001b[49m\u001b[43m,\u001b[49m\u001b[43m \u001b[49m\u001b[43mloop_iter_data\u001b[49m\u001b[43m)\u001b[49m\n\u001b[0;32m    211\u001b[0m     loss \u001b[38;5;241m=\u001b[39m loop_iter_data\u001b[38;5;241m.\u001b[39moutput_loss\n\u001b[0;32m    213\u001b[0m     \u001b[38;5;66;03m# Apply backward propagation\u001b[39;00m\n",
      "Cell \u001b[1;32mIn[11], line 415\u001b[0m, in \u001b[0;36mfinetuning_loop.<locals>.train_fn\u001b[1;34m(model, data, iter_data)\u001b[0m\n\u001b[0;32m    412\u001b[0m attention_mask \u001b[38;5;241m=\u001b[39m data[\u001b[38;5;124m\"\u001b[39m\u001b[38;5;124mattention_mask\u001b[39m\u001b[38;5;124m\"\u001b[39m]\u001b[38;5;241m.\u001b[39mto(device)\n\u001b[0;32m    413\u001b[0m target \u001b[38;5;241m=\u001b[39m data[\u001b[38;5;124m\"\u001b[39m\u001b[38;5;124mscore\u001b[39m\u001b[38;5;124m\"\u001b[39m]\u001b[38;5;241m.\u001b[39mto(device)\n\u001b[1;32m--> 415\u001b[0m raw_pred: torch\u001b[38;5;241m.\u001b[39mFloatTensor \u001b[38;5;241m=\u001b[39m \u001b[43mmodel\u001b[49m\u001b[43m(\u001b[49m\u001b[43minput_ids\u001b[49m\u001b[38;5;241;43m=\u001b[39;49m\u001b[43minput_ids\u001b[49m\u001b[43m,\u001b[49m\u001b[43m \u001b[49m\u001b[43mattention_mask\u001b[49m\u001b[38;5;241;43m=\u001b[39;49m\u001b[43mattention_mask\u001b[49m\u001b[43m)\u001b[49m\n\u001b[0;32m    416\u001b[0m iter_data\u001b[38;5;241m.\u001b[39moutput_loss \u001b[38;5;241m=\u001b[39m loss_fn(raw_pred, target)\n\u001b[0;32m    418\u001b[0m \u001b[38;5;66;03m# Track accuracy for validation set\u001b[39;00m\n",
      "File \u001b[1;32mc:\\Users\\Alan\\Desktop\\Open_Source\\BERT-TLSA-paper\\.venv\\Lib\\site-packages\\torch\\nn\\modules\\module.py:1751\u001b[0m, in \u001b[0;36mModule._wrapped_call_impl\u001b[1;34m(self, *args, **kwargs)\u001b[0m\n\u001b[0;32m   1749\u001b[0m     \u001b[38;5;28;01mreturn\u001b[39;00m \u001b[38;5;28mself\u001b[39m\u001b[38;5;241m.\u001b[39m_compiled_call_impl(\u001b[38;5;241m*\u001b[39margs, \u001b[38;5;241m*\u001b[39m\u001b[38;5;241m*\u001b[39mkwargs)  \u001b[38;5;66;03m# type: ignore[misc]\u001b[39;00m\n\u001b[0;32m   1750\u001b[0m \u001b[38;5;28;01melse\u001b[39;00m:\n\u001b[1;32m-> 1751\u001b[0m     \u001b[38;5;28;01mreturn\u001b[39;00m \u001b[38;5;28;43mself\u001b[39;49m\u001b[38;5;241;43m.\u001b[39;49m\u001b[43m_call_impl\u001b[49m\u001b[43m(\u001b[49m\u001b[38;5;241;43m*\u001b[39;49m\u001b[43margs\u001b[49m\u001b[43m,\u001b[49m\u001b[43m \u001b[49m\u001b[38;5;241;43m*\u001b[39;49m\u001b[38;5;241;43m*\u001b[39;49m\u001b[43mkwargs\u001b[49m\u001b[43m)\u001b[49m\n",
      "File \u001b[1;32mc:\\Users\\Alan\\Desktop\\Open_Source\\BERT-TLSA-paper\\.venv\\Lib\\site-packages\\torch\\nn\\modules\\module.py:1762\u001b[0m, in \u001b[0;36mModule._call_impl\u001b[1;34m(self, *args, **kwargs)\u001b[0m\n\u001b[0;32m   1757\u001b[0m \u001b[38;5;66;03m# If we don't have any hooks, we want to skip the rest of the logic in\u001b[39;00m\n\u001b[0;32m   1758\u001b[0m \u001b[38;5;66;03m# this function, and just call forward.\u001b[39;00m\n\u001b[0;32m   1759\u001b[0m \u001b[38;5;28;01mif\u001b[39;00m \u001b[38;5;129;01mnot\u001b[39;00m (\u001b[38;5;28mself\u001b[39m\u001b[38;5;241m.\u001b[39m_backward_hooks \u001b[38;5;129;01mor\u001b[39;00m \u001b[38;5;28mself\u001b[39m\u001b[38;5;241m.\u001b[39m_backward_pre_hooks \u001b[38;5;129;01mor\u001b[39;00m \u001b[38;5;28mself\u001b[39m\u001b[38;5;241m.\u001b[39m_forward_hooks \u001b[38;5;129;01mor\u001b[39;00m \u001b[38;5;28mself\u001b[39m\u001b[38;5;241m.\u001b[39m_forward_pre_hooks\n\u001b[0;32m   1760\u001b[0m         \u001b[38;5;129;01mor\u001b[39;00m _global_backward_pre_hooks \u001b[38;5;129;01mor\u001b[39;00m _global_backward_hooks\n\u001b[0;32m   1761\u001b[0m         \u001b[38;5;129;01mor\u001b[39;00m _global_forward_hooks \u001b[38;5;129;01mor\u001b[39;00m _global_forward_pre_hooks):\n\u001b[1;32m-> 1762\u001b[0m     \u001b[38;5;28;01mreturn\u001b[39;00m \u001b[43mforward_call\u001b[49m\u001b[43m(\u001b[49m\u001b[38;5;241;43m*\u001b[39;49m\u001b[43margs\u001b[49m\u001b[43m,\u001b[49m\u001b[43m \u001b[49m\u001b[38;5;241;43m*\u001b[39;49m\u001b[38;5;241;43m*\u001b[39;49m\u001b[43mkwargs\u001b[49m\u001b[43m)\u001b[49m\n\u001b[0;32m   1764\u001b[0m result \u001b[38;5;241m=\u001b[39m \u001b[38;5;28;01mNone\u001b[39;00m\n\u001b[0;32m   1765\u001b[0m called_always_called_hooks \u001b[38;5;241m=\u001b[39m \u001b[38;5;28mset\u001b[39m()\n",
      "Cell \u001b[1;32mIn[2], line 29\u001b[0m, in \u001b[0;36mBERTSentimentClassifier.forward\u001b[1;34m(self, input_ids, attention_mask)\u001b[0m\n\u001b[0;32m     28\u001b[0m \u001b[38;5;28;01mdef\u001b[39;00m\u001b[38;5;250m \u001b[39m\u001b[38;5;21mforward\u001b[39m(\u001b[38;5;28mself\u001b[39m, input_ids: torch\u001b[38;5;241m.\u001b[39mIntTensor, attention_mask: torch\u001b[38;5;241m.\u001b[39mIntTensor) \u001b[38;5;241m-\u001b[39m\u001b[38;5;241m>\u001b[39m torch\u001b[38;5;241m.\u001b[39mFloatTensor:\n\u001b[1;32m---> 29\u001b[0m     hidden_state \u001b[38;5;241m=\u001b[39m \u001b[38;5;28;43mself\u001b[39;49m\u001b[38;5;241;43m.\u001b[39;49m\u001b[43mbert\u001b[49m\u001b[43m(\u001b[49m\n\u001b[0;32m     30\u001b[0m \u001b[43m        \u001b[49m\u001b[43minput_ids\u001b[49m\u001b[38;5;241;43m=\u001b[39;49m\u001b[43minput_ids\u001b[49m\u001b[43m,\u001b[49m\u001b[43m \u001b[49m\n\u001b[0;32m     31\u001b[0m \u001b[43m        \u001b[49m\u001b[43mattention_mask\u001b[49m\u001b[38;5;241;43m=\u001b[39;49m\u001b[43mattention_mask\u001b[49m\u001b[43m,\u001b[49m\u001b[43m \u001b[49m\n\u001b[0;32m     32\u001b[0m \u001b[43m        \u001b[49m\u001b[43mreturn_dict\u001b[49m\u001b[38;5;241;43m=\u001b[39;49m\u001b[38;5;28;43;01mFalse\u001b[39;49;00m\n\u001b[0;32m     33\u001b[0m \u001b[43m    \u001b[49m\u001b[43m)\u001b[49m[\u001b[38;5;241m0\u001b[39m]\n\u001b[0;32m     34\u001b[0m     \u001b[38;5;66;03m# https://huggingface.co/transformers/v3.2.0/model_doc/bert.html\u001b[39;00m\n\u001b[0;32m     35\u001b[0m     \u001b[38;5;66;03m# Pooler output is last layer of hidden state for [CLS] token, whose\u001b[39;00m\n\u001b[0;32m     36\u001b[0m     \u001b[38;5;66;03m# output is fed through a linear layer and a tanh function\u001b[39;00m\n\u001b[0;32m     37\u001b[0m     \u001b[38;5;66;03m#\u001b[39;00m\n\u001b[0;32m     38\u001b[0m     \u001b[38;5;66;03m# Shape of (batch_size, hidden_size) \u001b[39;00m\n\u001b[0;32m     39\u001b[0m     pooled_output: torch\u001b[38;5;241m.\u001b[39mFloatTensor \u001b[38;5;241m=\u001b[39m hidden_state[:, \u001b[38;5;241m0\u001b[39m, :] \u001b[38;5;66;03m# (batch_size, hidden_size)\u001b[39;00m\n",
      "File \u001b[1;32mc:\\Users\\Alan\\Desktop\\Open_Source\\BERT-TLSA-paper\\.venv\\Lib\\site-packages\\torch\\nn\\modules\\module.py:1751\u001b[0m, in \u001b[0;36mModule._wrapped_call_impl\u001b[1;34m(self, *args, **kwargs)\u001b[0m\n\u001b[0;32m   1749\u001b[0m     \u001b[38;5;28;01mreturn\u001b[39;00m \u001b[38;5;28mself\u001b[39m\u001b[38;5;241m.\u001b[39m_compiled_call_impl(\u001b[38;5;241m*\u001b[39margs, \u001b[38;5;241m*\u001b[39m\u001b[38;5;241m*\u001b[39mkwargs)  \u001b[38;5;66;03m# type: ignore[misc]\u001b[39;00m\n\u001b[0;32m   1750\u001b[0m \u001b[38;5;28;01melse\u001b[39;00m:\n\u001b[1;32m-> 1751\u001b[0m     \u001b[38;5;28;01mreturn\u001b[39;00m \u001b[38;5;28;43mself\u001b[39;49m\u001b[38;5;241;43m.\u001b[39;49m\u001b[43m_call_impl\u001b[49m\u001b[43m(\u001b[49m\u001b[38;5;241;43m*\u001b[39;49m\u001b[43margs\u001b[49m\u001b[43m,\u001b[49m\u001b[43m \u001b[49m\u001b[38;5;241;43m*\u001b[39;49m\u001b[38;5;241;43m*\u001b[39;49m\u001b[43mkwargs\u001b[49m\u001b[43m)\u001b[49m\n",
      "File \u001b[1;32mc:\\Users\\Alan\\Desktop\\Open_Source\\BERT-TLSA-paper\\.venv\\Lib\\site-packages\\torch\\nn\\modules\\module.py:1762\u001b[0m, in \u001b[0;36mModule._call_impl\u001b[1;34m(self, *args, **kwargs)\u001b[0m\n\u001b[0;32m   1757\u001b[0m \u001b[38;5;66;03m# If we don't have any hooks, we want to skip the rest of the logic in\u001b[39;00m\n\u001b[0;32m   1758\u001b[0m \u001b[38;5;66;03m# this function, and just call forward.\u001b[39;00m\n\u001b[0;32m   1759\u001b[0m \u001b[38;5;28;01mif\u001b[39;00m \u001b[38;5;129;01mnot\u001b[39;00m (\u001b[38;5;28mself\u001b[39m\u001b[38;5;241m.\u001b[39m_backward_hooks \u001b[38;5;129;01mor\u001b[39;00m \u001b[38;5;28mself\u001b[39m\u001b[38;5;241m.\u001b[39m_backward_pre_hooks \u001b[38;5;129;01mor\u001b[39;00m \u001b[38;5;28mself\u001b[39m\u001b[38;5;241m.\u001b[39m_forward_hooks \u001b[38;5;129;01mor\u001b[39;00m \u001b[38;5;28mself\u001b[39m\u001b[38;5;241m.\u001b[39m_forward_pre_hooks\n\u001b[0;32m   1760\u001b[0m         \u001b[38;5;129;01mor\u001b[39;00m _global_backward_pre_hooks \u001b[38;5;129;01mor\u001b[39;00m _global_backward_hooks\n\u001b[0;32m   1761\u001b[0m         \u001b[38;5;129;01mor\u001b[39;00m _global_forward_hooks \u001b[38;5;129;01mor\u001b[39;00m _global_forward_pre_hooks):\n\u001b[1;32m-> 1762\u001b[0m     \u001b[38;5;28;01mreturn\u001b[39;00m \u001b[43mforward_call\u001b[49m\u001b[43m(\u001b[49m\u001b[38;5;241;43m*\u001b[39;49m\u001b[43margs\u001b[49m\u001b[43m,\u001b[49m\u001b[43m \u001b[49m\u001b[38;5;241;43m*\u001b[39;49m\u001b[38;5;241;43m*\u001b[39;49m\u001b[43mkwargs\u001b[49m\u001b[43m)\u001b[49m\n\u001b[0;32m   1764\u001b[0m result \u001b[38;5;241m=\u001b[39m \u001b[38;5;28;01mNone\u001b[39;00m\n\u001b[0;32m   1765\u001b[0m called_always_called_hooks \u001b[38;5;241m=\u001b[39m \u001b[38;5;28mset\u001b[39m()\n",
      "File \u001b[1;32mc:\\Users\\Alan\\Desktop\\Open_Source\\BERT-TLSA-paper\\.venv\\Lib\\site-packages\\transformers\\models\\distilbert\\modeling_distilbert.py:792\u001b[0m, in \u001b[0;36mDistilBertModel.forward\u001b[1;34m(self, input_ids, attention_mask, head_mask, inputs_embeds, output_attentions, output_hidden_states, return_dict)\u001b[0m\n\u001b[0;32m    789\u001b[0m         attention_mask \u001b[38;5;241m=\u001b[39m torch\u001b[38;5;241m.\u001b[39mones(input_shape, device\u001b[38;5;241m=\u001b[39mdevice)  \u001b[38;5;66;03m# (bs, seq_length)\u001b[39;00m\n\u001b[0;32m    791\u001b[0m     \u001b[38;5;28;01mif\u001b[39;00m \u001b[38;5;28mself\u001b[39m\u001b[38;5;241m.\u001b[39m_use_sdpa \u001b[38;5;129;01mand\u001b[39;00m head_mask_is_none \u001b[38;5;129;01mand\u001b[39;00m \u001b[38;5;129;01mnot\u001b[39;00m output_attentions:\n\u001b[1;32m--> 792\u001b[0m         attention_mask \u001b[38;5;241m=\u001b[39m \u001b[43m_prepare_4d_attention_mask_for_sdpa\u001b[49m\u001b[43m(\u001b[49m\n\u001b[0;32m    793\u001b[0m \u001b[43m            \u001b[49m\u001b[43mattention_mask\u001b[49m\u001b[43m,\u001b[49m\u001b[43m \u001b[49m\u001b[43membeddings\u001b[49m\u001b[38;5;241;43m.\u001b[39;49m\u001b[43mdtype\u001b[49m\u001b[43m,\u001b[49m\u001b[43m \u001b[49m\u001b[43mtgt_len\u001b[49m\u001b[38;5;241;43m=\u001b[39;49m\u001b[43minput_shape\u001b[49m\u001b[43m[\u001b[49m\u001b[38;5;241;43m1\u001b[39;49m\u001b[43m]\u001b[49m\n\u001b[0;32m    794\u001b[0m \u001b[43m        \u001b[49m\u001b[43m)\u001b[49m\n\u001b[0;32m    796\u001b[0m \u001b[38;5;28;01mreturn\u001b[39;00m \u001b[38;5;28mself\u001b[39m\u001b[38;5;241m.\u001b[39mtransformer(\n\u001b[0;32m    797\u001b[0m     x\u001b[38;5;241m=\u001b[39membeddings,\n\u001b[0;32m    798\u001b[0m     attn_mask\u001b[38;5;241m=\u001b[39mattention_mask,\n\u001b[1;32m   (...)\u001b[0m\n\u001b[0;32m    802\u001b[0m     return_dict\u001b[38;5;241m=\u001b[39mreturn_dict,\n\u001b[0;32m    803\u001b[0m )\n",
      "File \u001b[1;32mc:\\Users\\Alan\\Desktop\\Open_Source\\BERT-TLSA-paper\\.venv\\Lib\\site-packages\\transformers\\modeling_attn_mask_utils.py:451\u001b[0m, in \u001b[0;36m_prepare_4d_attention_mask_for_sdpa\u001b[1;34m(mask, dtype, tgt_len)\u001b[0m\n\u001b[0;32m    449\u001b[0m     \u001b[38;5;28;01mreturn\u001b[39;00m \u001b[38;5;28;01mNone\u001b[39;00m\n\u001b[0;32m    450\u001b[0m \u001b[38;5;28;01melse\u001b[39;00m:\n\u001b[1;32m--> 451\u001b[0m     \u001b[38;5;28;01mreturn\u001b[39;00m \u001b[43mAttentionMaskConverter\u001b[49m\u001b[38;5;241;43m.\u001b[39;49m\u001b[43m_expand_mask\u001b[49m\u001b[43m(\u001b[49m\u001b[43mmask\u001b[49m\u001b[38;5;241;43m=\u001b[39;49m\u001b[43mmask\u001b[49m\u001b[43m,\u001b[49m\u001b[43m \u001b[49m\u001b[43mdtype\u001b[49m\u001b[38;5;241;43m=\u001b[39;49m\u001b[43mdtype\u001b[49m\u001b[43m,\u001b[49m\u001b[43m \u001b[49m\u001b[43mtgt_len\u001b[49m\u001b[38;5;241;43m=\u001b[39;49m\u001b[43mtgt_len\u001b[49m\u001b[43m)\u001b[49m\n",
      "File \u001b[1;32mc:\\Users\\Alan\\Desktop\\Open_Source\\BERT-TLSA-paper\\.venv\\Lib\\site-packages\\transformers\\modeling_attn_mask_utils.py:180\u001b[0m, in \u001b[0;36mAttentionMaskConverter._expand_mask\u001b[1;34m(mask, dtype, tgt_len)\u001b[0m\n\u001b[0;32m    176\u001b[0m         mask\u001b[38;5;241m.\u001b[39mmasked_fill_(context_mask, torch\u001b[38;5;241m.\u001b[39mfinfo(dtype)\u001b[38;5;241m.\u001b[39mmin)\n\u001b[0;32m    178\u001b[0m     \u001b[38;5;28;01mreturn\u001b[39;00m mask[\u001b[38;5;28;01mNone\u001b[39;00m, \u001b[38;5;28;01mNone\u001b[39;00m, :, :]\u001b[38;5;241m.\u001b[39mexpand(bsz, \u001b[38;5;241m1\u001b[39m, tgt_len, tgt_len \u001b[38;5;241m+\u001b[39m past_key_values_length)\n\u001b[1;32m--> 180\u001b[0m \u001b[38;5;129m@staticmethod\u001b[39m\n\u001b[0;32m    181\u001b[0m \u001b[38;5;28;01mdef\u001b[39;00m\u001b[38;5;250m \u001b[39m\u001b[38;5;21m_expand_mask\u001b[39m(mask: torch\u001b[38;5;241m.\u001b[39mTensor, dtype: torch\u001b[38;5;241m.\u001b[39mdtype, tgt_len: Optional[\u001b[38;5;28mint\u001b[39m] \u001b[38;5;241m=\u001b[39m \u001b[38;5;28;01mNone\u001b[39;00m):\n\u001b[0;32m    182\u001b[0m \u001b[38;5;250m    \u001b[39m\u001b[38;5;124;03m\"\"\"\u001b[39;00m\n\u001b[0;32m    183\u001b[0m \u001b[38;5;124;03m    Expands attention_mask from `[bsz, seq_len]` to `[bsz, 1, tgt_seq_len, src_seq_len]`.\u001b[39;00m\n\u001b[0;32m    184\u001b[0m \u001b[38;5;124;03m    \"\"\"\u001b[39;00m\n\u001b[0;32m    185\u001b[0m     bsz, src_len \u001b[38;5;241m=\u001b[39m mask\u001b[38;5;241m.\u001b[39msize()\n",
      "\u001b[1;31mKeyboardInterrupt\u001b[0m: "
     ]
    }
   ],
   "source": [
    "global_dataset_train_loop(\"myanimelist\")"
   ]
  },
  {
   "cell_type": "markdown",
   "metadata": {},
   "source": [
    "## Steam\n",
    "\n",
    "Training BERT on Steam only."
   ]
  },
  {
   "cell_type": "code",
   "execution_count": null,
   "metadata": {},
   "outputs": [
    {
     "name": "stdout",
     "output_type": "stream",
     "text": [
      "Loaded training config:\n"
     ]
    },
    {
     "data": {
      "text/plain": [
       "{'tokenizer': BertTokenizerFast(name_or_path='bert-base-uncased', vocab_size=30522, model_max_length=512, is_fast=True, padding_side='right', truncation_side='right', special_tokens={'unk_token': '[UNK]', 'sep_token': '[SEP]', 'pad_token': '[PAD]', 'cls_token': '[CLS]', 'mask_token': '[MASK]'}, clean_up_tokenization_spaces=False, added_tokens_decoder={\n",
       "\t0: AddedToken(\"[PAD]\", rstrip=False, lstrip=False, single_word=False, normalized=False, special=True),\n",
       "\t100: AddedToken(\"[UNK]\", rstrip=False, lstrip=False, single_word=False, normalized=False, special=True),\n",
       "\t101: AddedToken(\"[CLS]\", rstrip=False, lstrip=False, single_word=False, normalized=False, special=True),\n",
       "\t102: AddedToken(\"[SEP]\", rstrip=False, lstrip=False, single_word=False, normalized=False, special=True),\n",
       "\t103: AddedToken(\"[MASK]\", rstrip=False, lstrip=False, single_word=False, normalized=False, special=True),\n",
       "}\n",
       "), 'pretrained_model_name': '', 'name': 'steam', 'class_names': ['negative', 'neutral', 'positive'], 'stop_delta': 0.05, 'stop_patience': 5, 'train_bert_in_finetune': False, 'max_token_length': 512, 'pretrained_model': None, 'pretrained_dataloaders': None, 'finetuned_classifier_model': None, 'finetuned_dataloaders': None, 'sample_mode': <SampleMode.OVER_SAMPLE: 2>}"
      ]
     },
     "metadata": {},
     "output_type": "display_data"
    },
    {
     "name": "stdout",
     "output_type": "stream",
     "text": [
      "Loaded steam:\n"
     ]
    },
    {
     "data": {
      "text/html": [
       "<div>\n",
       "<style scoped>\n",
       "    .dataframe tbody tr th:only-of-type {\n",
       "        vertical-align: middle;\n",
       "    }\n",
       "\n",
       "    .dataframe tbody tr th {\n",
       "        vertical-align: top;\n",
       "    }\n",
       "\n",
       "    .dataframe thead th {\n",
       "        text-align: right;\n",
       "    }\n",
       "</style>\n",
       "<table border=\"1\" class=\"dataframe\">\n",
       "  <thead>\n",
       "    <tr style=\"text-align: right;\">\n",
       "      <th></th>\n",
       "      <th>site</th>\n",
       "      <th>user</th>\n",
       "      <th>review_target</th>\n",
       "      <th>review</th>\n",
       "      <th>score</th>\n",
       "      <th>max_score</th>\n",
       "    </tr>\n",
       "  </thead>\n",
       "  <tbody>\n",
       "    <tr>\n",
       "      <th>0</th>\n",
       "      <td>steam</td>\n",
       "      <td>Leif Davis</td>\n",
       "      <td>Schedule I</td>\n",
       "      <td>jesse we need to cook</td>\n",
       "      <td>1</td>\n",
       "      <td>1</td>\n",
       "    </tr>\n",
       "    <tr>\n",
       "      <th>1</th>\n",
       "      <td>steam</td>\n",
       "      <td>Lil_Hummus</td>\n",
       "      <td>Call of Duty®: Black Ops III</td>\n",
       "      <td>Still better than BO4</td>\n",
       "      <td>1</td>\n",
       "      <td>1</td>\n",
       "    </tr>\n",
       "    <tr>\n",
       "      <th>2</th>\n",
       "      <td>steam</td>\n",
       "      <td>ProAssassin303_1</td>\n",
       "      <td>Ready or Not</td>\n",
       "      <td>Very fun realistic game. Even when playing alo...</td>\n",
       "      <td>1</td>\n",
       "      <td>1</td>\n",
       "    </tr>\n",
       "    <tr>\n",
       "      <th>3</th>\n",
       "      <td>steam</td>\n",
       "      <td>haha shampoo</td>\n",
       "      <td>Forza Horizon 5</td>\n",
       "      <td>For your next game, fix the AI so that the sit...</td>\n",
       "      <td>1</td>\n",
       "      <td>1</td>\n",
       "    </tr>\n",
       "    <tr>\n",
       "      <th>4</th>\n",
       "      <td>steam</td>\n",
       "      <td>Roughneck</td>\n",
       "      <td>DayZ</td>\n",
       "      <td>The last thing this game needed was a dlc. I p...</td>\n",
       "      <td>0</td>\n",
       "      <td>1</td>\n",
       "    </tr>\n",
       "    <tr>\n",
       "      <th>...</th>\n",
       "      <td>...</td>\n",
       "      <td>...</td>\n",
       "      <td>...</td>\n",
       "      <td>...</td>\n",
       "      <td>...</td>\n",
       "      <td>...</td>\n",
       "    </tr>\n",
       "    <tr>\n",
       "      <th>21360</th>\n",
       "      <td>steam</td>\n",
       "      <td>Valkia⭑☾</td>\n",
       "      <td>Call of Duty®</td>\n",
       "      <td>Not for this price.</td>\n",
       "      <td>0</td>\n",
       "      <td>1</td>\n",
       "    </tr>\n",
       "    <tr>\n",
       "      <th>21361</th>\n",
       "      <td>steam</td>\n",
       "      <td>Plops</td>\n",
       "      <td>Stellaris</td>\n",
       "      <td>This one time I helped develop a primitive wor...</td>\n",
       "      <td>1</td>\n",
       "      <td>1</td>\n",
       "    </tr>\n",
       "    <tr>\n",
       "      <th>21362</th>\n",
       "      <td>steam</td>\n",
       "      <td>Heretic</td>\n",
       "      <td>ELDEN RING</td>\n",
       "      <td>Get a friend, install the \"Seamless Co-Op\" mod...</td>\n",
       "      <td>1</td>\n",
       "      <td>1</td>\n",
       "    </tr>\n",
       "    <tr>\n",
       "      <th>21363</th>\n",
       "      <td>steam</td>\n",
       "      <td>Darrin</td>\n",
       "      <td>Farming Simulator 25</td>\n",
       "      <td>It's honestly really good. If you're a fan of ...</td>\n",
       "      <td>1</td>\n",
       "      <td>1</td>\n",
       "    </tr>\n",
       "    <tr>\n",
       "      <th>21364</th>\n",
       "      <td>steam</td>\n",
       "      <td>FlameyEllis</td>\n",
       "      <td>Jurassic World Evolution 2</td>\n",
       "      <td>-has dilophosaurus-can make dinosaurs fight to...</td>\n",
       "      <td>1</td>\n",
       "      <td>1</td>\n",
       "    </tr>\n",
       "  </tbody>\n",
       "</table>\n",
       "<p>21365 rows × 6 columns</p>\n",
       "</div>"
      ],
      "text/plain": [
       "        site              user                 review_target  \\\n",
       "0      steam        Leif Davis                    Schedule I   \n",
       "1      steam        Lil_Hummus  Call of Duty®: Black Ops III   \n",
       "2      steam  ProAssassin303_1                  Ready or Not   \n",
       "3      steam      haha shampoo               Forza Horizon 5   \n",
       "4      steam         Roughneck                          DayZ   \n",
       "...      ...               ...                           ...   \n",
       "21360  steam          Valkia⭑☾                 Call of Duty®   \n",
       "21361  steam             Plops                     Stellaris   \n",
       "21362  steam           Heretic                    ELDEN RING   \n",
       "21363  steam            Darrin          Farming Simulator 25   \n",
       "21364  steam       FlameyEllis    Jurassic World Evolution 2   \n",
       "\n",
       "                                                  review  score  max_score  \n",
       "0                                  jesse we need to cook      1          1  \n",
       "1                                  Still better than BO4      1          1  \n",
       "2      Very fun realistic game. Even when playing alo...      1          1  \n",
       "3      For your next game, fix the AI so that the sit...      1          1  \n",
       "4      The last thing this game needed was a dlc. I p...      0          1  \n",
       "...                                                  ...    ...        ...  \n",
       "21360                                Not for this price.      0          1  \n",
       "21361  This one time I helped develop a primitive wor...      1          1  \n",
       "21362  Get a friend, install the \"Seamless Co-Op\" mod...      1          1  \n",
       "21363  It's honestly really good. If you're a fan of ...      1          1  \n",
       "21364  -has dilophosaurus-can make dinosaurs fight to...      1          1  \n",
       "\n",
       "[21365 rows x 6 columns]"
      ]
     },
     "metadata": {},
     "output_type": "display_data"
    },
    {
     "name": "stderr",
     "output_type": "stream",
     "text": [
      "C:\\Users\\Alan\\AppData\\Local\\Temp\\ipykernel_3808\\3162132042.py:585: DeprecationWarning: DataFrameGroupBy.apply operated on the grouping columns. This behavior is deprecated, and in a future version of pandas the grouping columns will be excluded from the operation. Either pass `include_groups=False` to exclude the groupings or explicitly select the grouping columns after groupby to silence this warning.\n",
      "  sampled_df = g.apply(lambda x: x.sample(max_group_size, replace=True)).reset_index(drop=True)\n"
     ]
    },
    {
     "data": {
      "image/png": "[encoded data removed]",
      "text/plain": [
       "<Figure size 640x480 with 1 Axes>"
      ]
     },
     "metadata": {},
     "output_type": "display_data"
    },
    {
     "data": {
      "text/plain": [
       "sentiment_score\n",
       "2    15521\n",
       "0     5844\n",
       "Name: count, dtype: int64"
      ]
     },
     "metadata": {},
     "output_type": "display_data"
    }
   ],
   "source": [
    "global_dataset_train_loop(\"steam\")"
   ]
  },
  {
   "cell_type": "markdown",
   "metadata": {},
   "source": [
    "## Metacritic\n",
    "\n",
    "Training BERT on Metacritic only."
   ]
  },
  {
   "cell_type": "code",
   "execution_count": null,
   "metadata": {},
   "outputs": [
    {
     "name": "stdout",
     "output_type": "stream",
     "text": [
      "Loaded training config:\n"
     ]
    },
    {
     "data": {
      "text/plain": [
       "{'tokenizer': BertTokenizerFast(name_or_path='bert-base-uncased', vocab_size=30522, model_max_length=512, is_fast=True, padding_side='right', truncation_side='right', special_tokens={'unk_token': '[UNK]', 'sep_token': '[SEP]', 'pad_token': '[PAD]', 'cls_token': '[CLS]', 'mask_token': '[MASK]'}, clean_up_tokenization_spaces=False, added_tokens_decoder={\n",
       "\t0: AddedToken(\"[PAD]\", rstrip=False, lstrip=False, single_word=False, normalized=False, special=True),\n",
       "\t100: AddedToken(\"[UNK]\", rstrip=False, lstrip=False, single_word=False, normalized=False, special=True),\n",
       "\t101: AddedToken(\"[CLS]\", rstrip=False, lstrip=False, single_word=False, normalized=False, special=True),\n",
       "\t102: AddedToken(\"[SEP]\", rstrip=False, lstrip=False, single_word=False, normalized=False, special=True),\n",
       "\t103: AddedToken(\"[MASK]\", rstrip=False, lstrip=False, single_word=False, normalized=False, special=True),\n",
       "}\n",
       "), 'pretrained_model_name': '', 'name': 'metacritic', 'class_names': ['negative', 'neutral', 'positive'], 'stop_delta': 0.05, 'stop_patience': 5, 'train_bert_in_finetune': False, 'max_token_length': 512, 'pretrained_model': None, 'pretrained_dataloaders': None, 'finetuned_classifier_model': None, 'finetuned_dataloaders': None, 'sample_mode': <SampleMode.OVER_SAMPLE: 2>}"
      ]
     },
     "metadata": {},
     "output_type": "display_data"
    },
    {
     "name": "stdout",
     "output_type": "stream",
     "text": [
      "Loaded metacritic:\n"
     ]
    },
    {
     "data": {
      "text/html": [
       "<div>\n",
       "<style scoped>\n",
       "    .dataframe tbody tr th:only-of-type {\n",
       "        vertical-align: middle;\n",
       "    }\n",
       "\n",
       "    .dataframe tbody tr th {\n",
       "        vertical-align: top;\n",
       "    }\n",
       "\n",
       "    .dataframe thead th {\n",
       "        text-align: right;\n",
       "    }\n",
       "</style>\n",
       "<table border=\"1\" class=\"dataframe\">\n",
       "  <thead>\n",
       "    <tr style=\"text-align: right;\">\n",
       "      <th></th>\n",
       "      <th>site</th>\n",
       "      <th>user</th>\n",
       "      <th>review_target</th>\n",
       "      <th>review</th>\n",
       "      <th>score</th>\n",
       "      <th>max_score</th>\n",
       "    </tr>\n",
       "  </thead>\n",
       "  <tbody>\n",
       "    <tr>\n",
       "      <th>0</th>\n",
       "      <td>metacritic</td>\n",
       "      <td>AaronAction</td>\n",
       "      <td>terraria</td>\n",
       "      <td>Great game, couldn't wait for the Xbox and PS3...</td>\n",
       "      <td>10</td>\n",
       "      <td>10</td>\n",
       "    </tr>\n",
       "    <tr>\n",
       "      <th>1</th>\n",
       "      <td>metacritic</td>\n",
       "      <td>SomeSchoolKid</td>\n",
       "      <td>outer-wilds</td>\n",
       "      <td>At the end of the day, I value the games that ...</td>\n",
       "      <td>10</td>\n",
       "      <td>10</td>\n",
       "    </tr>\n",
       "    <tr>\n",
       "      <th>2</th>\n",
       "      <td>metacritic</td>\n",
       "      <td>SKK-Sceptic</td>\n",
       "      <td>fortnite</td>\n",
       "      <td>If you ask me to rate this game it really depe...</td>\n",
       "      <td>7</td>\n",
       "      <td>10</td>\n",
       "    </tr>\n",
       "    <tr>\n",
       "      <th>3</th>\n",
       "      <td>metacritic</td>\n",
       "      <td>Jiminycampson5</td>\n",
       "      <td>balatro</td>\n",
       "      <td>Sooo addicting, just a masterclass in keeping ...</td>\n",
       "      <td>10</td>\n",
       "      <td>10</td>\n",
       "    </tr>\n",
       "    <tr>\n",
       "      <th>4</th>\n",
       "      <td>metacritic</td>\n",
       "      <td>GreenPufferFish</td>\n",
       "      <td>payday-2</td>\n",
       "      <td>its a fun game i suppose but its a little repa...</td>\n",
       "      <td>6</td>\n",
       "      <td>10</td>\n",
       "    </tr>\n",
       "    <tr>\n",
       "      <th>...</th>\n",
       "      <td>...</td>\n",
       "      <td>...</td>\n",
       "      <td>...</td>\n",
       "      <td>...</td>\n",
       "      <td>...</td>\n",
       "      <td>...</td>\n",
       "    </tr>\n",
       "    <tr>\n",
       "      <th>8576</th>\n",
       "      <td>metacritic</td>\n",
       "      <td>Nandi</td>\n",
       "      <td>dota-2</td>\n",
       "      <td>Dota had its pinnacle with Dota 2 Source 1, th...</td>\n",
       "      <td>3</td>\n",
       "      <td>10</td>\n",
       "    </tr>\n",
       "    <tr>\n",
       "      <th>8577</th>\n",
       "      <td>metacritic</td>\n",
       "      <td>Jhagman</td>\n",
       "      <td>tom-clancys-rainbow-six-siege</td>\n",
       "      <td>This game is fantastic. It has great combat, m...</td>\n",
       "      <td>10</td>\n",
       "      <td>10</td>\n",
       "    </tr>\n",
       "    <tr>\n",
       "      <th>8578</th>\n",
       "      <td>metacritic</td>\n",
       "      <td>saskey</td>\n",
       "      <td>super-mario-odyssey</td>\n",
       "      <td>I had so much fun playing this game. Mario nev...</td>\n",
       "      <td>9</td>\n",
       "      <td>10</td>\n",
       "    </tr>\n",
       "    <tr>\n",
       "      <th>8579</th>\n",
       "      <td>metacritic</td>\n",
       "      <td>Teabos</td>\n",
       "      <td>hollow-knight</td>\n",
       "      <td>Este juego me ha sorprendido en todo arte,OST ...</td>\n",
       "      <td>10</td>\n",
       "      <td>10</td>\n",
       "    </tr>\n",
       "    <tr>\n",
       "      <th>8580</th>\n",
       "      <td>metacritic</td>\n",
       "      <td>BlueBlue23</td>\n",
       "      <td>world-of-tanks</td>\n",
       "      <td>The game is pay to win, in addition the game m...</td>\n",
       "      <td>0</td>\n",
       "      <td>10</td>\n",
       "    </tr>\n",
       "  </tbody>\n",
       "</table>\n",
       "<p>8581 rows × 6 columns</p>\n",
       "</div>"
      ],
      "text/plain": [
       "            site             user                  review_target  \\\n",
       "0     metacritic      AaronAction                       terraria   \n",
       "1     metacritic    SomeSchoolKid                    outer-wilds   \n",
       "2     metacritic      SKK-Sceptic                       fortnite   \n",
       "3     metacritic   Jiminycampson5                        balatro   \n",
       "4     metacritic  GreenPufferFish                       payday-2   \n",
       "...          ...              ...                            ...   \n",
       "8576  metacritic            Nandi                         dota-2   \n",
       "8577  metacritic          Jhagman  tom-clancys-rainbow-six-siege   \n",
       "8578  metacritic           saskey            super-mario-odyssey   \n",
       "8579  metacritic           Teabos                  hollow-knight   \n",
       "8580  metacritic       BlueBlue23                 world-of-tanks   \n",
       "\n",
       "                                                 review  score  max_score  \n",
       "0     Great game, couldn't wait for the Xbox and PS3...     10         10  \n",
       "1     At the end of the day, I value the games that ...     10         10  \n",
       "2     If you ask me to rate this game it really depe...      7         10  \n",
       "3     Sooo addicting, just a masterclass in keeping ...     10         10  \n",
       "4     its a fun game i suppose but its a little repa...      6         10  \n",
       "...                                                 ...    ...        ...  \n",
       "8576  Dota had its pinnacle with Dota 2 Source 1, th...      3         10  \n",
       "8577  This game is fantastic. It has great combat, m...     10         10  \n",
       "8578  I had so much fun playing this game. Mario nev...      9         10  \n",
       "8579  Este juego me ha sorprendido en todo arte,OST ...     10         10  \n",
       "8580  The game is pay to win, in addition the game m...      0         10  \n",
       "\n",
       "[8581 rows x 6 columns]"
      ]
     },
     "metadata": {},
     "output_type": "display_data"
    },
    {
     "name": "stderr",
     "output_type": "stream",
     "text": [
      "C:\\Users\\Alan\\AppData\\Local\\Temp\\ipykernel_3808\\1641346163.py:585: DeprecationWarning: DataFrameGroupBy.apply operated on the grouping columns. This behavior is deprecated, and in a future version of pandas the grouping columns will be excluded from the operation. Either pass `include_groups=False` to exclude the groupings or explicitly select the grouping columns after groupby to silence this warning.\n",
      "  sampled_df = g.apply(lambda x: x.sample(max_group_size, replace=True)).reset_index(drop=True)\n"
     ]
    },
    {
     "data": {
      "image/png": "[encoded data removed]",
      "text/plain": [
       "<Figure size 640x480 with 1 Axes>"
      ]
     },
     "metadata": {},
     "output_type": "display_data"
    },
    {
     "data": {
      "image/png": "[encoded data removed]",
      "text/plain": [
       "<Figure size 640x480 with 1 Axes>"
      ]
     },
     "metadata": {},
     "output_type": "display_data"
    },
    {
     "name": "stdout",
     "output_type": "stream",
     "text": [
      "Original dataset size: 8581\n",
      "Sampled dataset size: 17748\n"
     ]
    },
    {
     "data": {
      "text/html": [
       "<div>\n",
       "<style scoped>\n",
       "    .dataframe tbody tr th:only-of-type {\n",
       "        vertical-align: middle;\n",
       "    }\n",
       "\n",
       "    .dataframe tbody tr th {\n",
       "        vertical-align: top;\n",
       "    }\n",
       "\n",
       "    .dataframe thead th {\n",
       "        text-align: right;\n",
       "    }\n",
       "</style>\n",
       "<table border=\"1\" class=\"dataframe\">\n",
       "  <thead>\n",
       "    <tr style=\"text-align: right;\">\n",
       "      <th></th>\n",
       "      <th>site</th>\n",
       "      <th>user</th>\n",
       "      <th>review_target</th>\n",
       "      <th>review</th>\n",
       "      <th>score</th>\n",
       "      <th>max_score</th>\n",
       "      <th>norm_score</th>\n",
       "      <th>sentiment_score</th>\n",
       "    </tr>\n",
       "  </thead>\n",
       "  <tbody>\n",
       "    <tr>\n",
       "      <th>0</th>\n",
       "      <td>metacritic</td>\n",
       "      <td>lkristina</td>\n",
       "      <td>brawl-stars</td>\n",
       "      <td>Literally on your team will only be noobs and ...</td>\n",
       "      <td>1</td>\n",
       "      <td>10</td>\n",
       "      <td>0.1</td>\n",
       "      <td>0</td>\n",
       "    </tr>\n",
       "    <tr>\n",
       "      <th>1</th>\n",
       "      <td>metacritic</td>\n",
       "      <td>Cirussly</td>\n",
       "      <td>hearthstone-heroes-of-warcraft</td>\n",
       "      <td>Current meta is just based on no interactions,...</td>\n",
       "      <td>1</td>\n",
       "      <td>10</td>\n",
       "      <td>0.1</td>\n",
       "      <td>0</td>\n",
       "    </tr>\n",
       "    <tr>\n",
       "      <th>2</th>\n",
       "      <td>metacritic</td>\n",
       "      <td>Asparz</td>\n",
       "      <td>papers-please</td>\n",
       "      <td>the most boring game that has ever existed in ...</td>\n",
       "      <td>0</td>\n",
       "      <td>10</td>\n",
       "      <td>0.0</td>\n",
       "      <td>0</td>\n",
       "    </tr>\n",
       "    <tr>\n",
       "      <th>3</th>\n",
       "      <td>metacritic</td>\n",
       "      <td>Erdemtan</td>\n",
       "      <td>super-mario-maker-2</td>\n",
       "      <td>It’sgood but the physics is the main problem. ...</td>\n",
       "      <td>3</td>\n",
       "      <td>10</td>\n",
       "      <td>0.3</td>\n",
       "      <td>0</td>\n",
       "    </tr>\n",
       "    <tr>\n",
       "      <th>4</th>\n",
       "      <td>metacritic</td>\n",
       "      <td>YamiNoTsubasa</td>\n",
       "      <td>war-thunder</td>\n",
       "      <td>Wort pay2win game ever, developpers do everyth...</td>\n",
       "      <td>0</td>\n",
       "      <td>10</td>\n",
       "      <td>0.0</td>\n",
       "      <td>0</td>\n",
       "    </tr>\n",
       "    <tr>\n",
       "      <th>...</th>\n",
       "      <td>...</td>\n",
       "      <td>...</td>\n",
       "      <td>...</td>\n",
       "      <td>...</td>\n",
       "      <td>...</td>\n",
       "      <td>...</td>\n",
       "      <td>...</td>\n",
       "      <td>...</td>\n",
       "    </tr>\n",
       "    <tr>\n",
       "      <th>17743</th>\n",
       "      <td>metacritic</td>\n",
       "      <td>dododederi</td>\n",
       "      <td>overwatch</td>\n",
       "      <td>It's a game of love and hate, so much fun when...</td>\n",
       "      <td>8</td>\n",
       "      <td>10</td>\n",
       "      <td>0.8</td>\n",
       "      <td>2</td>\n",
       "    </tr>\n",
       "    <tr>\n",
       "      <th>17744</th>\n",
       "      <td>metacritic</td>\n",
       "      <td>anonymous1112</td>\n",
       "      <td>hollow-knight</td>\n",
       "      <td>A master piece.\\nChallenging game, beautiful m...</td>\n",
       "      <td>10</td>\n",
       "      <td>10</td>\n",
       "      <td>1.0</td>\n",
       "      <td>2</td>\n",
       "    </tr>\n",
       "    <tr>\n",
       "      <th>17745</th>\n",
       "      <td>metacritic</td>\n",
       "      <td>NianB_08</td>\n",
       "      <td>balatro</td>\n",
       "      <td>gioco spettacolare in tutto un rougue-like con...</td>\n",
       "      <td>9</td>\n",
       "      <td>10</td>\n",
       "      <td>0.9</td>\n",
       "      <td>2</td>\n",
       "    </tr>\n",
       "    <tr>\n",
       "      <th>17746</th>\n",
       "      <td>metacritic</td>\n",
       "      <td>m4kceT</td>\n",
       "      <td>minecraft</td>\n",
       "      <td>Melhor jogo já feito ez, é literalmente o jogo...</td>\n",
       "      <td>10</td>\n",
       "      <td>10</td>\n",
       "      <td>1.0</td>\n",
       "      <td>2</td>\n",
       "    </tr>\n",
       "    <tr>\n",
       "      <th>17747</th>\n",
       "      <td>metacritic</td>\n",
       "      <td>Bowber</td>\n",
       "      <td>halo-combat-evolved</td>\n",
       "      <td>The game was a great start to the series and a...</td>\n",
       "      <td>7</td>\n",
       "      <td>10</td>\n",
       "      <td>0.7</td>\n",
       "      <td>2</td>\n",
       "    </tr>\n",
       "  </tbody>\n",
       "</table>\n",
       "<p>17748 rows × 8 columns</p>\n",
       "</div>"
      ],
      "text/plain": [
       "             site           user                   review_target  \\\n",
       "0      metacritic      lkristina                     brawl-stars   \n",
       "1      metacritic       Cirussly  hearthstone-heroes-of-warcraft   \n",
       "2      metacritic         Asparz                   papers-please   \n",
       "3      metacritic       Erdemtan             super-mario-maker-2   \n",
       "4      metacritic  YamiNoTsubasa                     war-thunder   \n",
       "...           ...            ...                             ...   \n",
       "17743  metacritic     dododederi                       overwatch   \n",
       "17744  metacritic  anonymous1112                   hollow-knight   \n",
       "17745  metacritic       NianB_08                         balatro   \n",
       "17746  metacritic         m4kceT                       minecraft   \n",
       "17747  metacritic         Bowber             halo-combat-evolved   \n",
       "\n",
       "                                                  review  score  max_score  \\\n",
       "0      Literally on your team will only be noobs and ...      1         10   \n",
       "1      Current meta is just based on no interactions,...      1         10   \n",
       "2      the most boring game that has ever existed in ...      0         10   \n",
       "3      It’sgood but the physics is the main problem. ...      3         10   \n",
       "4      Wort pay2win game ever, developpers do everyth...      0         10   \n",
       "...                                                  ...    ...        ...   \n",
       "17743  It's a game of love and hate, so much fun when...      8         10   \n",
       "17744  A master piece.\\nChallenging game, beautiful m...     10         10   \n",
       "17745  gioco spettacolare in tutto un rougue-like con...      9         10   \n",
       "17746  Melhor jogo já feito ez, é literalmente o jogo...     10         10   \n",
       "17747  The game was a great start to the series and a...      7         10   \n",
       "\n",
       "       norm_score  sentiment_score  \n",
       "0             0.1                0  \n",
       "1             0.1                0  \n",
       "2             0.0                0  \n",
       "3             0.3                0  \n",
       "4             0.0                0  \n",
       "...           ...              ...  \n",
       "17743         0.8                2  \n",
       "17744         1.0                2  \n",
       "17745         0.9                2  \n",
       "17746         1.0                2  \n",
       "17747         0.7                2  \n",
       "\n",
       "[17748 rows x 8 columns]"
      ]
     },
     "metadata": {},
     "output_type": "display_data"
    },
    {
     "name": "stdout",
     "output_type": "stream",
     "text": [
      "Loading masked dataset:\n",
      "    Loading existing dataset file @ metacritic_masked_data.dt...\n",
      "    Error loading dataset file: [Errno 2] No such file or directory: 'c:\\\\Users\\\\Alan\\\\Desktop\\\\Open_Source\\\\BERT-TLSA-paper/data/metacritic_masked_data.dt'\n",
      "    Creating new dataset file @ metacritic_masked_data.dt...\n",
      "Loading reviews dataset:\n",
      "    Loading existing dataset file @ metacritic_reviews_data.dt...\n",
      "    Error loading dataset file: [Errno 2] No such file or directory: 'c:\\\\Users\\\\Alan\\\\Desktop\\\\Open_Source\\\\BERT-TLSA-paper/data/metacritic_reviews_data.dt'\n",
      "    Creating new dataset file @ metacritic_reviews_data.dt...\n",
      "Masked pretraining:\n",
      "    train_dataloader: (188 batches)\n",
      "    test_dataloader: (54 batches)\n",
      "    valid_dataloader: (27 batches)\n",
      "Reviews training:\n",
      "    train_dataloader: (389 batches)\n",
      "    test_dataloader: (111 batches)\n",
      "    valid_dataloader: (56 batches)\n",
      "Training start for 'metacritic' finetuning...\n"
     ]
    },
    {
     "data": {
      "image/png": "[encoded data removed]",
      "text/plain": [
       "<Figure size 640x480 with 1 Axes>"
      ]
     },
     "metadata": {},
     "output_type": "display_data"
    },
    {
     "name": "stderr",
     "output_type": "stream",
     "text": [
      "Epoch: 0   : 100%|██████████| 389/389 [00:31<00:00, 12.50it/s, loss=1.09, num_correct=None] \n",
      "           : 100%|██████████| 56/56 [00:04<00:00, 12.95it/s, loss=1.02, num_correct=tensor(8, device='cuda:0')]  \n"
     ]
    },
    {
     "name": "stderr",
     "output_type": "stream",
     "text": [
      "Epoch: 1   : 100%|██████████| 389/389 [00:31<00:00, 12.40it/s, loss=0.966, num_correct=None]\n",
      "           : 100%|██████████| 56/56 [00:04<00:00, 13.03it/s, loss=0.676, num_correct=tensor(13, device='cuda:0')]\n"
     ]
    },
    {
     "name": "stdout",
     "output_type": "stream",
     "text": [
      "           {'epoch': 1, 'train_loss': 0.9450458809158796, 'valid_loss': 0.8963331505656242, 'valid_accuracy': 0.6169014084507042}\n"
     ]
    },
    {
     "name": "stderr",
     "output_type": "stream",
     "text": [
      "Epoch: 2   : 100%|██████████| 389/389 [00:31<00:00, 12.38it/s, loss=1.16, num_correct=None] \n",
      "           : 100%|██████████| 56/56 [00:04<00:00, 13.03it/s, loss=0.935, num_correct=tensor(10, device='cuda:0')]\n"
     ]
    },
    {
     "name": "stdout",
     "output_type": "stream",
     "text": [
      "           {'epoch': 2, 'train_loss': 0.8796173871942535, 'valid_loss': 0.8516621855752808, 'valid_accuracy': 0.6315492957746479}\n"
     ]
    },
    {
     "name": "stderr",
     "output_type": "stream",
     "text": [
      "Epoch: 3   : 100%|██████████| 389/389 [00:31<00:00, 12.46it/s, loss=0.918, num_correct=None]\n",
      "           : 100%|██████████| 56/56 [00:04<00:00, 13.04it/s, loss=0.702, num_correct=tensor(11, device='cuda:0')]\n"
     ]
    },
    {
     "name": "stdout",
     "output_type": "stream",
     "text": [
      "           {'epoch': 3, 'train_loss': 0.8383240138963439, 'valid_loss': 0.8172380392040525, 'valid_accuracy': 0.6338028169014085}\n"
     ]
    },
    {
     "name": "stderr",
     "output_type": "stream",
     "text": [
      "Epoch: 4   : 100%|██████████| 389/389 [00:31<00:00, 12.34it/s, loss=0.645, num_correct=None]\n",
      "           : 100%|██████████| 56/56 [00:04<00:00, 12.98it/s, loss=0.705, num_correct=tensor(10, device='cuda:0')]\n"
     ]
    },
    {
     "name": "stdout",
     "output_type": "stream",
     "text": [
      "           {'epoch': 4, 'train_loss': 0.8158918767784432, 'valid_loss': 0.7976583583014352, 'valid_accuracy': 0.6349295774647887}\n"
     ]
    },
    {
     "name": "stderr",
     "output_type": "stream",
     "text": [
      "Epoch: 5   : 100%|██████████| 389/389 [00:31<00:00, 12.49it/s, loss=0.682, num_correct=None]\n",
      "           : 100%|██████████| 56/56 [00:04<00:00, 12.75it/s, loss=0.644, num_correct=tensor(12, device='cuda:0')]\n"
     ]
    },
    {
     "name": "stdout",
     "output_type": "stream",
     "text": [
      "           {'epoch': 5, 'train_loss': 0.7998553367384296, 'valid_loss': 0.786521070769855, 'valid_accuracy': 0.643943661971831}\n"
     ]
    },
    {
     "name": "stderr",
     "output_type": "stream",
     "text": [
      "Epoch: 6   : 100%|██████████| 389/389 [00:31<00:00, 12.43it/s, loss=1, num_correct=None]    \n",
      "           : 100%|██████████| 56/56 [00:04<00:00, 12.81it/s, loss=0.649, num_correct=tensor(13, device='cuda:0')]\n"
     ]
    },
    {
     "name": "stdout",
     "output_type": "stream",
     "text": [
      "           {'epoch': 6, 'train_loss': 0.788276171622975, 'valid_loss': 0.7747283311826842, 'valid_accuracy': 0.6405633802816901}\n"
     ]
    },
    {
     "name": "stderr",
     "output_type": "stream",
     "text": [
      "Epoch: 7   : 100%|██████████| 389/389 [00:31<00:00, 12.49it/s, loss=0.965, num_correct=None]\n",
      "           : 100%|██████████| 56/56 [00:04<00:00, 13.05it/s, loss=0.673, num_correct=tensor(12, device='cuda:0')]\n"
     ]
    },
    {
     "name": "stdout",
     "output_type": "stream",
     "text": [
      "           {'epoch': 7, 'train_loss': 0.7794649282274025, 'valid_loss': 0.7711582024182592, 'valid_accuracy': 0.6507042253521127}\n"
     ]
    },
    {
     "name": "stderr",
     "output_type": "stream",
     "text": [
      "Epoch: 8   : 100%|██████████| 389/389 [00:31<00:00, 12.46it/s, loss=0.788, num_correct=None]\n",
      "           : 100%|██████████| 56/56 [00:04<00:00, 13.06it/s, loss=0.791, num_correct=tensor(7, device='cuda:0')] \n"
     ]
    },
    {
     "name": "stdout",
     "output_type": "stream",
     "text": [
      "           {'epoch': 8, 'train_loss': 0.7741204256570124, 'valid_loss': 0.7660664469003677, 'valid_accuracy': 0.6445070422535212}\n"
     ]
    },
    {
     "name": "stderr",
     "output_type": "stream",
     "text": [
      "Epoch: 9   : 100%|██████████| 389/389 [00:31<00:00, 12.43it/s, loss=0.669, num_correct=None]\n",
      "           : 100%|██████████| 56/56 [00:04<00:00, 13.07it/s, loss=0.78, num_correct=tensor(10, device='cuda:0')] \n"
     ]
    },
    {
     "name": "stdout",
     "output_type": "stream",
     "text": [
      "           {'epoch': 9, 'train_loss': 0.7646127416725943, 'valid_loss': 0.7587732523679733, 'valid_accuracy': 0.6507042253521127}\n"
     ]
    },
    {
     "name": "stderr",
     "output_type": "stream",
     "text": [
      "Epoch: 10  : 100%|██████████| 389/389 [00:31<00:00, 12.34it/s, loss=0.587, num_correct=None]\n",
      "           : 100%|██████████| 56/56 [00:04<00:00, 13.01it/s, loss=0.903, num_correct=tensor(8, device='cuda:0')] \n"
     ]
    },
    {
     "name": "stdout",
     "output_type": "stream",
     "text": [
      "           {'epoch': 10, 'train_loss': 0.7639109241012436, 'valid_loss': 0.7585728870970863, 'valid_accuracy': 0.6540845070422535}\n"
     ]
    },
    {
     "name": "stderr",
     "output_type": "stream",
     "text": [
      "Epoch: 11  : 100%|██████████| 389/389 [00:31<00:00, 12.43it/s, loss=0.586, num_correct=None]\n",
      "           : 100%|██████████| 56/56 [00:04<00:00, 12.98it/s, loss=0.896, num_correct=tensor(10, device='cuda:0')]\n"
     ]
    },
    {
     "name": "stdout",
     "output_type": "stream",
     "text": [
      "           {'epoch': 11, 'train_loss': 0.758153238915539, 'valid_loss': 0.7530014647969178, 'valid_accuracy': 0.6540845070422535}\n"
     ]
    },
    {
     "name": "stderr",
     "output_type": "stream",
     "text": [
      "Epoch: 12  : 100%|██████████| 389/389 [00:31<00:00, 12.46it/s, loss=0.724, num_correct=None]\n",
      "           : 100%|██████████| 56/56 [00:04<00:00, 13.03it/s, loss=1.02, num_correct=tensor(10, device='cuda:0')] \n"
     ]
    },
    {
     "name": "stdout",
     "output_type": "stream",
     "text": [
      "           {'epoch': 12, 'train_loss': 0.7535040142603583, 'valid_loss': 0.7505009546875954, 'valid_accuracy': 0.6529577464788733}\n"
     ]
    },
    {
     "name": "stderr",
     "output_type": "stream",
     "text": [
      "Epoch: 13  : 100%|██████████| 389/389 [00:31<00:00, 12.54it/s, loss=0.744, num_correct=None]\n",
      "           : 100%|██████████| 56/56 [00:04<00:00, 13.09it/s, loss=0.612, num_correct=tensor(10, device='cuda:0')]\n"
     ]
    },
    {
     "name": "stdout",
     "output_type": "stream",
     "text": [
      "           {'epoch': 13, 'train_loss': 0.7506883063169248, 'valid_loss': 0.7444044921014991, 'valid_accuracy': 0.660281690140845}\n"
     ]
    },
    {
     "name": "stderr",
     "output_type": "stream",
     "text": [
      "Epoch: 14  : 100%|██████████| 389/389 [00:31<00:00, 12.49it/s, loss=0.89, num_correct=None] \n",
      "           : 100%|██████████| 56/56 [00:04<00:00, 12.91it/s, loss=1.01, num_correct=tensor(9, device='cuda:0')]  \n"
     ]
    },
    {
     "name": "stdout",
     "output_type": "stream",
     "text": [
      "           {'epoch': 14, 'train_loss': 0.7477616189684537, 'valid_loss': 0.7458335453910487, 'valid_accuracy': 0.663661971830986}\n"
     ]
    },
    {
     "name": "stderr",
     "output_type": "stream",
     "text": [
      "Epoch: 15  : 100%|██████████| 389/389 [00:31<00:00, 12.55it/s, loss=0.542, num_correct=None]\n",
      "           : 100%|██████████| 56/56 [00:04<00:00, 12.70it/s, loss=0.495, num_correct=tensor(11, device='cuda:0')]\n"
     ]
    },
    {
     "name": "stdout",
     "output_type": "stream",
     "text": [
      "           {'epoch': 15, 'train_loss': 0.7452728196710424, 'valid_loss': 0.7378558473927634, 'valid_accuracy': 0.6597183098591549}\n"
     ]
    },
    {
     "name": "stderr",
     "output_type": "stream",
     "text": [
      "Epoch: 16  : 100%|██████████| 389/389 [00:31<00:00, 12.40it/s, loss=0.961, num_correct=None]\n",
      "           : 100%|██████████| 56/56 [00:04<00:00, 12.99it/s, loss=0.9, num_correct=tensor(11, device='cuda:0')]  \n"
     ]
    },
    {
     "name": "stdout",
     "output_type": "stream",
     "text": [
      "           {'epoch': 16, 'train_loss': 0.743175019718381, 'valid_loss': 0.740767665207386, 'valid_accuracy': 0.6647887323943662}\n"
     ]
    },
    {
     "name": "stderr",
     "output_type": "stream",
     "text": [
      "Epoch: 17  : 100%|██████████| 389/389 [00:31<00:00, 12.37it/s, loss=0.79, num_correct=None] \n",
      "           : 100%|██████████| 56/56 [00:04<00:00, 12.89it/s, loss=0.697, num_correct=tensor(9, device='cuda:0')] \n"
     ]
    },
    {
     "name": "stdout",
     "output_type": "stream",
     "text": [
      "           {'epoch': 17, 'train_loss': 0.7412745532768857, 'valid_loss': 0.7346467040479183, 'valid_accuracy': 0.6715492957746478}\n"
     ]
    },
    {
     "name": "stderr",
     "output_type": "stream",
     "text": [
      "Epoch: 18  : 100%|██████████| 389/389 [00:31<00:00, 12.44it/s, loss=0.439, num_correct=None]\n",
      "           : 100%|██████████| 56/56 [00:04<00:00, 12.88it/s, loss=0.958, num_correct=tensor(7, device='cuda:0')] \n"
     ]
    },
    {
     "name": "stdout",
     "output_type": "stream",
     "text": [
      "           {'epoch': 18, 'train_loss': 0.7374071666544691, 'valid_loss': 0.7353318972246987, 'valid_accuracy': 0.6738028169014084}\n"
     ]
    },
    {
     "name": "stderr",
     "output_type": "stream",
     "text": [
      "Epoch: 19  : 100%|██████████| 389/389 [00:31<00:00, 12.52it/s, loss=0.701, num_correct=None]\n",
      "           : 100%|██████████| 56/56 [00:04<00:00, 13.03it/s, loss=0.455, num_correct=tensor(13, device='cuda:0')]\n"
     ]
    },
    {
     "name": "stdout",
     "output_type": "stream",
     "text": [
      "           {'epoch': 19, 'train_loss': 0.7363412226993198, 'valid_loss': 0.730316907699619, 'valid_accuracy': 0.6726760563380282}\n"
     ]
    },
    {
     "name": "stderr",
     "output_type": "stream",
     "text": [
      "Epoch: 20  : 100%|██████████| 389/389 [00:31<00:00, 12.34it/s, loss=1.02, num_correct=None] \n",
      "           : 100%|██████████| 56/56 [00:04<00:00, 12.98it/s, loss=1.02, num_correct=tensor(7, device='cuda:0')]  \n"
     ]
    },
    {
     "name": "stdout",
     "output_type": "stream",
     "text": [
      "           {'epoch': 20, 'train_loss': 0.7331936302712153, 'valid_loss': 0.7315938068287713, 'valid_accuracy': 0.6721126760563381}\n"
     ]
    },
    {
     "name": "stderr",
     "output_type": "stream",
     "text": [
      "Epoch: 21  : 100%|██████████| 389/389 [00:31<00:00, 12.53it/s, loss=0.925, num_correct=None]\n",
      "           : 100%|██████████| 56/56 [00:04<00:00, 12.98it/s, loss=0.749, num_correct=tensor(10, device='cuda:0')]\n"
     ]
    },
    {
     "name": "stdout",
     "output_type": "stream",
     "text": [
      "           {'epoch': 21, 'train_loss': 0.7317460265901218, 'valid_loss': 0.7256411260792187, 'valid_accuracy': 0.6816901408450704}\n"
     ]
    },
    {
     "name": "stderr",
     "output_type": "stream",
     "text": [
      "Epoch: 22  : 100%|██████████| 389/389 [00:31<00:00, 12.52it/s, loss=1.15, num_correct=None] \n",
      "           : 100%|██████████| 56/56 [00:04<00:00, 13.10it/s, loss=0.687, num_correct=tensor(10, device='cuda:0')]\n"
     ]
    },
    {
     "name": "stdout",
     "output_type": "stream",
     "text": [
      "           {'epoch': 22, 'train_loss': 0.732696153510812, 'valid_loss': 0.7253377128924642, 'valid_accuracy': 0.6766197183098591}\n"
     ]
    },
    {
     "name": "stderr",
     "output_type": "stream",
     "text": [
      "Epoch: 23  : 100%|██████████| 389/389 [00:31<00:00, 12.34it/s, loss=0.634, num_correct=None]\n",
      "           : 100%|██████████| 56/56 [00:04<00:00, 13.06it/s, loss=0.696, num_correct=tensor(12, device='cuda:0')]\n"
     ]
    },
    {
     "name": "stdout",
     "output_type": "stream",
     "text": [
      "           {'epoch': 23, 'train_loss': 0.7279020817543363, 'valid_loss': 0.722531542714153, 'valid_accuracy': 0.6766197183098591}\n"
     ]
    },
    {
     "name": "stderr",
     "output_type": "stream",
     "text": [
      "Epoch: 24  : 100%|██████████| 389/389 [00:31<00:00, 12.50it/s, loss=0.914, num_correct=None]\n",
      "           : 100%|██████████| 56/56 [00:04<00:00, 12.90it/s, loss=0.689, num_correct=tensor(11, device='cuda:0')]\n"
     ]
    },
    {
     "name": "stdout",
     "output_type": "stream",
     "text": [
      "           {'epoch': 24, 'train_loss': 0.7277526238736886, 'valid_loss': 0.7219238440905299, 'valid_accuracy': 0.6822535211267605}\n"
     ]
    },
    {
     "name": "stderr",
     "output_type": "stream",
     "text": [
      "Epoch: 25  : 100%|██████████| 389/389 [00:31<00:00, 12.50it/s, loss=0.533, num_correct=None]\n",
      "           : 100%|██████████| 56/56 [00:04<00:00, 13.07it/s, loss=0.496, num_correct=tensor(13, device='cuda:0')]\n"
     ]
    },
    {
     "name": "stdout",
     "output_type": "stream",
     "text": [
      "           {'epoch': 25, 'train_loss': 0.7227717248057338, 'valid_loss': 0.7169447881834847, 'valid_accuracy': 0.6816901408450704}\n"
     ]
    },
    {
     "name": "stderr",
     "output_type": "stream",
     "text": [
      "Epoch: 26  : 100%|██████████| 389/389 [00:31<00:00, 12.43it/s, loss=0.751, num_correct=None]\n",
      "           : 100%|██████████| 56/56 [00:04<00:00, 13.11it/s, loss=0.75, num_correct=tensor(10, device='cuda:0')] \n"
     ]
    },
    {
     "name": "stdout",
     "output_type": "stream",
     "text": [
      "           {'epoch': 26, 'train_loss': 0.721880620273649, 'valid_loss': 0.7254596357899052, 'valid_accuracy': 0.6884507042253522}\n"
     ]
    },
    {
     "name": "stderr",
     "output_type": "stream",
     "text": [
      "Epoch: 27  : 100%|██████████| 389/389 [00:30<00:00, 12.61it/s, loss=0.892, num_correct=None]\n",
      "           : 100%|██████████| 56/56 [00:04<00:00, 12.93it/s, loss=0.519, num_correct=tensor(13, device='cuda:0')]\n"
     ]
    },
    {
     "name": "stdout",
     "output_type": "stream",
     "text": [
      "           {'epoch': 27, 'train_loss': 0.7167801565100418, 'valid_loss': 0.7127259889883655, 'valid_accuracy': 0.6873239436619718}\n"
     ]
    },
    {
     "name": "stderr",
     "output_type": "stream",
     "text": [
      "Epoch: 28  : 100%|██████████| 389/389 [00:31<00:00, 12.52it/s, loss=0.494, num_correct=None]\n",
      "           : 100%|██████████| 56/56 [00:04<00:00, 12.99it/s, loss=0.745, num_correct=tensor(7, device='cuda:0')] \n"
     ]
    },
    {
     "name": "stdout",
     "output_type": "stream",
     "text": [
      "           {'epoch': 28, 'train_loss': 0.7161843016705354, 'valid_loss': 0.7143878362008503, 'valid_accuracy': 0.683943661971831}\n"
     ]
    },
    {
     "name": "stderr",
     "output_type": "stream",
     "text": [
      "Epoch: 29  : 100%|██████████| 389/389 [00:31<00:00, 12.54it/s, loss=0.477, num_correct=None]\n",
      "           : 100%|██████████| 56/56 [00:04<00:00, 13.05it/s, loss=0.537, num_correct=tensor(13, device='cuda:0')]\n"
     ]
    },
    {
     "name": "stdout",
     "output_type": "stream",
     "text": [
      "           {'epoch': 29, 'train_loss': 0.7144249761932, 'valid_loss': 0.7108496321099145, 'valid_accuracy': 0.6845070422535211}\n"
     ]
    },
    {
     "name": "stderr",
     "output_type": "stream",
     "text": [
      "Epoch: 30  : 100%|██████████| 389/389 [00:31<00:00, 12.48it/s, loss=0.379, num_correct=None]\n",
      "           : 100%|██████████| 56/56 [00:04<00:00, 12.85it/s, loss=0.785, num_correct=tensor(9, device='cuda:0')] \n"
     ]
    },
    {
     "name": "stdout",
     "output_type": "stream",
     "text": [
      "           {'epoch': 30, 'train_loss': 0.7161637809711741, 'valid_loss': 0.709830742329359, 'valid_accuracy': 0.6929577464788732}\n"
     ]
    },
    {
     "name": "stderr",
     "output_type": "stream",
     "text": [
      "Epoch: 31  : 100%|██████████| 389/389 [00:31<00:00, 12.49it/s, loss=1, num_correct=None]    \n",
      "           : 100%|██████████| 56/56 [00:04<00:00, 13.12it/s, loss=0.664, num_correct=tensor(10, device='cuda:0')]\n"
     ]
    },
    {
     "name": "stdout",
     "output_type": "stream",
     "text": [
      "           {'epoch': 31, 'train_loss': 0.7121134311497058, 'valid_loss': 0.7094173649592059, 'valid_accuracy': 0.6974647887323944}\n"
     ]
    },
    {
     "name": "stderr",
     "output_type": "stream",
     "text": [
      "Epoch: 32  : 100%|██████████| 389/389 [00:31<00:00, 12.49it/s, loss=1.03, num_correct=None] \n",
      "           : 100%|██████████| 56/56 [00:04<00:00, 13.16it/s, loss=0.646, num_correct=tensor(10, device='cuda:0')]\n"
     ]
    },
    {
     "name": "stdout",
     "output_type": "stream",
     "text": [
      "           {'epoch': 32, 'train_loss': 0.709562467731976, 'valid_loss': 0.7080282260264669, 'valid_accuracy': 0.683943661971831}\n"
     ]
    },
    {
     "name": "stderr",
     "output_type": "stream",
     "text": [
      "Epoch: 33  : 100%|██████████| 389/389 [00:31<00:00, 12.39it/s, loss=0.7, num_correct=None]  \n",
      "           : 100%|██████████| 56/56 [00:04<00:00, 13.05it/s, loss=0.56, num_correct=tensor(10, device='cuda:0')] \n"
     ]
    },
    {
     "name": "stdout",
     "output_type": "stream",
     "text": [
      "           {'epoch': 33, 'train_loss': 0.7083951479211871, 'valid_loss': 0.7045882450682777, 'valid_accuracy': 0.6946478873239437}\n"
     ]
    },
    {
     "name": "stderr",
     "output_type": "stream",
     "text": [
      "Epoch: 34  : 100%|██████████| 389/389 [00:31<00:00, 12.42it/s, loss=0.782, num_correct=None]\n",
      "           : 100%|██████████| 56/56 [00:04<00:00, 13.00it/s, loss=0.602, num_correct=tensor(12, device='cuda:0')]\n"
     ]
    },
    {
     "name": "stdout",
     "output_type": "stream",
     "text": [
      "           {'epoch': 34, 'train_loss': 0.7047962690380362, 'valid_loss': 0.7033291608095169, 'valid_accuracy': 0.6969014084507043}\n"
     ]
    },
    {
     "name": "stderr",
     "output_type": "stream",
     "text": [
      "Epoch: 35  : 100%|██████████| 389/389 [00:31<00:00, 12.52it/s, loss=0.436, num_correct=None]\n",
      "           : 100%|██████████| 56/56 [00:04<00:00, 13.05it/s, loss=0.62, num_correct=tensor(11, device='cuda:0')] \n"
     ]
    },
    {
     "name": "stdout",
     "output_type": "stream",
     "text": [
      "           {'epoch': 35, 'train_loss': 0.707831006123658, 'valid_loss': 0.701888200959989, 'valid_accuracy': 0.6985915492957746}\n"
     ]
    },
    {
     "name": "stderr",
     "output_type": "stream",
     "text": [
      "Epoch: 36  : 100%|██████████| 389/389 [00:31<00:00, 12.30it/s, loss=0.327, num_correct=None]\n",
      "           : 100%|██████████| 56/56 [00:04<00:00, 12.50it/s, loss=0.913, num_correct=tensor(6, device='cuda:0')] \n"
     ]
    },
    {
     "name": "stdout",
     "output_type": "stream",
     "text": [
      "           {'epoch': 36, 'train_loss': 0.7011486969141237, 'valid_loss': 0.7045943875397954, 'valid_accuracy': 0.7019718309859155}\n"
     ]
    },
    {
     "name": "stderr",
     "output_type": "stream",
     "text": [
      "Epoch: 37  : 100%|██████████| 389/389 [00:31<00:00, 12.44it/s, loss=0.856, num_correct=None]\n",
      "           : 100%|██████████| 56/56 [00:04<00:00, 13.06it/s, loss=0.676, num_correct=tensor(12, device='cuda:0')]\n"
     ]
    },
    {
     "name": "stdout",
     "output_type": "stream",
     "text": [
      "           {'epoch': 37, 'train_loss': 0.6991521817246562, 'valid_loss': 0.6983506844512054, 'valid_accuracy': 0.6946478873239437}\n"
     ]
    },
    {
     "name": "stderr",
     "output_type": "stream",
     "text": [
      "Epoch: 38  : 100%|██████████| 389/389 [00:31<00:00, 12.30it/s, loss=1.11, num_correct=None] \n",
      "           : 100%|██████████| 56/56 [00:04<00:00, 12.86it/s, loss=0.496, num_correct=tensor(13, device='cuda:0')]\n"
     ]
    },
    {
     "name": "stdout",
     "output_type": "stream",
     "text": [
      "           {'epoch': 38, 'train_loss': 0.7004353430093407, 'valid_loss': 0.6952917272491115, 'valid_accuracy': 0.7008450704225352}\n"
     ]
    },
    {
     "name": "stderr",
     "output_type": "stream",
     "text": [
      "Epoch: 39  : 100%|██████████| 389/389 [00:31<00:00, 12.40it/s, loss=0.528, num_correct=None]\n",
      "           : 100%|██████████| 56/56 [00:04<00:00, 12.98it/s, loss=0.464, num_correct=tensor(13, device='cuda:0')]\n"
     ]
    },
    {
     "name": "stdout",
     "output_type": "stream",
     "text": [
      "           {'epoch': 39, 'train_loss': 0.6950986859577787, 'valid_loss': 0.6943173009370055, 'valid_accuracy': 0.6991549295774648}\n"
     ]
    },
    {
     "name": "stderr",
     "output_type": "stream",
     "text": [
      "Epoch: 40  : 100%|██████████| 389/389 [00:31<00:00, 12.44it/s, loss=0.479, num_correct=None]\n",
      "           : 100%|██████████| 56/56 [00:04<00:00, 13.15it/s, loss=0.942, num_correct=tensor(9, device='cuda:0')] \n"
     ]
    },
    {
     "name": "stdout",
     "output_type": "stream",
     "text": [
      "           {'epoch': 40, 'train_loss': 0.6966197283837973, 'valid_loss': 0.6977213557277407, 'valid_accuracy': 0.7008450704225352}\n"
     ]
    },
    {
     "name": "stderr",
     "output_type": "stream",
     "text": [
      "Epoch: 41  : 100%|██████████| 389/389 [00:30<00:00, 12.58it/s, loss=0.271, num_correct=None]\n",
      "           : 100%|██████████| 56/56 [00:04<00:00, 13.09it/s, loss=0.548, num_correct=tensor(11, device='cuda:0')]\n"
     ]
    },
    {
     "name": "stdout",
     "output_type": "stream",
     "text": [
      "           {'epoch': 41, 'train_loss': 0.6957004660965544, 'valid_loss': 0.6926876758890492, 'valid_accuracy': 0.7047887323943662}\n"
     ]
    },
    {
     "name": "stderr",
     "output_type": "stream",
     "text": [
      "Epoch: 42  : 100%|██████████| 389/389 [00:31<00:00, 12.17it/s, loss=0.474, num_correct=None]\n",
      "           : 100%|██████████| 56/56 [00:04<00:00, 13.08it/s, loss=0.81, num_correct=tensor(10, device='cuda:0')] \n"
     ]
    },
    {
     "name": "stdout",
     "output_type": "stream",
     "text": [
      "           {'epoch': 42, 'train_loss': 0.6920382904516088, 'valid_loss': 0.6925886385142803, 'valid_accuracy': 0.7059154929577465}\n"
     ]
    },
    {
     "name": "stderr",
     "output_type": "stream",
     "text": [
      "Epoch: 43  : 100%|██████████| 389/389 [00:31<00:00, 12.43it/s, loss=0.259, num_correct=None]\n",
      "           : 100%|██████████| 56/56 [00:04<00:00, 13.09it/s, loss=0.848, num_correct=tensor(8, device='cuda:0')] \n"
     ]
    },
    {
     "name": "stdout",
     "output_type": "stream",
     "text": [
      "           {'epoch': 43, 'train_loss': 0.6893303149923261, 'valid_loss': 0.6943679297608989, 'valid_accuracy': 0.7036619718309859}\n"
     ]
    },
    {
     "name": "stderr",
     "output_type": "stream",
     "text": [
      "Epoch: 44  : 100%|██████████| 389/389 [00:31<00:00, 12.50it/s, loss=0.839, num_correct=None]\n",
      "           : 100%|██████████| 56/56 [00:04<00:00, 13.01it/s, loss=0.621, num_correct=tensor(10, device='cuda:0')]\n"
     ]
    },
    {
     "name": "stdout",
     "output_type": "stream",
     "text": [
      "           {'epoch': 44, 'train_loss': 0.6896062268083077, 'valid_loss': 0.6883471815713814, 'valid_accuracy': 0.6985915492957746}\n"
     ]
    },
    {
     "name": "stderr",
     "output_type": "stream",
     "text": [
      "Epoch: 45  : 100%|██████████| 389/389 [00:31<00:00, 12.49it/s, loss=0.483, num_correct=None]\n",
      "           : 100%|██████████| 56/56 [00:04<00:00, 13.03it/s, loss=0.611, num_correct=tensor(10, device='cuda:0')]\n"
     ]
    },
    {
     "name": "stdout",
     "output_type": "stream",
     "text": [
      "           {'epoch': 45, 'train_loss': 0.6842514523963389, 'valid_loss': 0.6846422361476081, 'valid_accuracy': 0.7064788732394366}\n"
     ]
    },
    {
     "name": "stderr",
     "output_type": "stream",
     "text": [
      "Epoch: 46  : 100%|██████████| 389/389 [00:31<00:00, 12.35it/s, loss=0.44, num_correct=None] \n",
      "           : 100%|██████████| 56/56 [00:04<00:00, 12.89it/s, loss=1.08, num_correct=tensor(7, device='cuda:0')]  \n"
     ]
    },
    {
     "name": "stdout",
     "output_type": "stream",
     "text": [
      "           {'epoch': 46, 'train_loss': 0.6866709540926093, 'valid_loss': 0.6864728448646409, 'valid_accuracy': 0.7070422535211267}\n"
     ]
    },
    {
     "name": "stderr",
     "output_type": "stream",
     "text": [
      "Epoch: 47  : 100%|██████████| 389/389 [00:31<00:00, 12.19it/s, loss=0.862, num_correct=None]\n",
      "           : 100%|██████████| 56/56 [00:04<00:00, 12.95it/s, loss=0.711, num_correct=tensor(10, device='cuda:0')]\n"
     ]
    },
    {
     "name": "stdout",
     "output_type": "stream",
     "text": [
      "           {'epoch': 47, 'train_loss': 0.6850384404083144, 'valid_loss': 0.6827489568718842, 'valid_accuracy': 0.7092957746478873}\n"
     ]
    },
    {
     "name": "stderr",
     "output_type": "stream",
     "text": [
      "Epoch: 48  : 100%|██████████| 389/389 [00:31<00:00, 12.51it/s, loss=0.635, num_correct=None]\n",
      "           : 100%|██████████| 56/56 [00:04<00:00, 13.08it/s, loss=0.594, num_correct=tensor(11, device='cuda:0')]\n"
     ]
    },
    {
     "name": "stdout",
     "output_type": "stream",
     "text": [
      "           {'epoch': 48, 'train_loss': 0.6813309325963488, 'valid_loss': 0.6813881450465747, 'valid_accuracy': 0.7059154929577465}\n"
     ]
    },
    {
     "name": "stderr",
     "output_type": "stream",
     "text": [
      "Epoch: 49  : 100%|██████████| 389/389 [00:31<00:00, 12.29it/s, loss=0.503, num_correct=None]\n",
      "           : 100%|██████████| 56/56 [00:04<00:00, 12.32it/s, loss=0.601, num_correct=tensor(11, device='cuda:0')]\n"
     ]
    },
    {
     "name": "stdout",
     "output_type": "stream",
     "text": [
      "           {'epoch': 49, 'train_loss': 0.6771747703570633, 'valid_loss': 0.6799597905150482, 'valid_accuracy': 0.7092957746478873}\n"
     ]
    },
    {
     "name": "stderr",
     "output_type": "stream",
     "text": [
      "Epoch: 50  : 100%|██████████| 389/389 [00:32<00:00, 11.90it/s, loss=0.512, num_correct=None]\n",
      "           : 100%|██████████| 56/56 [00:04<00:00, 12.38it/s, loss=0.912, num_correct=tensor(9, device='cuda:0')] \n"
     ]
    },
    {
     "name": "stdout",
     "output_type": "stream",
     "text": [
      "           {'epoch': 50, 'train_loss': 0.6796831306271197, 'valid_loss': 0.6782687572496278, 'valid_accuracy': 0.7132394366197183}\n"
     ]
    },
    {
     "name": "stderr",
     "output_type": "stream",
     "text": [
      "Epoch: 51  : 100%|██████████| 389/389 [00:31<00:00, 12.35it/s, loss=0.549, num_correct=None]\n",
      "           : 100%|██████████| 56/56 [00:04<00:00, 12.98it/s, loss=0.716, num_correct=tensor(9, device='cuda:0')] \n"
     ]
    },
    {
     "name": "stdout",
     "output_type": "stream",
     "text": [
      "           {'epoch': 51, 'train_loss': 0.6805353610558498, 'valid_loss': 0.6778630832476276, 'valid_accuracy': 0.7098591549295775}\n"
     ]
    },
    {
     "name": "stderr",
     "output_type": "stream",
     "text": [
      "Epoch: 52  : 100%|██████████| 389/389 [00:31<00:00, 12.22it/s, loss=0.853, num_correct=None]\n",
      "           : 100%|██████████| 56/56 [00:04<00:00, 12.60it/s, loss=0.628, num_correct=tensor(11, device='cuda:0')]\n"
     ]
    },
    {
     "name": "stdout",
     "output_type": "stream",
     "text": [
      "           {'epoch': 52, 'train_loss': 0.6795286921578385, 'valid_loss': 0.6747076527348587, 'valid_accuracy': 0.7132394366197183}\n"
     ]
    },
    {
     "name": "stderr",
     "output_type": "stream",
     "text": [
      "Epoch: 53  : 100%|██████████| 389/389 [00:31<00:00, 12.29it/s, loss=0.804, num_correct=None]\n",
      "           : 100%|██████████| 56/56 [00:04<00:00, 12.91it/s, loss=0.707, num_correct=tensor(10, device='cuda:0')]\n"
     ]
    },
    {
     "name": "stdout",
     "output_type": "stream",
     "text": [
      "           {'epoch': 53, 'train_loss': 0.6738430867618032, 'valid_loss': 0.6734182903809207, 'valid_accuracy': 0.7132394366197183}\n"
     ]
    },
    {
     "name": "stderr",
     "output_type": "stream",
     "text": [
      "Epoch: 54  : 100%|██████████| 389/389 [00:31<00:00, 12.31it/s, loss=0.478, num_correct=None]\n",
      "           : 100%|██████████| 56/56 [00:04<00:00, 12.85it/s, loss=1.22, num_correct=tensor(5, device='cuda:0')]  \n"
     ]
    },
    {
     "name": "stdout",
     "output_type": "stream",
     "text": [
      "           {'epoch': 54, 'train_loss': 0.6739381137268096, 'valid_loss': 0.6760930631841932, 'valid_accuracy': 0.7154929577464789}\n"
     ]
    },
    {
     "name": "stderr",
     "output_type": "stream",
     "text": [
      "Epoch: 55  : 100%|██████████| 389/389 [00:31<00:00, 12.42it/s, loss=0.756, num_correct=None]\n",
      "           : 100%|██████████| 56/56 [00:04<00:00, 12.96it/s, loss=1.02, num_correct=tensor(10, device='cuda:0')] \n"
     ]
    },
    {
     "name": "stdout",
     "output_type": "stream",
     "text": [
      "           {'epoch': 55, 'train_loss': 0.6680847093807701, 'valid_loss': 0.6720594284789903, 'valid_accuracy': 0.712112676056338}\n"
     ]
    },
    {
     "name": "stderr",
     "output_type": "stream",
     "text": [
      "Epoch: 56  : 100%|██████████| 389/389 [00:31<00:00, 12.30it/s, loss=1.23, num_correct=None] \n",
      "           : 100%|██████████| 56/56 [00:04<00:00, 12.93it/s, loss=0.557, num_correct=tensor(13, device='cuda:0')]\n"
     ]
    },
    {
     "name": "stdout",
     "output_type": "stream",
     "text": [
      "           {'epoch': 56, 'train_loss': 0.6737748343871002, 'valid_loss': 0.6663209881101336, 'valid_accuracy': 0.716056338028169}\n"
     ]
    },
    {
     "name": "stderr",
     "output_type": "stream",
     "text": [
      "Epoch: 57  : 100%|██████████| 389/389 [00:31<00:00, 12.35it/s, loss=1.08, num_correct=None] \n",
      "           : 100%|██████████| 56/56 [00:04<00:00, 12.72it/s, loss=0.832, num_correct=tensor(11, device='cuda:0')]\n"
     ]
    },
    {
     "name": "stdout",
     "output_type": "stream",
     "text": [
      "           {'epoch': 57, 'train_loss': 0.6706670884301545, 'valid_loss': 0.6675302194697517, 'valid_accuracy': 0.7177464788732394}\n"
     ]
    },
    {
     "name": "stderr",
     "output_type": "stream",
     "text": [
      "Epoch: 58  : 100%|██████████| 389/389 [00:31<00:00, 12.38it/s, loss=0.56, num_correct=None] \n",
      "           : 100%|██████████| 56/56 [00:04<00:00, 12.90it/s, loss=0.33, num_correct=tensor(14, device='cuda:0')] \n"
     ]
    },
    {
     "name": "stdout",
     "output_type": "stream",
     "text": [
      "           {'epoch': 58, 'train_loss': 0.6705169420315857, 'valid_loss': 0.6648297043783324, 'valid_accuracy': 0.716056338028169}\n"
     ]
    },
    {
     "name": "stderr",
     "output_type": "stream",
     "text": [
      "Epoch: 59  : 100%|██████████| 389/389 [00:31<00:00, 12.38it/s, loss=0.81, num_correct=None] \n",
      "           : 100%|██████████| 56/56 [00:04<00:00, 12.81it/s, loss=0.385, num_correct=tensor(13, device='cuda:0')]\n"
     ]
    },
    {
     "name": "stdout",
     "output_type": "stream",
     "text": [
      "           {'epoch': 59, 'train_loss': 0.6670099273132482, 'valid_loss': 0.6613103145999568, 'valid_accuracy': 0.7138028169014085}\n"
     ]
    },
    {
     "name": "stderr",
     "output_type": "stream",
     "text": [
      "Epoch: 60  : 100%|██████████| 389/389 [00:31<00:00, 12.34it/s, loss=1.38, num_correct=None] \n",
      "           : 100%|██████████| 56/56 [00:04<00:00, 12.93it/s, loss=1.41, num_correct=tensor(9, device='cuda:0')]  \n"
     ]
    },
    {
     "name": "stdout",
     "output_type": "stream",
     "text": [
      "           {'epoch': 60, 'train_loss': 0.6656463754514189, 'valid_loss': 0.6718148477375507, 'valid_accuracy': 0.716056338028169}\n"
     ]
    },
    {
     "name": "stderr",
     "output_type": "stream",
     "text": [
      "Epoch: 61  : 100%|██████████| 389/389 [00:31<00:00, 12.43it/s, loss=0.665, num_correct=None]\n",
      "           : 100%|██████████| 56/56 [00:04<00:00, 12.98it/s, loss=0.997, num_correct=tensor(6, device='cuda:0')] \n"
     ]
    },
    {
     "name": "stdout",
     "output_type": "stream",
     "text": [
      "           {'epoch': 61, 'train_loss': 0.6624285515905346, 'valid_loss': 0.6688566947621959, 'valid_accuracy': 0.7138028169014085}\n"
     ]
    },
    {
     "name": "stderr",
     "output_type": "stream",
     "text": [
      "Epoch: 62  : 100%|██████████| 389/389 [00:31<00:00, 12.36it/s, loss=0.809, num_correct=None]\n",
      "           : 100%|██████████| 56/56 [00:04<00:00, 12.98it/s, loss=0.659, num_correct=tensor(10, device='cuda:0')]\n"
     ]
    },
    {
     "name": "stdout",
     "output_type": "stream",
     "text": [
      "           {'epoch': 62, 'train_loss': 0.6583756346322577, 'valid_loss': 0.657792615039008, 'valid_accuracy': 0.7183098591549296}\n"
     ]
    },
    {
     "name": "stderr",
     "output_type": "stream",
     "text": [
      "Epoch: 63  : 100%|██████████| 389/389 [00:31<00:00, 12.38it/s, loss=0.631, num_correct=None]\n",
      "           : 100%|██████████| 56/56 [00:04<00:00, 12.87it/s, loss=0.444, num_correct=tensor(12, device='cuda:0')]\n"
     ]
    },
    {
     "name": "stdout",
     "output_type": "stream",
     "text": [
      "           {'epoch': 63, 'train_loss': 0.6638788190169935, 'valid_loss': 0.6539978682994843, 'valid_accuracy': 0.723943661971831}\n"
     ]
    },
    {
     "name": "stderr",
     "output_type": "stream",
     "text": [
      "Epoch: 64  : 100%|██████████| 389/389 [00:31<00:00, 12.29it/s, loss=0.605, num_correct=None]\n",
      "           : 100%|██████████| 56/56 [00:04<00:00, 12.93it/s, loss=0.776, num_correct=tensor(8, device='cuda:0')] \n"
     ]
    },
    {
     "name": "stdout",
     "output_type": "stream",
     "text": [
      "           {'epoch': 64, 'train_loss': 0.6602502846012998, 'valid_loss': 0.6549998335540295, 'valid_accuracy': 0.7211267605633803}\n"
     ]
    },
    {
     "name": "stderr",
     "output_type": "stream",
     "text": [
      "Epoch: 65  : 100%|██████████| 389/389 [00:31<00:00, 12.23it/s, loss=0.93, num_correct=None] \n",
      "           : 100%|██████████| 56/56 [00:04<00:00, 12.64it/s, loss=0.552, num_correct=tensor(12, device='cuda:0')]\n"
     ]
    },
    {
     "name": "stdout",
     "output_type": "stream",
     "text": [
      "           {'epoch': 65, 'train_loss': 0.6559040942504657, 'valid_loss': 0.6531751379370689, 'valid_accuracy': 0.723943661971831}\n"
     ]
    },
    {
     "name": "stderr",
     "output_type": "stream",
     "text": [
      "Epoch: 66  : 100%|██████████| 389/389 [00:32<00:00, 12.06it/s, loss=0.337, num_correct=None]\n",
      "           : 100%|██████████| 56/56 [00:04<00:00, 12.46it/s, loss=0.406, num_correct=tensor(12, device='cuda:0')]\n"
     ]
    },
    {
     "name": "stdout",
     "output_type": "stream",
     "text": [
      "           {'epoch': 66, 'train_loss': 0.6577199297576454, 'valid_loss': 0.650765593030623, 'valid_accuracy': 0.7211267605633803}\n"
     ]
    },
    {
     "name": "stderr",
     "output_type": "stream",
     "text": [
      "Epoch: 67  : 100%|██████████| 389/389 [00:31<00:00, 12.36it/s, loss=0.611, num_correct=None]\n",
      "           : 100%|██████████| 56/56 [00:04<00:00, 13.02it/s, loss=0.672, num_correct=tensor(9, device='cuda:0')] \n"
     ]
    },
    {
     "name": "stdout",
     "output_type": "stream",
     "text": [
      "           {'epoch': 67, 'train_loss': 0.6541428955171286, 'valid_loss': 0.6516660074038165, 'valid_accuracy': 0.7233802816901408}\n"
     ]
    },
    {
     "name": "stderr",
     "output_type": "stream",
     "text": [
      "Epoch: 68  : 100%|██████████| 389/389 [00:31<00:00, 12.33it/s, loss=0.442, num_correct=None]\n",
      "           : 100%|██████████| 56/56 [00:04<00:00, 12.98it/s, loss=0.81, num_correct=tensor(9, device='cuda:0')]  \n"
     ]
    },
    {
     "name": "stdout",
     "output_type": "stream",
     "text": [
      "           {'epoch': 68, 'train_loss': 0.6519297287825754, 'valid_loss': 0.6506701872817108, 'valid_accuracy': 0.7267605633802817}\n",
      "Stopping early...\n",
      "\n",
      "Finetuning test...\n"
     ]
    },
    {
     "name": "stderr",
     "output_type": "stream",
     "text": [
      "           : 100%|██████████| 111/111 [00:08<00:00, 12.50it/s, loss=0.744, num_correct=tensor(20, device='cuda:0')]\n"
     ]
    },
    {
     "name": "stdout",
     "output_type": "stream",
     "text": [
      "              precision    recall  f1-score   support\n",
      "\n",
      "    negative       0.71      0.75      0.73      1174\n",
      "     neutral       0.68      0.69      0.69      1228\n",
      "    positive       0.77      0.71      0.74      1148\n",
      "\n",
      "    accuracy                           0.72      3550\n",
      "   macro avg       0.72      0.72      0.72      3550\n",
      "weighted avg       0.72      0.72      0.72      3550\n",
      "\n"
     ]
    },
    {
     "data": {
      "image/png": "[encoded data removed]",
      "text/plain": [
       "<Figure size 640x480 with 2 Axes>"
      ]
     },
     "metadata": {},
     "output_type": "display_data"
    }
   ],
   "source": [
    "global_dataset_train_loop(\"metacritic\")"
   ]
  },
  {
   "cell_type": "markdown",
   "metadata": {},
   "source": [
    "## Rotten Tomatoes\n",
    "\n",
    "Training BERT on Rotten Tomatoes only."
   ]
  },
  {
   "cell_type": "code",
   "execution_count": 9,
   "metadata": {},
   "outputs": [
    {
     "name": "stdout",
     "output_type": "stream",
     "text": [
      "Loaded training config:\n"
     ]
    },
    {
     "data": {
      "text/plain": [
       "{'tokenizer': BertTokenizerFast(name_or_path='bert-base-uncased', vocab_size=30522, model_max_length=512, is_fast=True, padding_side='right', truncation_side='right', special_tokens={'unk_token': '[UNK]', 'sep_token': '[SEP]', 'pad_token': '[PAD]', 'cls_token': '[CLS]', 'mask_token': '[MASK]'}, clean_up_tokenization_spaces=False, added_tokens_decoder={\n",
       "\t0: AddedToken(\"[PAD]\", rstrip=False, lstrip=False, single_word=False, normalized=False, special=True),\n",
       "\t100: AddedToken(\"[UNK]\", rstrip=False, lstrip=False, single_word=False, normalized=False, special=True),\n",
       "\t101: AddedToken(\"[CLS]\", rstrip=False, lstrip=False, single_word=False, normalized=False, special=True),\n",
       "\t102: AddedToken(\"[SEP]\", rstrip=False, lstrip=False, single_word=False, normalized=False, special=True),\n",
       "\t103: AddedToken(\"[MASK]\", rstrip=False, lstrip=False, single_word=False, normalized=False, special=True),\n",
       "}\n",
       "), 'pretrained_model_name': '', 'name': 'rotten_tomatoes', 'class_names': ['negative', 'neutral', 'positive'], 'stop_delta': 0.05, 'stop_patience': 5, 'train_bert_in_finetune': False, 'max_token_length': 512, 'pretrained_model': None, 'pretrained_dataloaders': None, 'finetuned_classifier_model': None, 'finetuned_dataloaders': None, 'sample_mode': <SampleMode.OVER_SAMPLE: 2>}"
      ]
     },
     "metadata": {},
     "output_type": "display_data"
    },
    {
     "name": "stdout",
     "output_type": "stream",
     "text": [
      "Loaded rotten_tomatoes:\n"
     ]
    },
    {
     "data": {
      "text/html": [
       "<div>\n",
       "<style scoped>\n",
       "    .dataframe tbody tr th:only-of-type {\n",
       "        vertical-align: middle;\n",
       "    }\n",
       "\n",
       "    .dataframe tbody tr th {\n",
       "        vertical-align: top;\n",
       "    }\n",
       "\n",
       "    .dataframe thead th {\n",
       "        text-align: right;\n",
       "    }\n",
       "</style>\n",
       "<table border=\"1\" class=\"dataframe\">\n",
       "  <thead>\n",
       "    <tr style=\"text-align: right;\">\n",
       "      <th></th>\n",
       "      <th>site</th>\n",
       "      <th>user</th>\n",
       "      <th>review_target</th>\n",
       "      <th>review</th>\n",
       "      <th>score</th>\n",
       "      <th>max_score</th>\n",
       "    </tr>\n",
       "  </thead>\n",
       "  <tbody>\n",
       "    <tr>\n",
       "      <th>0</th>\n",
       "      <td>Rotten Tomatoes</td>\n",
       "      <td>Lee N</td>\n",
       "      <td>Prestige</td>\n",
       "      <td>I love entertaining movies that draw me in, an...</td>\n",
       "      <td>5.0</td>\n",
       "      <td>5</td>\n",
       "    </tr>\n",
       "    <tr>\n",
       "      <th>1</th>\n",
       "      <td>Rotten Tomatoes</td>\n",
       "      <td>Markus L</td>\n",
       "      <td>Inception</td>\n",
       "      <td>My mind is but a construct of my own imagination</td>\n",
       "      <td>5.0</td>\n",
       "      <td>5</td>\n",
       "    </tr>\n",
       "    <tr>\n",
       "      <th>2</th>\n",
       "      <td>Rotten Tomatoes</td>\n",
       "      <td>XRP V</td>\n",
       "      <td>Full Metal Jacket</td>\n",
       "      <td>I have seen this movie countless times it’s on...</td>\n",
       "      <td>5.0</td>\n",
       "      <td>5</td>\n",
       "    </tr>\n",
       "    <tr>\n",
       "      <th>3</th>\n",
       "      <td>Rotten Tomatoes</td>\n",
       "      <td>Horror fan 4</td>\n",
       "      <td>1066050-Party Girl</td>\n",
       "      <td>Nice cast but this movie was boring. Wasn't fu...</td>\n",
       "      <td>0.5</td>\n",
       "      <td>5</td>\n",
       "    </tr>\n",
       "    <tr>\n",
       "      <th>4</th>\n",
       "      <td>Rotten Tomatoes</td>\n",
       "      <td>Vitor Felipe A</td>\n",
       "      <td>Iron Man</td>\n",
       "      <td>filme incrivel,mostra muito bem a origem do ho...</td>\n",
       "      <td>4.5</td>\n",
       "      <td>5</td>\n",
       "    </tr>\n",
       "    <tr>\n",
       "      <th>...</th>\n",
       "      <td>...</td>\n",
       "      <td>...</td>\n",
       "      <td>...</td>\n",
       "      <td>...</td>\n",
       "      <td>...</td>\n",
       "      <td>...</td>\n",
       "    </tr>\n",
       "    <tr>\n",
       "      <th>4177</th>\n",
       "      <td>Rotten Tomatoes</td>\n",
       "      <td></td>\n",
       "      <td>Interstellar 2014</td>\n",
       "      <td>Um dos melhores filmes de todos os tempos.</td>\n",
       "      <td>5.0</td>\n",
       "      <td>5</td>\n",
       "    </tr>\n",
       "    <tr>\n",
       "      <th>4178</th>\n",
       "      <td>Rotten Tomatoes</td>\n",
       "      <td></td>\n",
       "      <td>A Minecraft Movie</td>\n",
       "      <td>If you grew up playing minecraft, or played it...</td>\n",
       "      <td>5.0</td>\n",
       "      <td>5</td>\n",
       "    </tr>\n",
       "    <tr>\n",
       "      <th>4179</th>\n",
       "      <td>Rotten Tomatoes</td>\n",
       "      <td>Andrew L</td>\n",
       "      <td>1065684-Braveheart</td>\n",
       "      <td>Masterpiece. Stirringly shot and beautifully a...</td>\n",
       "      <td>5.0</td>\n",
       "      <td>5</td>\n",
       "    </tr>\n",
       "    <tr>\n",
       "      <th>4180</th>\n",
       "      <td>Rotten Tomatoes</td>\n",
       "      <td>thiago s</td>\n",
       "      <td>World-War-Z</td>\n",
       "      <td>Filme mais ou menos, o roteiro é mais ou menos...</td>\n",
       "      <td>1.0</td>\n",
       "      <td>5</td>\n",
       "    </tr>\n",
       "    <tr>\n",
       "      <th>4181</th>\n",
       "      <td>Rotten Tomatoes</td>\n",
       "      <td>Krish P</td>\n",
       "      <td>The Wolf Of Wall Street 2013</td>\n",
       "      <td>Leo acting great. It starts with everything yo...</td>\n",
       "      <td>5.0</td>\n",
       "      <td>5</td>\n",
       "    </tr>\n",
       "  </tbody>\n",
       "</table>\n",
       "<p>4182 rows × 6 columns</p>\n",
       "</div>"
      ],
      "text/plain": [
       "                 site            user                 review_target  \\\n",
       "0     Rotten Tomatoes           Lee N                      Prestige   \n",
       "1     Rotten Tomatoes        Markus L                     Inception   \n",
       "2     Rotten Tomatoes           XRP V             Full Metal Jacket   \n",
       "3     Rotten Tomatoes    Horror fan 4            1066050-Party Girl   \n",
       "4     Rotten Tomatoes  Vitor Felipe A                      Iron Man   \n",
       "...               ...             ...                           ...   \n",
       "4177  Rotten Tomatoes                             Interstellar 2014   \n",
       "4178  Rotten Tomatoes                             A Minecraft Movie   \n",
       "4179  Rotten Tomatoes        Andrew L            1065684-Braveheart   \n",
       "4180  Rotten Tomatoes        thiago s                   World-War-Z   \n",
       "4181  Rotten Tomatoes         Krish P  The Wolf Of Wall Street 2013   \n",
       "\n",
       "                                                 review  score  max_score  \n",
       "0     I love entertaining movies that draw me in, an...    5.0          5  \n",
       "1      My mind is but a construct of my own imagination    5.0          5  \n",
       "2     I have seen this movie countless times it’s on...    5.0          5  \n",
       "3     Nice cast but this movie was boring. Wasn't fu...    0.5          5  \n",
       "4     filme incrivel,mostra muito bem a origem do ho...    4.5          5  \n",
       "...                                                 ...    ...        ...  \n",
       "4177         Um dos melhores filmes de todos os tempos.    5.0          5  \n",
       "4178  If you grew up playing minecraft, or played it...    5.0          5  \n",
       "4179  Masterpiece. Stirringly shot and beautifully a...    5.0          5  \n",
       "4180  Filme mais ou menos, o roteiro é mais ou menos...    1.0          5  \n",
       "4181  Leo acting great. It starts with everything yo...    5.0          5  \n",
       "\n",
       "[4182 rows x 6 columns]"
      ]
     },
     "metadata": {},
     "output_type": "display_data"
    },
    {
     "name": "stderr",
     "output_type": "stream",
     "text": [
      "C:\\Users\\Alan\\AppData\\Local\\Temp\\ipykernel_3808\\1641346163.py:585: DeprecationWarning: DataFrameGroupBy.apply operated on the grouping columns. This behavior is deprecated, and in a future version of pandas the grouping columns will be excluded from the operation. Either pass `include_groups=False` to exclude the groupings or explicitly select the grouping columns after groupby to silence this warning.\n",
      "  sampled_df = g.apply(lambda x: x.sample(max_group_size, replace=True)).reset_index(drop=True)\n"
     ]
    },
    {
     "data": {
      "image/png": "[encoded data removed]",
      "text/plain": [
       "<Figure size 640x480 with 1 Axes>"
      ]
     },
     "metadata": {},
     "output_type": "display_data"
    },
    {
     "data": {
      "image/png": "[encoded data removed]",
      "text/plain": [
       "<Figure size 640x480 with 1 Axes>"
      ]
     },
     "metadata": {},
     "output_type": "display_data"
    },
    {
     "name": "stdout",
     "output_type": "stream",
     "text": [
      "Original dataset size: 4182\n",
      "Sampled dataset size: 9465\n"
     ]
    },
    {
     "data": {
      "text/html": [
       "<div>\n",
       "<style scoped>\n",
       "    .dataframe tbody tr th:only-of-type {\n",
       "        vertical-align: middle;\n",
       "    }\n",
       "\n",
       "    .dataframe tbody tr th {\n",
       "        vertical-align: top;\n",
       "    }\n",
       "\n",
       "    .dataframe thead th {\n",
       "        text-align: right;\n",
       "    }\n",
       "</style>\n",
       "<table border=\"1\" class=\"dataframe\">\n",
       "  <thead>\n",
       "    <tr style=\"text-align: right;\">\n",
       "      <th></th>\n",
       "      <th>site</th>\n",
       "      <th>user</th>\n",
       "      <th>review_target</th>\n",
       "      <th>review</th>\n",
       "      <th>score</th>\n",
       "      <th>max_score</th>\n",
       "      <th>norm_score</th>\n",
       "      <th>sentiment_score</th>\n",
       "    </tr>\n",
       "  </thead>\n",
       "  <tbody>\n",
       "    <tr>\n",
       "      <th>0</th>\n",
       "      <td>Rotten Tomatoes</td>\n",
       "      <td>Finn O</td>\n",
       "      <td>Star Wars Episode Vii The Force Awakens</td>\n",
       "      <td>Nice interpretation of A New Hope, but still l...</td>\n",
       "      <td>0.5</td>\n",
       "      <td>5</td>\n",
       "      <td>0.1</td>\n",
       "      <td>0</td>\n",
       "    </tr>\n",
       "    <tr>\n",
       "      <th>1</th>\n",
       "      <td>Rotten Tomatoes</td>\n",
       "      <td>Jermaine S</td>\n",
       "      <td>Monsters Inc</td>\n",
       "      <td>I hate this movie SOoooOO much🤮😡  I hate it</td>\n",
       "      <td>0.5</td>\n",
       "      <td>5</td>\n",
       "      <td>0.1</td>\n",
       "      <td>0</td>\n",
       "    </tr>\n",
       "    <tr>\n",
       "      <th>2</th>\n",
       "      <td>Rotten Tomatoes</td>\n",
       "      <td></td>\n",
       "      <td>Shadow In The Cloud</td>\n",
       "      <td>Started out nice and spooky with the premise b...</td>\n",
       "      <td>1.5</td>\n",
       "      <td>5</td>\n",
       "      <td>0.3</td>\n",
       "      <td>0</td>\n",
       "    </tr>\n",
       "    <tr>\n",
       "      <th>3</th>\n",
       "      <td>Rotten Tomatoes</td>\n",
       "      <td></td>\n",
       "      <td>Bagman 2024</td>\n",
       "      <td>Um conceito interessante, mundialmente conheci...</td>\n",
       "      <td>0.5</td>\n",
       "      <td>5</td>\n",
       "      <td>0.1</td>\n",
       "      <td>0</td>\n",
       "    </tr>\n",
       "    <tr>\n",
       "      <th>4</th>\n",
       "      <td>Rotten Tomatoes</td>\n",
       "      <td></td>\n",
       "      <td>Quel Maledetto Treno Blindato</td>\n",
       "      <td>Despite the fact that the whole plot is made u...</td>\n",
       "      <td>2.0</td>\n",
       "      <td>5</td>\n",
       "      <td>0.4</td>\n",
       "      <td>0</td>\n",
       "    </tr>\n",
       "    <tr>\n",
       "      <th>...</th>\n",
       "      <td>...</td>\n",
       "      <td>...</td>\n",
       "      <td>...</td>\n",
       "      <td>...</td>\n",
       "      <td>...</td>\n",
       "      <td>...</td>\n",
       "      <td>...</td>\n",
       "      <td>...</td>\n",
       "    </tr>\n",
       "    <tr>\n",
       "      <th>9460</th>\n",
       "      <td>Rotten Tomatoes</td>\n",
       "      <td>Brad M</td>\n",
       "      <td>Your Name 2017</td>\n",
       "      <td>Makoto Shinkai’s Your Name (Kimi no Na wa) is ...</td>\n",
       "      <td>5.0</td>\n",
       "      <td>5</td>\n",
       "      <td>1.0</td>\n",
       "      <td>2</td>\n",
       "    </tr>\n",
       "    <tr>\n",
       "      <th>9461</th>\n",
       "      <td>Rotten Tomatoes</td>\n",
       "      <td>George P</td>\n",
       "      <td>Spider Man Into The Spider Verse</td>\n",
       "      <td>better than the sequel! \\nvery underrated!</td>\n",
       "      <td>4.5</td>\n",
       "      <td>5</td>\n",
       "      <td>0.9</td>\n",
       "      <td>2</td>\n",
       "    </tr>\n",
       "    <tr>\n",
       "      <th>9462</th>\n",
       "      <td>Rotten Tomatoes</td>\n",
       "      <td>Kenji C</td>\n",
       "      <td>Green Mile</td>\n",
       "      <td>As atuaçoes são fodas para caralho alem do fin...</td>\n",
       "      <td>5.0</td>\n",
       "      <td>5</td>\n",
       "      <td>1.0</td>\n",
       "      <td>2</td>\n",
       "    </tr>\n",
       "    <tr>\n",
       "      <th>9463</th>\n",
       "      <td>Rotten Tomatoes</td>\n",
       "      <td>Korra N</td>\n",
       "      <td>Prestige</td>\n",
       "      <td>An underappreciated classic from auteur Christ...</td>\n",
       "      <td>4.5</td>\n",
       "      <td>5</td>\n",
       "      <td>0.9</td>\n",
       "      <td>2</td>\n",
       "    </tr>\n",
       "    <tr>\n",
       "      <th>9464</th>\n",
       "      <td>Rotten Tomatoes</td>\n",
       "      <td>Manel N</td>\n",
       "      <td>To All The Boys Ive Loved Before</td>\n",
       "      <td>To All the Boys I’ve Loved Before is a romanti...</td>\n",
       "      <td>5.0</td>\n",
       "      <td>5</td>\n",
       "      <td>1.0</td>\n",
       "      <td>2</td>\n",
       "    </tr>\n",
       "  </tbody>\n",
       "</table>\n",
       "<p>9465 rows × 8 columns</p>\n",
       "</div>"
      ],
      "text/plain": [
       "                 site        user                            review_target  \\\n",
       "0     Rotten Tomatoes      Finn O  Star Wars Episode Vii The Force Awakens   \n",
       "1     Rotten Tomatoes  Jermaine S                             Monsters Inc   \n",
       "2     Rotten Tomatoes                                  Shadow In The Cloud   \n",
       "3     Rotten Tomatoes                                          Bagman 2024   \n",
       "4     Rotten Tomatoes                        Quel Maledetto Treno Blindato   \n",
       "...               ...         ...                                      ...   \n",
       "9460  Rotten Tomatoes      Brad M                           Your Name 2017   \n",
       "9461  Rotten Tomatoes    George P         Spider Man Into The Spider Verse   \n",
       "9462  Rotten Tomatoes     Kenji C                               Green Mile   \n",
       "9463  Rotten Tomatoes     Korra N                                 Prestige   \n",
       "9464  Rotten Tomatoes     Manel N         To All The Boys Ive Loved Before   \n",
       "\n",
       "                                                 review  score  max_score  \\\n",
       "0     Nice interpretation of A New Hope, but still l...    0.5          5   \n",
       "1           I hate this movie SOoooOO much🤮😡  I hate it    0.5          5   \n",
       "2     Started out nice and spooky with the premise b...    1.5          5   \n",
       "3     Um conceito interessante, mundialmente conheci...    0.5          5   \n",
       "4     Despite the fact that the whole plot is made u...    2.0          5   \n",
       "...                                                 ...    ...        ...   \n",
       "9460  Makoto Shinkai’s Your Name (Kimi no Na wa) is ...    5.0          5   \n",
       "9461         better than the sequel! \\nvery underrated!    4.5          5   \n",
       "9462  As atuaçoes são fodas para caralho alem do fin...    5.0          5   \n",
       "9463  An underappreciated classic from auteur Christ...    4.5          5   \n",
       "9464  To All the Boys I’ve Loved Before is a romanti...    5.0          5   \n",
       "\n",
       "      norm_score  sentiment_score  \n",
       "0            0.1                0  \n",
       "1            0.1                0  \n",
       "2            0.3                0  \n",
       "3            0.1                0  \n",
       "4            0.4                0  \n",
       "...          ...              ...  \n",
       "9460         1.0                2  \n",
       "9461         0.9                2  \n",
       "9462         1.0                2  \n",
       "9463         0.9                2  \n",
       "9464         1.0                2  \n",
       "\n",
       "[9465 rows x 8 columns]"
      ]
     },
     "metadata": {},
     "output_type": "display_data"
    },
    {
     "name": "stdout",
     "output_type": "stream",
     "text": [
      "Loading masked dataset:\n",
      "    Loading existing dataset file @ rotten_tomatoes_masked_data.dt...\n",
      "    Error loading dataset file: [Errno 2] No such file or directory: 'c:\\\\Users\\\\Alan\\\\Desktop\\\\Open_Source\\\\BERT-TLSA-paper/data/rotten_tomatoes_masked_data.dt'\n",
      "    Creating new dataset file @ rotten_tomatoes_masked_data.dt...\n",
      "Loading reviews dataset:\n",
      "    Loading existing dataset file @ rotten_tomatoes_reviews_data.dt...\n",
      "    Error loading dataset file: [Errno 2] No such file or directory: 'c:\\\\Users\\\\Alan\\\\Desktop\\\\Open_Source\\\\BERT-TLSA-paper/data/rotten_tomatoes_reviews_data.dt'\n",
      "    Creating new dataset file @ rotten_tomatoes_reviews_data.dt...\n",
      "Masked pretraining:\n",
      "    train_dataloader: (92 batches)\n",
      "    test_dataloader: (27 batches)\n",
      "    valid_dataloader: (14 batches)\n",
      "Reviews training:\n",
      "    train_dataloader: (208 batches)\n",
      "    test_dataloader: (60 batches)\n",
      "    valid_dataloader: (30 batches)\n",
      "Training start for 'rotten_tomatoes' finetuning...\n"
     ]
    },
    {
     "data": {
      "image/png": "[encoded data removed]",
      "text/plain": [
       "<Figure size 640x480 with 1 Axes>"
      ]
     },
     "metadata": {},
     "output_type": "display_data"
    },
    {
     "name": "stderr",
     "output_type": "stream",
     "text": [
      "Epoch: 0   : 100%|██████████| 208/208 [00:16<00:00, 12.44it/s, loss=1.07, num_correct=None] \n",
      "           : 100%|██████████| 30/30 [00:02<00:00, 12.95it/s, loss=1.05, num_correct=tensor(10, device='cuda:0')] \n"
     ]
    },
    {
     "name": "stderr",
     "output_type": "stream",
     "text": [
      "Epoch: 1   : 100%|██████████| 208/208 [00:16<00:00, 12.43it/s, loss=1.22, num_correct=None] \n",
      "           : 100%|██████████| 30/30 [00:02<00:00, 13.09it/s, loss=0.911, num_correct=tensor(11, device='cuda:0')]\n"
     ]
    },
    {
     "name": "stdout",
     "output_type": "stream",
     "text": [
      "           {'epoch': 1, 'train_loss': 0.9875784304279548, 'valid_loss': 0.9405871788660686, 'valid_accuracy': 0.6304118268215417}\n"
     ]
    },
    {
     "name": "stderr",
     "output_type": "stream",
     "text": [
      "Epoch: 2   : 100%|██████████| 208/208 [00:16<00:00, 12.31it/s, loss=0.807, num_correct=None]\n",
      "           : 100%|██████████| 30/30 [00:02<00:00, 12.97it/s, loss=0.919, num_correct=tensor(12, device='cuda:0')]\n"
     ]
    },
    {
     "name": "stdout",
     "output_type": "stream",
     "text": [
      "           {'epoch': 2, 'train_loss': 0.9196018860317193, 'valid_loss': 0.8767761786778768, 'valid_accuracy': 0.6378035902851109}\n"
     ]
    },
    {
     "name": "stderr",
     "output_type": "stream",
     "text": [
      "Epoch: 3   : 100%|██████████| 208/208 [00:16<00:00, 12.26it/s, loss=0.912, num_correct=None]\n",
      "           : 100%|██████████| 30/30 [00:02<00:00, 12.89it/s, loss=0.906, num_correct=tensor(12, device='cuda:0')]\n"
     ]
    },
    {
     "name": "stdout",
     "output_type": "stream",
     "text": [
      "           {'epoch': 3, 'train_loss': 0.8660832207936507, 'valid_loss': 0.8300301134586334, 'valid_accuracy': 0.6599788806758183}\n"
     ]
    },
    {
     "name": "stderr",
     "output_type": "stream",
     "text": [
      "Epoch: 4   : 100%|██████████| 208/208 [00:16<00:00, 12.30it/s, loss=0.806, num_correct=None]\n",
      "           : 100%|██████████| 30/30 [00:02<00:00, 13.08it/s, loss=0.732, num_correct=tensor(12, device='cuda:0')]\n"
     ]
    },
    {
     "name": "stdout",
     "output_type": "stream",
     "text": [
      "           {'epoch': 4, 'train_loss': 0.8274412255447644, 'valid_loss': 0.7946835199991862, 'valid_accuracy': 0.6673706441393875}\n"
     ]
    },
    {
     "name": "stderr",
     "output_type": "stream",
     "text": [
      "Epoch: 5   : 100%|██████████| 208/208 [00:16<00:00, 12.46it/s, loss=0.604, num_correct=None]\n",
      "           : 100%|██████████| 30/30 [00:02<00:00, 13.06it/s, loss=0.711, num_correct=tensor(13, device='cuda:0')]\n"
     ]
    },
    {
     "name": "stdout",
     "output_type": "stream",
     "text": [
      "           {'epoch': 5, 'train_loss': 0.7996424307616857, 'valid_loss': 0.7744430561860403, 'valid_accuracy': 0.6747624076029567}\n"
     ]
    },
    {
     "name": "stderr",
     "output_type": "stream",
     "text": [
      "Epoch: 6   : 100%|██████████| 208/208 [00:16<00:00, 12.42it/s, loss=0.505, num_correct=None]\n",
      "           : 100%|██████████| 30/30 [00:02<00:00, 13.04it/s, loss=0.671, num_correct=tensor(14, device='cuda:0')]\n"
     ]
    },
    {
     "name": "stdout",
     "output_type": "stream",
     "text": [
      "           {'epoch': 6, 'train_loss': 0.7775752343810521, 'valid_loss': 0.7535466472307841, 'valid_accuracy': 0.6842661034846885}\n"
     ]
    },
    {
     "name": "stderr",
     "output_type": "stream",
     "text": [
      "Epoch: 7   : 100%|██████████| 208/208 [00:16<00:00, 12.34it/s, loss=0.613, num_correct=None]\n",
      "           : 100%|██████████| 30/30 [00:02<00:00, 12.75it/s, loss=0.783, num_correct=tensor(10, device='cuda:0')]\n"
     ]
    },
    {
     "name": "stdout",
     "output_type": "stream",
     "text": [
      "           {'epoch': 7, 'train_loss': 0.7573173097693003, 'valid_loss': 0.7394681831200918, 'valid_accuracy': 0.6863780359028511}\n"
     ]
    },
    {
     "name": "stderr",
     "output_type": "stream",
     "text": [
      "Epoch: 8   : 100%|██████████| 208/208 [00:16<00:00, 12.39it/s, loss=0.708, num_correct=None]\n",
      "           : 100%|██████████| 30/30 [00:02<00:00, 12.69it/s, loss=0.784, num_correct=tensor(13, device='cuda:0')]\n"
     ]
    },
    {
     "name": "stdout",
     "output_type": "stream",
     "text": [
      "           {'epoch': 8, 'train_loss': 0.7465964532815493, 'valid_loss': 0.7305593132972718, 'valid_accuracy': 0.6842661034846885}\n"
     ]
    },
    {
     "name": "stderr",
     "output_type": "stream",
     "text": [
      "Epoch: 9   : 100%|██████████| 208/208 [00:16<00:00, 12.36it/s, loss=0.121, num_correct=None]\n",
      "           : 100%|██████████| 30/30 [00:02<00:00, 13.07it/s, loss=0.668, num_correct=tensor(15, device='cuda:0')]\n"
     ]
    },
    {
     "name": "stdout",
     "output_type": "stream",
     "text": [
      "           {'epoch': 9, 'train_loss': 0.7335595663708563, 'valid_loss': 0.7188037772973378, 'valid_accuracy': 0.6927138331573389}\n"
     ]
    },
    {
     "name": "stderr",
     "output_type": "stream",
     "text": [
      "Epoch: 10  : 100%|██████████| 208/208 [00:17<00:00, 12.18it/s, loss=0.244, num_correct=None]\n",
      "           : 100%|██████████| 30/30 [00:02<00:00, 12.80it/s, loss=0.627, num_correct=tensor(12, device='cuda:0')]\n"
     ]
    },
    {
     "name": "stdout",
     "output_type": "stream",
     "text": [
      "           {'epoch': 10, 'train_loss': 0.7234702111723331, 'valid_loss': 0.706258891026179, 'valid_accuracy': 0.706441393875396}\n"
     ]
    },
    {
     "name": "stderr",
     "output_type": "stream",
     "text": [
      "Epoch: 11  : 100%|██████████| 208/208 [00:16<00:00, 12.24it/s, loss=1.47, num_correct=None] \n",
      "           : 100%|██████████| 30/30 [00:02<00:00, 13.08it/s, loss=0.703, num_correct=tensor(14, device='cuda:0')]\n"
     ]
    },
    {
     "name": "stdout",
     "output_type": "stream",
     "text": [
      "           {'epoch': 11, 'train_loss': 0.7198963328622855, 'valid_loss': 0.7010152200857799, 'valid_accuracy': 0.7001055966209081}\n"
     ]
    },
    {
     "name": "stderr",
     "output_type": "stream",
     "text": [
      "Epoch: 12  : 100%|██████████| 208/208 [00:16<00:00, 12.43it/s, loss=1.03, num_correct=None] \n",
      "           : 100%|██████████| 30/30 [00:02<00:00, 12.69it/s, loss=0.76, num_correct=tensor(13, device='cuda:0')] \n"
     ]
    },
    {
     "name": "stdout",
     "output_type": "stream",
     "text": [
      "           {'epoch': 12, 'train_loss': 0.708436854613515, 'valid_loss': 0.6967374314864476, 'valid_accuracy': 0.7096092925026399}\n"
     ]
    },
    {
     "name": "stderr",
     "output_type": "stream",
     "text": [
      "Epoch: 13  : 100%|██████████| 208/208 [00:17<00:00, 12.03it/s, loss=0.423, num_correct=None]\n",
      "           : 100%|██████████| 30/30 [00:02<00:00, 12.21it/s, loss=0.755, num_correct=tensor(15, device='cuda:0')]\n"
     ]
    },
    {
     "name": "stdout",
     "output_type": "stream",
     "text": [
      "           {'epoch': 13, 'train_loss': 0.696185217024042, 'valid_loss': 0.689034969607989, 'valid_accuracy': 0.7148891235480465}\n"
     ]
    },
    {
     "name": "stderr",
     "output_type": "stream",
     "text": [
      "Epoch: 14  : 100%|██████████| 208/208 [00:17<00:00, 12.02it/s, loss=0.266, num_correct=None]\n",
      "           : 100%|██████████| 30/30 [00:02<00:00, 12.77it/s, loss=0.746, num_correct=tensor(14, device='cuda:0')]\n"
     ]
    },
    {
     "name": "stdout",
     "output_type": "stream",
     "text": [
      "           {'epoch': 14, 'train_loss': 0.6923890035026349, 'valid_loss': 0.6830339332421621, 'valid_accuracy': 0.7180570221752904}\n"
     ]
    },
    {
     "name": "stderr",
     "output_type": "stream",
     "text": [
      "Epoch: 15  : 100%|██████████| 208/208 [00:17<00:00, 12.07it/s, loss=1.73, num_correct=None] \n",
      "           : 100%|██████████| 30/30 [00:02<00:00, 12.97it/s, loss=0.612, num_correct=tensor(16, device='cuda:0')]\n"
     ]
    },
    {
     "name": "stdout",
     "output_type": "stream",
     "text": [
      "           {'epoch': 15, 'train_loss': 0.6911930989187497, 'valid_loss': 0.6786146779855092, 'valid_accuracy': 0.7170010559662091}\n"
     ]
    },
    {
     "name": "stderr",
     "output_type": "stream",
     "text": [
      "Epoch: 16  : 100%|██████████| 208/208 [00:16<00:00, 12.40it/s, loss=0.647, num_correct=None]\n",
      "           : 100%|██████████| 30/30 [00:02<00:00, 13.07it/s, loss=0.812, num_correct=tensor(12, device='cuda:0')]\n"
     ]
    },
    {
     "name": "stdout",
     "output_type": "stream",
     "text": [
      "           {'epoch': 16, 'train_loss': 0.6821320892239993, 'valid_loss': 0.6758612384398778, 'valid_accuracy': 0.7159450897571278}\n"
     ]
    },
    {
     "name": "stderr",
     "output_type": "stream",
     "text": [
      "Epoch: 17  : 100%|██████████| 208/208 [00:17<00:00, 11.94it/s, loss=0.252, num_correct=None]\n",
      "           : 100%|██████████| 30/30 [00:02<00:00, 12.75it/s, loss=0.687, num_correct=tensor(14, device='cuda:0')]\n"
     ]
    },
    {
     "name": "stdout",
     "output_type": "stream",
     "text": [
      "           {'epoch': 17, 'train_loss': 0.6774940191266628, 'valid_loss': 0.6751832137505214, 'valid_accuracy': 0.7254487856388595}\n"
     ]
    },
    {
     "name": "stderr",
     "output_type": "stream",
     "text": [
      "Epoch: 18  : 100%|██████████| 208/208 [00:17<00:00, 12.15it/s, loss=0.516, num_correct=None]\n",
      "           : 100%|██████████| 30/30 [00:02<00:00, 13.08it/s, loss=0.742, num_correct=tensor(12, device='cuda:0')]\n"
     ]
    },
    {
     "name": "stdout",
     "output_type": "stream",
     "text": [
      "           {'epoch': 18, 'train_loss': 0.6703095271323736, 'valid_loss': 0.6661373714605967, 'valid_accuracy': 0.7265047518479408}\n"
     ]
    },
    {
     "name": "stderr",
     "output_type": "stream",
     "text": [
      "Epoch: 19  : 100%|██████████| 208/208 [00:17<00:00, 12.16it/s, loss=0.493, num_correct=None]\n",
      "           : 100%|██████████| 30/30 [00:02<00:00, 13.10it/s, loss=0.602, num_correct=tensor(14, device='cuda:0')]\n"
     ]
    },
    {
     "name": "stdout",
     "output_type": "stream",
     "text": [
      "           {'epoch': 19, 'train_loss': 0.6727917989572654, 'valid_loss': 0.6616466253995895, 'valid_accuracy': 0.7328405491024287}\n"
     ]
    },
    {
     "name": "stderr",
     "output_type": "stream",
     "text": [
      "Epoch: 20  : 100%|██████████| 208/208 [00:17<00:00, 12.16it/s, loss=0.612, num_correct=None]\n",
      "           : 100%|██████████| 30/30 [00:02<00:00, 11.90it/s, loss=0.598, num_correct=tensor(16, device='cuda:0')]\n"
     ]
    },
    {
     "name": "stdout",
     "output_type": "stream",
     "text": [
      "           {'epoch': 20, 'train_loss': 0.6664286139779366, 'valid_loss': 0.6607065190871556, 'valid_accuracy': 0.7286166842661035}\n"
     ]
    },
    {
     "name": "stderr",
     "output_type": "stream",
     "text": [
      "Epoch: 21  : 100%|██████████| 208/208 [00:17<00:00, 12.10it/s, loss=1.71, num_correct=None] \n",
      "           : 100%|██████████| 30/30 [00:02<00:00, 12.60it/s, loss=0.733, num_correct=tensor(12, device='cuda:0')]\n"
     ]
    },
    {
     "name": "stdout",
     "output_type": "stream",
     "text": [
      "           {'epoch': 21, 'train_loss': 0.6701903244337211, 'valid_loss': 0.6593639403581619, 'valid_accuracy': 0.7360084477296727}\n"
     ]
    },
    {
     "name": "stderr",
     "output_type": "stream",
     "text": [
      "Epoch: 22  : 100%|██████████| 208/208 [00:17<00:00, 12.07it/s, loss=1.41, num_correct=None] \n",
      "           : 100%|██████████| 30/30 [00:02<00:00, 12.96it/s, loss=0.453, num_correct=tensor(16, device='cuda:0')]\n"
     ]
    },
    {
     "name": "stdout",
     "output_type": "stream",
     "text": [
      "           {'epoch': 22, 'train_loss': 0.6620217577482645, 'valid_loss': 0.651663691798846, 'valid_accuracy': 0.737064413938754}\n"
     ]
    },
    {
     "name": "stderr",
     "output_type": "stream",
     "text": [
      "Epoch: 23  : 100%|██████████| 208/208 [00:16<00:00, 12.36it/s, loss=0.0376, num_correct=None]\n",
      "           : 100%|██████████| 30/30 [00:02<00:00, 13.06it/s, loss=0.704, num_correct=tensor(14, device='cuda:0')]\n"
     ]
    },
    {
     "name": "stdout",
     "output_type": "stream",
     "text": [
      "           {'epoch': 23, 'train_loss': 0.6530467438189169, 'valid_loss': 0.6508560289939245, 'valid_accuracy': 0.7381203801478353}\n"
     ]
    },
    {
     "name": "stderr",
     "output_type": "stream",
     "text": [
      "Epoch: 24  : 100%|██████████| 208/208 [00:16<00:00, 12.41it/s, loss=0.501, num_correct=None]\n",
      "           : 100%|██████████| 30/30 [00:02<00:00, 12.98it/s, loss=0.72, num_correct=tensor(13, device='cuda:0')] \n"
     ]
    },
    {
     "name": "stdout",
     "output_type": "stream",
     "text": [
      "           {'epoch': 24, 'train_loss': 0.6572544687929062, 'valid_loss': 0.6483065028985341, 'valid_accuracy': 0.7381203801478353}\n"
     ]
    },
    {
     "name": "stderr",
     "output_type": "stream",
     "text": [
      "Epoch: 25  : 100%|██████████| 208/208 [00:16<00:00, 12.39it/s, loss=1.92, num_correct=None] \n",
      "           : 100%|██████████| 30/30 [00:02<00:00, 13.11it/s, loss=0.711, num_correct=tensor(13, device='cuda:0')]\n"
     ]
    },
    {
     "name": "stdout",
     "output_type": "stream",
     "text": [
      "           {'epoch': 25, 'train_loss': 0.6572930712539417, 'valid_loss': 0.6457261949777603, 'valid_accuracy': 0.7402323125659979}\n"
     ]
    },
    {
     "name": "stderr",
     "output_type": "stream",
     "text": [
      "Epoch: 26  : 100%|██████████| 208/208 [00:16<00:00, 12.33it/s, loss=0.017, num_correct=None]\n",
      "           : 100%|██████████| 30/30 [00:02<00:00, 13.07it/s, loss=0.758, num_correct=tensor(14, device='cuda:0')]\n"
     ]
    },
    {
     "name": "stdout",
     "output_type": "stream",
     "text": [
      "           {'epoch': 26, 'train_loss': 0.6443929552243879, 'valid_loss': 0.6435304294029872, 'valid_accuracy': 0.7434002111932418}\n"
     ]
    },
    {
     "name": "stderr",
     "output_type": "stream",
     "text": [
      "Epoch: 27  : 100%|██████████| 208/208 [00:16<00:00, 12.46it/s, loss=0.626, num_correct=None]\n",
      "           : 100%|██████████| 30/30 [00:02<00:00, 13.03it/s, loss=0.805, num_correct=tensor(13, device='cuda:0')]\n"
     ]
    },
    {
     "name": "stdout",
     "output_type": "stream",
     "text": [
      "           {'epoch': 27, 'train_loss': 0.6402825257525995, 'valid_loss': 0.6437751372655233, 'valid_accuracy': 0.7412882787750792}\n"
     ]
    },
    {
     "name": "stderr",
     "output_type": "stream",
     "text": [
      "Epoch: 28  : 100%|██████████| 208/208 [00:16<00:00, 12.49it/s, loss=0.483, num_correct=None]\n",
      "           : 100%|██████████| 30/30 [00:02<00:00, 12.98it/s, loss=0.711, num_correct=tensor(14, device='cuda:0')]\n"
     ]
    },
    {
     "name": "stdout",
     "output_type": "stream",
     "text": [
      "           {'epoch': 28, 'train_loss': 0.6431318502873182, 'valid_loss': 0.6390874981880188, 'valid_accuracy': 0.7434002111932418}\n"
     ]
    },
    {
     "name": "stderr",
     "output_type": "stream",
     "text": [
      "Epoch: 29  : 100%|██████████| 208/208 [00:17<00:00, 11.72it/s, loss=0.837, num_correct=None]\n",
      "           : 100%|██████████| 30/30 [00:02<00:00, 12.60it/s, loss=0.75, num_correct=tensor(11, device='cuda:0')] \n"
     ]
    },
    {
     "name": "stdout",
     "output_type": "stream",
     "text": [
      "           {'epoch': 29, 'train_loss': 0.6363358662392085, 'valid_loss': 0.6386567244927088, 'valid_accuracy': 0.7444561774023232}\n"
     ]
    },
    {
     "name": "stderr",
     "output_type": "stream",
     "text": [
      "Epoch: 30  : 100%|██████████| 208/208 [00:16<00:00, 12.30it/s, loss=0.625, num_correct=None]\n",
      "           : 100%|██████████| 30/30 [00:02<00:00, 12.94it/s, loss=0.477, num_correct=tensor(16, device='cuda:0')]\n"
     ]
    },
    {
     "name": "stdout",
     "output_type": "stream",
     "text": [
      "           {'epoch': 30, 'train_loss': 0.6323328253168327, 'valid_loss': 0.6330229808886846, 'valid_accuracy': 0.7455121436114044}\n"
     ]
    },
    {
     "name": "stderr",
     "output_type": "stream",
     "text": [
      "Epoch: 31  : 100%|██████████| 208/208 [00:16<00:00, 12.29it/s, loss=0.665, num_correct=None]\n",
      "           : 100%|██████████| 30/30 [00:02<00:00, 12.92it/s, loss=0.704, num_correct=tensor(14, device='cuda:0')]\n"
     ]
    },
    {
     "name": "stdout",
     "output_type": "stream",
     "text": [
      "           {'epoch': 31, 'train_loss': 0.6319874496414111, 'valid_loss': 0.633113631606102, 'valid_accuracy': 0.7423442449841605}\n"
     ]
    },
    {
     "name": "stderr",
     "output_type": "stream",
     "text": [
      "Epoch: 32  : 100%|██████████| 208/208 [00:16<00:00, 12.44it/s, loss=0.0919, num_correct=None]\n",
      "           : 100%|██████████| 30/30 [00:02<00:00, 12.93it/s, loss=0.52, num_correct=tensor(15, device='cuda:0')] \n"
     ]
    },
    {
     "name": "stdout",
     "output_type": "stream",
     "text": [
      "           {'epoch': 32, 'train_loss': 0.6268986375071108, 'valid_loss': 0.6271258374055226, 'valid_accuracy': 0.7455121436114044}\n"
     ]
    },
    {
     "name": "stderr",
     "output_type": "stream",
     "text": [
      "Epoch: 33  : 100%|██████████| 208/208 [00:16<00:00, 12.37it/s, loss=0.787, num_correct=None]\n",
      "           : 100%|██████████| 30/30 [00:02<00:00, 13.13it/s, loss=0.433, num_correct=tensor(16, device='cuda:0')]\n"
     ]
    },
    {
     "name": "stdout",
     "output_type": "stream",
     "text": [
      "           {'epoch': 33, 'train_loss': 0.6234280393960384, 'valid_loss': 0.6236298541227977, 'valid_accuracy': 0.7444561774023232}\n"
     ]
    },
    {
     "name": "stderr",
     "output_type": "stream",
     "text": [
      "Epoch: 34  : 100%|██████████| 208/208 [00:16<00:00, 12.24it/s, loss=0.537, num_correct=None]\n",
      "           : 100%|██████████| 30/30 [00:02<00:00, 13.07it/s, loss=0.856, num_correct=tensor(12, device='cuda:0')]\n"
     ]
    },
    {
     "name": "stdout",
     "output_type": "stream",
     "text": [
      "           {'epoch': 34, 'train_loss': 0.6264664383175281, 'valid_loss': 0.6310726910829544, 'valid_accuracy': 0.7412882787750792}\n"
     ]
    },
    {
     "name": "stderr",
     "output_type": "stream",
     "text": [
      "Epoch: 35  : 100%|██████████| 208/208 [00:16<00:00, 12.52it/s, loss=1.5, num_correct=None]  \n",
      "           : 100%|██████████| 30/30 [00:02<00:00, 13.00it/s, loss=0.661, num_correct=tensor(14, device='cuda:0')]\n"
     ]
    },
    {
     "name": "stdout",
     "output_type": "stream",
     "text": [
      "           {'epoch': 35, 'train_loss': 0.6259208158231698, 'valid_loss': 0.622976690530777, 'valid_accuracy': 0.7497360084477297}\n"
     ]
    },
    {
     "name": "stderr",
     "output_type": "stream",
     "text": [
      "Epoch: 36  : 100%|██████████| 208/208 [00:16<00:00, 12.44it/s, loss=1.76, num_correct=None] \n",
      "           : 100%|██████████| 30/30 [00:02<00:00, 12.97it/s, loss=0.987, num_correct=tensor(10, device='cuda:0')]\n"
     ]
    },
    {
     "name": "stdout",
     "output_type": "stream",
     "text": [
      "           {'epoch': 36, 'train_loss': 0.6252607979740088, 'valid_loss': 0.6251075605551402, 'valid_accuracy': 0.7518479408658922}\n"
     ]
    },
    {
     "name": "stderr",
     "output_type": "stream",
     "text": [
      "Epoch: 37  : 100%|██████████| 208/208 [00:16<00:00, 12.37it/s, loss=1.36, num_correct=None] \n",
      "           : 100%|██████████| 30/30 [00:02<00:00, 13.02it/s, loss=0.786, num_correct=tensor(12, device='cuda:0')]\n"
     ]
    },
    {
     "name": "stdout",
     "output_type": "stream",
     "text": [
      "           {'epoch': 37, 'train_loss': 0.622379634099511, 'valid_loss': 0.6199983050425847, 'valid_accuracy': 0.7518479408658922}\n"
     ]
    },
    {
     "name": "stderr",
     "output_type": "stream",
     "text": [
      "Epoch: 38  : 100%|██████████| 208/208 [00:17<00:00, 12.23it/s, loss=0.42, num_correct=None] \n",
      "           : 100%|██████████| 30/30 [00:02<00:00, 13.12it/s, loss=0.346, num_correct=tensor(16, device='cuda:0')]\n"
     ]
    },
    {
     "name": "stdout",
     "output_type": "stream",
     "text": [
      "           {'epoch': 38, 'train_loss': 0.6158476679657514, 'valid_loss': 0.6175776571035385, 'valid_accuracy': 0.7444561774023232}\n"
     ]
    },
    {
     "name": "stderr",
     "output_type": "stream",
     "text": [
      "Epoch: 39  : 100%|██████████| 208/208 [00:16<00:00, 12.46it/s, loss=1.42, num_correct=None] \n",
      "           : 100%|██████████| 30/30 [00:02<00:00, 13.05it/s, loss=0.503, num_correct=tensor(16, device='cuda:0')]\n"
     ]
    },
    {
     "name": "stdout",
     "output_type": "stream",
     "text": [
      "           {'epoch': 39, 'train_loss': 0.6178649974843631, 'valid_loss': 0.6197014093399048, 'valid_accuracy': 0.7465681098204857}\n"
     ]
    },
    {
     "name": "stderr",
     "output_type": "stream",
     "text": [
      "Epoch: 40  : 100%|██████████| 208/208 [00:16<00:00, 12.36it/s, loss=0.329, num_correct=None]\n",
      "           : 100%|██████████| 30/30 [00:02<00:00, 12.95it/s, loss=0.516, num_correct=tensor(15, device='cuda:0')]\n"
     ]
    },
    {
     "name": "stdout",
     "output_type": "stream",
     "text": [
      "           {'epoch': 40, 'train_loss': 0.610016976411526, 'valid_loss': 0.6104704727729161, 'valid_accuracy': 0.7529039070749736}\n"
     ]
    },
    {
     "name": "stderr",
     "output_type": "stream",
     "text": [
      "Epoch: 41  : 100%|██████████| 208/208 [00:16<00:00, 12.33it/s, loss=0.198, num_correct=None]\n",
      "           : 100%|██████████| 30/30 [00:02<00:00, 13.01it/s, loss=0.678, num_correct=tensor(11, device='cuda:0')]\n"
     ]
    },
    {
     "name": "stdout",
     "output_type": "stream",
     "text": [
      "           {'epoch': 41, 'train_loss': 0.6025102498153081, 'valid_loss': 0.6111535121997197, 'valid_accuracy': 0.750791974656811}\n"
     ]
    },
    {
     "name": "stderr",
     "output_type": "stream",
     "text": [
      "Epoch: 42  : 100%|██████████| 208/208 [00:16<00:00, 12.42it/s, loss=1.08, num_correct=None] \n",
      "           : 100%|██████████| 30/30 [00:02<00:00, 12.75it/s, loss=0.41, num_correct=tensor(17, device='cuda:0')] \n"
     ]
    },
    {
     "name": "stdout",
     "output_type": "stream",
     "text": [
      "           {'epoch': 42, 'train_loss': 0.6058503208825221, 'valid_loss': 0.6050830622514088, 'valid_accuracy': 0.7539598732840549}\n"
     ]
    },
    {
     "name": "stderr",
     "output_type": "stream",
     "text": [
      "Epoch: 43  : 100%|██████████| 208/208 [00:17<00:00, 12.23it/s, loss=0.061, num_correct=None]\n",
      "           : 100%|██████████| 30/30 [00:02<00:00, 13.05it/s, loss=0.46, num_correct=tensor(16, device='cuda:0')] \n"
     ]
    },
    {
     "name": "stdout",
     "output_type": "stream",
     "text": [
      "           {'epoch': 43, 'train_loss': 0.6091218046449984, 'valid_loss': 0.6058977156877517, 'valid_accuracy': 0.750791974656811}\n"
     ]
    },
    {
     "name": "stderr",
     "output_type": "stream",
     "text": [
      "Epoch: 44  : 100%|██████████| 208/208 [00:17<00:00, 12.19it/s, loss=0.229, num_correct=None]\n",
      "           : 100%|██████████| 30/30 [00:02<00:00, 12.67it/s, loss=0.557, num_correct=tensor(14, device='cuda:0')]\n"
     ]
    },
    {
     "name": "stdout",
     "output_type": "stream",
     "text": [
      "           {'epoch': 44, 'train_loss': 0.5976034008109798, 'valid_loss': 0.6054008493820826, 'valid_accuracy': 0.7497360084477297}\n"
     ]
    },
    {
     "name": "stderr",
     "output_type": "stream",
     "text": [
      "Epoch: 45  : 100%|██████████| 208/208 [00:16<00:00, 12.34it/s, loss=2.12, num_correct=None] \n",
      "           : 100%|██████████| 30/30 [00:02<00:00, 13.09it/s, loss=0.573, num_correct=tensor(14, device='cuda:0')]\n"
     ]
    },
    {
     "name": "stdout",
     "output_type": "stream",
     "text": [
      "           {'epoch': 45, 'train_loss': 0.6055677611953937, 'valid_loss': 0.6061147550741831, 'valid_accuracy': 0.750791974656811}\n"
     ]
    },
    {
     "name": "stderr",
     "output_type": "stream",
     "text": [
      "Epoch: 46  : 100%|██████████| 208/208 [00:16<00:00, 12.46it/s, loss=1.18, num_correct=None] \n",
      "           : 100%|██████████| 30/30 [00:02<00:00, 13.00it/s, loss=0.507, num_correct=tensor(14, device='cuda:0')]\n"
     ]
    },
    {
     "name": "stdout",
     "output_type": "stream",
     "text": [
      "           {'epoch': 46, 'train_loss': 0.6067266404055632, 'valid_loss': 0.6015749603509903, 'valid_accuracy': 0.7518479408658922}\n"
     ]
    },
    {
     "name": "stderr",
     "output_type": "stream",
     "text": [
      "Epoch: 47  : 100%|██████████| 208/208 [00:16<00:00, 12.30it/s, loss=1.18, num_correct=None] \n",
      "           : 100%|██████████| 30/30 [00:02<00:00, 12.70it/s, loss=0.489, num_correct=tensor(16, device='cuda:0')]\n"
     ]
    },
    {
     "name": "stdout",
     "output_type": "stream",
     "text": [
      "           {'epoch': 47, 'train_loss': 0.6012827831392105, 'valid_loss': 0.5985871543486913, 'valid_accuracy': 0.7539598732840549}\n"
     ]
    },
    {
     "name": "stderr",
     "output_type": "stream",
     "text": [
      "Epoch: 48  : 100%|██████████| 208/208 [00:16<00:00, 12.30it/s, loss=0.0542, num_correct=None]\n",
      "           : 100%|██████████| 30/30 [00:02<00:00, 13.01it/s, loss=0.49, num_correct=tensor(14, device='cuda:0')] \n"
     ]
    },
    {
     "name": "stdout",
     "output_type": "stream",
     "text": [
      "           {'epoch': 48, 'train_loss': 0.582959330157162, 'valid_loss': 0.5997577518224716, 'valid_accuracy': 0.7550158394931362}\n"
     ]
    },
    {
     "name": "stderr",
     "output_type": "stream",
     "text": [
      "Epoch: 49  : 100%|██████████| 208/208 [00:16<00:00, 12.31it/s, loss=0.808, num_correct=None]\n",
      "           : 100%|██████████| 30/30 [00:02<00:00, 13.00it/s, loss=0.874, num_correct=tensor(11, device='cuda:0')]\n"
     ]
    },
    {
     "name": "stdout",
     "output_type": "stream",
     "text": [
      "           {'epoch': 49, 'train_loss': 0.5916480651268592, 'valid_loss': 0.5995757639408111, 'valid_accuracy': 0.7571277719112989}\n"
     ]
    },
    {
     "name": "stderr",
     "output_type": "stream",
     "text": [
      "Epoch: 50  : 100%|██████████| 208/208 [00:17<00:00, 12.22it/s, loss=0.216, num_correct=None]\n",
      "           : 100%|██████████| 30/30 [00:02<00:00, 13.03it/s, loss=0.544, num_correct=tensor(14, device='cuda:0')]\n"
     ]
    },
    {
     "name": "stdout",
     "output_type": "stream",
     "text": [
      "           {'epoch': 50, 'train_loss': 0.5876354339460914, 'valid_loss': 0.5959890941778819, 'valid_accuracy': 0.7581837381203802}\n"
     ]
    },
    {
     "name": "stderr",
     "output_type": "stream",
     "text": [
      "Epoch: 51  : 100%|██████████| 208/208 [00:17<00:00, 12.21it/s, loss=1.08, num_correct=None] \n",
      "           : 100%|██████████| 30/30 [00:02<00:00, 13.10it/s, loss=0.29, num_correct=tensor(16, device='cuda:0')] \n"
     ]
    },
    {
     "name": "stdout",
     "output_type": "stream",
     "text": [
      "           {'epoch': 51, 'train_loss': 0.5928814929838364, 'valid_loss': 0.5916919271151225, 'valid_accuracy': 0.7560718057022175}\n"
     ]
    },
    {
     "name": "stderr",
     "output_type": "stream",
     "text": [
      "Epoch: 52  : 100%|██████████| 208/208 [00:16<00:00, 12.27it/s, loss=1.24, num_correct=None] \n",
      "           : 100%|██████████| 30/30 [00:02<00:00, 12.95it/s, loss=0.666, num_correct=tensor(14, device='cuda:0')]\n"
     ]
    },
    {
     "name": "stdout",
     "output_type": "stream",
     "text": [
      "           {'epoch': 52, 'train_loss': 0.5895229322979083, 'valid_loss': 0.5915398408969244, 'valid_accuracy': 0.7560718057022175}\n"
     ]
    },
    {
     "name": "stderr",
     "output_type": "stream",
     "text": [
      "Epoch: 53  : 100%|██████████| 208/208 [00:16<00:00, 12.30it/s, loss=1.19, num_correct=None] \n",
      "           : 100%|██████████| 30/30 [00:02<00:00, 13.09it/s, loss=0.81, num_correct=tensor(14, device='cuda:0')] \n"
     ]
    },
    {
     "name": "stdout",
     "output_type": "stream",
     "text": [
      "           {'epoch': 53, 'train_loss': 0.5823579106766444, 'valid_loss': 0.5978581547737122, 'valid_accuracy': 0.7529039070749736}\n"
     ]
    },
    {
     "name": "stderr",
     "output_type": "stream",
     "text": [
      "Epoch: 54  : 100%|██████████| 208/208 [00:16<00:00, 12.39it/s, loss=0.129, num_correct=None]\n",
      "           : 100%|██████████| 30/30 [00:02<00:00, 12.94it/s, loss=0.771, num_correct=tensor(13, device='cuda:0')]\n"
     ]
    },
    {
     "name": "stdout",
     "output_type": "stream",
     "text": [
      "           {'epoch': 54, 'train_loss': 0.582294664488962, 'valid_loss': 0.5967264652252198, 'valid_accuracy': 0.7581837381203802}\n"
     ]
    },
    {
     "name": "stderr",
     "output_type": "stream",
     "text": [
      "Epoch: 55  : 100%|██████████| 208/208 [00:16<00:00, 12.24it/s, loss=0.168, num_correct=None]\n",
      "           : 100%|██████████| 30/30 [00:02<00:00, 13.05it/s, loss=0.514, num_correct=tensor(18, device='cuda:0')]\n"
     ]
    },
    {
     "name": "stdout",
     "output_type": "stream",
     "text": [
      "           {'epoch': 55, 'train_loss': 0.5767909974003067, 'valid_loss': 0.5862527281045914, 'valid_accuracy': 0.7571277719112989}\n"
     ]
    },
    {
     "name": "stderr",
     "output_type": "stream",
     "text": [
      "Epoch: 56  : 100%|██████████| 208/208 [00:16<00:00, 12.28it/s, loss=0.466, num_correct=None]\n",
      "           : 100%|██████████| 30/30 [00:02<00:00, 12.66it/s, loss=0.691, num_correct=tensor(14, device='cuda:0')]\n"
     ]
    },
    {
     "name": "stdout",
     "output_type": "stream",
     "text": [
      "           {'epoch': 56, 'train_loss': 0.5786213934994661, 'valid_loss': 0.5865782231092453, 'valid_accuracy': 0.7581837381203802}\n"
     ]
    },
    {
     "name": "stderr",
     "output_type": "stream",
     "text": [
      "Epoch: 57  : 100%|██████████| 208/208 [00:16<00:00, 12.30it/s, loss=0.0666, num_correct=None]\n",
      "           : 100%|██████████| 30/30 [00:02<00:00, 13.04it/s, loss=0.442, num_correct=tensor(16, device='cuda:0')]\n"
     ]
    },
    {
     "name": "stdout",
     "output_type": "stream",
     "text": [
      "           {'epoch': 57, 'train_loss': 0.571615447361882, 'valid_loss': 0.5830560694138209, 'valid_accuracy': 0.7560718057022175}\n"
     ]
    },
    {
     "name": "stderr",
     "output_type": "stream",
     "text": [
      "Epoch: 58  : 100%|██████████| 208/208 [00:16<00:00, 12.33it/s, loss=0.0495, num_correct=None]\n",
      "           : 100%|██████████| 30/30 [00:02<00:00, 12.96it/s, loss=0.692, num_correct=tensor(13, device='cuda:0')]\n"
     ]
    },
    {
     "name": "stdout",
     "output_type": "stream",
     "text": [
      "           {'epoch': 58, 'train_loss': 0.5727181429974735, 'valid_loss': 0.5832952817281087, 'valid_accuracy': 0.7581837381203802}\n"
     ]
    },
    {
     "name": "stderr",
     "output_type": "stream",
     "text": [
      "Epoch: 59  : 100%|██████████| 208/208 [00:16<00:00, 12.42it/s, loss=0.54, num_correct=None] \n",
      "           : 100%|██████████| 30/30 [00:02<00:00, 12.92it/s, loss=0.613, num_correct=tensor(14, device='cuda:0')]\n"
     ]
    },
    {
     "name": "stdout",
     "output_type": "stream",
     "text": [
      "           {'epoch': 59, 'train_loss': 0.5679835515240064, 'valid_loss': 0.5802025357882182, 'valid_accuracy': 0.7571277719112989}\n"
     ]
    },
    {
     "name": "stderr",
     "output_type": "stream",
     "text": [
      "Epoch: 60  : 100%|██████████| 208/208 [00:16<00:00, 12.38it/s, loss=2.41, num_correct=None] \n",
      "           : 100%|██████████| 30/30 [00:02<00:00, 12.94it/s, loss=0.567, num_correct=tensor(14, device='cuda:0')]\n"
     ]
    },
    {
     "name": "stdout",
     "output_type": "stream",
     "text": [
      "           {'epoch': 60, 'train_loss': 0.578578042726104, 'valid_loss': 0.5817377656698227, 'valid_accuracy': 0.7581837381203802}\n"
     ]
    },
    {
     "name": "stderr",
     "output_type": "stream",
     "text": [
      "Epoch: 61  : 100%|██████████| 208/208 [00:16<00:00, 12.47it/s, loss=1.66, num_correct=None] \n",
      "           : 100%|██████████| 30/30 [00:02<00:00, 12.65it/s, loss=0.58, num_correct=tensor(14, device='cuda:0')] \n"
     ]
    },
    {
     "name": "stdout",
     "output_type": "stream",
     "text": [
      "           {'epoch': 61, 'train_loss': 0.5704195154114411, 'valid_loss': 0.576758818825086, 'valid_accuracy': 0.7571277719112989}\n"
     ]
    },
    {
     "name": "stderr",
     "output_type": "stream",
     "text": [
      "Epoch: 62  : 100%|██████████| 208/208 [00:16<00:00, 12.36it/s, loss=0.651, num_correct=None]\n",
      "           : 100%|██████████| 30/30 [00:02<00:00, 13.07it/s, loss=0.469, num_correct=tensor(15, device='cuda:0')]\n"
     ]
    },
    {
     "name": "stdout",
     "output_type": "stream",
     "text": [
      "           {'epoch': 62, 'train_loss': 0.5738334575524697, 'valid_loss': 0.575698588291804, 'valid_accuracy': 0.7571277719112989}\n"
     ]
    },
    {
     "name": "stderr",
     "output_type": "stream",
     "text": [
      "Epoch: 63  : 100%|██████████| 208/208 [00:16<00:00, 12.38it/s, loss=2.37, num_correct=None] \n",
      "           : 100%|██████████| 30/30 [00:02<00:00, 12.94it/s, loss=0.539, num_correct=tensor(15, device='cuda:0')]\n"
     ]
    },
    {
     "name": "stdout",
     "output_type": "stream",
     "text": [
      "           {'epoch': 63, 'train_loss': 0.574100979245626, 'valid_loss': 0.5726002911726634, 'valid_accuracy': 0.7602956705385427}\n"
     ]
    },
    {
     "name": "stderr",
     "output_type": "stream",
     "text": [
      "Epoch: 64  : 100%|██████████| 208/208 [00:16<00:00, 12.40it/s, loss=0.17, num_correct=None] \n",
      "           : 100%|██████████| 30/30 [00:02<00:00, 12.94it/s, loss=0.538, num_correct=tensor(16, device='cuda:0')]\n"
     ]
    },
    {
     "name": "stdout",
     "output_type": "stream",
     "text": [
      "           {'epoch': 64, 'train_loss': 0.5575892755475181, 'valid_loss': 0.5734055280685425, 'valid_accuracy': 0.7581837381203802}\n"
     ]
    },
    {
     "name": "stderr",
     "output_type": "stream",
     "text": [
      "Epoch: 65  : 100%|██████████| 208/208 [00:16<00:00, 12.48it/s, loss=0.507, num_correct=None]\n",
      "           : 100%|██████████| 30/30 [00:02<00:00, 12.92it/s, loss=0.59, num_correct=tensor(12, device='cuda:0')] \n"
     ]
    },
    {
     "name": "stdout",
     "output_type": "stream",
     "text": [
      "           {'epoch': 65, 'train_loss': 0.5602460583815208, 'valid_loss': 0.5756284862756729, 'valid_accuracy': 0.7550158394931362}\n"
     ]
    },
    {
     "name": "stderr",
     "output_type": "stream",
     "text": [
      "Epoch: 66  : 100%|██████████| 208/208 [00:16<00:00, 12.53it/s, loss=2.46, num_correct=None] \n",
      "           : 100%|██████████| 30/30 [00:02<00:00, 13.02it/s, loss=0.439, num_correct=tensor(15, device='cuda:0')]\n"
     ]
    },
    {
     "name": "stdout",
     "output_type": "stream",
     "text": [
      "           {'epoch': 66, 'train_loss': 0.5760303520812438, 'valid_loss': 0.567677566409111, 'valid_accuracy': 0.7634635691657867}\n"
     ]
    },
    {
     "name": "stderr",
     "output_type": "stream",
     "text": [
      "Epoch: 67  : 100%|██████████| 208/208 [00:16<00:00, 12.42it/s, loss=0.297, num_correct=None]\n",
      "           : 100%|██████████| 30/30 [00:02<00:00, 13.09it/s, loss=0.47, num_correct=tensor(15, device='cuda:0')] \n"
     ]
    },
    {
     "name": "stdout",
     "output_type": "stream",
     "text": [
      "           {'epoch': 67, 'train_loss': 0.5597534861702186, 'valid_loss': 0.5670990775028865, 'valid_accuracy': 0.7571277719112989}\n"
     ]
    },
    {
     "name": "stderr",
     "output_type": "stream",
     "text": [
      "Epoch: 68  : 100%|██████████| 208/208 [00:16<00:00, 12.42it/s, loss=0.576, num_correct=None]\n",
      "           : 100%|██████████| 30/30 [00:02<00:00, 12.98it/s, loss=0.894, num_correct=tensor(14, device='cuda:0')]\n"
     ]
    },
    {
     "name": "stdout",
     "output_type": "stream",
     "text": [
      "           {'epoch': 68, 'train_loss': 0.5591942243851148, 'valid_loss': 0.5728273431460063, 'valid_accuracy': 0.7571277719112989}\n"
     ]
    },
    {
     "name": "stderr",
     "output_type": "stream",
     "text": [
      "Epoch: 69  : 100%|██████████| 208/208 [00:16<00:00, 12.46it/s, loss=1.26, num_correct=None] \n",
      "           : 100%|██████████| 30/30 [00:02<00:00, 12.97it/s, loss=0.435, num_correct=tensor(16, device='cuda:0')]\n"
     ]
    },
    {
     "name": "stdout",
     "output_type": "stream",
     "text": [
      "           {'epoch': 69, 'train_loss': 0.5575275968473691, 'valid_loss': 0.5648411323626836, 'valid_accuracy': 0.7592397043294614}\n"
     ]
    },
    {
     "name": "stderr",
     "output_type": "stream",
     "text": [
      "Epoch: 70  : 100%|██████████| 208/208 [00:16<00:00, 12.37it/s, loss=0.618, num_correct=None]\n",
      "           : 100%|██████████| 30/30 [00:02<00:00, 13.02it/s, loss=0.668, num_correct=tensor(14, device='cuda:0')]\n"
     ]
    },
    {
     "name": "stdout",
     "output_type": "stream",
     "text": [
      "           {'epoch': 70, 'train_loss': 0.552913665628204, 'valid_loss': 0.5633438736200332, 'valid_accuracy': 0.764519535374868}\n"
     ]
    },
    {
     "name": "stderr",
     "output_type": "stream",
     "text": [
      "Epoch: 71  : 100%|██████████| 208/208 [00:17<00:00, 12.23it/s, loss=0.197, num_correct=None]\n",
      "           : 100%|██████████| 30/30 [00:02<00:00, 12.62it/s, loss=0.719, num_correct=tensor(13, device='cuda:0')]\n"
     ]
    },
    {
     "name": "stdout",
     "output_type": "stream",
     "text": [
      "           {'epoch': 71, 'train_loss': 0.5498477653242074, 'valid_loss': 0.5620437562465668, 'valid_accuracy': 0.7613516367476241}\n"
     ]
    },
    {
     "name": "stderr",
     "output_type": "stream",
     "text": [
      "Epoch: 72  : 100%|██████████| 208/208 [00:17<00:00, 12.13it/s, loss=0.226, num_correct=None]\n",
      "           : 100%|██████████| 30/30 [00:02<00:00, 12.73it/s, loss=0.822, num_correct=tensor(13, device='cuda:0')]\n"
     ]
    },
    {
     "name": "stdout",
     "output_type": "stream",
     "text": [
      "           {'epoch': 72, 'train_loss': 0.5511097054068859, 'valid_loss': 0.5628921310106914, 'valid_accuracy': 0.7676874340021119}\n"
     ]
    },
    {
     "name": "stderr",
     "output_type": "stream",
     "text": [
      "Epoch: 73  : 100%|██████████| 208/208 [00:16<00:00, 12.33it/s, loss=0.631, num_correct=None]\n",
      "           : 100%|██████████| 30/30 [00:02<00:00, 12.58it/s, loss=0.643, num_correct=tensor(13, device='cuda:0')]\n"
     ]
    },
    {
     "name": "stdout",
     "output_type": "stream",
     "text": [
      "           {'epoch': 73, 'train_loss': 0.5474741928852521, 'valid_loss': 0.5588199317455291, 'valid_accuracy': 0.7613516367476241}\n"
     ]
    },
    {
     "name": "stderr",
     "output_type": "stream",
     "text": [
      "Epoch: 74  : 100%|██████████| 208/208 [00:17<00:00, 12.15it/s, loss=0.909, num_correct=None]\n",
      "           : 100%|██████████| 30/30 [00:02<00:00, 12.64it/s, loss=0.569, num_correct=tensor(16, device='cuda:0')]\n"
     ]
    },
    {
     "name": "stdout",
     "output_type": "stream",
     "text": [
      "           {'epoch': 74, 'train_loss': 0.544968916891286, 'valid_loss': 0.5586237033208211, 'valid_accuracy': 0.7634635691657867}\n"
     ]
    },
    {
     "name": "stderr",
     "output_type": "stream",
     "text": [
      "Epoch: 75  : 100%|██████████| 208/208 [00:16<00:00, 12.59it/s, loss=0.103, num_correct=None]\n",
      "           : 100%|██████████| 30/30 [00:02<00:00, 12.77it/s, loss=0.564, num_correct=tensor(15, device='cuda:0')]\n"
     ]
    },
    {
     "name": "stdout",
     "output_type": "stream",
     "text": [
      "           {'epoch': 75, 'train_loss': 0.53974349431407, 'valid_loss': 0.5615358730157216, 'valid_accuracy': 0.7740232312565998}\n"
     ]
    },
    {
     "name": "stderr",
     "output_type": "stream",
     "text": [
      "Epoch: 76  : 100%|██████████| 208/208 [00:16<00:00, 12.60it/s, loss=0.208, num_correct=None]\n",
      "           : 100%|██████████| 30/30 [00:02<00:00, 13.16it/s, loss=0.522, num_correct=tensor(14, device='cuda:0')]\n"
     ]
    },
    {
     "name": "stdout",
     "output_type": "stream",
     "text": [
      "           {'epoch': 76, 'train_loss': 0.5331363179362737, 'valid_loss': 0.5597048064072927, 'valid_accuracy': 0.7676874340021119}\n",
      "Stopping early...\n",
      "\n",
      "Finetuning test...\n"
     ]
    },
    {
     "name": "stderr",
     "output_type": "stream",
     "text": [
      "           : 100%|██████████| 60/60 [00:04<00:00, 12.58it/s, loss=0.435, num_correct=tensor(4, device='cuda:0')] \n"
     ]
    },
    {
     "name": "stdout",
     "output_type": "stream",
     "text": [
      "              precision    recall  f1-score   support\n",
      "\n",
      "    negative       0.82      0.85      0.84       614\n",
      "     neutral       0.68      0.70      0.69       654\n",
      "    positive       0.77      0.71      0.74       625\n",
      "\n",
      "    accuracy                           0.75      1893\n",
      "   macro avg       0.76      0.76      0.75      1893\n",
      "weighted avg       0.75      0.75      0.75      1893\n",
      "\n"
     ]
    },
    {
     "data": {
      "image/png": "[encoded data removed]",
      "text/plain": [
       "<Figure size 640x480 with 2 Axes>"
      ]
     },
     "metadata": {},
     "output_type": "display_data"
    }
   ],
   "source": [
    "global_dataset_train_loop(\"rotten_tomatoes\")"
   ]
  },
  {
   "cell_type": "markdown",
   "metadata": {},
   "source": [
    "## Combined (MyAnimeList, Steam, Metacritic, Rotten Tomatoes)\n",
    "\n",
    "Training BERT on all 4 platforms."
   ]
  },
  {
   "cell_type": "code",
   "execution_count": 10,
   "metadata": {},
   "outputs": [
    {
     "name": "stdout",
     "output_type": "stream",
     "text": [
      "Loaded training config:\n"
     ]
    },
    {
     "data": {
      "text/plain": [
       "{'tokenizer': BertTokenizerFast(name_or_path='bert-base-uncased', vocab_size=30522, model_max_length=512, is_fast=True, padding_side='right', truncation_side='right', special_tokens={'unk_token': '[UNK]', 'sep_token': '[SEP]', 'pad_token': '[PAD]', 'cls_token': '[CLS]', 'mask_token': '[MASK]'}, clean_up_tokenization_spaces=False, added_tokens_decoder={\n",
       "\t0: AddedToken(\"[PAD]\", rstrip=False, lstrip=False, single_word=False, normalized=False, special=True),\n",
       "\t100: AddedToken(\"[UNK]\", rstrip=False, lstrip=False, single_word=False, normalized=False, special=True),\n",
       "\t101: AddedToken(\"[CLS]\", rstrip=False, lstrip=False, single_word=False, normalized=False, special=True),\n",
       "\t102: AddedToken(\"[SEP]\", rstrip=False, lstrip=False, single_word=False, normalized=False, special=True),\n",
       "\t103: AddedToken(\"[MASK]\", rstrip=False, lstrip=False, single_word=False, normalized=False, special=True),\n",
       "}\n",
       "), 'pretrained_model_name': '', 'name': 'myanimelist-steam-metacritic-rotten_tomatoes', 'class_names': ['negative', 'neutral', 'positive'], 'stop_delta': 0.05, 'stop_patience': 5, 'train_bert_in_finetune': False, 'max_token_length': 512, 'pretrained_model': None, 'pretrained_dataloaders': None, 'finetuned_classifier_model': None, 'finetuned_dataloaders': None, 'sample_mode': <SampleMode.OVER_SAMPLE: 2>}"
      ]
     },
     "metadata": {},
     "output_type": "display_data"
    },
    {
     "name": "stdout",
     "output_type": "stream",
     "text": [
      "Loaded myanimelist-steam-metacritic-rotten_tomatoes:\n"
     ]
    },
    {
     "data": {
      "text/html": [
       "<div>\n",
       "<style scoped>\n",
       "    .dataframe tbody tr th:only-of-type {\n",
       "        vertical-align: middle;\n",
       "    }\n",
       "\n",
       "    .dataframe tbody tr th {\n",
       "        vertical-align: top;\n",
       "    }\n",
       "\n",
       "    .dataframe thead th {\n",
       "        text-align: right;\n",
       "    }\n",
       "</style>\n",
       "<table border=\"1\" class=\"dataframe\">\n",
       "  <thead>\n",
       "    <tr style=\"text-align: right;\">\n",
       "      <th></th>\n",
       "      <th>site</th>\n",
       "      <th>user</th>\n",
       "      <th>review_target</th>\n",
       "      <th>review</th>\n",
       "      <th>score</th>\n",
       "      <th>max_score</th>\n",
       "    </tr>\n",
       "  </thead>\n",
       "  <tbody>\n",
       "    <tr>\n",
       "      <th>0</th>\n",
       "      <td>steam</td>\n",
       "      <td>splunty</td>\n",
       "      <td>PGA TOUR 2K25</td>\n",
       "      <td>The game itself is fun, but there are annoying...</td>\n",
       "      <td>0.0</td>\n",
       "      <td>1</td>\n",
       "    </tr>\n",
       "    <tr>\n",
       "      <th>1</th>\n",
       "      <td>Rotten Tomatoes</td>\n",
       "      <td>M B</td>\n",
       "      <td>Avengers Infinity War</td>\n",
       "      <td>Best super hero movie ever made IMO. Better th...</td>\n",
       "      <td>5.0</td>\n",
       "      <td>5</td>\n",
       "    </tr>\n",
       "    <tr>\n",
       "      <th>2</th>\n",
       "      <td>metacritic</td>\n",
       "      <td>viniciusjunur</td>\n",
       "      <td>super-mario-odyssey</td>\n",
       "      <td>[SPOILER ALERT: This review contains spoilers.]</td>\n",
       "      <td>10.0</td>\n",
       "      <td>10</td>\n",
       "    </tr>\n",
       "    <tr>\n",
       "      <th>3</th>\n",
       "      <td>steam</td>\n",
       "      <td>Koovster</td>\n",
       "      <td>Fallout 76</td>\n",
       "      <td>No, they have not fixed the game.</td>\n",
       "      <td>0.0</td>\n",
       "      <td>1</td>\n",
       "    </tr>\n",
       "    <tr>\n",
       "      <th>4</th>\n",
       "      <td>metacritic</td>\n",
       "      <td>Kemet_</td>\n",
       "      <td>elden-ring</td>\n",
       "      <td>It’s simple: Dark Souls 1 + Dark Souls 2 + Dar...</td>\n",
       "      <td>9.0</td>\n",
       "      <td>10</td>\n",
       "    </tr>\n",
       "    <tr>\n",
       "      <th>...</th>\n",
       "      <td>...</td>\n",
       "      <td>...</td>\n",
       "      <td>...</td>\n",
       "      <td>...</td>\n",
       "      <td>...</td>\n",
       "      <td>...</td>\n",
       "    </tr>\n",
       "    <tr>\n",
       "      <th>47536</th>\n",
       "      <td>MyAnimeList</td>\n",
       "      <td>DeadlySilvers</td>\n",
       "      <td>Texhnolyze</td>\n",
       "      <td>The story is a complex look at the harsh natur...</td>\n",
       "      <td>10.0</td>\n",
       "      <td>10</td>\n",
       "    </tr>\n",
       "    <tr>\n",
       "      <th>47537</th>\n",
       "      <td>steam</td>\n",
       "      <td>JooberDoober</td>\n",
       "      <td>Last Epoch</td>\n",
       "      <td>EDIT: I originally wrote this back in 0.7-0.8....</td>\n",
       "      <td>1.0</td>\n",
       "      <td>1</td>\n",
       "    </tr>\n",
       "    <tr>\n",
       "      <th>47538</th>\n",
       "      <td>steam</td>\n",
       "      <td>stanrep</td>\n",
       "      <td>Jurassic World Evolution 2</td>\n",
       "      <td>If you love dinosaurs, park builders and the J...</td>\n",
       "      <td>1.0</td>\n",
       "      <td>1</td>\n",
       "    </tr>\n",
       "    <tr>\n",
       "      <th>47539</th>\n",
       "      <td>steam</td>\n",
       "      <td>DaveBlack</td>\n",
       "      <td>Forza Horizon 5</td>\n",
       "      <td>this is a great game.. when it works. after 20...</td>\n",
       "      <td>0.0</td>\n",
       "      <td>1</td>\n",
       "    </tr>\n",
       "    <tr>\n",
       "      <th>47540</th>\n",
       "      <td>steam</td>\n",
       "      <td>Dabzilla21</td>\n",
       "      <td>Balatro</td>\n",
       "      <td>in 1989, Tetris was released for the NES. It i...</td>\n",
       "      <td>1.0</td>\n",
       "      <td>1</td>\n",
       "    </tr>\n",
       "  </tbody>\n",
       "</table>\n",
       "<p>47541 rows × 6 columns</p>\n",
       "</div>"
      ],
      "text/plain": [
       "                  site           user               review_target  \\\n",
       "0                steam        splunty               PGA TOUR 2K25   \n",
       "1      Rotten Tomatoes            M B       Avengers Infinity War   \n",
       "2           metacritic  viniciusjunur         super-mario-odyssey   \n",
       "3                steam       Koovster                  Fallout 76   \n",
       "4           metacritic         Kemet_                  elden-ring   \n",
       "...                ...            ...                         ...   \n",
       "47536      MyAnimeList  DeadlySilvers                  Texhnolyze   \n",
       "47537            steam   JooberDoober                  Last Epoch   \n",
       "47538            steam        stanrep  Jurassic World Evolution 2   \n",
       "47539            steam      DaveBlack             Forza Horizon 5   \n",
       "47540            steam     Dabzilla21                     Balatro   \n",
       "\n",
       "                                                  review  score  max_score  \n",
       "0      The game itself is fun, but there are annoying...    0.0          1  \n",
       "1      Best super hero movie ever made IMO. Better th...    5.0          5  \n",
       "2        [SPOILER ALERT: This review contains spoilers.]   10.0         10  \n",
       "3                      No, they have not fixed the game.    0.0          1  \n",
       "4      It’s simple: Dark Souls 1 + Dark Souls 2 + Dar...    9.0         10  \n",
       "...                                                  ...    ...        ...  \n",
       "47536  The story is a complex look at the harsh natur...   10.0         10  \n",
       "47537  EDIT: I originally wrote this back in 0.7-0.8....    1.0          1  \n",
       "47538  If you love dinosaurs, park builders and the J...    1.0          1  \n",
       "47539  this is a great game.. when it works. after 20...    0.0          1  \n",
       "47540  in 1989, Tetris was released for the NES. It i...    1.0          1  \n",
       "\n",
       "[47541 rows x 6 columns]"
      ]
     },
     "metadata": {},
     "output_type": "display_data"
    },
    {
     "name": "stderr",
     "output_type": "stream",
     "text": [
      "C:\\Users\\Alan\\AppData\\Local\\Temp\\ipykernel_3808\\1641346163.py:585: DeprecationWarning: DataFrameGroupBy.apply operated on the grouping columns. This behavior is deprecated, and in a future version of pandas the grouping columns will be excluded from the operation. Either pass `include_groups=False` to exclude the groupings or explicitly select the grouping columns after groupby to silence this warning.\n",
      "  sampled_df = g.apply(lambda x: x.sample(max_group_size, replace=True)).reset_index(drop=True)\n"
     ]
    },
    {
     "data": {
      "image/png": "[encoded data removed]",
      "text/plain": [
       "<Figure size 640x480 with 1 Axes>"
      ]
     },
     "metadata": {},
     "output_type": "display_data"
    },
    {
     "data": {
      "image/png": "[encoded data removed]",
      "text/plain": [
       "<Figure size 640x480 with 1 Axes>"
      ]
     },
     "metadata": {},
     "output_type": "display_data"
    },
    {
     "name": "stdout",
     "output_type": "stream",
     "text": [
      "Original dataset size: 47541\n",
      "Sampled dataset size: 105027\n"
     ]
    },
    {
     "data": {
      "text/html": [
       "<div>\n",
       "<style scoped>\n",
       "    .dataframe tbody tr th:only-of-type {\n",
       "        vertical-align: middle;\n",
       "    }\n",
       "\n",
       "    .dataframe tbody tr th {\n",
       "        vertical-align: top;\n",
       "    }\n",
       "\n",
       "    .dataframe thead th {\n",
       "        text-align: right;\n",
       "    }\n",
       "</style>\n",
       "<table border=\"1\" class=\"dataframe\">\n",
       "  <thead>\n",
       "    <tr style=\"text-align: right;\">\n",
       "      <th></th>\n",
       "      <th>site</th>\n",
       "      <th>user</th>\n",
       "      <th>review_target</th>\n",
       "      <th>review</th>\n",
       "      <th>score</th>\n",
       "      <th>max_score</th>\n",
       "      <th>norm_score</th>\n",
       "      <th>sentiment_score</th>\n",
       "    </tr>\n",
       "  </thead>\n",
       "  <tbody>\n",
       "    <tr>\n",
       "      <th>0</th>\n",
       "      <td>steam</td>\n",
       "      <td>Bardeux</td>\n",
       "      <td>Last Epoch</td>\n",
       "      <td>Good gameplay tropes, but very doubtful that t...</td>\n",
       "      <td>0.0</td>\n",
       "      <td>1</td>\n",
       "      <td>0.0</td>\n",
       "      <td>0</td>\n",
       "    </tr>\n",
       "    <tr>\n",
       "      <th>1</th>\n",
       "      <td>steam</td>\n",
       "      <td>NE</td>\n",
       "      <td>War Thunder</td>\n",
       "      <td>I genuinely once believed in Gaijin to be a re...</td>\n",
       "      <td>0.0</td>\n",
       "      <td>1</td>\n",
       "      <td>0.0</td>\n",
       "      <td>0</td>\n",
       "    </tr>\n",
       "    <tr>\n",
       "      <th>2</th>\n",
       "      <td>MyAnimeList</td>\n",
       "      <td>nowa_</td>\n",
       "      <td>One Punch Man</td>\n",
       "      <td>One Punch Man is a comedy/parody shounen anime...</td>\n",
       "      <td>3.0</td>\n",
       "      <td>10</td>\n",
       "      <td>0.3</td>\n",
       "      <td>0</td>\n",
       "    </tr>\n",
       "    <tr>\n",
       "      <th>3</th>\n",
       "      <td>steam</td>\n",
       "      <td>SirLink</td>\n",
       "      <td>Monster Hunter Wilds</td>\n",
       "      <td>As someone who has put over 5000 hours into th...</td>\n",
       "      <td>0.0</td>\n",
       "      <td>1</td>\n",
       "      <td>0.0</td>\n",
       "      <td>0</td>\n",
       "    </tr>\n",
       "    <tr>\n",
       "      <th>4</th>\n",
       "      <td>steam</td>\n",
       "      <td>Xander</td>\n",
       "      <td>Total War: WARHAMMER III</td>\n",
       "      <td>Would I recommend getting Total War: Warhammer...</td>\n",
       "      <td>0.0</td>\n",
       "      <td>1</td>\n",
       "      <td>0.0</td>\n",
       "      <td>0</td>\n",
       "    </tr>\n",
       "    <tr>\n",
       "      <th>...</th>\n",
       "      <td>...</td>\n",
       "      <td>...</td>\n",
       "      <td>...</td>\n",
       "      <td>...</td>\n",
       "      <td>...</td>\n",
       "      <td>...</td>\n",
       "      <td>...</td>\n",
       "      <td>...</td>\n",
       "    </tr>\n",
       "    <tr>\n",
       "      <th>105022</th>\n",
       "      <td>steam</td>\n",
       "      <td>Count Olaf</td>\n",
       "      <td>War Thunder</td>\n",
       "      <td>\"free\"</td>\n",
       "      <td>1.0</td>\n",
       "      <td>1</td>\n",
       "      <td>1.0</td>\n",
       "      <td>2</td>\n",
       "    </tr>\n",
       "    <tr>\n",
       "      <th>105023</th>\n",
       "      <td>MyAnimeList</td>\n",
       "      <td>bleachsai</td>\n",
       "      <td>Texhnolyze</td>\n",
       "      <td>Since many of the members have elucidated real...</td>\n",
       "      <td>9.0</td>\n",
       "      <td>10</td>\n",
       "      <td>0.9</td>\n",
       "      <td>2</td>\n",
       "    </tr>\n",
       "    <tr>\n",
       "      <th>105024</th>\n",
       "      <td>MyAnimeList</td>\n",
       "      <td>Ethan_07</td>\n",
       "      <td>Whisper of the Heart</td>\n",
       "      <td>\" Country road, take me home ... \" A classic J...</td>\n",
       "      <td>9.0</td>\n",
       "      <td>10</td>\n",
       "      <td>0.9</td>\n",
       "      <td>2</td>\n",
       "    </tr>\n",
       "    <tr>\n",
       "      <th>105025</th>\n",
       "      <td>MyAnimeList</td>\n",
       "      <td>Master10K</td>\n",
       "      <td>Ergo Proxy</td>\n",
       "      <td>Ergo Proxy is basically another puzzling, post...</td>\n",
       "      <td>8.0</td>\n",
       "      <td>10</td>\n",
       "      <td>0.8</td>\n",
       "      <td>2</td>\n",
       "    </tr>\n",
       "    <tr>\n",
       "      <th>105026</th>\n",
       "      <td>Rotten Tomatoes</td>\n",
       "      <td>Zy S</td>\n",
       "      <td>Insidious</td>\n",
       "      <td>One of the better paranormal horror movies out...</td>\n",
       "      <td>4.0</td>\n",
       "      <td>5</td>\n",
       "      <td>0.8</td>\n",
       "      <td>2</td>\n",
       "    </tr>\n",
       "  </tbody>\n",
       "</table>\n",
       "<p>105027 rows × 8 columns</p>\n",
       "</div>"
      ],
      "text/plain": [
       "                   site        user             review_target  \\\n",
       "0                 steam     Bardeux                Last Epoch   \n",
       "1                 steam          NE               War Thunder   \n",
       "2           MyAnimeList       nowa_             One Punch Man   \n",
       "3                 steam     SirLink      Monster Hunter Wilds   \n",
       "4                 steam      Xander  Total War: WARHAMMER III   \n",
       "...                 ...         ...                       ...   \n",
       "105022            steam  Count Olaf               War Thunder   \n",
       "105023      MyAnimeList   bleachsai                Texhnolyze   \n",
       "105024      MyAnimeList    Ethan_07      Whisper of the Heart   \n",
       "105025      MyAnimeList   Master10K                Ergo Proxy   \n",
       "105026  Rotten Tomatoes        Zy S                 Insidious   \n",
       "\n",
       "                                                   review  score  max_score  \\\n",
       "0       Good gameplay tropes, but very doubtful that t...    0.0          1   \n",
       "1       I genuinely once believed in Gaijin to be a re...    0.0          1   \n",
       "2       One Punch Man is a comedy/parody shounen anime...    3.0         10   \n",
       "3       As someone who has put over 5000 hours into th...    0.0          1   \n",
       "4       Would I recommend getting Total War: Warhammer...    0.0          1   \n",
       "...                                                   ...    ...        ...   \n",
       "105022                                             \"free\"    1.0          1   \n",
       "105023  Since many of the members have elucidated real...    9.0         10   \n",
       "105024  \" Country road, take me home ... \" A classic J...    9.0         10   \n",
       "105025  Ergo Proxy is basically another puzzling, post...    8.0         10   \n",
       "105026  One of the better paranormal horror movies out...    4.0          5   \n",
       "\n",
       "        norm_score  sentiment_score  \n",
       "0              0.0                0  \n",
       "1              0.0                0  \n",
       "2              0.3                0  \n",
       "3              0.0                0  \n",
       "4              0.0                0  \n",
       "...            ...              ...  \n",
       "105022         1.0                2  \n",
       "105023         0.9                2  \n",
       "105024         0.9                2  \n",
       "105025         0.8                2  \n",
       "105026         0.8                2  \n",
       "\n",
       "[105027 rows x 8 columns]"
      ]
     },
     "metadata": {},
     "output_type": "display_data"
    },
    {
     "name": "stdout",
     "output_type": "stream",
     "text": [
      "Loading masked dataset:\n",
      "    Loading existing dataset file @ myanimelist-steam-metacritic-rotten_tomatoes_masked_data.dt...\n",
      "    Error loading dataset file: [Errno 2] No such file or directory: 'c:\\\\Users\\\\Alan\\\\Desktop\\\\Open_Source\\\\BERT-TLSA-paper/data/myanimelist-steam-metacritic-rotten_tomatoes_masked_data.dt'\n",
      "    Creating new dataset file @ myanimelist-steam-metacritic-rotten_tomatoes_masked_data.dt...\n",
      "Loading reviews dataset:\n",
      "    Loading existing dataset file @ myanimelist-steam-metacritic-rotten_tomatoes_reviews_data.dt...\n",
      "    Error loading dataset file: [Errno 2] No such file or directory: 'c:\\\\Users\\\\Alan\\\\Desktop\\\\Open_Source\\\\BERT-TLSA-paper/data/myanimelist-steam-metacritic-rotten_tomatoes_reviews_data.dt'\n",
      "    Creating new dataset file @ myanimelist-steam-metacritic-rotten_tomatoes_reviews_data.dt...\n",
      "Masked pretraining:\n",
      "    train_dataloader: (1040 batches)\n",
      "    test_dataloader: (298 batches)\n",
      "    valid_dataloader: (149 batches)\n",
      "Reviews training:\n",
      "    train_dataloader: (2298 batches)\n",
      "    test_dataloader: (657 batches)\n",
      "    valid_dataloader: (329 batches)\n",
      "Training start for 'myanimelist-steam-metacritic-rotten_tomatoes' finetuning...\n"
     ]
    },
    {
     "data": {
      "image/png": "[encoded data removed]",
      "text/plain": [
       "<Figure size 640x480 with 1 Axes>"
      ]
     },
     "metadata": {},
     "output_type": "display_data"
    },
    {
     "name": "stderr",
     "output_type": "stream",
     "text": [
      "Epoch: 0   : 100%|██████████| 2298/2298 [03:05<00:00, 12.41it/s, loss=0.672, num_correct=None]\n",
      "           : 100%|██████████| 329/329 [00:26<00:00, 12.65it/s, loss=0.732, num_correct=tensor(4, device='cuda:0')] \n"
     ]
    },
    {
     "name": "stderr",
     "output_type": "stream",
     "text": [
      "Epoch: 1   : 100%|██████████| 2298/2298 [03:06<00:00, 12.32it/s, loss=0.61, num_correct=None] \n",
      "           : 100%|██████████| 329/329 [00:25<00:00, 12.96it/s, loss=0.635, num_correct=tensor(5, device='cuda:0')] \n"
     ]
    },
    {
     "name": "stdout",
     "output_type": "stream",
     "text": [
      "           {'epoch': 1, 'train_loss': 0.7217653447306602, 'valid_loss': 0.6935897589092197, 'valid_accuracy': 0.7092259354470152}\n"
     ]
    },
    {
     "name": "stderr",
     "output_type": "stream",
     "text": [
      "Epoch: 2   : 100%|██████████| 2298/2298 [03:05<00:00, 12.39it/s, loss=0.659, num_correct=None]\n",
      "           : 100%|██████████| 329/329 [00:25<00:00, 12.87it/s, loss=0.542, num_correct=tensor(6, device='cuda:0')] \n"
     ]
    },
    {
     "name": "stdout",
     "output_type": "stream",
     "text": [
      "           {'epoch': 2, 'train_loss': 0.7000237706435878, 'valid_loss': 0.677208487114283, 'valid_accuracy': 0.7150337998667048}\n"
     ]
    },
    {
     "name": "stderr",
     "output_type": "stream",
     "text": [
      "Epoch: 3   : 100%|██████████| 2298/2298 [03:04<00:00, 12.42it/s, loss=0.417, num_correct=None]\n",
      "           : 100%|██████████| 329/329 [00:25<00:00, 12.92it/s, loss=0.802, num_correct=tensor(5, device='cuda:0')] \n"
     ]
    },
    {
     "name": "stdout",
     "output_type": "stream",
     "text": [
      "           {'epoch': 3, 'train_loss': 0.6871434333430257, 'valid_loss': 0.6645604584898267, 'valid_accuracy': 0.7205560316100161}\n"
     ]
    },
    {
     "name": "stderr",
     "output_type": "stream",
     "text": [
      "Epoch: 4   : 100%|██████████| 2298/2298 [03:05<00:00, 12.36it/s, loss=0.71, num_correct=None] \n",
      "           : 100%|██████████| 329/329 [00:26<00:00, 12.45it/s, loss=0.738, num_correct=tensor(5, device='cuda:0')] \n"
     ]
    },
    {
     "name": "stdout",
     "output_type": "stream",
     "text": [
      "           {'epoch': 4, 'train_loss': 0.6756792441853448, 'valid_loss': 0.6538537283255337, 'valid_accuracy': 0.7222698276682853}\n"
     ]
    },
    {
     "name": "stderr",
     "output_type": "stream",
     "text": [
      "Epoch: 5   :  17%|█▋        | 385/2298 [00:32<02:40, 11.95it/s, loss=0.815, num_correct=None]\n"
     ]
    },
    {
     "ename": "KeyboardInterrupt",
     "evalue": "",
     "output_type": "error",
     "traceback": [
      "\u001b[1;31m---------------------------------------------------------------------------\u001b[0m",
      "\u001b[1;31mKeyboardInterrupt\u001b[0m                         Traceback (most recent call last)",
      "Cell \u001b[1;32mIn[10], line 1\u001b[0m\n\u001b[1;32m----> 1\u001b[0m \u001b[43mglobal_dataset_train_loop\u001b[49m\u001b[43m(\u001b[49m\u001b[43m[\u001b[49m\u001b[38;5;124;43m\"\u001b[39;49m\u001b[38;5;124;43mmyanimelist\u001b[39;49m\u001b[38;5;124;43m\"\u001b[39;49m\u001b[43m,\u001b[49m\u001b[43m \u001b[49m\u001b[38;5;124;43m\"\u001b[39;49m\u001b[38;5;124;43msteam\u001b[39;49m\u001b[38;5;124;43m\"\u001b[39;49m\u001b[43m,\u001b[49m\u001b[43m \u001b[49m\u001b[38;5;124;43m\"\u001b[39;49m\u001b[38;5;124;43mmetacritic\u001b[39;49m\u001b[38;5;124;43m\"\u001b[39;49m\u001b[43m,\u001b[49m\u001b[43m \u001b[49m\u001b[38;5;124;43m\"\u001b[39;49m\u001b[38;5;124;43mrotten_tomatoes\u001b[39;49m\u001b[38;5;124;43m\"\u001b[39;49m\u001b[43m]\u001b[49m\u001b[43m)\u001b[49m\n",
      "Cell \u001b[1;32mIn[5], line 20\u001b[0m, in \u001b[0;36mglobal_dataset_train_loop\u001b[1;34m(dataset)\u001b[0m\n\u001b[0;32m     18\u001b[0m reset(train_bert_in_finetune\u001b[38;5;241m=\u001b[39mTRAIN_BERT_IN_FINETUNE)\n\u001b[0;32m     19\u001b[0m pretraining(pretrained_model_name\u001b[38;5;241m=\u001b[39mPRETRAINED_MODEL_NAME)\n\u001b[1;32m---> 20\u001b[0m \u001b[43mfinetuning\u001b[49m\u001b[43m(\u001b[49m\u001b[43mstop_delta_loss\u001b[49m\u001b[38;5;241;43m=\u001b[39;49m\u001b[43mSTOP_DELTA_LOSS\u001b[49m\u001b[43m)\u001b[49m\n",
      "Cell \u001b[1;32mIn[4], line 648\u001b[0m, in \u001b[0;36mdataset_train_loop.<locals>.finetuning\u001b[1;34m(stop_delta_loss, use_lr_schedule)\u001b[0m\n\u001b[0;32m    646\u001b[0m \u001b[38;5;28mprint\u001b[39m(\u001b[38;5;124mf\u001b[39m\u001b[38;5;124m\"\u001b[39m\u001b[38;5;124mReviews training:\u001b[39m\u001b[38;5;124m\"\u001b[39m)\n\u001b[0;32m    647\u001b[0m \u001b[38;5;28mprint\u001b[39m(\u001b[38;5;124mf\u001b[39m\u001b[38;5;124m\"\u001b[39m\u001b[38;5;124m    train_dataloader: (\u001b[39m\u001b[38;5;132;01m{\u001b[39;00m\u001b[38;5;28mlen\u001b[39m(train_dl)\u001b[38;5;132;01m}\u001b[39;00m\u001b[38;5;124m batches)\u001b[39m\u001b[38;5;130;01m\\n\u001b[39;00m\u001b[38;5;124m    test_dataloader: (\u001b[39m\u001b[38;5;132;01m{\u001b[39;00m\u001b[38;5;28mlen\u001b[39m(test_dl)\u001b[38;5;132;01m}\u001b[39;00m\u001b[38;5;124m batches)\u001b[39m\u001b[38;5;130;01m\\n\u001b[39;00m\u001b[38;5;124m    valid_dataloader: (\u001b[39m\u001b[38;5;132;01m{\u001b[39;00m\u001b[38;5;28mlen\u001b[39m(valid_dl)\u001b[38;5;132;01m}\u001b[39;00m\u001b[38;5;124m batches)\u001b[39m\u001b[38;5;124m\"\u001b[39m)\n\u001b[1;32m--> 648\u001b[0m \u001b[43mfinetuning_loop\u001b[49m\u001b[43m(\u001b[49m\u001b[43mtrain_dl\u001b[49m\u001b[43m,\u001b[49m\u001b[43m \u001b[49m\u001b[43mvalid_dl\u001b[49m\u001b[43m,\u001b[49m\u001b[43m \u001b[49m\u001b[43mconfig\u001b[49m\u001b[43m,\u001b[49m\u001b[43m \u001b[49m\u001b[43muse_lr_schedule\u001b[49m\u001b[43m)\u001b[49m\n\u001b[0;32m    649\u001b[0m finetuning_test(test_dl, config\u001b[38;5;241m.\u001b[39mfinetuned_classifier_model, [\u001b[38;5;124m\"\u001b[39m\u001b[38;5;124mnegative\u001b[39m\u001b[38;5;124m\"\u001b[39m, \u001b[38;5;124m\"\u001b[39m\u001b[38;5;124mneutral\u001b[39m\u001b[38;5;124m\"\u001b[39m, \u001b[38;5;124m\"\u001b[39m\u001b[38;5;124mpositive\u001b[39m\u001b[38;5;124m\"\u001b[39m])\n",
      "Cell \u001b[1;32mIn[4], line 455\u001b[0m, in \u001b[0;36mfinetuning_loop\u001b[1;34m(train_dataloader, valid_dataloader, config, use_lr_schedule)\u001b[0m\n\u001b[0;32m    448\u001b[0m \u001b[38;5;28;01mif\u001b[39;00m use_lr_schedule:\n\u001b[0;32m    449\u001b[0m     scheduler \u001b[38;5;241m=\u001b[39m  get_linear_schedule_with_warmup(\n\u001b[0;32m    450\u001b[0m         optim,\n\u001b[0;32m    451\u001b[0m         num_warmup_steps\u001b[38;5;241m=\u001b[39m\u001b[38;5;241m0\u001b[39m,\n\u001b[0;32m    452\u001b[0m         num_training_steps\u001b[38;5;241m=\u001b[39m\u001b[38;5;28mlen\u001b[39m(train_dataloader) \u001b[38;5;241m*\u001b[39m \u001b[38;5;241m10\u001b[39m\n\u001b[0;32m    453\u001b[0m     )\n\u001b[1;32m--> 455\u001b[0m \u001b[43mtrain_loop\u001b[49m\u001b[43m(\u001b[49m\u001b[43mname\u001b[49m\u001b[38;5;241;43m=\u001b[39;49m\u001b[43mconfig\u001b[49m\u001b[38;5;241;43m.\u001b[39;49m\u001b[43mname\u001b[49m\u001b[43m,\u001b[49m\u001b[43m \u001b[49m\n\u001b[0;32m    456\u001b[0m \u001b[43m    \u001b[49m\u001b[43mdesc\u001b[49m\u001b[38;5;241;43m=\u001b[39;49m\u001b[38;5;124;43m\"\u001b[39;49m\u001b[38;5;124;43mfinetuning\u001b[39;49m\u001b[38;5;124;43m\"\u001b[39;49m\u001b[43m,\u001b[49m\n\u001b[0;32m    457\u001b[0m \u001b[43m    \u001b[49m\u001b[43mmodel_filename\u001b[49m\u001b[38;5;241;43m=\u001b[39;49m\u001b[38;5;124;43m\"\u001b[39;49m\u001b[38;5;124;43mmodel_finetune\u001b[39;49m\u001b[38;5;124;43m\"\u001b[39;49m\u001b[43m,\u001b[49m\n\u001b[0;32m    458\u001b[0m \u001b[43m    \u001b[49m\u001b[43mtrain_dataloader\u001b[49m\u001b[38;5;241;43m=\u001b[39;49m\u001b[43mtrain_dataloader\u001b[49m\u001b[43m,\u001b[49m\n\u001b[0;32m    459\u001b[0m \u001b[43m    \u001b[49m\u001b[43mvalid_dataloader\u001b[49m\u001b[38;5;241;43m=\u001b[39;49m\u001b[43mvalid_dataloader\u001b[49m\u001b[43m,\u001b[49m\n\u001b[0;32m    460\u001b[0m \u001b[43m    \u001b[49m\u001b[43mmodel\u001b[49m\u001b[38;5;241;43m=\u001b[39;49m\u001b[43mmodel\u001b[49m\u001b[43m,\u001b[49m\n\u001b[0;32m    461\u001b[0m \u001b[43m    \u001b[49m\u001b[43moptim\u001b[49m\u001b[38;5;241;43m=\u001b[39;49m\u001b[43moptim\u001b[49m\u001b[43m,\u001b[49m\n\u001b[0;32m    462\u001b[0m \u001b[43m    \u001b[49m\u001b[43mstop_patience\u001b[49m\u001b[38;5;241;43m=\u001b[39;49m\u001b[43mconfig\u001b[49m\u001b[38;5;241;43m.\u001b[39;49m\u001b[43mstop_patience\u001b[49m\u001b[43m,\u001b[49m\n\u001b[0;32m    463\u001b[0m \u001b[43m    \u001b[49m\u001b[43mstop_delta\u001b[49m\u001b[38;5;241;43m=\u001b[39;49m\u001b[43mconfig\u001b[49m\u001b[38;5;241;43m.\u001b[39;49m\u001b[43mstop_delta\u001b[49m\u001b[43m,\u001b[49m\n\u001b[0;32m    464\u001b[0m \u001b[43m    \u001b[49m\u001b[43mrun_fn\u001b[49m\u001b[38;5;241;43m=\u001b[39;49m\u001b[43mtrain_fn\u001b[49m\u001b[43m,\u001b[49m\n\u001b[0;32m    465\u001b[0m \u001b[43m    \u001b[49m\u001b[43mscheduler\u001b[49m\u001b[38;5;241;43m=\u001b[39;49m\u001b[43mscheduler\u001b[49m\u001b[43m)\u001b[49m\n\u001b[0;32m    467\u001b[0m config\u001b[38;5;241m.\u001b[39mfinetuned_classifier_model \u001b[38;5;241m=\u001b[39m model\n",
      "Cell \u001b[1;32mIn[4], line 290\u001b[0m, in \u001b[0;36mtrain_loop\u001b[1;34m(name, desc, model_filename, train_dataloader, valid_dataloader, model, optim, stop_patience, stop_delta, run_fn, scheduler)\u001b[0m\n\u001b[0;32m    287\u001b[0m epoch_loop \u001b[38;5;241m=\u001b[39m itertools\u001b[38;5;241m.\u001b[39mcount(start\u001b[38;5;241m=\u001b[39minit_epoch, step\u001b[38;5;241m=\u001b[39m\u001b[38;5;241m1\u001b[39m)\n\u001b[0;32m    288\u001b[0m \u001b[38;5;28;01mfor\u001b[39;00m epoch \u001b[38;5;129;01min\u001b[39;00m epoch_loop:\n\u001b[0;32m    289\u001b[0m     \u001b[38;5;66;03m# Training loop\u001b[39;00m\n\u001b[1;32m--> 290\u001b[0m     train_stats \u001b[38;5;241m=\u001b[39m \u001b[43mtrain_from_dataloader\u001b[49m\u001b[43m(\u001b[49m\u001b[43mmodel\u001b[49m\u001b[38;5;241;43m=\u001b[39;49m\u001b[43mmodel\u001b[49m\u001b[43m,\u001b[49m\u001b[43m \u001b[49m\u001b[43moptim\u001b[49m\u001b[38;5;241;43m=\u001b[39;49m\u001b[43moptim\u001b[49m\u001b[43m,\u001b[49m\u001b[43m \u001b[49m\u001b[43mdataloader\u001b[49m\u001b[38;5;241;43m=\u001b[39;49m\u001b[43mtrain_dataloader\u001b[49m\u001b[43m,\u001b[49m\u001b[43m \u001b[49m\u001b[43mrun_fn\u001b[49m\u001b[38;5;241;43m=\u001b[39;49m\u001b[43mrun_fn\u001b[49m\u001b[43m,\u001b[49m\u001b[43m \u001b[49m\u001b[43mepoch\u001b[49m\u001b[38;5;241;43m=\u001b[39;49m\u001b[43mepoch\u001b[49m\u001b[43m,\u001b[49m\u001b[43m \u001b[49m\u001b[43mscheduler\u001b[49m\u001b[38;5;241;43m=\u001b[39;49m\u001b[43mscheduler\u001b[49m\u001b[43m)\u001b[49m\n\u001b[0;32m    292\u001b[0m     \u001b[38;5;66;03m# Validation loop\u001b[39;00m\n\u001b[0;32m    293\u001b[0m     valid_stats \u001b[38;5;241m=\u001b[39m eval_from_dataloader(model\u001b[38;5;241m=\u001b[39mmodel, dataloader\u001b[38;5;241m=\u001b[39mvalid_dataloader, run_fn\u001b[38;5;241m=\u001b[39mrun_fn)\n",
      "Cell \u001b[1;32mIn[4], line 224\u001b[0m, in \u001b[0;36mtrain_from_dataloader\u001b[1;34m(model, optim, dataloader, run_fn, epoch, scheduler)\u001b[0m\n\u001b[0;32m    221\u001b[0m     optim\u001b[38;5;241m.\u001b[39mzero_grad()\n\u001b[0;32m    223\u001b[0m     \u001b[38;5;66;03m# Set info in tqdm progress bar\u001b[39;00m\n\u001b[1;32m--> 224\u001b[0m     loop\u001b[38;5;241m.\u001b[39mset_postfix(\u001b[43mloop_iter_data\u001b[49m\u001b[38;5;241;43m.\u001b[39;49m\u001b[43mpostfix\u001b[49m\u001b[43m(\u001b[49m\u001b[43m)\u001b[49m)\n\u001b[0;32m    225\u001b[0m     train_stats\u001b[38;5;241m.\u001b[39madd_iter_data(loop_iter_data)\n\u001b[0;32m    226\u001b[0m train_stats\u001b[38;5;241m.\u001b[39mcalculate(batch_count\u001b[38;5;241m=\u001b[39m\u001b[38;5;28mlen\u001b[39m(dataloader), items_count\u001b[38;5;241m=\u001b[39m\u001b[38;5;28mlen\u001b[39m(dataloader\u001b[38;5;241m.\u001b[39mdataset))\n",
      "Cell \u001b[1;32mIn[4], line 61\u001b[0m, in \u001b[0;36mRunLoopIterData.postfix\u001b[1;34m(self)\u001b[0m\n\u001b[0;32m     59\u001b[0m \u001b[38;5;28;01mdef\u001b[39;00m\u001b[38;5;250m \u001b[39m\u001b[38;5;21mpostfix\u001b[39m(\u001b[38;5;28mself\u001b[39m) \u001b[38;5;241m-\u001b[39m\u001b[38;5;241m>\u001b[39m \u001b[38;5;28mdict\u001b[39m:\n\u001b[0;32m     60\u001b[0m     \u001b[38;5;28;01mreturn\u001b[39;00m {\n\u001b[1;32m---> 61\u001b[0m         \u001b[38;5;124m\"\u001b[39m\u001b[38;5;124mloss\u001b[39m\u001b[38;5;124m\"\u001b[39m: \u001b[38;5;28;43mself\u001b[39;49m\u001b[38;5;241;43m.\u001b[39;49m\u001b[43moutput_loss\u001b[49m\u001b[38;5;241;43m.\u001b[39;49m\u001b[43mitem\u001b[49m\u001b[43m(\u001b[49m\u001b[43m)\u001b[49m,\n\u001b[0;32m     62\u001b[0m         \u001b[38;5;124m\"\u001b[39m\u001b[38;5;124mnum_correct\u001b[39m\u001b[38;5;124m\"\u001b[39m: \u001b[38;5;28mself\u001b[39m\u001b[38;5;241m.\u001b[39moutput_num_correct\n\u001b[0;32m     63\u001b[0m     }\n",
      "\u001b[1;31mKeyboardInterrupt\u001b[0m: "
     ]
    }
   ],
   "source": [
    "global_dataset_train_loop([\"myanimelist\", \"steam\", \"metacritic\", \"rotten_tomatoes\"])"
   ]
  }
 ],
 "metadata": {
  "colab": {
   "provenance": []
  },
  "kernelspec": {
   "display_name": ".venv",
   "language": "python",
   "name": "python3"
  },
  "language_info": {
   "codemirror_mode": {
    "name": "ipython",
    "version": 3
   },
   "file_extension": ".py",
   "mimetype": "text/x-python",
   "name": "python",
   "nbconvert_exporter": "python",
   "pygments_lexer": "ipython3",
   "version": "3.12.9"
  }
 },
 "nbformat": 4,
 "nbformat_minor": 0
}
